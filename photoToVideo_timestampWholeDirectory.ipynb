{
 "cells": [
  {
   "cell_type": "markdown",
   "metadata": {},
   "source": [
    "Make video from photos in directory, based on photos, determined by time of recording\n",
    "\n",
    "Print date and time on top of video\n",
    "\n",
    "Indicate frames where the bee was rewarded\n",
    "\n",
    "Loop through all directories in a folder and make videos!\n",
    "\n",
    "\n",
    "Callin Switzer\n",
    "\n",
    "11 Dec 2016\n",
    "\n",
    "19 Dec 2016 -- Updated\n",
    "\n",
    "\n"
   ]
  },
  {
   "cell_type": "code",
   "execution_count": 58,
   "metadata": {
    "collapsed": false
   },
   "outputs": [],
   "source": [
    "import cv2\n",
    "import numpy as np\n",
    "import matplotlib\n",
    "matplotlib.use(\"TkAgg\") # have to use this for tkinter to  work below\n",
    "from matplotlib import pyplot as plt\n",
    "%matplotlib tk\n",
    "\n",
    "# scikit image\n",
    "import skimage\n",
    "from skimage import io\n",
    "\n",
    "import os\n",
    "import pandas as pd\n",
    "import time\n",
    "\n",
    "from datetime import datetime\n",
    "import shutil"
   ]
  },
  {
   "cell_type": "code",
   "execution_count": 2,
   "metadata": {
    "collapsed": true
   },
   "outputs": [],
   "source": [
    "%qtconsole"
   ]
  },
  {
   "cell_type": "code",
   "execution_count": 3,
   "metadata": {
    "collapsed": true
   },
   "outputs": [],
   "source": [
    "import Tkinter as tk\n",
    "import tkFileDialog\n",
    "\n",
    "def file_choose():\n",
    "    '''\n",
    "    Opens tkfileDialog and returns full path name.\n",
    "    It's the equivalent of file.choose in R.\n",
    "    Make sure the following modeules are loaded\n",
    "    import Tkinter as tk\n",
    "    import tkFileDialog\n",
    "    Also, won't work if %matplotlib qt4 has been used\n",
    "    '''\n",
    "    root = tk.Tk()\n",
    "    root.update()\n",
    "    file1 = tkFileDialog.askopenfilename(parent=root)\n",
    "    root.destroy() # closes the window\n",
    "    return file1"
   ]
  },
  {
   "cell_type": "code",
   "execution_count": 4,
   "metadata": {
    "collapsed": true
   },
   "outputs": [],
   "source": [
    "# adjust gamma\n",
    "def adjust_gamma(image, gamma=1.0):\n",
    "    # build a lookup table mapping the pixel values [0, 255] to\n",
    "    # their adjusted gamma values\n",
    "    invGamma = 1.0 / gamma\n",
    "    table = np.array([((i / 255.0) ** invGamma) * 255\n",
    "        for i in np.arange(0, 256)]).astype(\"uint8\")\n",
    " \n",
    "    # apply gamma correction using the lookup table\n",
    "    return cv2.LUT(image, table)"
   ]
  },
  {
   "cell_type": "code",
   "execution_count": 6,
   "metadata": {
    "collapsed": false
   },
   "outputs": [
    {
     "data": {
      "text/plain": [
       "'/Volumes/My Passport/BeeSonicationLearningWithAvery/BeeFrequencyLearning/BeeBlue_22Nov2016_Hive4_initial/2016_11_22__08_22_43_ampFreq.txt'"
      ]
     },
     "execution_count": 6,
     "metadata": {},
     "output_type": "execute_result"
    }
   ],
   "source": [
    "#file_choose()"
   ]
  },
  {
   "cell_type": "code",
   "execution_count": 19,
   "metadata": {
    "collapsed": false
   },
   "outputs": [],
   "source": [
    "\n",
    "baseDir = \"/Volumes/My Passport/BeeSonicationLearningWithAvery/BeeFrequencyLearning/\"\n",
    "os.chdir(baseDir)"
   ]
  },
  {
   "cell_type": "code",
   "execution_count": 27,
   "metadata": {
    "collapsed": false
   },
   "outputs": [
    {
     "data": {
      "text/plain": [
       "['BeeBlue2_28Nov2016_Hive4_high',\n",
       " 'BeeBlue3_28Nov2016_Hive4_high',\n",
       " 'BeeBlue4_28Nov2016_Hive4_high',\n",
       " 'BeeBlue5_28Nov2016_Hive4_high',\n",
       " 'BeeBlue6_28Nov2016_Hive4_high']"
      ]
     },
     "execution_count": 27,
     "metadata": {},
     "output_type": "execute_result"
    }
   ],
   "source": [
    "beeTrialList =  [ f for f in os.listdir(\".\") if not f.startswith(r\".\") ]\n",
    "beeTrialList[0:5]"
   ]
  },
  {
   "cell_type": "code",
   "execution_count": 182,
   "metadata": {
    "collapsed": false
   },
   "outputs": [],
   "source": [
    "# start of loop\n",
    "trialNum = 5\n",
    "\n",
    "\n",
    "os.chdir(baseDir)\n",
    "\n",
    "CurrentTrialDir = os.path.join( os.getcwd() , beeTrialList[trialNum])\n",
    "trialFolder = [ f for f in os.listdir(CurrentTrialDir) if not f.endswith(r\".txt\") and not f.startswith(r\".\") ]\n",
    "\n",
    "trialMeta = [ f for f in os.listdir(CurrentTrialDir) if  f.endswith(r\".txt\") and not f.startswith(r\".\") ]\n",
    "tm1 = pd.read_csv(os.path.join(CurrentTrialDir, trialMeta[0] ), header = None)\n",
    "\n",
    "# replace leading spaces\n",
    "tm1.ix[:,2] = [cc.replace(\" \", \"\") for cc in tm1.ix[:,2]]\n",
    "\n",
    "trialFolderDir = os.path.join(CurrentTrialDir, trialFolder[0])\n",
    "photoList = [p for p in os.listdir(trialFolderDir) if p.endswith(r\".pgm\")]\n",
    "\n",
    "# remove background photo from photolist\n",
    "photoList.remove('background.pgm')"
   ]
  },
  {
   "cell_type": "code",
   "execution_count": 183,
   "metadata": {
    "collapsed": false
   },
   "outputs": [],
   "source": [
    "# sort list by date created\n",
    "creDate = [os.stat(os.path.join(trialFolderDir, c)).st_mtime for c in  photoList]\n",
    "creD_time = [datetime.fromtimestamp(aa).strftime('%Y-%m-%d %H:%M:%S') for aa in creDate]\n",
    "\n",
    "sortedPhotos = np.array(photoList)[np.argsort(np.array(creDate))]\n",
    "\n",
    "photoTimes = [c[:24] for c in sortedPhotos]\n",
    "\n"
   ]
  },
  {
   "cell_type": "code",
   "execution_count": 184,
   "metadata": {
    "collapsed": true
   },
   "outputs": [],
   "source": [
    "# rewards\n",
    "rewArr = np.array(tm1.ix[:,2][tm1.ix[:,4] == \" T\"])\n",
    "\n",
    "rewd1 = [photoTimes[kk] in rewArr for kk in range(len(photoTimes))]"
   ]
  },
  {
   "cell_type": "code",
   "execution_count": 185,
   "metadata": {
    "collapsed": false
   },
   "outputs": [],
   "source": [
    "# label rewards -- \n",
    "rr = np.cumsum(rewd1)"
   ]
  },
  {
   "cell_type": "code",
   "execution_count": 186,
   "metadata": {
    "collapsed": false
   },
   "outputs": [
    {
     "data": {
      "text/plain": [
       "115"
      ]
     },
     "execution_count": 186,
     "metadata": {},
     "output_type": "execute_result"
    }
   ],
   "source": [
    "# make file with metadata from video\n",
    "dd = pd.DataFrame({'photoName':sortedPhotos, 'photoTime':photoTimes,\n",
    "                   'vidFrame':range(1, len(sortedPhotos) + 1), \n",
    "                  'dateModified':np.array(creD_time)[np.argsort(np.array(creDate))], \n",
    "                  'rewardNum':rr, \n",
    "                  'rewardTF': rewd1})\n",
    "len(dd)\n",
    "\n",
    "\n"
   ]
  },
  {
   "cell_type": "code",
   "execution_count": 187,
   "metadata": {
    "collapsed": true
   },
   "outputs": [],
   "source": [
    "photoPaths = [os.path.join(trialFolderDir, c) for c in  sortedPhotos]\n",
    "# change directory\n",
    "newD = '/Users/callinswitzer/Desktop/CompressedBeeSonicationData/' + str(beeTrialList[trialNum]) + str(r\"_compressed/\")\n",
    "if not os.path.isdir(newD):\n",
    "    os.mkdir(newD)\n"
   ]
  },
  {
   "cell_type": "code",
   "execution_count": 188,
   "metadata": {
    "collapsed": false
   },
   "outputs": [
    {
     "name": "stdout",
     "output_type": "stream",
     "text": [
      "0 of 115\n",
      "1 of 115\n",
      "2 of 115\n",
      "3 of 115\n",
      "4 of 115\n",
      "5 of 115\n",
      "6 of 115\n",
      "7 of 115\n",
      "8 of 115\n",
      "9 of 115\n",
      "10 of 115\n",
      "11 of 115\n",
      "12 of 115\n",
      "13 of 115\n",
      "14 of 115\n",
      "15 of 115\n",
      "16 of 115\n",
      "17 of 115\n",
      "18 of 115\n",
      "19 of 115\n",
      "20 of 115\n",
      "21 of 115\n",
      "22 of 115\n",
      "23 of 115\n",
      "24 of 115\n",
      "25 of 115\n",
      "26 of 115\n",
      "27 of 115\n",
      "28 of 115\n",
      "29 of 115\n",
      "30 of 115\n",
      "31 of 115\n",
      "32 of 115\n",
      "33 of 115\n",
      "34 of 115\n",
      "35 of 115\n",
      "36 of 115\n",
      "37 of 115\n",
      "38 of 115\n",
      "39 of 115\n",
      "40 of 115\n",
      "41 of 115\n",
      "42 of 115\n",
      "43 of 115\n",
      "44 of 115\n",
      "45 of 115\n",
      "46 of 115\n",
      "47 of 115\n",
      "48 of 115\n",
      "49 of 115\n",
      "50 of 115\n",
      "51 of 115\n",
      "52 of 115\n",
      "53 of 115\n",
      "54 of 115\n",
      "55 of 115\n",
      "56 of 115\n",
      "57 of 115\n",
      "58 of 115\n",
      "59 of 115\n",
      "60 of 115\n",
      "61 of 115\n",
      "62 of 115\n",
      "63 of 115\n",
      "64 of 115\n",
      "65 of 115\n",
      "66 of 115\n",
      "67 of 115\n",
      "68 of 115\n",
      "69 of 115\n",
      "70 of 115\n",
      "71 of 115\n",
      "72 of 115\n",
      "73 of 115\n",
      "74 of 115\n",
      "75 of 115\n",
      "76 of 115\n",
      "77 of 115\n",
      "78 of 115\n",
      "79 of 115\n",
      "80 of 115\n",
      "81 of 115\n",
      "82 of 115\n",
      "83 of 115\n",
      "84 of 115\n",
      "85 of 115\n",
      "86 of 115\n",
      "87 of 115\n",
      "88 of 115\n",
      "89 of 115\n",
      "90 of 115\n",
      "91 of 115\n",
      "92 of 115\n",
      "93 of 115\n",
      "94 of 115\n",
      "95 of 115\n",
      "96 of 115\n",
      "97 of 115\n",
      "98 of 115\n",
      "99 of 115\n",
      "100 of 115\n",
      "101 of 115\n",
      "102 of 115\n",
      "103 of 115\n",
      "104 of 115\n",
      "105 of 115\n",
      "106 of 115\n",
      "107 of 115\n",
      "108 of 115\n",
      "109 of 115\n",
      "110 of 115\n",
      "111 of 115\n",
      "112 of 115\n",
      "113 of 115\n",
      "114 of 115\n",
      "8.46119189262\n"
     ]
    }
   ],
   "source": [
    "# add text to images using opencv\n",
    "# about 30 times faster than using matplotlib (below)\n",
    "stt = time.time()\n",
    "for kk in range(len(sortedPhotos)):\n",
    "\n",
    "    # plt.clf()\n",
    "\n",
    "    img = cv2.imread(photoPaths[kk], 0)\n",
    "\n",
    "\n",
    "    s1 =  sortedPhotos[kk].split(\".\")[0]\n",
    "    try:\n",
    "        s2 = s1.split(\"__\")\n",
    "        s2[0] = s2[0].replace('_', '-')\n",
    "        s2[1] = s2[1][:8].replace('_', ':') + '.' + s2[1][9:12]\n",
    "        s3 = s2[0] + \" \" + s2[1]\n",
    "    except:\n",
    "        s3 = \"No Timestamp\"\n",
    "\n",
    "    s4 = 'REWARD ' + str(rr[kk])\n",
    "    font = cv2.FONT_HERSHEY_SIMPLEX\n",
    "    cv2.putText(img, s3, (20, 60), font,  1.3, (0,0,0), thickness = 3) \n",
    "\n",
    "    if dd['rewardTF'][kk]:\n",
    "        s4 = \"REWARD \" + str(rr[kk])\n",
    "        cv2.putText(img, \"REWARD \" + str(rr[kk]), (20, 150), font,  1.3, (0,0,0), thickness = 3) \n",
    "\n",
    "    cv2.imwrite(newD + str(kk).zfill(4) + '.png', img)\n",
    "    print str(kk) + ' of ' + str(len(sortedPhotos))\n",
    "    \n",
    "print time.time() - stt # get time to complete\n",
    "\n",
    "# io.imshow(img)\n",
    "  "
   ]
  },
  {
   "cell_type": "code",
   "execution_count": 189,
   "metadata": {
    "collapsed": true
   },
   "outputs": [],
   "source": [
    "oldDir = os.getcwd()"
   ]
  },
  {
   "cell_type": "code",
   "execution_count": 190,
   "metadata": {
    "collapsed": false
   },
   "outputs": [
    {
     "name": "stdout",
     "output_type": "stream",
     "text": [
      "ffmpeg version 3.1.4 Copyright (c) 2000-2016 the FFmpeg developers\n",
      "  built with Apple LLVM version 8.0.0 (clang-800.0.38)\n",
      "  configuration: --prefix=/usr/local/Cellar/ffmpeg/3.1.4 --enable-shared --enable-pthreads --enable-gpl --enable-version3 --enable-hardcoded-tables --enable-avresample --cc=clang --host-cflags= --host-ldflags= --enable-opencl --enable-libx264 --enable-libmp3lame --enable-libxvid --disable-lzma --enable-vda\n",
      "  libavutil      55. 28.100 / 55. 28.100\n",
      "  libavcodec     57. 48.101 / 57. 48.101\n",
      "  libavformat    57. 41.100 / 57. 41.100\n",
      "  libavdevice    57.  0.101 / 57.  0.101\n",
      "  libavfilter     6. 47.100 /  6. 47.100\n",
      "  libavresample   3.  0.  0 /  3.  0.  0\n",
      "  libswscale      4.  1.100 /  4.  1.100\n",
      "  libswresample   2.  1.100 /  2.  1.100\n",
      "  libpostproc    54.  0.100 / 54.  0.100\n",
      "Input #0, image2, from '%04d.png':\n",
      "  Duration: 00:00:04.60, start: 0.000000, bitrate: N/A\n",
      "    Stream #0:0: Video: png, gray(pc), 1280x1024, 25 fps, 25 tbr, 25 tbn, 25 tbc\n",
      "\u001b[1;36m[libx264 @ 0x7fbabb80ca00] \u001b[0musing cpu capabilities: MMX2 SSE2Fast SSSE3 SSE4.2 AVX FMA3 AVX2 LZCNT BMI2\n",
      "\u001b[1;36m[libx264 @ 0x7fbabb80ca00] \u001b[0mprofile High, level 3.2\n",
      "\u001b[1;36m[libx264 @ 0x7fbabb80ca00] \u001b[0m264 - core 148 r2699 a5e06b9 - H.264/MPEG-4 AVC codec - Copyleft 2003-2016 - http://www.videolan.org/x264.html - options: cabac=1 ref=3 deblock=1:0:0 analyse=0x3:0x113 me=hex subme=7 psy=1 psy_rd=1.00:0.00 mixed_ref=1 me_range=16 chroma_me=1 trellis=1 8x8dct=1 cqm=0 deadzone=21,11 fast_pskip=1 chroma_qp_offset=-2 threads=12 lookahead_threads=2 sliced_threads=0 nr=0 decimate=1 interlaced=0 bluray_compat=0 constrained_intra=0 bframes=3 b_pyramid=2 b_adapt=1 b_bias=0 direct=1 weightb=1 open_gop=0 weightp=2 keyint=250 keyint_min=24 scenecut=40 intra_refresh=0 rc_lookahead=40 rc=crf mbtree=1 crf=23.0 qcomp=0.60 qpmin=0 qpmax=69 qpstep=4 ip_ratio=1.40 aq=1:1.00\n",
      "\u001b[1;35m[mp4 @ 0x7fbabb80b800] \u001b[0m\u001b[0;33mUsing AVStream.codec to pass codec parameters to muxers is deprecated, use AVStream.codecpar instead.\n",
      "\u001b[0mOutput #0, mp4, to 'trialVid.mp4':\n",
      "  Metadata:\n",
      "    encoder         : Lavf57.41.100\n",
      "    Stream #0:0: Video: h264 (libx264) ([33][0][0][0] / 0x0021), yuv420p, 1280x1024, q=-1--1, 24 fps, 12288 tbn, 24 tbc\n",
      "    Metadata:\n",
      "      encoder         : Lavc57.48.101 libx264\n",
      "    Side data:\n",
      "      cpb: bitrate max/min/avg: 0/0/0 buffer size: 0 vbv_delay: -1\n",
      "Stream mapping:\n",
      "  Stream #0:0 -> #0:0 (png (native) -> h264 (libx264))\n",
      "Press [q] to stop, [?] for help\n",
      "frame=  115 fps= 55 q=-1.0 Lsize=     597kB time=00:00:04.66 bitrate=1047.6kbits/s speed=2.24x    \n",
      "video:595kB audio:0kB subtitle:0kB other streams:0kB global headers:0kB muxing overhead: 0.363945%\n",
      "\u001b[1;36m[libx264 @ 0x7fbabb80ca00] \u001b[0mframe I:1     Avg QP:23.39  size: 23785\n",
      "\u001b[1;36m[libx264 @ 0x7fbabb80ca00] \u001b[0mframe P:29    Avg QP:23.33  size:  7631\n",
      "\u001b[1;36m[libx264 @ 0x7fbabb80ca00] \u001b[0mframe B:85    Avg QP:24.03  size:  4272\n",
      "\u001b[1;36m[libx264 @ 0x7fbabb80ca00] \u001b[0mconsecutive B-frames:  0.9%  1.7%  0.0% 97.4%\n",
      "\u001b[1;36m[libx264 @ 0x7fbabb80ca00] \u001b[0mmb I  I16..4: 20.1% 75.2%  4.7%\n",
      "\u001b[1;36m[libx264 @ 0x7fbabb80ca00] \u001b[0mmb P  I16..4:  0.6%  4.9%  0.5%  P16..4: 18.9%  2.2%  3.2%  0.0%  0.0%    skip:69.7%\n",
      "\u001b[1;36m[libx264 @ 0x7fbabb80ca00] \u001b[0mmb B  I16..4:  0.1%  1.8%  0.2%  B16..8: 22.1%  1.5%  0.3%  direct: 0.6%  skip:73.4%  L0:48.2% L1:51.1% BI: 0.7%\n",
      "\u001b[1;36m[libx264 @ 0x7fbabb80ca00] \u001b[0m8x8 transform intra:80.9% inter:89.4%\n",
      "\u001b[1;36m[libx264 @ 0x7fbabb80ca00] \u001b[0mcoded y,uvDC,uvAC intra: 66.1% 0.0% 0.0% inter: 5.7% 0.0% 0.0%\n",
      "\u001b[1;36m[libx264 @ 0x7fbabb80ca00] \u001b[0mi16 v,h,dc,p: 18% 22%  6% 54%\n",
      "\u001b[1;36m[libx264 @ 0x7fbabb80ca00] \u001b[0mi8 v,h,dc,ddl,ddr,vr,hd,vl,hu: 16% 14% 15%  7% 10%  9% 13%  8%  8%\n",
      "\u001b[1;36m[libx264 @ 0x7fbabb80ca00] \u001b[0mi4 v,h,dc,ddl,ddr,vr,hd,vl,hu: 22% 17% 15%  7% 10%  8%  9%  7%  5%\n",
      "\u001b[1;36m[libx264 @ 0x7fbabb80ca00] \u001b[0mi8c dc,h,v,p: 100%  0%  0%  0%\n",
      "\u001b[1;36m[libx264 @ 0x7fbabb80ca00] \u001b[0mWeighted P-Frames: Y:0.0% UV:0.0%\n",
      "\u001b[1;36m[libx264 @ 0x7fbabb80ca00] \u001b[0mref P L0: 51.4% 13.5% 25.9%  9.3%\n",
      "\u001b[1;36m[libx264 @ 0x7fbabb80ca00] \u001b[0mref B L0: 69.9% 24.0%  6.1%\n",
      "\u001b[1;36m[libx264 @ 0x7fbabb80ca00] \u001b[0mref B L1: 87.9% 12.1%\n",
      "\u001b[1;36m[libx264 @ 0x7fbabb80ca00] \u001b[0mkb/s:1015.42\n",
      "2.37235999107\n"
     ]
    }
   ],
   "source": [
    "os.chdir(newD)\n",
    "# use ffmpeg to convert directory to video\n",
    "stta = time.time()\n",
    "!ffmpeg -start_number 0 -r 24 -i %04d.png -vf \"scale=trunc(iw/2)*2:trunc(ih/2)*2\" -c:v libx264 -pix_fmt yuv420p -y trialVid.mp4\n",
    "print time.time() - stta # ~ 1.4 seconds"
   ]
  },
  {
   "cell_type": "code",
   "execution_count": 191,
   "metadata": {
    "collapsed": true
   },
   "outputs": [],
   "source": [
    "# delete all png files in directory\n",
    "filelist = [ f for f in os.listdir(newD) if f.endswith(\".png\") ]\n",
    "\n",
    "for f in filelist:\n",
    "    os.remove(f)"
   ]
  },
  {
   "cell_type": "code",
   "execution_count": 192,
   "metadata": {
    "collapsed": true
   },
   "outputs": [],
   "source": [
    "# copy ampfreq to new directory\n",
    "shutil.copy2(os.path.join(CurrentTrialDir, trialMeta[0] ), newD)\n",
    "\n",
    "\n",
    "\n",
    "# END OF LOOP"
   ]
  },
  {
   "cell_type": "code",
   "execution_count": null,
   "metadata": {
    "collapsed": true
   },
   "outputs": [],
   "source": []
  },
  {
   "cell_type": "code",
   "execution_count": null,
   "metadata": {
    "collapsed": true
   },
   "outputs": [],
   "source": []
  },
  {
   "cell_type": "code",
   "execution_count": null,
   "metadata": {
    "collapsed": true
   },
   "outputs": [],
   "source": []
  },
  {
   "cell_type": "code",
   "execution_count": null,
   "metadata": {
    "collapsed": true
   },
   "outputs": [],
   "source": []
  },
  {
   "cell_type": "code",
   "execution_count": null,
   "metadata": {
    "collapsed": false
   },
   "outputs": [],
   "source": [
    "creD_time = [datetime.fromtimestamp(aa).strftime('%Y-%m-%d %H:%M:%S') for aa in creDate]\n",
    "creD_time"
   ]
  },
  {
   "cell_type": "code",
   "execution_count": null,
   "metadata": {
    "collapsed": false
   },
   "outputs": [],
   "source": [
    "np.argsort(np.array(creDate))"
   ]
  },
  {
   "cell_type": "code",
   "execution_count": null,
   "metadata": {
    "collapsed": false
   },
   "outputs": [],
   "source": [
    "dd = pd.DataFrame({'file': np.array(photoList), 'time': np.array(creDate), 'time2':creD_time})\n",
    "dd"
   ]
  },
  {
   "cell_type": "code",
   "execution_count": null,
   "metadata": {
    "collapsed": false
   },
   "outputs": [],
   "source": [
    "dd.ix[np.argsort(np.array(creDate)), :]"
   ]
  },
  {
   "cell_type": "code",
   "execution_count": null,
   "metadata": {
    "collapsed": false
   },
   "outputs": [],
   "source": [
    "sorted(photoList, reverse = False)"
   ]
  },
  {
   "cell_type": "code",
   "execution_count": null,
   "metadata": {
    "collapsed": true
   },
   "outputs": [],
   "source": [
    "x = np.array([3, 1, 2])\n",
    "ind = np.argsort(x)"
   ]
  },
  {
   "cell_type": "code",
   "execution_count": null,
   "metadata": {
    "collapsed": false
   },
   "outputs": [],
   "source": [
    "x[ind]"
   ]
  },
  {
   "cell_type": "code",
   "execution_count": null,
   "metadata": {
    "collapsed": false
   },
   "outputs": [],
   "source": [
    "ind"
   ]
  },
  {
   "cell_type": "code",
   "execution_count": null,
   "metadata": {
    "collapsed": true
   },
   "outputs": [],
   "source": []
  },
  {
   "cell_type": "code",
   "execution_count": null,
   "metadata": {
    "collapsed": true
   },
   "outputs": [],
   "source": []
  },
  {
   "cell_type": "code",
   "execution_count": 181,
   "metadata": {
    "collapsed": false
   },
   "outputs": [
    {
     "name": "stdout",
     "output_type": "stream",
     "text": [
      "0 of 89\n",
      "1 of 89\n",
      "2 of 89\n",
      "3 of 89\n",
      "4 of 89\n",
      "5 of 89\n",
      "6 of 89\n",
      "7 of 89\n",
      "8 of 89\n",
      "9 of 89\n",
      "10 of 89\n",
      "11 of 89\n",
      "12 of 89\n",
      "13 of 89\n",
      "14 of 89\n",
      "15 of 89\n",
      "16 of 89\n",
      "17 of 89\n",
      "18 of 89\n",
      "19 of 89\n",
      "20 of 89\n",
      "21 of 89\n",
      "22 of 89\n",
      "23 of 89\n",
      "24 of 89\n",
      "25 of 89\n",
      "26 of 89\n",
      "27 of 89\n",
      "28 of 89\n",
      "29 of 89\n",
      "30 of 89\n",
      "31 of 89\n",
      "32 of 89\n",
      "33 of 89\n",
      "34 of 89\n",
      "35 of 89\n",
      "36 of 89\n",
      "37 of 89\n",
      "38 of 89\n",
      "39 of 89\n",
      "40 of 89\n",
      "41 of 89\n",
      "42 of 89\n",
      "43 of 89\n",
      "44 of 89\n",
      "45 of 89\n",
      "46 of 89\n",
      "47 of 89\n",
      "48 of 89\n",
      "49 of 89\n",
      "50 of 89\n",
      "51 of 89\n",
      "52 of 89\n",
      "53 of 89\n",
      "54 of 89\n",
      "55 of 89\n",
      "56 of 89\n",
      "57 of 89\n",
      "58 of 89\n",
      "59 of 89\n",
      "60 of 89\n",
      "61 of 89\n",
      "62 of 89\n",
      "63 of 89\n",
      "64 of 89\n",
      "65 of 89\n",
      "66 of 89\n",
      "67 of 89\n",
      "68 of 89\n",
      "69 of 89\n",
      "70 of 89\n",
      "71 of 89\n",
      "72 of 89\n",
      "73 of 89\n",
      "74 of 89\n",
      "75 of 89\n",
      "76 of 89\n",
      "77 of 89\n",
      "78 of 89\n",
      "79 of 89\n",
      "80 of 89\n",
      "81 of 89\n",
      "82 of 89\n",
      "83 of 89\n",
      "84 of 89\n",
      "85 of 89\n",
      "86 of 89\n",
      "87 of 89\n",
      "88 of 89\n",
      "33.3139281273\n"
     ]
    }
   ],
   "source": [
    "## add text using matplotlib\n",
    "# slower than opencv\n",
    "\n",
    "stt = time.time()\n",
    "for kk in range(len(sortedPhotos)):\n",
    "    img = cv2.imread(photoPaths[kk], 0)\n",
    "\n",
    "\n",
    "    s1 =  sortedPhotos[kk].split(\".\")[0]\n",
    "    try:\n",
    "        s2 = s1.split(\"__\")\n",
    "        s2[0] = s2[0].replace('_', '-')\n",
    "        s2[1] = s2[1][:8].replace('_', ':') + '.' + s2[1][9:12]\n",
    "        s3 = s2[0] + \" \" + s2[1]\n",
    "    except:\n",
    "        s3 = \"No Timestamp\"\n",
    "\n",
    "    plt.clf()\n",
    "    io.imshow(img)\n",
    "    plt.axis([0, img.shape[1], img.shape[0], 0])\n",
    "    plt.axis('off')\n",
    "\n",
    "    plt.gca().set_position([0,0,1,1])\n",
    "    plt.gca().set_aspect('equal')\n",
    "    plt.text(850, 60, s3)\n",
    "    #if s2[1]\n",
    "    if dd['rewardTF'][kk]:\n",
    "        plt.text(850, 90, \"REWARD \" + str(rr[kk]))\n",
    "\n",
    "\n",
    "    # save figure\n",
    "    plt.savefig(newD + str(kk).zfill(4) + '.png')\n",
    "    print str(kk) + ' of ' + str(len(sortedPhotos))\n",
    "\n",
    "print time.time() - stt\n",
    "\n"
   ]
  },
  {
   "cell_type": "code",
   "execution_count": null,
   "metadata": {
    "collapsed": true
   },
   "outputs": [],
   "source": []
  },
  {
   "cell_type": "code",
   "execution_count": null,
   "metadata": {
    "collapsed": true
   },
   "outputs": [],
   "source": []
  },
  {
   "cell_type": "code",
   "execution_count": null,
   "metadata": {
    "collapsed": true
   },
   "outputs": [],
   "source": [
    "filelist = [ f for f in os.listdir(\".\") if f.endswith(\".png\") and not f.startwith(r\".\") ]"
   ]
  },
  {
   "cell_type": "code",
   "execution_count": null,
   "metadata": {
    "collapsed": true
   },
   "outputs": [],
   "source": []
  },
  {
   "cell_type": "code",
   "execution_count": null,
   "metadata": {
    "collapsed": true
   },
   "outputs": [],
   "source": []
  },
  {
   "cell_type": "code",
   "execution_count": null,
   "metadata": {
    "collapsed": true
   },
   "outputs": [],
   "source": []
  }
 ],
 "metadata": {
  "anaconda-cloud": {},
  "kernelspec": {
   "display_name": "Python [default]",
   "language": "python",
   "name": "python2"
  },
  "language_info": {
   "codemirror_mode": {
    "name": "ipython",
    "version": 2
   },
   "file_extension": ".py",
   "mimetype": "text/x-python",
   "name": "python",
   "nbconvert_exporter": "python",
   "pygments_lexer": "ipython2",
   "version": "2.7.9"
  }
 },
 "nbformat": 4,
 "nbformat_minor": 1
}
