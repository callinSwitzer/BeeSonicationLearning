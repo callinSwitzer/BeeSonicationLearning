{
 "cells": [
  {
   "cell_type": "markdown",
   "metadata": {},
   "source": [
    "### Callin Switzer\n",
    "#### Make video from photos in directory, based on photos, determined by time of recording\n",
    "\n",
    "Print date and time on top of video\n",
    "\n",
    "Indicate frames where the bee was rewarded\n",
    "\n",
    "Loop through all directories in a folder and make videos from images!\n",
    "\n",
    "\n",
    "\n",
    "\n",
    "11 Dec 2016\n",
    "\n",
    "19 Dec 2016 -- Updated to use opencv, insetead of matplotlib for adding text to files\n",
    "\n",
    "\n"
   ]
  },
  {
   "cell_type": "code",
   "execution_count": 3,
   "metadata": {
    "collapsed": false
   },
   "outputs": [
    {
     "name": "stderr",
     "output_type": "stream",
     "text": [
      "/Users/callinswitzer/anaconda/lib/python2.7/site-packages/matplotlib/font_manager.py:273: UserWarning: Matplotlib is building the font cache using fc-list. This may take a moment.\n",
      "  warnings.warn('Matplotlib is building the font cache using fc-list. This may take a moment.')\n"
     ]
    }
   ],
   "source": [
    "import cv2\n",
    "import numpy as np\n",
    "import matplotlib\n",
    "matplotlib.use(\"TkAgg\") # have to use this for tkinter to  work below\n",
    "from matplotlib import pyplot as plt\n",
    "%matplotlib tk\n",
    "\n",
    "# scikit image\n",
    "import skimage\n",
    "from skimage import io\n",
    "\n",
    "import os\n",
    "import pandas as pd\n",
    "import time\n",
    "\n",
    "from datetime import datetime\n",
    "import shutil"
   ]
  },
  {
   "cell_type": "code",
   "execution_count": 4,
   "metadata": {
    "collapsed": true
   },
   "outputs": [],
   "source": [
    "%qtconsole"
   ]
  },
  {
   "cell_type": "code",
   "execution_count": 5,
   "metadata": {
    "collapsed": true
   },
   "outputs": [],
   "source": [
    "import Tkinter as tk\n",
    "import tkFileDialog\n",
    "\n",
    "def file_choose():\n",
    "    '''\n",
    "    Opens tkfileDialog and returns full path name.\n",
    "    It's the equivalent of file.choose in R.\n",
    "    Make sure the following modeules are loaded\n",
    "    import Tkinter as tk\n",
    "    import tkFileDialog\n",
    "    Also, won't work if %matplotlib qt4 has been used\n",
    "    '''\n",
    "    root = tk.Tk()\n",
    "    root.update()\n",
    "    file1 = tkFileDialog.askopenfilename(parent=root)\n",
    "    root.destroy() # closes the window\n",
    "    return file1"
   ]
  },
  {
   "cell_type": "code",
   "execution_count": 6,
   "metadata": {
    "collapsed": true
   },
   "outputs": [],
   "source": [
    "# adjust gamma\n",
    "def adjust_gamma(image, gamma=1.0):\n",
    "    # build a lookup table mapping the pixel values [0, 255] to\n",
    "    # their adjusted gamma values\n",
    "    invGamma = 1.0 / gamma\n",
    "    table = np.array([((i / 255.0) ** invGamma) * 255\n",
    "        for i in np.arange(0, 256)]).astype(\"uint8\")\n",
    " \n",
    "    # apply gamma correction using the lookup table\n",
    "    return cv2.LUT(image, table)"
   ]
  },
  {
   "cell_type": "code",
   "execution_count": null,
   "metadata": {
    "collapsed": false
   },
   "outputs": [],
   "source": [
    "#file_choose()"
   ]
  },
  {
   "cell_type": "code",
   "execution_count": null,
   "metadata": {
    "collapsed": false
   },
   "outputs": [],
   "source": [
    "\n",
    "baseDir = \"/Volumes/My Passport/BeeSonicationLearningWithAvery/BeeFrequencyLearning/\"\n",
    "os.chdir(baseDir)"
   ]
  },
  {
   "cell_type": "code",
   "execution_count": null,
   "metadata": {
    "collapsed": false
   },
   "outputs": [],
   "source": [
    "beeTrialList =  [ f for f in os.listdir(\".\") if not f.startswith(r\".\") ]\n",
    "beeTrialList[0:5]"
   ]
  },
  {
   "cell_type": "code",
   "execution_count": null,
   "metadata": {
    "collapsed": false
   },
   "outputs": [],
   "source": [
    "# start of loop\n",
    "\n",
    "# check number 73\n",
    "# start at 155\n",
    "\n",
    "for trialNum in range(155, len(beeTrialList)):\n",
    "    os.chdir(baseDir)\n",
    "\n",
    "    CurrentTrialDir = os.path.join( os.getcwd() , beeTrialList[trialNum])\n",
    "    trialFolder = [ f for f in os.listdir(CurrentTrialDir) if not f.endswith(r\".txt\") and not f.startswith(r\".\") ]\n",
    "\n",
    "    trialMeta = [ f for f in os.listdir(CurrentTrialDir) if  f.endswith(r\".txt\") and not f.startswith(r\".\") ]\n",
    "    tm1 = pd.read_csv(os.path.join(CurrentTrialDir, trialMeta[0] ), header = None)\n",
    "\n",
    "    # replace leading spaces\n",
    "    tm1.ix[:,2] = [cc.replace(\" \", \"\") for cc in tm1.ix[:,2]]\n",
    "\n",
    "    trialFolderDir = os.path.join(CurrentTrialDir, trialFolder[0])\n",
    "    photoList = [p for p in os.listdir(trialFolderDir) if p.endswith(r\".pgm\")]\n",
    "\n",
    "    # remove background photo from photolist\n",
    "    photoList.remove('background.pgm')\n",
    "\n",
    "    # sort list by date created\n",
    "    creDate = [os.stat(os.path.join(trialFolderDir, c)).st_mtime for c in  photoList]\n",
    "    creD_time = [datetime.fromtimestamp(aa).strftime('%Y-%m-%d %H:%M:%S') for aa in creDate]\n",
    "\n",
    "    sortedPhotos = np.array(photoList)[np.argsort(np.array(creDate))]\n",
    "\n",
    "    photoTimes = [c[:24] for c in sortedPhotos]\n",
    "\n",
    "\n",
    "\n",
    "    # rewards\n",
    "    rewArr = np.array(tm1.ix[:,2][tm1.ix[:,4] == \" T\"])\n",
    "\n",
    "    rewd1 = [photoTimes[kk] in rewArr for kk in range(len(photoTimes))]\n",
    "\n",
    "    # label rewards -- \n",
    "    rr = np.cumsum(rewd1)\n",
    "\n",
    "    # make file with metadata from video\n",
    "    dd = pd.DataFrame({'photoName':sortedPhotos, 'photoTime':photoTimes,\n",
    "                       'vidFrame':range(1, len(sortedPhotos) + 1), \n",
    "                      'dateModified':np.array(creD_time)[np.argsort(np.array(creDate))], \n",
    "                      'rewardNum':rr, \n",
    "                      'rewardTF': rewd1})\n",
    "\n",
    "\n",
    "\n",
    "\n",
    "    photoPaths = [os.path.join(trialFolderDir, c) for c in  sortedPhotos]\n",
    "    # change directory\n",
    "    newD = '/Users/callinswitzer/Desktop/CompressedBeeSonicationData/' + str(beeTrialList[trialNum]) + str(r\"_compressed/\")\n",
    "    if not os.path.isdir(newD):\n",
    "        os.mkdir(newD)\n",
    "\n",
    "\n",
    "    # add text to images using opencv\n",
    "    # about 30 times faster than using matplotlib (below)\n",
    "    stt = time.time()\n",
    "    for kk in range(len(sortedPhotos)):\n",
    "\n",
    "        # plt.clf()\n",
    "\n",
    "        img = cv2.imread(photoPaths[kk], 0)\n",
    "\n",
    "\n",
    "        s1 =  sortedPhotos[kk].split(\".\")[0]\n",
    "        try:\n",
    "            s2 = s1.split(\"__\")\n",
    "            s2[0] = s2[0].replace('_', '-')\n",
    "            s2[1] = s2[1][:8].replace('_', ':') + '.' + s2[1][9:12]\n",
    "            s3 = s2[0] + \" \" + s2[1]\n",
    "        except:\n",
    "            s3 = \"No Timestamp\"\n",
    "\n",
    "        s4 = 'REWARD ' + str(rr[kk])\n",
    "        font = cv2.FONT_HERSHEY_SIMPLEX\n",
    "        cv2.putText(img, s3, (20, 60), font,  1.3, (0,0,0), thickness = 3) \n",
    "\n",
    "        if dd['rewardTF'][kk]:\n",
    "            s4 = \"REWARD \" + str(rr[kk])\n",
    "            cv2.putText(img, \"REWARD \" + str(rr[kk]), (20, 150), font,  1.3, (0,0,0), thickness = 3) \n",
    "\n",
    "        cv2.imwrite(newD + str(kk).zfill(4) + '.png', img)\n",
    "#         print str(kk) + ' of ' + str(len(sortedPhotos))\n",
    "\n",
    "#     print time.time() - stt # get time to complete\n",
    "\n",
    "    # io.imshow(img)\n",
    "\n",
    "\n",
    "    os.chdir(newD)\n",
    "    # use ffmpeg to convert directory to video\n",
    "    stta = time.time()\n",
    "    !ffmpeg -start_number 0 -r 24 -i %04d.png -vf \"scale=trunc(iw/2)*2:trunc(ih/2)*2\" -c:v libx264 -pix_fmt yuv420p -y trialVid.mp4\n",
    "#     print time.time() - stta # ~ 1.4 seconds\n",
    "\n",
    "    # delete all png files in directory\n",
    "    filelist = [ f for f in os.listdir(newD) if f.endswith(\".png\") ]\n",
    "\n",
    "    for f in filelist:\n",
    "        os.remove(f)\n",
    "\n",
    "    # copy ampfreq to new directory\n",
    "    shutil.copy2(os.path.join(CurrentTrialDir, trialMeta[0] ), newD)\n",
    "\n",
    "    print str(trialNum) + \" of \" + str(len(beeTrialList)  - 1)\n",
    "\n",
    "# END OF LOOP"
   ]
  },
  {
   "cell_type": "code",
   "execution_count": 17,
   "metadata": {
    "collapsed": true
   },
   "outputs": [],
   "source": [
    "# go through directory and rename videos to reflect the trial\n",
    "cDir = '/Users/callinswitzer/Desktop/CompressedBeeSonicationData/'\n",
    "os.chdir(cDir)\n",
    "\n",
    "cFolders = [f for f in os.listdir(os.getcwd()) if not f.startswith(r\".\")]"
   ]
  },
  {
   "cell_type": "code",
   "execution_count": 21,
   "metadata": {
    "collapsed": true
   },
   "outputs": [],
   "source": [
    "for kk in cFolders:\n",
    "    os.chdir(cDir)\n",
    "    os.chdir(kk)\n",
    "    os.rename('trialVid.mp4', kk + \".mp4\")"
   ]
  },
  {
   "cell_type": "code",
   "execution_count": null,
   "metadata": {
    "collapsed": true
   },
   "outputs": [],
   "source": []
  },
  {
   "cell_type": "code",
   "execution_count": null,
   "metadata": {
    "collapsed": true
   },
   "outputs": [],
   "source": []
  },
  {
   "cell_type": "code",
   "execution_count": null,
   "metadata": {
    "collapsed": false
   },
   "outputs": [],
   "source": [
    "## add text using matplotlib\n",
    "# slower than opencv\n",
    "\n",
    "stt = time.time()\n",
    "for kk in range(len(sortedPhotos)):\n",
    "    img = cv2.imread(photoPaths[kk], 0)\n",
    "\n",
    "\n",
    "    s1 =  sortedPhotos[kk].split(\".\")[0]\n",
    "    try:\n",
    "        s2 = s1.split(\"__\")\n",
    "        s2[0] = s2[0].replace('_', '-')\n",
    "        s2[1] = s2[1][:8].replace('_', ':') + '.' + s2[1][9:12]\n",
    "        s3 = s2[0] + \" \" + s2[1]\n",
    "    except:\n",
    "        s3 = \"No Timestamp\"\n",
    "\n",
    "    plt.clf()\n",
    "    io.imshow(img)\n",
    "    plt.axis([0, img.shape[1], img.shape[0], 0])\n",
    "    plt.axis('off')\n",
    "\n",
    "    plt.gca().set_position([0,0,1,1])\n",
    "    plt.gca().set_aspect('equal')\n",
    "    plt.text(850, 60, s3)\n",
    "    #if s2[1]\n",
    "    if dd['rewardTF'][kk]:\n",
    "        plt.text(850, 90, \"REWARD \" + str(rr[kk]))\n",
    "\n",
    "\n",
    "    # save figure\n",
    "    plt.savefig(newD + str(kk).zfill(4) + '.png')\n",
    "    print str(kk) + ' of ' + str(len(sortedPhotos))\n",
    "\n",
    "print time.time() - stt\n",
    "\n"
   ]
  }
 ],
 "metadata": {
  "anaconda-cloud": {},
  "kernelspec": {
   "display_name": "Python [default]",
   "language": "python",
   "name": "python2"
  },
  "language_info": {
   "codemirror_mode": {
    "name": "ipython",
    "version": 2
   },
   "file_extension": ".py",
   "mimetype": "text/x-python",
   "name": "python",
   "nbconvert_exporter": "python",
   "pygments_lexer": "ipython2",
   "version": "2.7.13"
  }
 },
 "nbformat": 4,
 "nbformat_minor": 1
}
