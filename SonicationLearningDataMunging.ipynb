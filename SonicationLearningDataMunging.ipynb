{
 "cells": [
  {
   "cell_type": "code",
   "execution_count": null,
   "metadata": {
    "collapsed": true
   },
   "outputs": [],
   "source": [
    "# helpful munging scripts\n",
    "# Callin Switzer\n",
    "# 15 Jan 2016\n"
   ]
  },
  {
   "cell_type": "code",
   "execution_count": 2,
   "metadata": {
    "collapsed": false
   },
   "outputs": [
    {
     "name": "stderr",
     "output_type": "stream",
     "text": [
      "/Users/callinswitzer/anaconda/lib/python2.7/site-packages/matplotlib/font_manager.py:273: UserWarning: Matplotlib is building the font cache using fc-list. This may take a moment.\n",
      "  warnings.warn('Matplotlib is building the font cache using fc-list. This may take a moment.')\n"
     ]
    }
   ],
   "source": [
    "# import cv2\n",
    "import numpy as np\n",
    "import matplotlib\n",
    "matplotlib.use(\"TkAgg\") # have to use this for tkinter to  work below\n",
    "from matplotlib import pyplot as plt\n",
    "%matplotlib tk\n",
    "\n",
    "# scikit image\n",
    "import skimage\n",
    "from skimage import io\n",
    "\n",
    "import os\n",
    "import pandas as pd\n",
    "import time"
   ]
  },
  {
   "cell_type": "code",
   "execution_count": 3,
   "metadata": {
    "collapsed": true
   },
   "outputs": [],
   "source": [
    " #%qtconsole"
   ]
  },
  {
   "cell_type": "code",
   "execution_count": 4,
   "metadata": {
    "collapsed": true
   },
   "outputs": [],
   "source": [
    "import Tkinter as tk\n",
    "import tkFileDialog\n",
    "\n",
    "def file_choose():\n",
    "    '''\n",
    "    Opens tkfileDialog and returns full path name.\n",
    "    It's the equivalent of file.choose in R.\n",
    "    Make sure the following modeules are loaded\n",
    "    import Tkinter as tk\n",
    "    import tkFileDialog\n",
    "    Also, won't work if %matplotlib qt4 has been used\n",
    "    '''\n",
    "    root = tk.Tk()\n",
    "    root.update()\n",
    "    file1 = tkFileDialog.askopenfilename(parent=root)\n",
    "    root.destroy() # closes the window\n",
    "    return file1"
   ]
  },
  {
   "cell_type": "code",
   "execution_count": null,
   "metadata": {
    "collapsed": true
   },
   "outputs": [],
   "source": [
    "aa = file_choose()"
   ]
  },
  {
   "cell_type": "code",
   "execution_count": null,
   "metadata": {
    "collapsed": false
   },
   "outputs": [],
   "source": [
    "print aa"
   ]
  },
  {
   "cell_type": "code",
   "execution_count": null,
   "metadata": {
    "collapsed": true
   },
   "outputs": [],
   "source": [
    "os.chdir('/Volumes/GMD/BeeSonicationLearningWithAvery/BeeFrequencyLearning/')"
   ]
  },
  {
   "cell_type": "code",
   "execution_count": null,
   "metadata": {
    "collapsed": false
   },
   "outputs": [],
   "source": [
    "fldrs = [f for f in os.listdir(\".\") if not f.startswith('.')]"
   ]
  },
  {
   "cell_type": "code",
   "execution_count": null,
   "metadata": {
    "collapsed": false
   },
   "outputs": [],
   "source": [
    "fldrs"
   ]
  },
  {
   "cell_type": "code",
   "execution_count": null,
   "metadata": {
    "collapsed": true
   },
   "outputs": [],
   "source": [
    "fldrs.sort(key=lambda x: os.path.getmtime(x)) # sort by time created"
   ]
  },
  {
   "cell_type": "code",
   "execution_count": null,
   "metadata": {
    "collapsed": false
   },
   "outputs": [],
   "source": [
    "# fldrs.reverse()\n",
    "fldrs"
   ]
  },
  {
   "cell_type": "code",
   "execution_count": null,
   "metadata": {
    "collapsed": true
   },
   "outputs": [],
   "source": [
    "import csv"
   ]
  },
  {
   "cell_type": "code",
   "execution_count": null,
   "metadata": {
    "collapsed": false
   },
   "outputs": [],
   "source": [
    "with open(\"/Users/callinswitzer/Desktop/output.csv\", \"wb\") as f:\n",
    "    writer = csv.writer(f)\n",
    "    writer.writerows(np.transpose(np.array([fldrs])))"
   ]
  },
  {
   "cell_type": "code",
   "execution_count": null,
   "metadata": {
    "collapsed": false
   },
   "outputs": [],
   "source": [
    "np.transpose(np.array([fldrs])).shape"
   ]
  },
  {
   "cell_type": "code",
   "execution_count": null,
   "metadata": {
    "collapsed": true
   },
   "outputs": [],
   "source": [
    "\n"
   ]
  },
  {
   "cell_type": "code",
   "execution_count": null,
   "metadata": {
    "collapsed": true
   },
   "outputs": [],
   "source": []
  },
  {
   "cell_type": "code",
   "execution_count": null,
   "metadata": {
    "collapsed": true
   },
   "outputs": [],
   "source": []
  },
  {
   "cell_type": "code",
   "execution_count": null,
   "metadata": {
    "collapsed": true
   },
   "outputs": [],
   "source": []
  },
  {
   "cell_type": "code",
   "execution_count": null,
   "metadata": {
    "collapsed": false
   },
   "outputs": [],
   "source": [
    "file_choose()"
   ]
  },
  {
   "cell_type": "code",
   "execution_count": null,
   "metadata": {
    "collapsed": true
   },
   "outputs": [],
   "source": [
    "# copy files and exclude movies\n",
    "import shutil"
   ]
  },
  {
   "cell_type": "code",
   "execution_count": null,
   "metadata": {
    "collapsed": false
   },
   "outputs": [],
   "source": [
    "os.chdir('/Volumes/GMD/19 Dec Bee Sonication Backup/BeeSonicationLearningWithAvery/BeeFrequencyLearning/')"
   ]
  },
  {
   "cell_type": "code",
   "execution_count": null,
   "metadata": {
    "collapsed": true
   },
   "outputs": [],
   "source": [
    "sourceDir = os.getcwd()\n",
    "targDir = '/Users/callinswitzer/Desktop/SonicationLearningWAvery_NoImages'\n",
    "IGNORE_PATTERNS = ('*.pgm')\n"
   ]
  },
  {
   "cell_type": "code",
   "execution_count": null,
   "metadata": {
    "collapsed": true
   },
   "outputs": [],
   "source": [
    "shutil.copytree(sourceDir, targDir, ignore= shutil.ignore_patterns(IGNORE_PATTERNS))"
   ]
  },
  {
   "cell_type": "code",
   "execution_count": null,
   "metadata": {
    "collapsed": true
   },
   "outputs": [],
   "source": []
  },
  {
   "cell_type": "code",
   "execution_count": null,
   "metadata": {
    "collapsed": false
   },
   "outputs": [],
   "source": [
    "sourceDir = '/Volumes/GMD/BeeSonicationLearningWithAvery/HeavyLightFlowers/'\n",
    "targDir = '/Users/callinswitzer/Desktop/SonicationLearningWAvery_HeavyLight'\n",
    "IGNORE_PATTERNS = ('*.pgm')\n"
   ]
  },
  {
   "cell_type": "code",
   "execution_count": null,
   "metadata": {
    "collapsed": true
   },
   "outputs": [],
   "source": [
    "shutil.copytree(sourceDir, targDir, ignore= shutil.ignore_patterns(IGNORE_PATTERNS))"
   ]
  },
  {
   "cell_type": "code",
   "execution_count": null,
   "metadata": {
    "collapsed": true
   },
   "outputs": [],
   "source": []
  },
  {
   "cell_type": "code",
   "execution_count": null,
   "metadata": {
    "collapsed": true
   },
   "outputs": [],
   "source": []
  },
  {
   "cell_type": "code",
   "execution_count": null,
   "metadata": {
    "collapsed": true
   },
   "outputs": [],
   "source": [
    "# pick up here"
   ]
  },
  {
   "cell_type": "code",
   "execution_count": null,
   "metadata": {
    "collapsed": true
   },
   "outputs": [],
   "source": [
    "sourceDir = '/Volumes/GMD/BeeSonicationLearningWithAvery/TestAndTrainFakeAndRealFlowers/'\n",
    "targDir = '/Users/callinswitzer/Desktop/SonicationLearningWAvery_TestTrainDataset_noVid'\n",
    "IGNORE_PATTERNS = ('*.pgm', '*.mp4')"
   ]
  },
  {
   "cell_type": "code",
   "execution_count": null,
   "metadata": {
    "collapsed": false
   },
   "outputs": [],
   "source": [
    "shutil.copytree(sourceDir, targDir, ignore= shutil.ignore_patterns(IGNORE_PATTERNS))"
   ]
  },
  {
   "cell_type": "code",
   "execution_count": null,
   "metadata": {
    "collapsed": true
   },
   "outputs": [],
   "source": [
    "# done"
   ]
  },
  {
   "cell_type": "code",
   "execution_count": 26,
   "metadata": {
    "collapsed": false
   },
   "outputs": [],
   "source": [
    "os.chdir('/Users/callinswitzer/Desktop/SonicationLearningWAvery_NoImages/')"
   ]
  },
  {
   "cell_type": "code",
   "execution_count": 27,
   "metadata": {
    "collapsed": true
   },
   "outputs": [],
   "source": [
    "mypath = os.getcwd()"
   ]
  },
  {
   "cell_type": "code",
   "execution_count": 28,
   "metadata": {
    "collapsed": true
   },
   "outputs": [],
   "source": [
    "# get folder list\n",
    "folders = [f for f in os.listdir(mypath) if \".\" not in f]"
   ]
  },
  {
   "cell_type": "code",
   "execution_count": null,
   "metadata": {
    "collapsed": true
   },
   "outputs": [],
   "source": []
  },
  {
   "cell_type": "code",
   "execution_count": null,
   "metadata": {
    "collapsed": true
   },
   "outputs": [],
   "source": []
  },
  {
   "cell_type": "code",
   "execution_count": null,
   "metadata": {
    "collapsed": true
   },
   "outputs": [],
   "source": []
  },
  {
   "cell_type": "code",
   "execution_count": 34,
   "metadata": {
    "collapsed": false
   },
   "outputs": [
    {
     "name": "stdout",
     "output_type": "stream",
     "text": [
      "0\n",
      "1\n",
      "2\n",
      "3\n",
      "4\n",
      "5\n",
      "6\n",
      "7\n",
      "8\n",
      "9\n",
      "10\n",
      "11\n",
      "12\n",
      "13\n",
      "14\n",
      "15\n",
      "16\n",
      "17\n",
      "18\n",
      "19\n",
      "20\n",
      "21\n",
      "22\n",
      "23\n",
      "24\n",
      "25\n",
      "26\n",
      "27\n",
      "28\n",
      "29\n",
      "30\n",
      "31\n",
      "32\n",
      "33\n",
      "34\n",
      "35\n",
      "36\n",
      "37\n",
      "38\n",
      "39\n",
      "40\n",
      "41\n",
      "42\n",
      "43\n",
      "44\n",
      "45\n",
      "46\n",
      "47\n",
      "48\n",
      "49\n",
      "50\n",
      "51\n",
      "52\n",
      "53\n",
      "54\n",
      "55\n",
      "56\n",
      "57\n",
      "58\n",
      "59\n",
      "60\n",
      "61\n",
      "62\n",
      "63\n",
      "64\n",
      "65\n",
      "66\n",
      "67\n",
      "68\n",
      "69\n",
      "70\n",
      "71\n",
      "72\n",
      "73\n",
      "74\n",
      "75\n",
      "76\n",
      "77\n",
      "78\n",
      "79\n",
      "80\n",
      "81\n",
      "82\n",
      "83\n",
      "84\n",
      "85\n",
      "86\n",
      "87\n",
      "88\n",
      "89\n",
      "90\n",
      "91\n",
      "92\n",
      "93\n",
      "94\n",
      "95\n",
      "96\n",
      "97\n",
      "98\n",
      "99\n",
      "100\n",
      "101\n",
      "102\n",
      "103\n",
      "104\n",
      "105\n",
      "106\n",
      "107\n",
      "108\n",
      "109\n",
      "110\n",
      "111\n",
      "112\n",
      "113\n",
      "114\n",
      "115\n",
      "116\n",
      "117\n",
      "118\n",
      "119\n",
      "120\n",
      "121\n",
      "122\n",
      "123\n",
      "124\n",
      "125\n",
      "126\n",
      "127\n",
      "128\n",
      "129\n",
      "130\n",
      "131\n",
      "132\n",
      "133\n",
      "134\n",
      "135\n",
      "136\n",
      "137\n",
      "138\n",
      "139\n",
      "140\n",
      "141\n",
      "142\n",
      "143\n",
      "144\n",
      "145\n",
      "146\n",
      "147\n",
      "148\n",
      "149\n",
      "150\n",
      "151\n",
      "152\n",
      "153\n",
      "154\n",
      "155\n",
      "156\n",
      "157\n",
      "158\n",
      "159\n",
      "160\n",
      "161\n",
      "162\n",
      "163\n",
      "164\n",
      "165\n",
      "166\n",
      "167\n",
      "168\n",
      "169\n",
      "170\n",
      "171\n",
      "172\n",
      "173\n",
      "174\n",
      "175\n",
      "176\n",
      "177\n",
      "178\n",
      "179\n",
      "180\n",
      "181\n",
      "182\n",
      "183\n",
      "184\n",
      "185\n",
      "186\n",
      "187\n",
      "188\n",
      "189\n",
      "190\n",
      "191\n",
      "192\n",
      "193\n",
      "194\n",
      "195\n",
      "196\n",
      "197\n",
      "198\n",
      "199\n",
      "200\n",
      "201\n",
      "202\n",
      "203\n",
      "204\n",
      "205\n",
      "206\n",
      "207\n",
      "208\n",
      "209\n",
      "210\n",
      "211\n",
      "212\n",
      "213\n",
      "214\n",
      "215\n",
      "216\n",
      "217\n",
      "218\n",
      "219\n",
      "220\n",
      "221\n",
      "222\n",
      "223\n",
      "224\n",
      "225\n",
      "226\n",
      "227\n",
      "228\n",
      "229\n",
      "230\n",
      "231\n"
     ]
    }
   ],
   "source": [
    "# for each folder, open it, and read the ampFreq.txt file\n",
    "for ii in range(len(folders)):\n",
    "\n",
    "    # read contents of each folder\n",
    "    fcontents = [f for f in os.listdir(folders[ii]) if not f.startswith('.')]\n",
    "\n",
    "    # get ampFreq file(s). there should be one per folder\n",
    "    ampFreqFile = [x for x in fcontents if 'ampFreq.txt' in x]\n",
    "\n",
    "    if len(ampFreqFile) > 1: \n",
    "        print(\"PROBLEM \" + str(ii))\n",
    "\n",
    "\n",
    "    # read ampFreq file\n",
    "    tmpDF = pd.read_table(os.path.join(folders[ii], ampFreqFile[0]), header = None, sep = ',')\n",
    "\n",
    "    # add folder name to data frame\n",
    "    tmpDF[7] = folders[ii]\n",
    "\n",
    "    # add frequency information\n",
    "    folderInFolder = [x for x in fcontents if not 'ampFreq.txt' in x]\n",
    "\n",
    "    if len(folderInFolder) > 1: \n",
    "        print(\"PROBLEM\")\n",
    "\n",
    "    # list files in inner folder\n",
    "    accRecFiles = [x for x in os.listdir(os.path.join(folders[ii], folderInFolder[0])) if not x.startswith('.')]\n",
    "\n",
    "    tmpDF[8] = accRecFiles\n",
    "\n",
    "    # remove wingbeats\n",
    "    tmpDF2 = tmpDF.ix[(tmpDF[0] > 220) & (tmpDF[0] < 450)]\n",
    "\n",
    "    # renumber index\n",
    "    tmpDF2.index = (np.arange(1, tmpDF2.shape[0] + 1))\n",
    "\n",
    "    # write to .csv\n",
    "    tmpDF.to_csv('/Users/callinswitzer/Desktop/FreqTrainCSVs/' + folders[ii] + '.csv', \n",
    "                 header = False, index = True)\n",
    "    \n",
    "    print ii"
   ]
  },
  {
   "cell_type": "code",
   "execution_count": 35,
   "metadata": {
    "collapsed": true
   },
   "outputs": [],
   "source": [
    "## combine csv's all into a single file\n",
    "csvDir = '/Users/callinswitzer/Desktop/FreqTrainCSVs/'\n",
    "\n",
    "csvFiles = [f for f in os.listdir(csvDir) if f.endswith('.csv')]"
   ]
  },
  {
   "cell_type": "code",
   "execution_count": 40,
   "metadata": {
    "collapsed": false
   },
   "outputs": [
    {
     "name": "stdout",
     "output_type": "stream",
     "text": [
      "BeeBlue2_28Nov2016_Hive4_high.csv\n",
      "BeeBlue3_28Nov2016_Hive4_high.csv\n",
      "BeeBlue4_28Nov2016_Hive4_high.csv\n",
      "BeeBlue5_28Nov2016_Hive4_high.csv\n",
      "BeeBlue6_28Nov2016_Hive4_high.csv\n",
      "BeeBlue7_28Nov2016_Hive4_high.csv\n",
      "Beeblue8_29Nov2016_Hive4_high.csv\n",
      "BeeBlue_22Nov2016_Hive4_initial.csv\n",
      "Beegold1_29Nov2016_Hive3_initial.csv\n",
      "Beegoldred_02Dec2016_Hive4_initial.csv\n",
      "Beegreen1_29Nov2016_Hive4_initial.csv\n",
      "Beegreen2_02Dec2016_Hive4_initial.csv\n",
      "Beelime1_12Dec2016_Hive5_initial.csv\n",
      "Beelimeblue10_16Dec2016_Hive5_initial.csv\n",
      "Beelimeblue1_14Dec2016_Hive5_initial.csv\n",
      "Beelimeblue2_14Dec2016_Hive5_initial.csv\n",
      "Beelimeblue3_14Dec2016_Hive5_initial.csv\n",
      "Beelimeblue4_15Dec2016_Hive5_initial.csv\n",
      "Beelimeblue5_15Dec2016_Hive5_initial.csv\n",
      "Beelimeblue6_15Dec2016_Hive5_initial.csv\n",
      "Beelimeblue7_15Dec2016_Hive5_initial.csv\n",
      "Beelimeblue8_15Dec2016_Hive5_initial.csv\n",
      "Beelimeblue9_15Dec2016_Hive5_initial.csv\n",
      "Beelimegold1_18Dec2016_Hive5_initial.csv\n",
      "Beelimegold1_18Dec2016_Hive5_NoReward.csv\n",
      "Beelimegreen1_18Dec2016_Hive5_initial.csv\n",
      "Beelimegreen1_18Dec2016_Hive5_NoReward.csv\n",
      "Beelimeorange1_16Dec2016_Hive5_initial.csv\n",
      "Beelimeorange2_16Dec2016_Hive5_initial.csv\n",
      "Beelimeorange2_18Dec2016_Hive5_initial.csv\n",
      "Beelimeorange2_18Dec2016_Hive5_NoReward.csv\n",
      "Beelimepink_18Dec2016_Hive5_initial.csv\n",
      "Beelimepink_18Dec2016_Hive5_NoReward.csv\n",
      "Beelimepurple1_14Dec2016_Hive5_initial.csv\n",
      "Beelimepurple2_14Dec2016_Hive5_low.csv\n",
      "Beelimepurple3_18Dec2016_Hive5_initial.csv\n",
      "Beelimepurple3_18Dec2016_Hive5_NoReward.csv\n",
      "Beelimepurpleyellow1_16Dec2016_Hive5_initial.csv\n",
      "Beelimered10_16Dec2016_Hive5_low.csv\n",
      "Beelimered11_16Dec2016_Hive5_low.csv\n",
      "Beelimered1_14Dec2016_Hive5_initial.csv\n",
      "Beelimered2_14Dec2016_Hive5_low.csv\n",
      "Beelimered3_14Dec2016_Hive5_low.csv\n",
      "Beelimered4_14Dec2016_Hive5_low.csv\n",
      "Beelimered5_14Dec2016_Hive5_low.csv\n",
      "Beelimered6_14Dec2016_Hive5_low.csv\n",
      "Beelimered7_14Dec2016_Hive5_low.csv\n",
      "Beelimered8_15Dec2016_Hive5_low.csv\n",
      "Beelimered9_15Dec2016_Hive5_low.csv\n",
      "Beelimesilver1_14Dec2016_Hive5_initial.csv\n",
      "Beelimewhite1_15Dec2016_Hive5_initial.csv\n",
      "Beelimewhite2_18Dec2016_Hive5_initial.csv\n",
      "Beelimewhite2_18Dec2016_Hive5_NoReward.csv\n",
      "Beelimeyellow1_18Dec2016_Hive5_initial.csv\n",
      "Beelimeyellow1_18Dec2016_Hive5_NoReward.csv\n",
      "BeeOrange3_28Nov2016_Hive3_low.csv\n",
      "Beeorange4_30Nov2016_Hive3_low.csv\n",
      "Beeorange5_30Nov2016_Hive3_low.csv\n",
      "Beeorange6_02Dec2016_Hive3_high.csv\n",
      "Beeorange7_09Dec2016_Hive3_high.csv\n",
      "Beeorange8_09Dec2016_Hive3_high.csv\n",
      "Beeorange_18Dec2016_Hive5_initial.csv\n",
      "Beeorange_18Dec2016_Hive5_NoReward.csv\n",
      "BeeOrange_28Nov2016_Hive3_initial.csv\n",
      "BeeOrange_28Nov2016_Hive3_low.csv\n",
      "Beeorangeblue1_18Dec2016_Hive5_initial.csv\n",
      "Beeorangeblue1_18Dec2016_Hive5_NoReward.csv\n",
      "Beeorangegreen1_18Dec2016_Hive5_initital.csv\n",
      "Beeorangegreen1_18Dec2016_Hive5_NoReward.csv\n",
      "Beeorangepink1_18Dec2016_Hive5_initial.csv\n",
      "Beeorangepink1_18Dec2016_Hive5_NoReward.csv\n",
      "Beeorangepurple1_18Dec2016_Hive5_initial.csv\n",
      "Beeorangepurple1_18Dec2016_Hive5_NoReward.csv\n",
      "BeePink_21Nov2016_Hive4_high.csv\n",
      "Beepurple1_30Nov2016_Hive3_initial.csv\n",
      "Beeredblue10_02Dec2016_Hive4_initial.csv\n",
      "Beeredblue11_02Dec2016_Hive4_initial.csv\n",
      "Beeredblue1_29Nov2016_Hive4_initial.csv\n",
      "Beeredblue2_29Nov2016_Hive4_initial.csv\n",
      "Beeredblue3_29Nov2016_Hive4_initial.csv\n",
      "Beeredblue4_29Nov2016_Hive4_initial.csv\n",
      "Beeredblue5_29Nov2016_Hive4_initial.csv\n",
      "Beeredblue6_30Nov2016_Hive4_initial.csv\n",
      "Beeredblue7_30Nov2016_Hive4_initial.csv\n",
      "Beeredblue8_30Nov2016_Hive4_initial.csv\n",
      "Beeredblue9_30Nov2016_Hive4_initial.csv\n",
      "Beeredgreen10_11Dec2016_Hive5_initial.csv\n",
      "Beeredgreen1_10Dec2016_Hive5_initial.csv\n",
      "Beeredgreen2_10Dec2016_Hive5_initial.csv\n",
      "Beeredgreen3_10Dec2016_Hive5_initial.csv\n",
      "Beeredgreen4_10Dec2016_Hive5_initial.csv\n",
      "Beeredgreen5_11Dec2016_Hive5_initial.csv\n",
      "Beeredgreen6_11Dec2016_Hive5_initial.csv\n",
      "Beeredgreen7_11Dec2016_Hive5_initial.csv\n",
      "Beeredgreen8_11Dec2016_Hive5_initial.csv\n",
      "Beeredgreen9_11Dec2016_Hive5_initial.csv\n",
      "Beeredpink10_14Dec2016_Hive5_low.csv\n",
      "Beeredpink1_10Dec2016_Hive5_initial.csv\n",
      "Beeredpink2_11Dec2016_Hive5_low.csv\n",
      "Beeredpink3_11Dec2016_Hive5_low.csv\n",
      "Beeredpink4_11Dec2016_Hive5_low.csv\n",
      "Beeredpink5_11Dec2016_Hive5_low.csv\n",
      "Beeredpink6_12Dec2016_Hive5_low.csv\n",
      "Beeredpink7_12Dec2016_Hive5_low.csv\n",
      "Beeredpink8_12Dec2016_Hive5_low.csv\n",
      "Beeredpink9_12Dec2016_Hive5_low.csv\n",
      "Beeredpurple1_11Dec2016_Hive5_initial.csv\n",
      "Beeredpurple2_14Dec2016_Hive5_high.csv\n",
      "Beeredpurple3_16Dec2016_Hive5_high.csv\n",
      "Beesilver1_11Dec2016_Hive5_initial.csv\n",
      "BeeTESTTESTPHOTO_04Dec2016_Hive5_initial.csv\n",
      "Beewhite1_29Nov2016_Hive4_initial.csv\n",
      "Beewhite2_29Nov2016_Hive4_initial.csv\n",
      "Beewhite3_29Nov2016_Hive4_initial.csv\n",
      "Beewhite4_29Nov2016_Hive4_initial.csv\n",
      "Beewhite5_30Nov2016_Hive4_initial.csv\n",
      "Beewhite6_02Dec2016_Hive4_initial.csv\n",
      "Beewhiteblue10_11Dec2016_Hive5_low.csv\n",
      "Beewhiteblue11_12Dec2016_Hive5_low.csv\n",
      "Beewhiteblue1_06Dec2016_Hive5_initial.csv\n",
      "Beewhiteblue2_06Dec2016_Hive5_low.csv\n",
      "Beewhiteblue3_07Dec2016_Hive5_low.csv\n",
      "Beewhiteblue4_07Dec2016_Hive5_low.csv\n",
      "Beewhiteblue5_10Dec2016_Hive5_low.csv\n",
      "Beewhiteblue6_10Dec2016_Hive5_low.csv\n",
      "Beewhiteblue7_10Dec2016_Hive5_low.csv\n",
      "Beewhiteblue8_11Dec2016_Hive5_low.csv\n",
      "Beewhiteblue9_11Dec2016_Hive5_low.csv\n",
      "Beewhitegold10_16Dec2016_Hive5_low.csv\n",
      "Beewhitegold1_04Dec2016_Hive5_initial.csv\n",
      "Beewhitegold2_04Dec2016_Hive5_initial.csv\n",
      "Beewhitegold3_06Dec2016_Hive5_low.csv\n",
      "Beewhitegold4_07Dec2016_Hive5_low.csv\n",
      "Beewhitegold5_07Dec2016_Hive5_low.csv\n",
      "Beewhitegold6_10Dec2016_Hive5_low.csv\n",
      "Beewhitegold7_10Dec2016_Hive5_low.csv\n",
      "Beewhitegold8_11Dec2016_Hive5_low.csv\n",
      "Beewhitegold9_11Dec2016_Hive5_low.csv\n",
      "Beewhitegreen1_02Dec2016_Hive4_initial.csv\n",
      "Beewhiteorange1_04Dec2016_Hive5_initial.csv\n",
      "Beewhiteorange2_16Dec2016_Hive5_low.csv\n",
      "Beewhiteorange3_16Dec2016_Hive5_low.csv\n",
      "Beewhiteorange4_16Dec2016_Hive5_low.csv\n",
      "Beewhitepink10_06Dec2016_Hive5_high.csv\n",
      "Beewhitepink11_09Dec2016_Hive5_high.csv\n",
      "Beewhitepink1_02Dec2016_Hive5_initial.csv\n",
      "Beewhitepink2_02Dec2016_Hive5_high.csv\n",
      "Beewhitepink3_04Dec2016_Hive5_initial.csv\n",
      "Beewhitepink4_04Dec2016_Hive5_initial.csv\n",
      "Beewhitepink5_04Dec2016_Hive5_initial.csv\n",
      "Beewhitepink6_04Dec2016_Hive5_initial.csv\n",
      "Beewhitepink7_06Dec2016_Hive5_high.csv\n",
      "Beewhitepink8_06Dec2016_Hive5_high.csv\n",
      "Beewhitepink9_06Dec2016_Hive5_high.csv\n",
      "Beewhitepurple1_02Dec2016_Hive5_initial.csv\n",
      "Beewhitered10_15Dec2016_Hive5_high.csv\n",
      "Beewhitered2_06Dec2016_Hive5_iniitial.csv\n",
      "Beewhitered3_07Dec2016_Hive5_high.csv\n",
      "Beewhitered4_07Dec2016_Hive5_high.csv\n",
      "Beewhitered5_07Dec2016_Hive5_high.csv\n",
      "Beewhitered6_07Dec2016_Hive5_high.csv\n",
      "Beewhitered7_09Dec2016_Hive5_high.csv\n",
      "Beewhitered8_09Dec2016_Hive5_high.csv\n",
      "Beewhitered9_15Dec2016_Hive5_high.csv\n",
      "Beewhiteyellow1_04Dec2016_Hive5_initial.csv\n",
      "Beewhiteyellow2_06Dec2016_Hive5_initial.csv\n",
      "Beewhiteyellow3_12Dec2016_Hive5_initial.csv\n",
      "Beewhitred1_06Dec2016_Hive5_initial.csv\n",
      "BeeYellow2_21Nov2016_Hive4_low.csv\n",
      "BeeYellow4_28Nov2016_Hive4_low.csv\n",
      "BeeYellow5_28Nov2016_Hive4_low.csv\n",
      "BeeYellow6_28Nov2016_Hive4_low.csv\n",
      "Beeyellow7_29Nov2016_Hive4_low.csv\n",
      "BeeYellow_21Nov2016_Hive4_low.csv\n",
      "Beeyellowblue10_14Dec2016_Hive5_high.csv\n",
      "Beeyellowblue11_15Dec2016_Hive5_high.csv\n",
      "Beeyellowblue1_09Dec2016_Hive5_initial.csv\n",
      "Beeyellowblue2_10Dec2016_Hive5_high.csv\n",
      "Beeyellowblue3_10Dec2016_Hive5_high.csv\n",
      "Beeyellowblue4_10Dec2016_Hive5_high.csv\n",
      "Beeyellowblue5_11Dec2016_Hive5_high.csv\n",
      "Beeyellowblue6_11Dec2016_Hive5_high.csv\n",
      "Beeyellowblue7_12Dec2016_Hive5_high.csv\n",
      "Beeyellowblue8_14Dec2016_Hive5_high.csv\n",
      "Beeyellowblue9_14Dec2016_Hive5_high.csv\n",
      "Beeyellowgreen10_12Dec2016_Hive5_low.csv\n",
      "Beeyellowgreen1_07Dec2016_Hive5_initial.csv\n",
      "Beeyellowgreen2_07Dec2016_Hive5_initial.csv\n",
      "Beeyellowgreen3_09Dec2016_Hive5_initial.csv\n",
      "Beeyellowgreen4_09Dec2016_Hive5_initial.csv\n",
      "Beeyellowgreen5_09Dec2016_Hive5_initial.csv\n",
      "Beeyellowgreen6_10Dec2016_Hive5_initial.csv\n",
      "Beeyellowgreen7_10Dec2016_Hive5_initial.csv\n",
      "Beeyellowgreen8_12Dec2016_Hive5_initial.csv\n",
      "Beeyellowgreen9_12Dec2016_Hive5_initial.csv\n",
      "Beeyelloworange10_11Dec2016_Hive5_high.csv\n",
      "Beeyelloworange11_11Dec2016_Hive5_high.csv\n",
      "Beeyelloworange1_09Dec2016_Hive5_initial.csv\n",
      "Beeyelloworange2_09Dec2016_Hive5_high.csv\n",
      "Beeyelloworange3_09Dec2016_Hive5_high.csv\n",
      "Beeyelloworange4_10Dec2016_Hive5_high.csv\n",
      "Beeyelloworange5_10Dec2016_Hive5_high.csv\n",
      "Beeyelloworange6_11Dec2016_Hive5_high.csv\n",
      "Beeyelloworange7_11Dec2016_Hive5_high.csv\n",
      "Beeyelloworange8_11Dec2016_Hive5_high.csv\n",
      "Beeyelloworange9_11Dec2016_Hive5_high.csv\n",
      "Beeyellowpink10_14Dec2016_Hive5_low.csv\n",
      "Beeyellowpink11_15Dec2016_Hive5_low.csv\n",
      "Beeyellowpink12_15Dec2016_Hive5_low.csv\n",
      "Beeyellowpink1_09Dec2016_Hive5_initial.csv\n",
      "Beeyellowpink2_09Dec2016_Hive5_low.csv\n",
      "Beeyellowpink3_11Dec2016_Hive5_low.csv\n",
      "Beeyellowpink4_11Dec2016_Hive5_low.csv\n",
      "Beeyellowpink5_12Dec2016_Hive5_low.csv\n",
      "Beeyellowpink6_12Dec2016_Hive5_low.csv\n",
      "Beeyellowpink7_12Dec2016_Hive5_low.csv\n",
      "Beeyellowpink8_12Dec2016_Hive5_low.csv\n",
      "Beeyellowpink9_12Dec2016_Hive5_low.csv\n",
      "Beeyellowpurple1_07Dec2016_Hive5_initial.csv\n",
      "Beeyellowpurple2_09Dec2016_Hive5_low.csv\n",
      "Beeyellowpurple3_09Dec2016_Hive5_low.csv\n",
      "Beeyellowpurple4_09Dec2016_Hive5_low.csv\n",
      "Beeyellowpurple5_09Dec2016_Hive5_low.csv\n",
      "Beeyellowred10_09Dec2016_Hive5_initial.csv\n",
      "Beeyellowred1_06Dec2016_Hive5_iniitial.csv\n",
      "Beeyellowred2_07Dec2016_Hive5_initial.csv\n",
      "Beeyellowred3_07Dec2016_Hive5_initial.csv\n",
      "Beeyellowred4_07Dec2016_Hive5_initial.csv\n",
      "Beeyellowred5_07Dec2016_Hive5_initial.csv\n",
      "Beeyellowred6_07Dec2016_Hive5_initial.csv\n",
      "Beeyellowred7_07Dec2016_Hive5_initial.csv\n",
      "Beeyellowred8_09Dec2016_Hive5_initial.csv\n",
      "Beeyellowred9_09Dec2016_Hive5_initial.csv\n"
     ]
    }
   ],
   "source": [
    "frame = pd.DataFrame()\n",
    "list_ = []\n",
    "for file_ in csvFiles:\n",
    "    df = pd.read_csv(csvDir + file_,index_col=None, header=0)\n",
    "    list_.append(df)\n",
    "    print file_\n",
    "    \n",
    "frame = pd.concat(list_)"
   ]
  },
  {
   "cell_type": "code",
   "execution_count": 41,
   "metadata": {
    "collapsed": true
   },
   "outputs": [],
   "source": [
    "frame.to_csv('/Users/callinswitzer/Desktop/freqLearn.csv', header = False, index = False)"
   ]
  },
  {
   "cell_type": "code",
   "execution_count": null,
   "metadata": {
    "collapsed": true
   },
   "outputs": [],
   "source": []
  },
  {
   "cell_type": "code",
   "execution_count": null,
   "metadata": {
    "collapsed": true
   },
   "outputs": [],
   "source": []
  }
 ],
 "metadata": {
  "anaconda-cloud": {},
  "kernelspec": {
   "display_name": "Python [default]",
   "language": "python",
   "name": "python2"
  },
  "language_info": {
   "codemirror_mode": {
    "name": "ipython",
    "version": 2
   },
   "file_extension": ".py",
   "mimetype": "text/x-python",
   "name": "python",
   "nbconvert_exporter": "python",
   "pygments_lexer": "ipython2",
   "version": "2.7.9"
  }
 },
 "nbformat": 4,
 "nbformat_minor": 1
}
