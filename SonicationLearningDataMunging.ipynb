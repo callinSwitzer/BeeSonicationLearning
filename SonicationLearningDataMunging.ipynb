{
 "cells": [
  {
   "cell_type": "code",
   "execution_count": null,
   "metadata": {
    "collapsed": true
   },
   "outputs": [],
   "source": [
    "# helpful munging scripts\n",
    "# Callin Switzer\n",
    "# 15 Jan 2016\n",
    "# updated 17 Nov 2017\n"
   ]
  },
  {
   "cell_type": "code",
   "execution_count": 1,
   "metadata": {},
   "outputs": [],
   "source": [
    "# import cv2\n",
    "import numpy as np\n",
    "import matplotlib\n",
    "matplotlib.use(\"TkAgg\") # have to use this for tkinter to  work below\n",
    "from matplotlib import pyplot as plt\n",
    "%matplotlib tk\n",
    "\n",
    "# scikit image\n",
    "import skimage\n",
    "from skimage import io\n",
    "\n",
    "import os\n",
    "import pandas as pd\n",
    "import time\n",
    "import re\n",
    "from datetime import datetime"
   ]
  },
  {
   "cell_type": "code",
   "execution_count": null,
   "metadata": {
    "collapsed": true
   },
   "outputs": [],
   "source": [
    " %qtconsole"
   ]
  },
  {
   "cell_type": "code",
   "execution_count": null,
   "metadata": {
    "collapsed": true
   },
   "outputs": [],
   "source": [
    "import Tkinter as tk\n",
    "import tkFileDialog\n",
    "\n",
    "def file_choose():\n",
    "    '''\n",
    "    Opens tkfileDialog and returns full path name.\n",
    "    It's the equivalent of file.choose in R.\n",
    "    Make sure the following modeules are loaded\n",
    "    import Tkinter as tk\n",
    "    import tkFileDialog\n",
    "    Also, won't work if %matplotlib qt4 has been used\n",
    "    '''\n",
    "    root = tk.Tk()\n",
    "    root.update()\n",
    "    file1 = tkFileDialog.askopenfilename(parent=root)\n",
    "    root.destroy() # closes the window\n",
    "    return file1"
   ]
  },
  {
   "cell_type": "code",
   "execution_count": null,
   "metadata": {
    "collapsed": true
   },
   "outputs": [],
   "source": [
    "aa = file_choose()"
   ]
  },
  {
   "cell_type": "code",
   "execution_count": null,
   "metadata": {},
   "outputs": [],
   "source": [
    "print aa"
   ]
  },
  {
   "cell_type": "code",
   "execution_count": null,
   "metadata": {},
   "outputs": [],
   "source": [
    "# os.chdir('/Volumes/GMD/BeeSonicationLearningWithAvery/BeeFrequencyLearning/')\n",
    "os.chdir('/Users/cswitzer/Dropbox/SonicationLearningManuscript/Data/CompressedBeeFrequencyLearning/')"
   ]
  },
  {
   "cell_type": "code",
   "execution_count": null,
   "metadata": {},
   "outputs": [],
   "source": [
    "fldrs = [f for f in os.listdir(\".\") if not f.startswith('.')]\n",
    "len(fldrs)"
   ]
  },
  {
   "cell_type": "code",
   "execution_count": null,
   "metadata": {
    "collapsed": true
   },
   "outputs": [],
   "source": [
    "fldrs.sort(key=lambda x: os.path.getmtime(x)) # sort by time created"
   ]
  },
  {
   "cell_type": "code",
   "execution_count": null,
   "metadata": {},
   "outputs": [],
   "source": [
    "# fldrs.reverse()\n",
    "fldrs"
   ]
  },
  {
   "cell_type": "code",
   "execution_count": null,
   "metadata": {
    "collapsed": true
   },
   "outputs": [],
   "source": [
    "import csv"
   ]
  },
  {
   "cell_type": "code",
   "execution_count": null,
   "metadata": {},
   "outputs": [],
   "source": [
    "with open(\"/Users/cswitzer/Desktop/output.csv\", \"wb\") as f:\n",
    "    writer = csv.writer(f)\n",
    "    writer.writerows(np.transpose(np.array([fldrs])))"
   ]
  },
  {
   "cell_type": "code",
   "execution_count": null,
   "metadata": {},
   "outputs": [],
   "source": [
    "np.transpose(np.array([fldrs])).shape"
   ]
  },
  {
   "cell_type": "code",
   "execution_count": null,
   "metadata": {
    "collapsed": true
   },
   "outputs": [],
   "source": [
    "\n"
   ]
  },
  {
   "cell_type": "code",
   "execution_count": null,
   "metadata": {
    "collapsed": true
   },
   "outputs": [],
   "source": []
  },
  {
   "cell_type": "code",
   "execution_count": null,
   "metadata": {
    "collapsed": true
   },
   "outputs": [],
   "source": []
  },
  {
   "cell_type": "code",
   "execution_count": null,
   "metadata": {
    "collapsed": true
   },
   "outputs": [],
   "source": []
  },
  {
   "cell_type": "code",
   "execution_count": null,
   "metadata": {},
   "outputs": [],
   "source": [
    "file_choose()"
   ]
  },
  {
   "cell_type": "code",
   "execution_count": null,
   "metadata": {
    "collapsed": true
   },
   "outputs": [],
   "source": [
    "# copy files and exclude movies\n",
    "import shutil"
   ]
  },
  {
   "cell_type": "code",
   "execution_count": null,
   "metadata": {},
   "outputs": [],
   "source": [
    "os.chdir('/Volumes/GMD/19 Dec Bee Sonication Backup/BeeSonicationLearningWithAvery/BeeFrequencyLearning/')"
   ]
  },
  {
   "cell_type": "code",
   "execution_count": null,
   "metadata": {
    "collapsed": true
   },
   "outputs": [],
   "source": [
    "sourceDir = os.getcwd()\n",
    "targDir = '/Users/callinswitzer/Desktop/SonicationLearningWAvery_NoImages'\n",
    "IGNORE_PATTERNS = ('*.pgm')\n"
   ]
  },
  {
   "cell_type": "code",
   "execution_count": null,
   "metadata": {
    "collapsed": true
   },
   "outputs": [],
   "source": [
    "shutil.copytree(sourceDir, targDir, ignore= shutil.ignore_patterns(IGNORE_PATTERNS))"
   ]
  },
  {
   "cell_type": "code",
   "execution_count": null,
   "metadata": {
    "collapsed": true
   },
   "outputs": [],
   "source": []
  },
  {
   "cell_type": "code",
   "execution_count": null,
   "metadata": {},
   "outputs": [],
   "source": [
    "sourceDir = '/Volumes/GMD/BeeSonicationLearningWithAvery/HeavyLightFlowers/'\n",
    "targDir = '/Users/callinswitzer/Desktop/SonicationLearningWAvery_HeavyLight'\n",
    "IGNORE_PATTERNS = ('*.pgm')\n"
   ]
  },
  {
   "cell_type": "code",
   "execution_count": null,
   "metadata": {
    "collapsed": true
   },
   "outputs": [],
   "source": [
    "shutil.copytree(sourceDir, targDir, ignore= shutil.ignore_patterns(IGNORE_PATTERNS))"
   ]
  },
  {
   "cell_type": "code",
   "execution_count": null,
   "metadata": {
    "collapsed": true
   },
   "outputs": [],
   "source": []
  },
  {
   "cell_type": "code",
   "execution_count": null,
   "metadata": {
    "collapsed": true
   },
   "outputs": [],
   "source": []
  },
  {
   "cell_type": "code",
   "execution_count": null,
   "metadata": {
    "collapsed": true
   },
   "outputs": [],
   "source": [
    "# pick up here"
   ]
  },
  {
   "cell_type": "code",
   "execution_count": null,
   "metadata": {
    "collapsed": true
   },
   "outputs": [],
   "source": [
    "sourceDir = '/Volumes/GMD/BeeSonicationLearningWithAvery/TestAndTrainFakeAndRealFlowers/'\n",
    "targDir = '/Users/callinswitzer/Desktop/SonicationLearningWAvery_TestTrainDataset_noVid'\n",
    "IGNORE_PATTERNS = ('*.pgm', '*.mp4')"
   ]
  },
  {
   "cell_type": "code",
   "execution_count": null,
   "metadata": {},
   "outputs": [],
   "source": [
    "shutil.copytree(sourceDir, targDir, ignore= shutil.ignore_patterns(IGNORE_PATTERNS))"
   ]
  },
  {
   "cell_type": "code",
   "execution_count": null,
   "metadata": {
    "collapsed": true
   },
   "outputs": [],
   "source": [
    "# done"
   ]
  },
  {
   "cell_type": "code",
   "execution_count": null,
   "metadata": {
    "collapsed": true
   },
   "outputs": [],
   "source": []
  },
  {
   "cell_type": "code",
   "execution_count": null,
   "metadata": {
    "collapsed": true
   },
   "outputs": [],
   "source": []
  },
  {
   "cell_type": "code",
   "execution_count": null,
   "metadata": {
    "collapsed": true
   },
   "outputs": [],
   "source": []
  },
  {
   "cell_type": "code",
   "execution_count": null,
   "metadata": {
    "collapsed": true
   },
   "outputs": [],
   "source": []
  },
  {
   "cell_type": "code",
   "execution_count": null,
   "metadata": {
    "collapsed": true
   },
   "outputs": [],
   "source": []
  },
  {
   "cell_type": "code",
   "execution_count": null,
   "metadata": {
    "collapsed": true
   },
   "outputs": [],
   "source": [
    "# START HERE"
   ]
  },
  {
   "cell_type": "code",
   "execution_count": 106,
   "metadata": {},
   "outputs": [],
   "source": [
    "# os.chdir('/Users/callinswitzer/Desktop/SonicationLearningWAvery_NoImages/')\n",
    "\n",
    "os.chdir('/Users/cswitzer/Dropbox/SonicationLearningManuscript/Data/SonicationLearningWAvery_NoImages/')"
   ]
  },
  {
   "cell_type": "code",
   "execution_count": 114,
   "metadata": {},
   "outputs": [
    {
     "data": {
      "text/plain": [
       "'/Users/cswitzer/Dropbox/SonicationLearningManuscript/Data/SonicationLearningWAvery_NoImages'"
      ]
     },
     "execution_count": 114,
     "metadata": {},
     "output_type": "execute_result"
    }
   ],
   "source": [
    "mypath = os.getcwd()\n",
    "mypath"
   ]
  },
  {
   "cell_type": "code",
   "execution_count": 109,
   "metadata": {},
   "outputs": [
    {
     "data": {
      "text/plain": [
       "['Beeredblue5_29Nov2016_Hive4_initial',\n",
       " 'Beewhitepink9_06Dec2016_Hive5_high',\n",
       " 'Beeyellowblue8_14Dec2016_Hive5_high',\n",
       " 'Beelimeorange2_18Dec2016_Hive5_NoReward',\n",
       " 'Beewhite5_30Nov2016_Hive4_initial',\n",
       " 'Beeredpink10_14Dec2016_Hive5_low',\n",
       " 'Beewhitered4_07Dec2016_Hive5_high',\n",
       " 'Beeorange7_09Dec2016_Hive3_high',\n",
       " 'Beeredblue9_30Nov2016_Hive4_initial',\n",
       " 'Beelimepink_18Dec2016_Hive5_NoReward',\n",
       " 'Beelimered1_14Dec2016_Hive5_initial',\n",
       " 'Beeredblue6_30Nov2016_Hive4_initial',\n",
       " 'Beeredblue11_02Dec2016_Hive4_initial',\n",
       " 'Beeyellowgreen8_12Dec2016_Hive5_initial',\n",
       " 'Beewhitegold3_06Dec2016_Hive5_low',\n",
       " 'Beeredpink1_10Dec2016_Hive5_initial',\n",
       " 'Beelime1_12Dec2016_Hive5_initial',\n",
       " 'Beewhite6_02Dec2016_Hive4_initial',\n",
       " 'Beeyellowpink10_14Dec2016_Hive5_low',\n",
       " 'Beeyellowgreen2_07Dec2016_Hive5_initial',\n",
       " 'Beewhiteyellow1_04Dec2016_Hive5_initial',\n",
       " 'Beeyelloworange10_11Dec2016_Hive5_high',\n",
       " 'Beelimeblue7_15Dec2016_Hive5_initial',\n",
       " 'Beeyellowgreen6_10Dec2016_Hive5_initial',\n",
       " 'BeeBlue6_28Nov2016_Hive4_high',\n",
       " 'Beeorangepink1_18Dec2016_Hive5_NoReward',\n",
       " 'Beepurple1_30Nov2016_Hive3_initial',\n",
       " 'Beeredgreen6_11Dec2016_Hive5_initial',\n",
       " 'Beeorangegreen1_18Dec2016_Hive5_initital',\n",
       " 'Beeredgreen1_10Dec2016_Hive5_initial',\n",
       " 'Beeredgreen9_11Dec2016_Hive5_initial',\n",
       " 'Beeyellowred9_09Dec2016_Hive5_initial',\n",
       " 'Beeorangegreen1_18Dec2016_Hive5_NoReward',\n",
       " 'Beeorange8_09Dec2016_Hive3_high',\n",
       " 'Beeyellowgreen5_09Dec2016_Hive5_initial',\n",
       " 'Beelimeblue8_15Dec2016_Hive5_initial',\n",
       " 'Beewhitegreen1_02Dec2016_Hive4_initial',\n",
       " 'BeeBlue3_28Nov2016_Hive4_high',\n",
       " 'Beelimegreen1_18Dec2016_Hive5_NoReward',\n",
       " 'Beewhitered10_15Dec2016_Hive5_high',\n",
       " 'Beeyellowblue1_09Dec2016_Hive5_initial',\n",
       " 'Beewhitered9_15Dec2016_Hive5_high',\n",
       " 'Beewhitepink5_04Dec2016_Hive5_initial',\n",
       " 'Beeyellowpink7_12Dec2016_Hive5_low',\n",
       " 'Beeyellowgreen10_12Dec2016_Hive5_low',\n",
       " 'Beelimewhite1_15Dec2016_Hive5_initial',\n",
       " 'Beeredpink6_12Dec2016_Hive5_low',\n",
       " 'BeeYellow6_28Nov2016_Hive4_low',\n",
       " 'Beewhite2_29Nov2016_Hive4_initial',\n",
       " 'Beeyellowblue2_10Dec2016_Hive5_high',\n",
       " 'Beeyellowpink6_12Dec2016_Hive5_low',\n",
       " 'Beeredblue1_29Nov2016_Hive4_initial',\n",
       " 'Beelimewhite2_18Dec2016_Hive5_NoReward',\n",
       " 'Beeorange_18Dec2016_Hive5_initial',\n",
       " 'Beeyellowred5_07Dec2016_Hive5_initial',\n",
       " 'Beeredpink7_12Dec2016_Hive5_low',\n",
       " 'Beeyelloworange5_10Dec2016_Hive5_high',\n",
       " 'Beeyellowpink2_09Dec2016_Hive5_low',\n",
       " 'Beelimegreen1_18Dec2016_Hive5_initial',\n",
       " 'BeeYellow4_28Nov2016_Hive4_low',\n",
       " 'Beeyellowpink5_12Dec2016_Hive5_low',\n",
       " 'Beeyellowpink1_09Dec2016_Hive5_initial',\n",
       " 'BeeYellow5_28Nov2016_Hive4_low',\n",
       " 'Beeorangepurple1_18Dec2016_Hive5_NoReward',\n",
       " 'BeeBlue7_28Nov2016_Hive4_high',\n",
       " 'Beeyellowpink9_12Dec2016_Hive5_low',\n",
       " 'Beewhiteblue6_10Dec2016_Hive5_low',\n",
       " 'Beewhitepink10_06Dec2016_Hive5_high',\n",
       " 'Beeorange4_30Nov2016_Hive3_low',\n",
       " 'Beeyelloworange11_11Dec2016_Hive5_high',\n",
       " 'Beeredpurple3_16Dec2016_Hive5_high',\n",
       " 'Beeredpink8_12Dec2016_Hive5_low',\n",
       " 'Beewhitered8_09Dec2016_Hive5_high',\n",
       " 'Beewhitegold10_16Dec2016_Hive5_low',\n",
       " 'BeeYellow_21Nov2016_Hive4_low',\n",
       " 'Beeyellowpink8_12Dec2016_Hive5_low',\n",
       " 'Beewhiteblue7_10Dec2016_Hive5_low',\n",
       " 'Beelimepurple3_18Dec2016_Hive5_initial',\n",
       " 'BeeBlue2_28Nov2016_Hive4_high',\n",
       " 'Beewhitepink7_06Dec2016_Hive5_high',\n",
       " 'Beeyellowpink11_15Dec2016_Hive5_low',\n",
       " 'Beeredpink9_12Dec2016_Hive5_low',\n",
       " 'Beeorange5_30Nov2016_Hive3_low',\n",
       " 'Beeyellowpurple4_09Dec2016_Hive5_low',\n",
       " 'Beewhitepink6_04Dec2016_Hive5_initial',\n",
       " 'BeeOrange_28Nov2016_Hive3_initial',\n",
       " 'Beewhitered5_07Dec2016_Hive5_high',\n",
       " 'Beeredpurple2_14Dec2016_Hive5_high',\n",
       " 'Beewhite1_29Nov2016_Hive4_initial',\n",
       " 'Beewhitepink8_06Dec2016_Hive5_high',\n",
       " 'Beeyellowblue9_14Dec2016_Hive5_high',\n",
       " 'Beeyellowpink12_15Dec2016_Hive5_low',\n",
       " 'Beeredblue2_29Nov2016_Hive4_initial',\n",
       " 'BeePink_21Nov2016_Hive4_high',\n",
       " 'Beewhitered7_09Dec2016_Hive5_high',\n",
       " 'Beeyellowblue6_11Dec2016_Hive5_high',\n",
       " 'Beeyellowpurple5_09Dec2016_Hive5_low',\n",
       " 'Beewhiteblue11_12Dec2016_Hive5_low',\n",
       " 'Beeyellowred6_07Dec2016_Hive5_initial',\n",
       " 'Beewhiteblue5_10Dec2016_Hive5_low',\n",
       " 'Beewhiteorange1_04Dec2016_Hive5_initial',\n",
       " 'Beeyellow7_29Nov2016_Hive4_low',\n",
       " 'Beelimepurple1_14Dec2016_Hive5_initial',\n",
       " 'Beeyellowpurple3_09Dec2016_Hive5_low',\n",
       " 'Beelimeblue4_15Dec2016_Hive5_initial',\n",
       " 'Beeorange_18Dec2016_Hive5_NoReward',\n",
       " 'Beewhitred1_06Dec2016_Hive5_initial',\n",
       " 'Beeredgreen5_11Dec2016_Hive5_initial',\n",
       " 'Beewhiteblue9_11Dec2016_Hive5_low',\n",
       " 'BeeTESTTESTPHOTO_04Dec2016_Hive5_initial',\n",
       " 'Beeyelloworange4_10Dec2016_Hive5_high',\n",
       " 'Beeredgreen2_10Dec2016_Hive5_initial',\n",
       " 'Beeyellowpurple2_09Dec2016_Hive5_low',\n",
       " 'Beeyellowblue7_12Dec2016_Hive5_high',\n",
       " 'Beewhiteblue8_11Dec2016_Hive5_low',\n",
       " 'BeeBlue_22Nov2016_Hive4_initial',\n",
       " 'Beelimeblue3_14Dec2016_Hive5_initial',\n",
       " 'Beeyellowblue3_10Dec2016_Hive5_high',\n",
       " 'Beewhitepink2_02Dec2016_Hive5_high',\n",
       " 'BeeOrange_28Nov2016_Hive3_low',\n",
       " 'Beeyellowred2_07Dec2016_Hive5_initial',\n",
       " 'Beewhitegold4_07Dec2016_Hive5_low',\n",
       " 'Beelimesilver1_14Dec2016_Hive5_initial',\n",
       " 'Beeyellowgreen1_07Dec2016_Hive5_initial',\n",
       " 'Beeblue8_29Nov2016_Hive4_high',\n",
       " 'Beewhitegold5_07Dec2016_Hive5_low',\n",
       " 'BeeYellow2_21Nov2016_Hive4_low',\n",
       " 'Beeorangepurple1_18Dec2016_Hive5_initial',\n",
       " 'Beegreen2_02Dec2016_Hive4_initial',\n",
       " 'Beewhiteorange4_16Dec2016_Hive5_low',\n",
       " 'Beewhiteblue10_11Dec2016_Hive5_low',\n",
       " 'Beewhitegold8_11Dec2016_Hive5_low',\n",
       " 'Beelimepurple3_18Dec2016_Hive5_NoReward',\n",
       " 'Beegold1_29Nov2016_Hive3_initial',\n",
       " 'Beeyelloworange2_09Dec2016_Hive5_high',\n",
       " 'Beeyellowblue11_15Dec2016_Hive5_high',\n",
       " 'Beelimeorange1_16Dec2016_Hive5_initial',\n",
       " 'Beeredgreen4_10Dec2016_Hive5_initial',\n",
       " 'Beewhiteblue1_06Dec2016_Hive5_initial',\n",
       " 'Beelimepink_18Dec2016_Hive5_initial',\n",
       " 'Beewhitegold9_11Dec2016_Hive5_low',\n",
       " 'Beelimeyellow1_18Dec2016_Hive5_initial',\n",
       " 'Beeyellowred4_07Dec2016_Hive5_initial',\n",
       " 'BeeOrange3_28Nov2016_Hive3_low',\n",
       " 'Beewhitered2_06Dec2016_Hive5_iniitial',\n",
       " 'Beewhitepink11_09Dec2016_Hive5_high',\n",
       " 'Beegoldred_02Dec2016_Hive4_initial',\n",
       " 'Beewhite3_29Nov2016_Hive4_initial',\n",
       " 'Beewhitepink4_04Dec2016_Hive5_initial',\n",
       " 'Beewhiteblue4_07Dec2016_Hive5_low',\n",
       " 'Beeorangeblue1_18Dec2016_Hive5_initial',\n",
       " 'Beewhitered3_07Dec2016_Hive5_high',\n",
       " 'Beewhitegold7_10Dec2016_Hive5_low',\n",
       " 'Beewhitegold1_04Dec2016_Hive5_initial',\n",
       " 'Beeyellowblue5_11Dec2016_Hive5_high',\n",
       " 'Beeyelloworange8_11Dec2016_Hive5_high',\n",
       " 'Beelimeblue1_14Dec2016_Hive5_initial',\n",
       " 'Beelimeblue9_15Dec2016_Hive5_initial',\n",
       " 'Beeyellowgreen4_09Dec2016_Hive5_initial',\n",
       " 'Beeyellowred8_09Dec2016_Hive5_initial',\n",
       " 'Beewhiteyellow3_12Dec2016_Hive5_initial',\n",
       " 'Beeyellowred10_09Dec2016_Hive5_initial',\n",
       " 'Beeredgreen8_11Dec2016_Hive5_initial',\n",
       " 'Beeredgreen7_11Dec2016_Hive5_initial',\n",
       " 'Beeyellowred1_06Dec2016_Hive5_iniitial',\n",
       " 'Beewhitegold6_10Dec2016_Hive5_low',\n",
       " 'Beeyellowgreen7_10Dec2016_Hive5_initial',\n",
       " 'Beewhitered6_07Dec2016_Hive5_high',\n",
       " 'Beewhiteblue3_07Dec2016_Hive5_low',\n",
       " 'Beelimeblue6_15Dec2016_Hive5_initial',\n",
       " 'Beelimeorange2_18Dec2016_Hive5_initial',\n",
       " 'Beewhiteorange3_16Dec2016_Hive5_low',\n",
       " 'Beeyellowgreen9_12Dec2016_Hive5_initial',\n",
       " 'Beeredblue7_30Nov2016_Hive4_initial',\n",
       " 'Beeredblue10_02Dec2016_Hive4_initial',\n",
       " 'Beeorangepink1_18Dec2016_Hive5_initial',\n",
       " 'Beeredpurple1_11Dec2016_Hive5_initial',\n",
       " 'Beeredblue8_30Nov2016_Hive4_initial',\n",
       " 'Beewhiteorange2_16Dec2016_Hive5_low',\n",
       " 'Beesilver1_11Dec2016_Hive5_initial',\n",
       " 'BeeBlue4_28Nov2016_Hive4_high',\n",
       " 'Beelimeyellow1_18Dec2016_Hive5_NoReward',\n",
       " 'Beeyelloworange7_11Dec2016_Hive5_high',\n",
       " 'Beeredblue4_29Nov2016_Hive4_initial',\n",
       " 'Beewhite4_29Nov2016_Hive4_initial',\n",
       " 'Beeyelloworange1_09Dec2016_Hive5_initial',\n",
       " 'Beewhitepink3_04Dec2016_Hive5_initial',\n",
       " 'Beelimegold1_18Dec2016_Hive5_initial',\n",
       " 'Beeyellowred3_07Dec2016_Hive5_initial',\n",
       " 'Beelimegold1_18Dec2016_Hive5_NoReward',\n",
       " 'Beeyellowpurple1_07Dec2016_Hive5_initial',\n",
       " 'Beeredpink3_11Dec2016_Hive5_low',\n",
       " 'Beelimeblue2_14Dec2016_Hive5_initial',\n",
       " 'Beewhitegold2_04Dec2016_Hive5_initial',\n",
       " 'Beewhiteyellow2_06Dec2016_Hive5_initial',\n",
       " 'Beeredgreen3_10Dec2016_Hive5_initial',\n",
       " 'Beelimered3_14Dec2016_Hive5_low',\n",
       " 'Beeyellowblue4_10Dec2016_Hive5_high',\n",
       " 'Beeorangeblue1_18Dec2016_Hive5_NoReward',\n",
       " 'Beelimered9_15Dec2016_Hive5_low',\n",
       " 'Beelimepurple2_14Dec2016_Hive5_low',\n",
       " 'Beelimepurpleyellow1_16Dec2016_Hive5_initial',\n",
       " 'Beeredpink2_11Dec2016_Hive5_low',\n",
       " 'Beelimered8_15Dec2016_Hive5_low',\n",
       " 'Beeyellowpink3_11Dec2016_Hive5_low',\n",
       " 'Beelimeblue10_16Dec2016_Hive5_initial',\n",
       " 'Beeyelloworange3_09Dec2016_Hive5_high',\n",
       " 'Beelimeblue5_15Dec2016_Hive5_initial',\n",
       " 'Beelimered2_14Dec2016_Hive5_low',\n",
       " 'Beeredpink4_11Dec2016_Hive5_low',\n",
       " 'Beeyellowred7_07Dec2016_Hive5_initial',\n",
       " 'Beelimewhite2_18Dec2016_Hive5_initial',\n",
       " 'Beelimered4_14Dec2016_Hive5_low',\n",
       " 'Beeorange6_02Dec2016_Hive3_high',\n",
       " 'Beelimered10_16Dec2016_Hive5_low',\n",
       " 'Beeredblue3_29Nov2016_Hive4_initial',\n",
       " 'Beewhiteblue2_06Dec2016_Hive5_low',\n",
       " 'Beeyelloworange6_11Dec2016_Hive5_high',\n",
       " 'Beewhitepurple1_02Dec2016_Hive5_initial',\n",
       " 'Beeredpink5_11Dec2016_Hive5_low',\n",
       " 'Beelimered11_16Dec2016_Hive5_low',\n",
       " 'BeeBlue5_28Nov2016_Hive4_high',\n",
       " 'Beeyellowpink4_11Dec2016_Hive5_low',\n",
       " 'Beelimered5_14Dec2016_Hive5_low',\n",
       " 'Beegreen1_29Nov2016_Hive4_initial',\n",
       " 'Beelimered6_14Dec2016_Hive5_low',\n",
       " 'Beeyelloworange9_11Dec2016_Hive5_high',\n",
       " 'Beeredgreen10_11Dec2016_Hive5_initial',\n",
       " 'Beelimered7_14Dec2016_Hive5_low',\n",
       " 'Beeyellowgreen3_09Dec2016_Hive5_initial',\n",
       " 'Beewhitepink1_02Dec2016_Hive5_initial',\n",
       " 'Beeyellowblue10_14Dec2016_Hive5_high']"
      ]
     },
     "execution_count": 109,
     "metadata": {},
     "output_type": "execute_result"
    }
   ],
   "source": [
    "folders"
   ]
  },
  {
   "cell_type": "code",
   "execution_count": 130,
   "metadata": {},
   "outputs": [
    {
     "name": "stdout",
     "output_type": "stream",
     "text": [
      "0\n",
      "10\n",
      "20\n",
      "30\n",
      "40\n",
      "50\n",
      "60\n",
      "70\n",
      "80\n",
      "90\n",
      "100\n",
      "110\n",
      "120\n",
      "130\n",
      "140\n",
      "150\n",
      "160\n",
      "170\n",
      "180\n",
      "190\n",
      "200\n",
      "210\n",
      "220\n",
      "230\n",
      "0 problems\n"
     ]
    }
   ],
   "source": [
    "# for each folder, open it, and read the ampFreq.txt file\n",
    "\n",
    "probs = 0\n",
    "for ii in range(len(folders)):\n",
    "\n",
    "    # read contents of each folder\n",
    "    fcontents = [f for f in os.listdir(folders[ii]) if not f.startswith('.')]\n",
    "\n",
    "    # get ampFreq file(s). there should be one per folder\n",
    "    ampFreqFile = [x for x in fcontents if 'ampFreq.txt' in x]\n",
    "\n",
    "    if len(ampFreqFile) > 1: \n",
    "        print(\"PROBLEM \" + str(ii))\n",
    "\n",
    "\n",
    "    # read ampFreq file\n",
    "    tmpDF = pd.read_table(os.path.join(folders[ii], ampFreqFile[0]), header = None, sep = ',')\n",
    "\n",
    "    # add folder name to data frame\n",
    "    tmpDF[7] = folders[ii]\n",
    "\n",
    "    # add frequency information\n",
    "    folderInFolder = [x for x in fcontents if not 'ampFreq.txt' in x]\n",
    "\n",
    "    if len(folderInFolder) > 1: \n",
    "        print(\"PROBLEM\")\n",
    "        probs += 1\n",
    "\n",
    "    # list files in inner folder\n",
    "    accRecFiles = [x for x in os.listdir(os.path.join(folders[ii], folderInFolder[0])) if not x.startswith('.')]\n",
    "    accRecFiles.sort()\n",
    "\n",
    "    tmpDF[8] = accRecFiles\n",
    "\n",
    "    # remove wingbeats\n",
    "    tmpDF2 = tmpDF.loc[(tmpDF[0] > 220) & (tmpDF[0] < 450)]\n",
    "\n",
    "    # renumber index\n",
    "    tmpDF2.index = (np.arange(1, tmpDF2.shape[0] + 1))\n",
    "\n",
    "    # write to .csv\n",
    "    tmpDF2.to_csv('/Users/cswitzer/Dropbox/SonicationLearningManuscript/Data/FreqTrainCSVs/' + folders[ii] + '.csv', \n",
    "                 header = False, index = True)\n",
    "    \n",
    "    if np.mod(ii, 10) == 0:\n",
    "        print ii\n",
    "    \n",
    "print str(probs) + \" problems\""
   ]
  },
  {
   "cell_type": "code",
   "execution_count": 131,
   "metadata": {},
   "outputs": [
    {
     "data": {
      "text/html": [
       "<div>\n",
       "<style>\n",
       "    .dataframe thead tr:only-child th {\n",
       "        text-align: right;\n",
       "    }\n",
       "\n",
       "    .dataframe thead th {\n",
       "        text-align: left;\n",
       "    }\n",
       "\n",
       "    .dataframe tbody tr th {\n",
       "        vertical-align: top;\n",
       "    }\n",
       "</style>\n",
       "<table border=\"1\" class=\"dataframe\">\n",
       "  <thead>\n",
       "    <tr style=\"text-align: right;\">\n",
       "      <th></th>\n",
       "      <th>index</th>\n",
       "      <th>freq</th>\n",
       "      <th>amp</th>\n",
       "      <th>datetime</th>\n",
       "      <th>rewNum</th>\n",
       "      <th>rewTF</th>\n",
       "      <th>lowRewAmp</th>\n",
       "      <th>highrewAmp</th>\n",
       "      <th>BeeNumCol</th>\n",
       "      <th>accFile</th>\n",
       "    </tr>\n",
       "  </thead>\n",
       "  <tbody>\n",
       "    <tr>\n",
       "      <th>0</th>\n",
       "      <td>1</td>\n",
       "      <td>340</td>\n",
       "      <td>0.69799</td>\n",
       "      <td>2016_12_11__14_51_35_856</td>\n",
       "      <td>1</td>\n",
       "      <td>T</td>\n",
       "      <td>0</td>\n",
       "      <td>5</td>\n",
       "      <td>Beesilver1_11Dec2016_Hive5_initial</td>\n",
       "      <td>2016_12_11__14_51_35_856_220_450_test.txt</td>\n",
       "    </tr>\n",
       "    <tr>\n",
       "      <th>1</th>\n",
       "      <td>2</td>\n",
       "      <td>290</td>\n",
       "      <td>0.31249</td>\n",
       "      <td>2016_12_11__14_51_37_400</td>\n",
       "      <td>2</td>\n",
       "      <td>T</td>\n",
       "      <td>0</td>\n",
       "      <td>5</td>\n",
       "      <td>Beesilver1_11Dec2016_Hive5_initial</td>\n",
       "      <td>2016_12_11__14_51_37_400_220_450_test.txt</td>\n",
       "    </tr>\n",
       "    <tr>\n",
       "      <th>2</th>\n",
       "      <td>3</td>\n",
       "      <td>310</td>\n",
       "      <td>0.49291</td>\n",
       "      <td>2016_12_11__14_51_38_788</td>\n",
       "      <td>3</td>\n",
       "      <td>T</td>\n",
       "      <td>0</td>\n",
       "      <td>5</td>\n",
       "      <td>Beesilver1_11Dec2016_Hive5_initial</td>\n",
       "      <td>2016_12_11__14_51_38_788_220_450_test.txt</td>\n",
       "    </tr>\n",
       "    <tr>\n",
       "      <th>3</th>\n",
       "      <td>4</td>\n",
       "      <td>310</td>\n",
       "      <td>0.55911</td>\n",
       "      <td>2016_12_11__14_51_39_641</td>\n",
       "      <td>4</td>\n",
       "      <td>T</td>\n",
       "      <td>0</td>\n",
       "      <td>5</td>\n",
       "      <td>Beesilver1_11Dec2016_Hive5_initial</td>\n",
       "      <td>2016_12_11__14_51_39_641_220_450_test.txt</td>\n",
       "    </tr>\n",
       "    <tr>\n",
       "      <th>4</th>\n",
       "      <td>5</td>\n",
       "      <td>350</td>\n",
       "      <td>0.30275</td>\n",
       "      <td>2016_12_11__14_51_41_043</td>\n",
       "      <td>5</td>\n",
       "      <td>T</td>\n",
       "      <td>0</td>\n",
       "      <td>5</td>\n",
       "      <td>Beesilver1_11Dec2016_Hive5_initial</td>\n",
       "      <td>2016_12_11__14_51_41_043_220_450_test.txt</td>\n",
       "    </tr>\n",
       "  </tbody>\n",
       "</table>\n",
       "</div>"
      ],
      "text/plain": [
       "  index freq      amp                   datetime rewNum rewTF lowRewAmp  \\\n",
       "0     1  340  0.69799   2016_12_11__14_51_35_856      1     T         0   \n",
       "1     2  290  0.31249   2016_12_11__14_51_37_400      2     T         0   \n",
       "2     3  310  0.49291   2016_12_11__14_51_38_788      3     T         0   \n",
       "3     4  310  0.55911   2016_12_11__14_51_39_641      4     T         0   \n",
       "4     5  350  0.30275   2016_12_11__14_51_41_043      5     T         0   \n",
       "\n",
       "  highrewAmp                           BeeNumCol  \\\n",
       "0          5  Beesilver1_11Dec2016_Hive5_initial   \n",
       "1          5  Beesilver1_11Dec2016_Hive5_initial   \n",
       "2          5  Beesilver1_11Dec2016_Hive5_initial   \n",
       "3          5  Beesilver1_11Dec2016_Hive5_initial   \n",
       "4          5  Beesilver1_11Dec2016_Hive5_initial   \n",
       "\n",
       "                                     accFile  \n",
       "0  2016_12_11__14_51_35_856_220_450_test.txt  \n",
       "1  2016_12_11__14_51_37_400_220_450_test.txt  \n",
       "2  2016_12_11__14_51_38_788_220_450_test.txt  \n",
       "3  2016_12_11__14_51_39_641_220_450_test.txt  \n",
       "4  2016_12_11__14_51_41_043_220_450_test.txt  "
      ]
     },
     "execution_count": 131,
     "metadata": {},
     "output_type": "execute_result"
    }
   ],
   "source": [
    "## combine csv's all into a single file\n",
    "csvDir = '/Users/cswitzer/Dropbox/SonicationLearningManuscript/Data/FreqTrainCSVs'\n",
    "\n",
    "csvFiles = [f for f in os.listdir(csvDir) if f.endswith('.csv')]\n",
    "\n",
    "np_array_list = []\n",
    "for file_ in csvFiles:\n",
    "    df = pd.read_csv(os.path.join(csvDir, file_),index_col=None, header=None)\n",
    "    np_array_list.append(df.as_matrix())\n",
    "\n",
    "comb_np_array = np.vstack(np_array_list)\n",
    "big_frame = pd.DataFrame(comb_np_array)\n",
    "\n",
    "big_frame.columns = ['index', 'freq', 'amp', 'datetime', 'rewNum', 'rewTF', 'lowRewAmp', 'highrewAmp', 'BeeNumCol', 'accFile']\n",
    "\n",
    "big_frame.head()"
   ]
  },
  {
   "cell_type": "code",
   "execution_count": 132,
   "metadata": {
    "collapsed": true
   },
   "outputs": [],
   "source": [
    "# save big data frame\n",
    "big_frame.to_csv('/Users/cswitzer/Dropbox/SonicationLearningManuscript/Data/freqLearn.csv', header = True, index = False)"
   ]
  },
  {
   "cell_type": "code",
   "execution_count": 133,
   "metadata": {},
   "outputs": [
    {
     "data": {
      "text/plain": [
       "[<matplotlib.lines.Line2D at 0x12c081f50>]"
      ]
     },
     "execution_count": 133,
     "metadata": {},
     "output_type": "execute_result"
    }
   ],
   "source": [
    "plt.hist(big_frame.freq)\n",
    "plt.plot(big_frame.freq, [0.01]*len(big_frame.freq), '|', color='k')"
   ]
  },
  {
   "cell_type": "code",
   "execution_count": 134,
   "metadata": {},
   "outputs": [],
   "source": [
    "#big_frame = pd.read_csv('/Users/cswitzer/Dropbox/SonicationLearningManuscript/Data/freqLearn.csv', index_col=None)"
   ]
  },
  {
   "cell_type": "code",
   "execution_count": 135,
   "metadata": {},
   "outputs": [
    {
     "data": {
      "text/html": [
       "<div>\n",
       "<style>\n",
       "    .dataframe thead tr:only-child th {\n",
       "        text-align: right;\n",
       "    }\n",
       "\n",
       "    .dataframe thead th {\n",
       "        text-align: left;\n",
       "    }\n",
       "\n",
       "    .dataframe tbody tr th {\n",
       "        vertical-align: top;\n",
       "    }\n",
       "</style>\n",
       "<table border=\"1\" class=\"dataframe\">\n",
       "  <thead>\n",
       "    <tr style=\"text-align: right;\">\n",
       "      <th></th>\n",
       "      <th>index</th>\n",
       "      <th>freq</th>\n",
       "      <th>amp</th>\n",
       "      <th>datetime</th>\n",
       "      <th>rewNum</th>\n",
       "      <th>rewTF</th>\n",
       "      <th>lowRewAmp</th>\n",
       "      <th>highrewAmp</th>\n",
       "      <th>BeeNumCol</th>\n",
       "      <th>accFile</th>\n",
       "    </tr>\n",
       "  </thead>\n",
       "  <tbody>\n",
       "    <tr>\n",
       "      <th>0</th>\n",
       "      <td>1</td>\n",
       "      <td>340.0</td>\n",
       "      <td>0.69799</td>\n",
       "      <td>2016_12_11__14_51_35_856</td>\n",
       "      <td>1</td>\n",
       "      <td>T</td>\n",
       "      <td>0</td>\n",
       "      <td>5</td>\n",
       "      <td>Beesilver1_11Dec2016_Hive5_initial</td>\n",
       "      <td>2016_12_11__14_51_35_856_220_450_test.txt</td>\n",
       "    </tr>\n",
       "    <tr>\n",
       "      <th>1</th>\n",
       "      <td>2</td>\n",
       "      <td>290.0</td>\n",
       "      <td>0.31249</td>\n",
       "      <td>2016_12_11__14_51_37_400</td>\n",
       "      <td>2</td>\n",
       "      <td>T</td>\n",
       "      <td>0</td>\n",
       "      <td>5</td>\n",
       "      <td>Beesilver1_11Dec2016_Hive5_initial</td>\n",
       "      <td>2016_12_11__14_51_37_400_220_450_test.txt</td>\n",
       "    </tr>\n",
       "    <tr>\n",
       "      <th>2</th>\n",
       "      <td>3</td>\n",
       "      <td>310.0</td>\n",
       "      <td>0.49291</td>\n",
       "      <td>2016_12_11__14_51_38_788</td>\n",
       "      <td>3</td>\n",
       "      <td>T</td>\n",
       "      <td>0</td>\n",
       "      <td>5</td>\n",
       "      <td>Beesilver1_11Dec2016_Hive5_initial</td>\n",
       "      <td>2016_12_11__14_51_38_788_220_450_test.txt</td>\n",
       "    </tr>\n",
       "    <tr>\n",
       "      <th>3</th>\n",
       "      <td>4</td>\n",
       "      <td>310.0</td>\n",
       "      <td>0.55911</td>\n",
       "      <td>2016_12_11__14_51_39_641</td>\n",
       "      <td>4</td>\n",
       "      <td>T</td>\n",
       "      <td>0</td>\n",
       "      <td>5</td>\n",
       "      <td>Beesilver1_11Dec2016_Hive5_initial</td>\n",
       "      <td>2016_12_11__14_51_39_641_220_450_test.txt</td>\n",
       "    </tr>\n",
       "    <tr>\n",
       "      <th>4</th>\n",
       "      <td>5</td>\n",
       "      <td>350.0</td>\n",
       "      <td>0.30275</td>\n",
       "      <td>2016_12_11__14_51_41_043</td>\n",
       "      <td>5</td>\n",
       "      <td>T</td>\n",
       "      <td>0</td>\n",
       "      <td>5</td>\n",
       "      <td>Beesilver1_11Dec2016_Hive5_initial</td>\n",
       "      <td>2016_12_11__14_51_41_043_220_450_test.txt</td>\n",
       "    </tr>\n",
       "  </tbody>\n",
       "</table>\n",
       "</div>"
      ],
      "text/plain": [
       "   index   freq      amp                   datetime  rewNum rewTF  lowRewAmp  \\\n",
       "0      1  340.0  0.69799   2016_12_11__14_51_35_856       1     T          0   \n",
       "1      2  290.0  0.31249   2016_12_11__14_51_37_400       2     T          0   \n",
       "2      3  310.0  0.49291   2016_12_11__14_51_38_788       3     T          0   \n",
       "3      4  310.0  0.55911   2016_12_11__14_51_39_641       4     T          0   \n",
       "4      5  350.0  0.30275   2016_12_11__14_51_41_043       5     T          0   \n",
       "\n",
       "   highrewAmp                           BeeNumCol  \\\n",
       "0           5  Beesilver1_11Dec2016_Hive5_initial   \n",
       "1           5  Beesilver1_11Dec2016_Hive5_initial   \n",
       "2           5  Beesilver1_11Dec2016_Hive5_initial   \n",
       "3           5  Beesilver1_11Dec2016_Hive5_initial   \n",
       "4           5  Beesilver1_11Dec2016_Hive5_initial   \n",
       "\n",
       "                                     accFile  \n",
       "0  2016_12_11__14_51_35_856_220_450_test.txt  \n",
       "1  2016_12_11__14_51_37_400_220_450_test.txt  \n",
       "2  2016_12_11__14_51_38_788_220_450_test.txt  \n",
       "3  2016_12_11__14_51_39_641_220_450_test.txt  \n",
       "4  2016_12_11__14_51_41_043_220_450_test.txt  "
      ]
     },
     "execution_count": 135,
     "metadata": {},
     "output_type": "execute_result"
    }
   ],
   "source": [
    "big_frame.head()"
   ]
  },
  {
   "cell_type": "code",
   "execution_count": 136,
   "metadata": {},
   "outputs": [
    {
     "name": "stdout",
     "output_type": "stream",
     "text": [
      "(26552, 10)\n"
     ]
    }
   ],
   "source": [
    "print big_frame.shape"
   ]
  },
  {
   "cell_type": "code",
   "execution_count": 138,
   "metadata": {},
   "outputs": [],
   "source": [
    "# check to see if datetime and accFile agree\n",
    "\n",
    "eqs = [big_frame['datetime'][ii][1:25] == big_frame['accFile'][ii][0:24] for ii in range(len(big_frame['datetime']))]"
   ]
  },
  {
   "cell_type": "code",
   "execution_count": 139,
   "metadata": {},
   "outputs": [
    {
     "data": {
      "text/plain": [
       "0"
      ]
     },
     "execution_count": 139,
     "metadata": {},
     "output_type": "execute_result"
    }
   ],
   "source": [
    "np.sum(np.invert(eqs)) # should be zero if all of them match"
   ]
  },
  {
   "cell_type": "code",
   "execution_count": 141,
   "metadata": {},
   "outputs": [
    {
     "data": {
      "text/html": [
       "<div>\n",
       "<style>\n",
       "    .dataframe thead tr:only-child th {\n",
       "        text-align: right;\n",
       "    }\n",
       "\n",
       "    .dataframe thead th {\n",
       "        text-align: left;\n",
       "    }\n",
       "\n",
       "    .dataframe tbody tr th {\n",
       "        vertical-align: top;\n",
       "    }\n",
       "</style>\n",
       "<table border=\"1\" class=\"dataframe\">\n",
       "  <thead>\n",
       "    <tr style=\"text-align: right;\">\n",
       "      <th></th>\n",
       "      <th>index</th>\n",
       "      <th>freq</th>\n",
       "      <th>amp</th>\n",
       "      <th>datetime</th>\n",
       "      <th>rewNum</th>\n",
       "      <th>rewTF</th>\n",
       "      <th>lowRewAmp</th>\n",
       "      <th>highrewAmp</th>\n",
       "      <th>BeeNumCol</th>\n",
       "      <th>accFile</th>\n",
       "    </tr>\n",
       "  </thead>\n",
       "  <tbody>\n",
       "  </tbody>\n",
       "</table>\n",
       "</div>"
      ],
      "text/plain": [
       "Empty DataFrame\n",
       "Columns: [index, freq, amp, datetime, rewNum, rewTF, lowRewAmp, highrewAmp, BeeNumCol, accFile]\n",
       "Index: []"
      ]
     },
     "execution_count": 141,
     "metadata": {},
     "output_type": "execute_result"
    }
   ],
   "source": [
    "# find the one that doesn't match\n",
    "big_frame.loc[np.invert(eqs)] # now they all match"
   ]
  },
  {
   "cell_type": "code",
   "execution_count": 142,
   "metadata": {},
   "outputs": [],
   "source": [
    "# make a new column for bee color, hive, reward frequency, date, and treatment (initial, high, low)\n",
    "\n",
    "str1 = big_frame['BeeNumCol'][1]"
   ]
  },
  {
   "cell_type": "code",
   "execution_count": 143,
   "metadata": {},
   "outputs": [
    {
     "data": {
      "text/plain": [
       "'Beesilver1_11Dec2016_Hive5_initial'"
      ]
     },
     "execution_count": 143,
     "metadata": {},
     "output_type": "execute_result"
    }
   ],
   "source": [
    "str1"
   ]
  },
  {
   "cell_type": "code",
   "execution_count": 144,
   "metadata": {},
   "outputs": [],
   "source": [
    "str2 = [big_frame['BeeNumCol'][ii].split(\"Bee\")[1] for ii in range(len(big_frame['BeeNumCol']))]"
   ]
  },
  {
   "cell_type": "code",
   "execution_count": 145,
   "metadata": {
    "collapsed": true
   },
   "outputs": [],
   "source": [
    "% qtconsole"
   ]
  },
  {
   "cell_type": "code",
   "execution_count": 146,
   "metadata": {},
   "outputs": [],
   "source": [
    "beeColNum = [str2[ii].split(r'_')[0] for ii in range(len(str2))]"
   ]
  },
  {
   "cell_type": "code",
   "execution_count": 148,
   "metadata": {},
   "outputs": [],
   "source": [
    "# definition for extracting trial number\n",
    "def extractNum(string):\n",
    "    try: \n",
    "        aa =  str(int(filter(str.isdigit, string)))\n",
    "    except:\n",
    "        aa = \"1\"\n",
    "    return(aa)\n",
    "    "
   ]
  },
  {
   "cell_type": "code",
   "execution_count": 149,
   "metadata": {},
   "outputs": [],
   "source": [
    "# get trial number\n",
    "trialNum = [extractNum(strg) for strg in beeColNum]"
   ]
  },
  {
   "cell_type": "code",
   "execution_count": 150,
   "metadata": {
    "collapsed": true
   },
   "outputs": [],
   "source": [
    "# function to get only characters\n",
    "def extractChar(string):\n",
    "    return(\" \".join(re.findall(\"[a-zA-Z]+\", string)))"
   ]
  },
  {
   "cell_type": "code",
   "execution_count": 151,
   "metadata": {
    "collapsed": true
   },
   "outputs": [],
   "source": [
    "# get just bee color\n",
    "beeCol = [extractChar(strg) for strg in beeColNum]"
   ]
  },
  {
   "cell_type": "code",
   "execution_count": 152,
   "metadata": {
    "collapsed": true
   },
   "outputs": [],
   "source": [
    "# get datetime\n",
    "dateTime = [datetime.strptime(dt1, ' %Y_%m_%d__%H_%M_%S_%f') for dt1 in big_frame['datetime']]"
   ]
  },
  {
   "cell_type": "code",
   "execution_count": 153,
   "metadata": {
    "collapsed": true
   },
   "outputs": [],
   "source": [
    "# string format time\n",
    "dateTime_format = [datetime.strftime(datetime_object, \"%Y-%m-%d %H:%M:%S.%f\") for datetime_object in dateTime]"
   ]
  },
  {
   "cell_type": "code",
   "execution_count": 154,
   "metadata": {
    "collapsed": true
   },
   "outputs": [],
   "source": [
    "# get reward frequencies\n",
    "s1 = big_frame['accFile'][0]"
   ]
  },
  {
   "cell_type": "code",
   "execution_count": 155,
   "metadata": {},
   "outputs": [],
   "source": [
    "rewFrqs = [s1.split(\"_\")[8:10] for s1 in big_frame['accFile']]"
   ]
  },
  {
   "cell_type": "code",
   "execution_count": 156,
   "metadata": {},
   "outputs": [],
   "source": [
    "rewDF = pd.DataFrame(rewFrqs, columns = ['lowFrq', 'highFrq'])"
   ]
  },
  {
   "cell_type": "code",
   "execution_count": 157,
   "metadata": {},
   "outputs": [
    {
     "data": {
      "text/html": [
       "<div>\n",
       "<style>\n",
       "    .dataframe thead tr:only-child th {\n",
       "        text-align: right;\n",
       "    }\n",
       "\n",
       "    .dataframe thead th {\n",
       "        text-align: left;\n",
       "    }\n",
       "\n",
       "    .dataframe tbody tr th {\n",
       "        vertical-align: top;\n",
       "    }\n",
       "</style>\n",
       "<table border=\"1\" class=\"dataframe\">\n",
       "  <thead>\n",
       "    <tr style=\"text-align: right;\">\n",
       "      <th></th>\n",
       "      <th>lowFrq</th>\n",
       "      <th>highFrq</th>\n",
       "    </tr>\n",
       "  </thead>\n",
       "  <tbody>\n",
       "    <tr>\n",
       "      <th>0</th>\n",
       "      <td>220</td>\n",
       "      <td>450</td>\n",
       "    </tr>\n",
       "    <tr>\n",
       "      <th>1</th>\n",
       "      <td>220</td>\n",
       "      <td>450</td>\n",
       "    </tr>\n",
       "    <tr>\n",
       "      <th>2</th>\n",
       "      <td>220</td>\n",
       "      <td>450</td>\n",
       "    </tr>\n",
       "    <tr>\n",
       "      <th>3</th>\n",
       "      <td>220</td>\n",
       "      <td>450</td>\n",
       "    </tr>\n",
       "    <tr>\n",
       "      <th>4</th>\n",
       "      <td>220</td>\n",
       "      <td>450</td>\n",
       "    </tr>\n",
       "  </tbody>\n",
       "</table>\n",
       "</div>"
      ],
      "text/plain": [
       "  lowFrq highFrq\n",
       "0    220     450\n",
       "1    220     450\n",
       "2    220     450\n",
       "3    220     450\n",
       "4    220     450"
      ]
     },
     "execution_count": 157,
     "metadata": {},
     "output_type": "execute_result"
    }
   ],
   "source": [
    "rewDF.head()"
   ]
  },
  {
   "cell_type": "code",
   "execution_count": null,
   "metadata": {
    "collapsed": true
   },
   "outputs": [],
   "source": []
  },
  {
   "cell_type": "code",
   "execution_count": 158,
   "metadata": {},
   "outputs": [],
   "source": [
    "# add to big data frame\n",
    "big_frame['trialNum'] = trialNum\n",
    "big_frame['beeCol'] = beeCol\n",
    "big_frame['datetime_str'] = dateTime_format"
   ]
  },
  {
   "cell_type": "code",
   "execution_count": 159,
   "metadata": {},
   "outputs": [
    {
     "data": {
      "text/html": [
       "<div>\n",
       "<style>\n",
       "    .dataframe thead tr:only-child th {\n",
       "        text-align: right;\n",
       "    }\n",
       "\n",
       "    .dataframe thead th {\n",
       "        text-align: left;\n",
       "    }\n",
       "\n",
       "    .dataframe tbody tr th {\n",
       "        vertical-align: top;\n",
       "    }\n",
       "</style>\n",
       "<table border=\"1\" class=\"dataframe\">\n",
       "  <thead>\n",
       "    <tr style=\"text-align: right;\">\n",
       "      <th></th>\n",
       "      <th>index</th>\n",
       "      <th>freq</th>\n",
       "      <th>amp</th>\n",
       "      <th>datetime</th>\n",
       "      <th>rewNum</th>\n",
       "      <th>rewTF</th>\n",
       "      <th>lowRewAmp</th>\n",
       "      <th>highrewAmp</th>\n",
       "      <th>BeeNumCol</th>\n",
       "      <th>accFile</th>\n",
       "      <th>trialNum</th>\n",
       "      <th>beeCol</th>\n",
       "      <th>datetime_str</th>\n",
       "      <th>lowFrq</th>\n",
       "      <th>highFrq</th>\n",
       "    </tr>\n",
       "  </thead>\n",
       "  <tbody>\n",
       "    <tr>\n",
       "      <th>0</th>\n",
       "      <td>1</td>\n",
       "      <td>340.0</td>\n",
       "      <td>0.69799</td>\n",
       "      <td>2016_12_11__14_51_35_856</td>\n",
       "      <td>1</td>\n",
       "      <td>T</td>\n",
       "      <td>0</td>\n",
       "      <td>5</td>\n",
       "      <td>Beesilver1_11Dec2016_Hive5_initial</td>\n",
       "      <td>2016_12_11__14_51_35_856_220_450_test.txt</td>\n",
       "      <td>1</td>\n",
       "      <td>silver</td>\n",
       "      <td>2016-12-11 14:51:35.856000</td>\n",
       "      <td>220</td>\n",
       "      <td>450</td>\n",
       "    </tr>\n",
       "    <tr>\n",
       "      <th>1</th>\n",
       "      <td>2</td>\n",
       "      <td>290.0</td>\n",
       "      <td>0.31249</td>\n",
       "      <td>2016_12_11__14_51_37_400</td>\n",
       "      <td>2</td>\n",
       "      <td>T</td>\n",
       "      <td>0</td>\n",
       "      <td>5</td>\n",
       "      <td>Beesilver1_11Dec2016_Hive5_initial</td>\n",
       "      <td>2016_12_11__14_51_37_400_220_450_test.txt</td>\n",
       "      <td>1</td>\n",
       "      <td>silver</td>\n",
       "      <td>2016-12-11 14:51:37.400000</td>\n",
       "      <td>220</td>\n",
       "      <td>450</td>\n",
       "    </tr>\n",
       "    <tr>\n",
       "      <th>2</th>\n",
       "      <td>3</td>\n",
       "      <td>310.0</td>\n",
       "      <td>0.49291</td>\n",
       "      <td>2016_12_11__14_51_38_788</td>\n",
       "      <td>3</td>\n",
       "      <td>T</td>\n",
       "      <td>0</td>\n",
       "      <td>5</td>\n",
       "      <td>Beesilver1_11Dec2016_Hive5_initial</td>\n",
       "      <td>2016_12_11__14_51_38_788_220_450_test.txt</td>\n",
       "      <td>1</td>\n",
       "      <td>silver</td>\n",
       "      <td>2016-12-11 14:51:38.788000</td>\n",
       "      <td>220</td>\n",
       "      <td>450</td>\n",
       "    </tr>\n",
       "    <tr>\n",
       "      <th>3</th>\n",
       "      <td>4</td>\n",
       "      <td>310.0</td>\n",
       "      <td>0.55911</td>\n",
       "      <td>2016_12_11__14_51_39_641</td>\n",
       "      <td>4</td>\n",
       "      <td>T</td>\n",
       "      <td>0</td>\n",
       "      <td>5</td>\n",
       "      <td>Beesilver1_11Dec2016_Hive5_initial</td>\n",
       "      <td>2016_12_11__14_51_39_641_220_450_test.txt</td>\n",
       "      <td>1</td>\n",
       "      <td>silver</td>\n",
       "      <td>2016-12-11 14:51:39.641000</td>\n",
       "      <td>220</td>\n",
       "      <td>450</td>\n",
       "    </tr>\n",
       "    <tr>\n",
       "      <th>4</th>\n",
       "      <td>5</td>\n",
       "      <td>350.0</td>\n",
       "      <td>0.30275</td>\n",
       "      <td>2016_12_11__14_51_41_043</td>\n",
       "      <td>5</td>\n",
       "      <td>T</td>\n",
       "      <td>0</td>\n",
       "      <td>5</td>\n",
       "      <td>Beesilver1_11Dec2016_Hive5_initial</td>\n",
       "      <td>2016_12_11__14_51_41_043_220_450_test.txt</td>\n",
       "      <td>1</td>\n",
       "      <td>silver</td>\n",
       "      <td>2016-12-11 14:51:41.043000</td>\n",
       "      <td>220</td>\n",
       "      <td>450</td>\n",
       "    </tr>\n",
       "  </tbody>\n",
       "</table>\n",
       "</div>"
      ],
      "text/plain": [
       "   index   freq      amp                   datetime  rewNum rewTF  lowRewAmp  \\\n",
       "0      1  340.0  0.69799   2016_12_11__14_51_35_856       1     T          0   \n",
       "1      2  290.0  0.31249   2016_12_11__14_51_37_400       2     T          0   \n",
       "2      3  310.0  0.49291   2016_12_11__14_51_38_788       3     T          0   \n",
       "3      4  310.0  0.55911   2016_12_11__14_51_39_641       4     T          0   \n",
       "4      5  350.0  0.30275   2016_12_11__14_51_41_043       5     T          0   \n",
       "\n",
       "   highrewAmp                           BeeNumCol  \\\n",
       "0           5  Beesilver1_11Dec2016_Hive5_initial   \n",
       "1           5  Beesilver1_11Dec2016_Hive5_initial   \n",
       "2           5  Beesilver1_11Dec2016_Hive5_initial   \n",
       "3           5  Beesilver1_11Dec2016_Hive5_initial   \n",
       "4           5  Beesilver1_11Dec2016_Hive5_initial   \n",
       "\n",
       "                                     accFile trialNum  beeCol  \\\n",
       "0  2016_12_11__14_51_35_856_220_450_test.txt        1  silver   \n",
       "1  2016_12_11__14_51_37_400_220_450_test.txt        1  silver   \n",
       "2  2016_12_11__14_51_38_788_220_450_test.txt        1  silver   \n",
       "3  2016_12_11__14_51_39_641_220_450_test.txt        1  silver   \n",
       "4  2016_12_11__14_51_41_043_220_450_test.txt        1  silver   \n",
       "\n",
       "                 datetime_str lowFrq highFrq  \n",
       "0  2016-12-11 14:51:35.856000    220     450  \n",
       "1  2016-12-11 14:51:37.400000    220     450  \n",
       "2  2016-12-11 14:51:38.788000    220     450  \n",
       "3  2016-12-11 14:51:39.641000    220     450  \n",
       "4  2016-12-11 14:51:41.043000    220     450  "
      ]
     },
     "execution_count": 159,
     "metadata": {},
     "output_type": "execute_result"
    }
   ],
   "source": [
    "big_frame2 = pd.concat([big_frame, rewDF], axis  = 1)\n",
    "big_frame2.head()"
   ]
  },
  {
   "cell_type": "code",
   "execution_count": 160,
   "metadata": {
    "collapsed": true
   },
   "outputs": [],
   "source": [
    "#big_frame2.to_csv('/Users/cswitzer/Dropbox/SonicationLearningManuscript/Data/freqLearn2_updated.csv', header = True, index = False)"
   ]
  },
  {
   "cell_type": "code",
   "execution_count": null,
   "metadata": {
    "collapsed": true
   },
   "outputs": [],
   "source": []
  }
 ],
 "metadata": {
  "anaconda-cloud": {},
  "kernelspec": {
   "display_name": "Python 2",
   "language": "python",
   "name": "python2"
  },
  "language_info": {
   "codemirror_mode": {
    "name": "ipython",
    "version": 2
   },
   "file_extension": ".py",
   "mimetype": "text/x-python",
   "name": "python",
   "nbconvert_exporter": "python",
   "pygments_lexer": "ipython2",
   "version": "2.7.13"
  }
 },
 "nbformat": 4,
 "nbformat_minor": 1
}
