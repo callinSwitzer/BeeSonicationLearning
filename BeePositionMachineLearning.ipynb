{
 "cells": [
  {
   "cell_type": "code",
   "execution_count": 2,
   "metadata": {
    "collapsed": false
   },
   "outputs": [
    {
     "name": "stderr",
     "output_type": "stream",
     "text": [
      "/Users/callinswitzer/anaconda/lib/python2.7/site-packages/matplotlib/font_manager.py:273: UserWarning: Matplotlib is building the font cache using fc-list. This may take a moment.\n",
      "  warnings.warn('Matplotlib is building the font cache using fc-list. This may take a moment.')\n"
     ]
    }
   ],
   "source": [
    "import cv2\n",
    "import numpy as np\n",
    "import matplotlib\n",
    "matplotlib.use(\"TkAgg\") # have to use this for tkinter to  work below\n",
    "from matplotlib import pyplot as plt\n",
    "%matplotlib tk\n",
    "\n",
    "# scikit image\n",
    "import skimage\n",
    "from skimage import io\n",
    "\n",
    "import os\n",
    "import pandas as pd\n",
    "import time\n",
    "\n",
    "from datetime import datetime\n",
    "import shutil"
   ]
  },
  {
   "cell_type": "code",
   "execution_count": 3,
   "metadata": {
    "collapsed": true
   },
   "outputs": [],
   "source": [
    "os.chdir(\"/Users/callinswitzer/Desktop/CompressedBeeFrequencyLearning\")"
   ]
  },
  {
   "cell_type": "code",
   "execution_count": 8,
   "metadata": {
    "collapsed": false
   },
   "outputs": [
    {
     "data": {
      "text/plain": [
       "['/Users/callinswitzer/Desktop/CompressedBeeFrequencyLearning/BeeBlue2_28Nov2016_Hive4_high_compressed/BeeBlue2_28Nov2016_Hive4_high_compressed.mp4',\n",
       " '/Users/callinswitzer/Desktop/CompressedBeeFrequencyLearning/BeeBlue3_28Nov2016_Hive4_high_compressed/BeeBlue3_28Nov2016_Hive4_high_compressed.mp4',\n",
       " '/Users/callinswitzer/Desktop/CompressedBeeFrequencyLearning/BeeBlue4_28Nov2016_Hive4_high_compressed/BeeBlue4_28Nov2016_Hive4_high_compressed.mp4',\n",
       " '/Users/callinswitzer/Desktop/CompressedBeeFrequencyLearning/BeeBlue5_28Nov2016_Hive4_high_compressed/BeeBlue5_28Nov2016_Hive4_high_compressed.mp4',\n",
       " '/Users/callinswitzer/Desktop/CompressedBeeFrequencyLearning/BeeBlue6_28Nov2016_Hive4_high_compressed/BeeBlue6_28Nov2016_Hive4_high_compressed.mp4',\n",
       " '/Users/callinswitzer/Desktop/CompressedBeeFrequencyLearning/BeeBlue7_28Nov2016_Hive4_high_compressed/BeeBlue7_28Nov2016_Hive4_high_compressed.mp4',\n",
       " '/Users/callinswitzer/Desktop/CompressedBeeFrequencyLearning/Beeblue8_29Nov2016_Hive4_high_compressed/Beeblue8_29Nov2016_Hive4_high_compressed.mp4',\n",
       " '/Users/callinswitzer/Desktop/CompressedBeeFrequencyLearning/BeeBlue_22Nov2016_Hive4_initial_compressed/BeeBlue_22Nov2016_Hive4_initial_compressed.mp4',\n",
       " '/Users/callinswitzer/Desktop/CompressedBeeFrequencyLearning/Beegold1_29Nov2016_Hive3_initial_compressed/Beegold1_29Nov2016_Hive3_initial_compressed.mp4',\n",
       " '/Users/callinswitzer/Desktop/CompressedBeeFrequencyLearning/Beegoldred_02Dec2016_Hive4_initial_compressed/Beegoldred_02Dec2016_Hive4_initial_compressed.mp4',\n",
       " '/Users/callinswitzer/Desktop/CompressedBeeFrequencyLearning/Beegreen1_29Nov2016_Hive4_initial_compressed/Beegreen1_29Nov2016_Hive4_initial_compressed.mp4',\n",
       " '/Users/callinswitzer/Desktop/CompressedBeeFrequencyLearning/Beegreen2_02Dec2016_Hive4_initial_compressed/Beegreen2_02Dec2016_Hive4_initial_compressed.mp4',\n",
       " '/Users/callinswitzer/Desktop/CompressedBeeFrequencyLearning/Beelime1_12Dec2016_Hive5_initial_compressed/Beelime1_12Dec2016_Hive5_initial_compressed.mp4',\n",
       " '/Users/callinswitzer/Desktop/CompressedBeeFrequencyLearning/Beelimeblue10_16Dec2016_Hive5_initial_compressed/Beelimeblue10_16Dec2016_Hive5_initial_compressed.mp4',\n",
       " '/Users/callinswitzer/Desktop/CompressedBeeFrequencyLearning/Beelimeblue1_14Dec2016_Hive5_initial_compressed/Beelimeblue1_14Dec2016_Hive5_initial_compressed.mp4',\n",
       " '/Users/callinswitzer/Desktop/CompressedBeeFrequencyLearning/Beelimeblue2_14Dec2016_Hive5_initial_compressed/Beelimeblue2_14Dec2016_Hive5_initial_compressed.mp4',\n",
       " '/Users/callinswitzer/Desktop/CompressedBeeFrequencyLearning/Beelimeblue3_14Dec2016_Hive5_initial_compressed/Beelimeblue3_14Dec2016_Hive5_initial_compressed.mp4',\n",
       " '/Users/callinswitzer/Desktop/CompressedBeeFrequencyLearning/Beelimeblue4_15Dec2016_Hive5_initial_compressed/Beelimeblue4_15Dec2016_Hive5_initial_compressed.mp4',\n",
       " '/Users/callinswitzer/Desktop/CompressedBeeFrequencyLearning/Beelimeblue5_15Dec2016_Hive5_initial_compressed/Beelimeblue5_15Dec2016_Hive5_initial_compressed.mp4',\n",
       " '/Users/callinswitzer/Desktop/CompressedBeeFrequencyLearning/Beelimeblue6_15Dec2016_Hive5_initial_compressed/Beelimeblue6_15Dec2016_Hive5_initial_compressed.mp4',\n",
       " '/Users/callinswitzer/Desktop/CompressedBeeFrequencyLearning/Beelimeblue7_15Dec2016_Hive5_initial_compressed/Beelimeblue7_15Dec2016_Hive5_initial_compressed.mp4',\n",
       " '/Users/callinswitzer/Desktop/CompressedBeeFrequencyLearning/Beelimeblue8_15Dec2016_Hive5_initial_compressed/Beelimeblue8_15Dec2016_Hive5_initial_compressed.mp4',\n",
       " '/Users/callinswitzer/Desktop/CompressedBeeFrequencyLearning/Beelimeblue9_15Dec2016_Hive5_initial_compressed/Beelimeblue9_15Dec2016_Hive5_initial_compressed.mp4',\n",
       " '/Users/callinswitzer/Desktop/CompressedBeeFrequencyLearning/Beelimegold1_18Dec2016_Hive5_initial_compressed/Beelimegold1_18Dec2016_Hive5_initial_compressed.mp4',\n",
       " '/Users/callinswitzer/Desktop/CompressedBeeFrequencyLearning/Beelimegold1_18Dec2016_Hive5_NoReward_compressed/Beelimegold1_18Dec2016_Hive5_NoReward_compressed.mp4',\n",
       " '/Users/callinswitzer/Desktop/CompressedBeeFrequencyLearning/Beelimegreen1_18Dec2016_Hive5_initial_compressed/Beelimegreen1_18Dec2016_Hive5_initial_compressed.mp4',\n",
       " '/Users/callinswitzer/Desktop/CompressedBeeFrequencyLearning/Beelimegreen1_18Dec2016_Hive5_NoReward_compressed/Beelimegreen1_18Dec2016_Hive5_NoReward_compressed.mp4',\n",
       " '/Users/callinswitzer/Desktop/CompressedBeeFrequencyLearning/Beelimeorange2_16Dec2016_Hive5_initial_compressed/Beelimeorange2_16Dec2016_Hive5_initial_compressed.mp4',\n",
       " '/Users/callinswitzer/Desktop/CompressedBeeFrequencyLearning/Beelimeorange2_18Dec2016_Hive5_initial_compressed/Beelimeorange2_18Dec2016_Hive5_initial_compressed.mp4',\n",
       " '/Users/callinswitzer/Desktop/CompressedBeeFrequencyLearning/Beelimeorange2_18Dec2016_Hive5_NoReward_compressed/Beelimeorange2_18Dec2016_Hive5_NoReward_compressed.mp4',\n",
       " '/Users/callinswitzer/Desktop/CompressedBeeFrequencyLearning/Beelimepink_18Dec2016_Hive5_initial_compressed/Beelimepink_18Dec2016_Hive5_initial_compressed.mp4',\n",
       " '/Users/callinswitzer/Desktop/CompressedBeeFrequencyLearning/Beelimepink_18Dec2016_Hive5_NoReward_compressed/Beelimepink_18Dec2016_Hive5_NoReward_compressed.mp4',\n",
       " '/Users/callinswitzer/Desktop/CompressedBeeFrequencyLearning/Beelimepurple1_14Dec2016_Hive5_initial_compressed/Beelimepurple1_14Dec2016_Hive5_initial_compressed.mp4',\n",
       " '/Users/callinswitzer/Desktop/CompressedBeeFrequencyLearning/Beelimepurple2_14Dec2016_Hive5_low_compressed/Beelimepurple2_14Dec2016_Hive5_low_compressed.mp4',\n",
       " '/Users/callinswitzer/Desktop/CompressedBeeFrequencyLearning/Beelimepurple3_18Dec2016_Hive5_initial_compressed/Beelimepurple3_18Dec2016_Hive5_initial_compressed.mp4',\n",
       " '/Users/callinswitzer/Desktop/CompressedBeeFrequencyLearning/Beelimepurple3_18Dec2016_Hive5_NoReward_compressed/Beelimepurple3_18Dec2016_Hive5_NoReward_compressed.mp4',\n",
       " '/Users/callinswitzer/Desktop/CompressedBeeFrequencyLearning/Beelimepurpleyellow1_16Dec2016_Hive5_initial_compressed/Beelimepurpleyellow1_16Dec2016_Hive5_initial_compressed.mp4',\n",
       " '/Users/callinswitzer/Desktop/CompressedBeeFrequencyLearning/Beelimered10_16Dec2016_Hive5_low_compressed/Beelimered10_16Dec2016_Hive5_low_compressed.mp4',\n",
       " '/Users/callinswitzer/Desktop/CompressedBeeFrequencyLearning/Beelimered11_16Dec2016_Hive5_low_compressed/Beelimered11_16Dec2016_Hive5_low_compressed.mp4',\n",
       " '/Users/callinswitzer/Desktop/CompressedBeeFrequencyLearning/Beelimered1_14Dec2016_Hive5_initial_compressed/Beelimered1_14Dec2016_Hive5_initial_compressed.mp4',\n",
       " '/Users/callinswitzer/Desktop/CompressedBeeFrequencyLearning/Beelimered2_14Dec2016_Hive5_low_compressed/Beelimered2_14Dec2016_Hive5_low_compressed.mp4',\n",
       " '/Users/callinswitzer/Desktop/CompressedBeeFrequencyLearning/Beelimered3_14Dec2016_Hive5_low_compressed/Beelimered3_14Dec2016_Hive5_low_compressed.mp4',\n",
       " '/Users/callinswitzer/Desktop/CompressedBeeFrequencyLearning/Beelimered4_14Dec2016_Hive5_low_compressed/Beelimered4_14Dec2016_Hive5_low_compressed.mp4',\n",
       " '/Users/callinswitzer/Desktop/CompressedBeeFrequencyLearning/Beelimered5_14Dec2016_Hive5_low_compressed/Beelimered5_14Dec2016_Hive5_low_compressed.mp4',\n",
       " '/Users/callinswitzer/Desktop/CompressedBeeFrequencyLearning/Beelimered6_14Dec2016_Hive5_low_compressed/Beelimered6_14Dec2016_Hive5_low_compressed.mp4',\n",
       " '/Users/callinswitzer/Desktop/CompressedBeeFrequencyLearning/Beelimered7_14Dec2016_Hive5_low_compressed/Beelimered7_14Dec2016_Hive5_low_compressed.mp4',\n",
       " '/Users/callinswitzer/Desktop/CompressedBeeFrequencyLearning/Beelimered8_15Dec2016_Hive5_low_compressed/Beelimered8_15Dec2016_Hive5_low_compressed.mp4',\n",
       " '/Users/callinswitzer/Desktop/CompressedBeeFrequencyLearning/Beelimered9_15Dec2016_Hive5_low_compressed/Beelimered9_15Dec2016_Hive5_low_compressed.mp4',\n",
       " '/Users/callinswitzer/Desktop/CompressedBeeFrequencyLearning/Beelimesilver1_14Dec2016_Hive5_initial_compressed/Beelimesilver1_14Dec2016_Hive5_initial_compressed.mp4',\n",
       " '/Users/callinswitzer/Desktop/CompressedBeeFrequencyLearning/Beelimewhite1_15Dec2016_Hive5_initial_compressed/Beelimewhite1_15Dec2016_Hive5_initial_compressed.mp4',\n",
       " '/Users/callinswitzer/Desktop/CompressedBeeFrequencyLearning/Beelimewhite2_18Dec2016_Hive5_initial_compressed/Beelimewhite2_18Dec2016_Hive5_initial_compressed.mp4',\n",
       " '/Users/callinswitzer/Desktop/CompressedBeeFrequencyLearning/Beelimewhite2_18Dec2016_Hive5_NoReward_compressed/Beelimewhite2_18Dec2016_Hive5_NoReward_compressed.mp4',\n",
       " '/Users/callinswitzer/Desktop/CompressedBeeFrequencyLearning/Beelimeyellow1_18Dec2016_Hive5_initial_compressed/Beelimeyellow1_18Dec2016_Hive5_initial_compressed.mp4',\n",
       " '/Users/callinswitzer/Desktop/CompressedBeeFrequencyLearning/Beelimeyellow1_18Dec2016_Hive5_NoReward_compressed/Beelimeyellow1_18Dec2016_Hive5_NoReward_compressed.mp4',\n",
       " '/Users/callinswitzer/Desktop/CompressedBeeFrequencyLearning/BeeOrange3_28Nov2016_Hive3_low_compressed/BeeOrange3_28Nov2016_Hive3_low_compressed.mp4',\n",
       " '/Users/callinswitzer/Desktop/CompressedBeeFrequencyLearning/Beeorange4_30Nov2016_Hive3_low_compressed/Beeorange4_30Nov2016_Hive3_low_compressed.mp4',\n",
       " '/Users/callinswitzer/Desktop/CompressedBeeFrequencyLearning/Beeorange5_30Nov2016_Hive3_low_compressed/Beeorange5_30Nov2016_Hive3_low_compressed.mp4',\n",
       " '/Users/callinswitzer/Desktop/CompressedBeeFrequencyLearning/Beeorange6_02Dec2016_Hive3_high_compressed/Beeorange6_02Dec2016_Hive3_high_compressed.mp4',\n",
       " '/Users/callinswitzer/Desktop/CompressedBeeFrequencyLearning/Beeorange7_09Dec2016_Hive3_high_compressed/Beeorange7_09Dec2016_Hive3_high_compressed.mp4',\n",
       " '/Users/callinswitzer/Desktop/CompressedBeeFrequencyLearning/Beeorange8_09Dec2016_Hive3_high_compressed/Beeorange8_09Dec2016_Hive3_high_compressed.mp4',\n",
       " '/Users/callinswitzer/Desktop/CompressedBeeFrequencyLearning/Beeorange_18Dec2016_Hive5_initial_compressed/Beeorange_18Dec2016_Hive5_initial_compressed.mp4',\n",
       " '/Users/callinswitzer/Desktop/CompressedBeeFrequencyLearning/Beeorange_18Dec2016_Hive5_NoReward_compressed/Beeorange_18Dec2016_Hive5_NoReward_compressed.mp4',\n",
       " '/Users/callinswitzer/Desktop/CompressedBeeFrequencyLearning/BeeOrange_28Nov2016_Hive3_initial_compressed/BeeOrange_28Nov2016_Hive3_initial_compressed.mp4',\n",
       " '/Users/callinswitzer/Desktop/CompressedBeeFrequencyLearning/BeeOrange_28Nov2016_Hive3_low_compressed/BeeOrange_28Nov2016_Hive3_low_compressed.mp4',\n",
       " '/Users/callinswitzer/Desktop/CompressedBeeFrequencyLearning/Beeorangeblue1_18Dec2016_Hive5_initial_compressed/Beeorangeblue1_18Dec2016_Hive5_initial_compressed.mp4',\n",
       " '/Users/callinswitzer/Desktop/CompressedBeeFrequencyLearning/Beeorangeblue1_18Dec2016_Hive5_NoReward_compressed/Beeorangeblue1_18Dec2016_Hive5_NoReward_compressed.mp4',\n",
       " '/Users/callinswitzer/Desktop/CompressedBeeFrequencyLearning/Beeorangegreen1_18Dec2016_Hive5_initital_compressed/Beeorangegreen1_18Dec2016_Hive5_initital_compressed.mp4',\n",
       " '/Users/callinswitzer/Desktop/CompressedBeeFrequencyLearning/Beeorangegreen1_18Dec2016_Hive5_NoReward_compressed/Beeorangegreen1_18Dec2016_Hive5_NoReward_compressed.mp4',\n",
       " '/Users/callinswitzer/Desktop/CompressedBeeFrequencyLearning/Beeorangepink1_18Dec2016_Hive5_initial_compressed/Beeorangepink1_18Dec2016_Hive5_initial_compressed.mp4',\n",
       " '/Users/callinswitzer/Desktop/CompressedBeeFrequencyLearning/Beeorangepink1_18Dec2016_Hive5_NoReward_compressed/Beeorangepink1_18Dec2016_Hive5_NoReward_compressed.mp4',\n",
       " '/Users/callinswitzer/Desktop/CompressedBeeFrequencyLearning/Beeorangepurple1_18Dec2016_Hive5_initial_compressed/Beeorangepurple1_18Dec2016_Hive5_initial_compressed.mp4',\n",
       " '/Users/callinswitzer/Desktop/CompressedBeeFrequencyLearning/Beeorangepurple1_18Dec2016_Hive5_NoReward_compressed/Beeorangepurple1_18Dec2016_Hive5_NoReward_compressed.mp4',\n",
       " '/Users/callinswitzer/Desktop/CompressedBeeFrequencyLearning/BeePink_21Nov2016_Hive4_high_compressed/BeePink_21Nov2016_Hive4_high_compressed.mp4',\n",
       " '/Users/callinswitzer/Desktop/CompressedBeeFrequencyLearning/Beepurple1_30Nov2016_Hive3_initial_compressed/Beepurple1_30Nov2016_Hive3_initial_compressed.mp4',\n",
       " '/Users/callinswitzer/Desktop/CompressedBeeFrequencyLearning/Beeredblue10_02Dec2016_Hive4_initial_compressed/Beeredblue10_02Dec2016_Hive4_initial_compressed.mp4',\n",
       " '/Users/callinswitzer/Desktop/CompressedBeeFrequencyLearning/Beeredblue11_02Dec2016_Hive4_initial_compressed/Beeredblue11_02Dec2016_Hive4_initial_compressed.mp4',\n",
       " '/Users/callinswitzer/Desktop/CompressedBeeFrequencyLearning/Beeredblue1_29Nov2016_Hive4_initial_compressed/Beeredblue1_29Nov2016_Hive4_initial_compressed.mp4',\n",
       " '/Users/callinswitzer/Desktop/CompressedBeeFrequencyLearning/Beeredblue2_29Nov2016_Hive4_initial_compressed/Beeredblue2_29Nov2016_Hive4_initial_compressed.mp4',\n",
       " '/Users/callinswitzer/Desktop/CompressedBeeFrequencyLearning/Beeredblue3_29Nov2016_Hive4_initial_compressed/Beeredblue3_29Nov2016_Hive4_initial_compressed.mp4',\n",
       " '/Users/callinswitzer/Desktop/CompressedBeeFrequencyLearning/Beeredblue4_29Nov2016_Hive4_initial_compressed/Beeredblue4_29Nov2016_Hive4_initial_compressed.mp4',\n",
       " '/Users/callinswitzer/Desktop/CompressedBeeFrequencyLearning/Beeredblue5_29Nov2016_Hive4_initial_compressed/Beeredblue5_29Nov2016_Hive4_initial_compressed.mp4',\n",
       " '/Users/callinswitzer/Desktop/CompressedBeeFrequencyLearning/Beeredblue6_30Nov2016_Hive4_initial_compressed/Beeredblue6_30Nov2016_Hive4_initial_compressed.mp4',\n",
       " '/Users/callinswitzer/Desktop/CompressedBeeFrequencyLearning/Beeredblue7_30Nov2016_Hive4_initial_compressed/Beeredblue7_30Nov2016_Hive4_initial_compressed.mp4',\n",
       " '/Users/callinswitzer/Desktop/CompressedBeeFrequencyLearning/Beeredblue8_30Nov2016_Hive4_initial_compressed/Beeredblue8_30Nov2016_Hive4_initial_compressed.mp4',\n",
       " '/Users/callinswitzer/Desktop/CompressedBeeFrequencyLearning/Beeredblue9_30Nov2016_Hive4_initial_compressed/Beeredblue9_30Nov2016_Hive4_initial_compressed.mp4',\n",
       " '/Users/callinswitzer/Desktop/CompressedBeeFrequencyLearning/Beeredgreen10_11Dec2016_Hive5_initial_compressed/Beeredgreen10_11Dec2016_Hive5_initial_compressed.mp4',\n",
       " '/Users/callinswitzer/Desktop/CompressedBeeFrequencyLearning/Beeredgreen1_10Dec2016_Hive5_initial_compressed/Beeredgreen1_10Dec2016_Hive5_initial_compressed.mp4',\n",
       " '/Users/callinswitzer/Desktop/CompressedBeeFrequencyLearning/Beeredgreen2_10Dec2016_Hive5_initial_compressed/Beeredgreen2_10Dec2016_Hive5_initial_compressed.mp4',\n",
       " '/Users/callinswitzer/Desktop/CompressedBeeFrequencyLearning/Beeredgreen3_10Dec2016_Hive5_initial_compressed/Beeredgreen3_10Dec2016_Hive5_initial_compressed.mp4',\n",
       " '/Users/callinswitzer/Desktop/CompressedBeeFrequencyLearning/Beeredgreen4_10Dec2016_Hive5_initial_compressed/Beeredgreen4_10Dec2016_Hive5_initial_compressed.mp4',\n",
       " '/Users/callinswitzer/Desktop/CompressedBeeFrequencyLearning/Beeredgreen5_11Dec2016_Hive5_initial_compressed/Beeredgreen5_11Dec2016_Hive5_initial_compressed.mp4',\n",
       " '/Users/callinswitzer/Desktop/CompressedBeeFrequencyLearning/Beeredgreen6_11Dec2016_Hive5_initial_compressed/Beeredgreen6_11Dec2016_Hive5_initial_compressed.mp4',\n",
       " '/Users/callinswitzer/Desktop/CompressedBeeFrequencyLearning/Beeredgreen7_11Dec2016_Hive5_initial_compressed/Beeredgreen7_11Dec2016_Hive5_initial_compressed.mp4',\n",
       " '/Users/callinswitzer/Desktop/CompressedBeeFrequencyLearning/Beeredgreen8_11Dec2016_Hive5_initial_compressed/Beeredgreen8_11Dec2016_Hive5_initial_compressed.mp4',\n",
       " '/Users/callinswitzer/Desktop/CompressedBeeFrequencyLearning/Beeredgreen9_11Dec2016_Hive5_initial_compressed/Beeredgreen9_11Dec2016_Hive5_initial_compressed.mp4',\n",
       " '/Users/callinswitzer/Desktop/CompressedBeeFrequencyLearning/Beeredpink10_14Dec2016_Hive5_low_compressed/Beeredpink10_14Dec2016_Hive5_low_compressed.mp4',\n",
       " '/Users/callinswitzer/Desktop/CompressedBeeFrequencyLearning/Beeredpink1_10Dec2016_Hive5_initial_compressed/Beeredpink1_10Dec2016_Hive5_initial_compressed.mp4',\n",
       " '/Users/callinswitzer/Desktop/CompressedBeeFrequencyLearning/Beeredpink2_11Dec2016_Hive5_low_compressed/Beeredpink2_11Dec2016_Hive5_low_compressed.mp4',\n",
       " '/Users/callinswitzer/Desktop/CompressedBeeFrequencyLearning/Beeredpink3_11Dec2016_Hive5_low_compressed/Beeredpink3_11Dec2016_Hive5_low_compressed.mp4',\n",
       " '/Users/callinswitzer/Desktop/CompressedBeeFrequencyLearning/Beeredpink4_11Dec2016_Hive5_low_compressed/Beeredpink4_11Dec2016_Hive5_low_compressed.mp4',\n",
       " '/Users/callinswitzer/Desktop/CompressedBeeFrequencyLearning/Beeredpink5_11Dec2016_Hive5_low_compressed/Beeredpink5_11Dec2016_Hive5_low_compressed.mp4',\n",
       " '/Users/callinswitzer/Desktop/CompressedBeeFrequencyLearning/Beeredpink6_12Dec2016_Hive5_low_compressed/Beeredpink6_12Dec2016_Hive5_low_compressed.mp4',\n",
       " '/Users/callinswitzer/Desktop/CompressedBeeFrequencyLearning/Beeredpink7_12Dec2016_Hive5_low_compressed/Beeredpink7_12Dec2016_Hive5_low_compressed.mp4',\n",
       " '/Users/callinswitzer/Desktop/CompressedBeeFrequencyLearning/Beeredpink8_12Dec2016_Hive5_low_compressed/Beeredpink8_12Dec2016_Hive5_low_compressed.mp4',\n",
       " '/Users/callinswitzer/Desktop/CompressedBeeFrequencyLearning/Beeredpink9_12Dec2016_Hive5_low_compressed/Beeredpink9_12Dec2016_Hive5_low_compressed.mp4',\n",
       " '/Users/callinswitzer/Desktop/CompressedBeeFrequencyLearning/Beeredpurple1_11Dec2016_Hive5_initial_compressed/Beeredpurple1_11Dec2016_Hive5_initial_compressed.mp4',\n",
       " '/Users/callinswitzer/Desktop/CompressedBeeFrequencyLearning/Beeredpurple2_14Dec2016_Hive5_high_compressed/Beeredpurple2_14Dec2016_Hive5_high_compressed.mp4',\n",
       " '/Users/callinswitzer/Desktop/CompressedBeeFrequencyLearning/Beeredpurple3_16Dec2016_Hive5_high_compressed/Beeredpurple3_16Dec2016_Hive5_high_compressed.mp4',\n",
       " '/Users/callinswitzer/Desktop/CompressedBeeFrequencyLearning/Beesilver1_11Dec2016_Hive5_initial_compressed/Beesilver1_11Dec2016_Hive5_initial_compressed.mp4',\n",
       " '/Users/callinswitzer/Desktop/CompressedBeeFrequencyLearning/BeeTESTTESTPHOTO_04Dec2016_Hive5_initial_compressed/BeeTESTTESTPHOTO_04Dec2016_Hive5_initial_compressed.mp4',\n",
       " '/Users/callinswitzer/Desktop/CompressedBeeFrequencyLearning/Beewhite1_29Nov2016_Hive4_initial_compressed/Beewhite1_29Nov2016_Hive4_initial_compressed.mp4',\n",
       " '/Users/callinswitzer/Desktop/CompressedBeeFrequencyLearning/Beewhite2_29Nov2016_Hive4_initial_compressed/Beewhite2_29Nov2016_Hive4_initial_compressed.mp4',\n",
       " '/Users/callinswitzer/Desktop/CompressedBeeFrequencyLearning/Beewhite3_29Nov2016_Hive4_initial_compressed/Beewhite3_29Nov2016_Hive4_initial_compressed.mp4',\n",
       " '/Users/callinswitzer/Desktop/CompressedBeeFrequencyLearning/Beewhite4_29Nov2016_Hive4_initial_compressed/Beewhite4_29Nov2016_Hive4_initial_compressed.mp4',\n",
       " '/Users/callinswitzer/Desktop/CompressedBeeFrequencyLearning/Beewhite5_30Nov2016_Hive4_initial_compressed/Beewhite5_30Nov2016_Hive4_initial_compressed.mp4',\n",
       " '/Users/callinswitzer/Desktop/CompressedBeeFrequencyLearning/Beewhite6_02Dec2016_Hive4_initial_compressed/Beewhite6_02Dec2016_Hive4_initial_compressed.mp4',\n",
       " '/Users/callinswitzer/Desktop/CompressedBeeFrequencyLearning/Beewhiteblue10_11Dec2016_Hive5_low_compressed/Beewhiteblue10_11Dec2016_Hive5_low_compressed.mp4',\n",
       " '/Users/callinswitzer/Desktop/CompressedBeeFrequencyLearning/Beewhiteblue11_12Dec2016_Hive5_low_compressed/Beewhiteblue11_12Dec2016_Hive5_low_compressed.mp4',\n",
       " '/Users/callinswitzer/Desktop/CompressedBeeFrequencyLearning/Beewhiteblue1_06Dec2016_Hive5_initial_compressed/Beewhiteblue1_06Dec2016_Hive5_initial_compressed.mp4',\n",
       " '/Users/callinswitzer/Desktop/CompressedBeeFrequencyLearning/Beewhiteblue2_06Dec2016_Hive5_low_compressed/Beewhiteblue2_06Dec2016_Hive5_low_compressed.mp4',\n",
       " '/Users/callinswitzer/Desktop/CompressedBeeFrequencyLearning/Beewhiteblue3_07Dec2016_Hive5_low_compressed/Beewhiteblue3_07Dec2016_Hive5_low_compressed.mp4',\n",
       " '/Users/callinswitzer/Desktop/CompressedBeeFrequencyLearning/Beewhiteblue4_07Dec2016_Hive5_low_compressed/Beewhiteblue4_07Dec2016_Hive5_low_compressed.mp4',\n",
       " '/Users/callinswitzer/Desktop/CompressedBeeFrequencyLearning/Beewhiteblue5_10Dec2016_Hive5_low_compressed/Beewhiteblue5_10Dec2016_Hive5_low_compressed.mp4',\n",
       " '/Users/callinswitzer/Desktop/CompressedBeeFrequencyLearning/Beewhiteblue6_10Dec2016_Hive5_low_compressed/Beewhiteblue6_10Dec2016_Hive5_low_compressed.mp4',\n",
       " '/Users/callinswitzer/Desktop/CompressedBeeFrequencyLearning/Beewhiteblue7_10Dec2016_Hive5_low_compressed/Beewhiteblue7_10Dec2016_Hive5_low_compressed.mp4',\n",
       " '/Users/callinswitzer/Desktop/CompressedBeeFrequencyLearning/Beewhiteblue8_11Dec2016_Hive5_low_compressed/Beewhiteblue8_11Dec2016_Hive5_low_compressed.mp4',\n",
       " '/Users/callinswitzer/Desktop/CompressedBeeFrequencyLearning/Beewhiteblue9_11Dec2016_Hive5_low_compressed/Beewhiteblue9_11Dec2016_Hive5_low_compressed.mp4',\n",
       " '/Users/callinswitzer/Desktop/CompressedBeeFrequencyLearning/Beewhitegold10_16Dec2016_Hive5_low_compressed/Beewhitegold10_16Dec2016_Hive5_low_compressed.mp4',\n",
       " '/Users/callinswitzer/Desktop/CompressedBeeFrequencyLearning/Beewhitegold1_04Dec2016_Hive5_initial_compressed/Beewhitegold1_04Dec2016_Hive5_initial_compressed.mp4',\n",
       " '/Users/callinswitzer/Desktop/CompressedBeeFrequencyLearning/Beewhitegold2_04Dec2016_Hive5_initial_compressed/Beewhitegold2_04Dec2016_Hive5_initial_compressed.mp4',\n",
       " '/Users/callinswitzer/Desktop/CompressedBeeFrequencyLearning/Beewhitegold3_06Dec2016_Hive5_low_compressed/Beewhitegold3_06Dec2016_Hive5_low_compressed.mp4',\n",
       " '/Users/callinswitzer/Desktop/CompressedBeeFrequencyLearning/Beewhitegold4_07Dec2016_Hive5_low_compressed/Beewhitegold4_07Dec2016_Hive5_low_compressed.mp4',\n",
       " '/Users/callinswitzer/Desktop/CompressedBeeFrequencyLearning/Beewhitegold5_07Dec2016_Hive5_low_compressed/Beewhitegold5_07Dec2016_Hive5_low_compressed.mp4',\n",
       " '/Users/callinswitzer/Desktop/CompressedBeeFrequencyLearning/Beewhitegold6_10Dec2016_Hive5_low_compressed/Beewhitegold6_10Dec2016_Hive5_low_compressed.mp4',\n",
       " '/Users/callinswitzer/Desktop/CompressedBeeFrequencyLearning/Beewhitegold7_10Dec2016_Hive5_low_compressed/Beewhitegold7_10Dec2016_Hive5_low_compressed.mp4',\n",
       " '/Users/callinswitzer/Desktop/CompressedBeeFrequencyLearning/Beewhitegold8_11Dec2016_Hive5_low_compressed/Beewhitegold8_11Dec2016_Hive5_low_compressed.mp4',\n",
       " '/Users/callinswitzer/Desktop/CompressedBeeFrequencyLearning/Beewhitegold9_11Dec2016_Hive5_low_compressed/Beewhitegold9_11Dec2016_Hive5_low_compressed.mp4',\n",
       " '/Users/callinswitzer/Desktop/CompressedBeeFrequencyLearning/Beewhitegreen1_02Dec2016_Hive4_initial_compressed/Beewhitegreen1_02Dec2016_Hive4_initial_compressed.mp4',\n",
       " '/Users/callinswitzer/Desktop/CompressedBeeFrequencyLearning/Beewhiteorange1_04Dec2016_Hive5_initial_compressed/Beewhiteorange1_04Dec2016_Hive5_initial_compressed.mp4',\n",
       " '/Users/callinswitzer/Desktop/CompressedBeeFrequencyLearning/Beewhiteorange2_16Dec2016_Hive5_low_compressed/Beewhiteorange2_16Dec2016_Hive5_low_compressed.mp4',\n",
       " '/Users/callinswitzer/Desktop/CompressedBeeFrequencyLearning/Beewhiteorange3_16Dec2016_Hive5_low_compressed/Beewhiteorange3_16Dec2016_Hive5_low_compressed.mp4',\n",
       " '/Users/callinswitzer/Desktop/CompressedBeeFrequencyLearning/Beewhiteorange4_16Dec2016_Hive5_low_compressed/Beewhiteorange4_16Dec2016_Hive5_low_compressed.mp4',\n",
       " '/Users/callinswitzer/Desktop/CompressedBeeFrequencyLearning/Beewhitepink10_06Dec2016_Hive5_high_compressed/Beewhitepink10_06Dec2016_Hive5_high_compressed.mp4',\n",
       " '/Users/callinswitzer/Desktop/CompressedBeeFrequencyLearning/Beewhitepink11_09Dec2016_Hive5_high_compressed/Beewhitepink11_09Dec2016_Hive5_high_compressed.mp4',\n",
       " '/Users/callinswitzer/Desktop/CompressedBeeFrequencyLearning/Beewhitepink1_02Dec2016_Hive5_initial_compressed/Beewhitepink1_02Dec2016_Hive5_initial_compressed.mp4',\n",
       " '/Users/callinswitzer/Desktop/CompressedBeeFrequencyLearning/Beewhitepink2_02Dec2016_Hive5_high_compressed/Beewhitepink2_02Dec2016_Hive5_high_compressed.mp4',\n",
       " '/Users/callinswitzer/Desktop/CompressedBeeFrequencyLearning/Beewhitepink3_04Dec2016_Hive5_initial_compressed/Beewhitepink3_04Dec2016_Hive5_initial_compressed.mp4',\n",
       " '/Users/callinswitzer/Desktop/CompressedBeeFrequencyLearning/Beewhitepink4_04Dec2016_Hive5_initial_compressed/Beewhitepink4_04Dec2016_Hive5_initial_compressed.mp4',\n",
       " '/Users/callinswitzer/Desktop/CompressedBeeFrequencyLearning/Beewhitepink5_04Dec2016_Hive5_initial_compressed/Beewhitepink5_04Dec2016_Hive5_initial_compressed.mp4',\n",
       " '/Users/callinswitzer/Desktop/CompressedBeeFrequencyLearning/Beewhitepink6_04Dec2016_Hive5_initial_compressed/Beewhitepink6_04Dec2016_Hive5_initial_compressed.mp4',\n",
       " '/Users/callinswitzer/Desktop/CompressedBeeFrequencyLearning/Beewhitepink7_06Dec2016_Hive5_high_compressed/Beewhitepink7_06Dec2016_Hive5_high_compressed.mp4',\n",
       " '/Users/callinswitzer/Desktop/CompressedBeeFrequencyLearning/Beewhitepink8_06Dec2016_Hive5_high_compressed/Beewhitepink8_06Dec2016_Hive5_high_compressed.mp4',\n",
       " '/Users/callinswitzer/Desktop/CompressedBeeFrequencyLearning/Beewhitepink9_06Dec2016_Hive5_high_compressed/Beewhitepink9_06Dec2016_Hive5_high_compressed.mp4',\n",
       " '/Users/callinswitzer/Desktop/CompressedBeeFrequencyLearning/Beewhitepurple1_02Dec2016_Hive5_initial_compressed/Beewhitepurple1_02Dec2016_Hive5_initial_compressed.mp4',\n",
       " '/Users/callinswitzer/Desktop/CompressedBeeFrequencyLearning/Beewhitered10_15Dec2016_Hive5_high_compressed/Beewhitered10_15Dec2016_Hive5_high_compressed.mp4',\n",
       " '/Users/callinswitzer/Desktop/CompressedBeeFrequencyLearning/Beewhitered2_06Dec2016_Hive5_iniitial_compressed/Beewhitered2_06Dec2016_Hive5_iniitial_compressed.mp4',\n",
       " '/Users/callinswitzer/Desktop/CompressedBeeFrequencyLearning/Beewhitered3_07Dec2016_Hive5_high_compressed/Beewhitered3_07Dec2016_Hive5_high_compressed.mp4',\n",
       " '/Users/callinswitzer/Desktop/CompressedBeeFrequencyLearning/Beewhitered4_07Dec2016_Hive5_high_compressed/Beewhitered4_07Dec2016_Hive5_high_compressed.mp4',\n",
       " '/Users/callinswitzer/Desktop/CompressedBeeFrequencyLearning/Beewhitered5_07Dec2016_Hive5_high_compressed/Beewhitered5_07Dec2016_Hive5_high_compressed.mp4',\n",
       " '/Users/callinswitzer/Desktop/CompressedBeeFrequencyLearning/Beewhitered6_07Dec2016_Hive5_high_compressed/Beewhitered6_07Dec2016_Hive5_high_compressed.mp4',\n",
       " '/Users/callinswitzer/Desktop/CompressedBeeFrequencyLearning/Beewhitered7_09Dec2016_Hive5_high_compressed/Beewhitered7_09Dec2016_Hive5_high_compressed.mp4',\n",
       " '/Users/callinswitzer/Desktop/CompressedBeeFrequencyLearning/Beewhitered8_09Dec2016_Hive5_high_compressed/Beewhitered8_09Dec2016_Hive5_high_compressed.mp4',\n",
       " '/Users/callinswitzer/Desktop/CompressedBeeFrequencyLearning/Beewhitered9_15Dec2016_Hive5_high_compressed/Beewhitered9_15Dec2016_Hive5_high_compressed.mp4',\n",
       " '/Users/callinswitzer/Desktop/CompressedBeeFrequencyLearning/Beewhiteyellow1_04Dec2016_Hive5_initial_compressed/Beewhiteyellow1_04Dec2016_Hive5_initial_compressed.mp4',\n",
       " '/Users/callinswitzer/Desktop/CompressedBeeFrequencyLearning/Beewhiteyellow2_06Dec2016_Hive5_initial_compressed/Beewhiteyellow2_06Dec2016_Hive5_initial_compressed.mp4',\n",
       " '/Users/callinswitzer/Desktop/CompressedBeeFrequencyLearning/Beewhiteyellow3_12Dec2016_Hive5_initial_compressed/Beewhiteyellow3_12Dec2016_Hive5_initial_compressed.mp4',\n",
       " '/Users/callinswitzer/Desktop/CompressedBeeFrequencyLearning/Beewhitred1_06Dec2016_Hive5_initial_compressed/Beewhitred1_06Dec2016_Hive5_initial_compressed.mp4',\n",
       " '/Users/callinswitzer/Desktop/CompressedBeeFrequencyLearning/BeeYellow2_21Nov2016_Hive4_low_compressed/BeeYellow2_21Nov2016_Hive4_low_compressed.mp4',\n",
       " '/Users/callinswitzer/Desktop/CompressedBeeFrequencyLearning/BeeYellow4_28Nov2016_Hive4_low_compressed/BeeYellow4_28Nov2016_Hive4_low_compressed.mp4',\n",
       " '/Users/callinswitzer/Desktop/CompressedBeeFrequencyLearning/BeeYellow5_28Nov2016_Hive4_low_compressed/BeeYellow5_28Nov2016_Hive4_low_compressed.mp4',\n",
       " '/Users/callinswitzer/Desktop/CompressedBeeFrequencyLearning/BeeYellow6_28Nov2016_Hive4_low_compressed/BeeYellow6_28Nov2016_Hive4_low_compressed.mp4',\n",
       " '/Users/callinswitzer/Desktop/CompressedBeeFrequencyLearning/Beeyellow7_29Nov2016_Hive4_low_compressed/Beeyellow7_29Nov2016_Hive4_low_compressed.mp4',\n",
       " '/Users/callinswitzer/Desktop/CompressedBeeFrequencyLearning/BeeYellow_21Nov2016_Hive4_low_compressed/BeeYellow_21Nov2016_Hive4_low_compressed.mp4',\n",
       " '/Users/callinswitzer/Desktop/CompressedBeeFrequencyLearning/Beeyellowblue10_14Dec2016_Hive5_high_compressed/Beeyellowblue10_14Dec2016_Hive5_high_compressed.mp4',\n",
       " '/Users/callinswitzer/Desktop/CompressedBeeFrequencyLearning/Beeyellowblue11_15Dec2016_Hive5_high_compressed/Beeyellowblue11_15Dec2016_Hive5_high_compressed.mp4',\n",
       " '/Users/callinswitzer/Desktop/CompressedBeeFrequencyLearning/Beeyellowblue1_09Dec2016_Hive5_initial_compressed/Beeyellowblue1_09Dec2016_Hive5_initial_compressed.mp4',\n",
       " '/Users/callinswitzer/Desktop/CompressedBeeFrequencyLearning/Beeyellowblue2_10Dec2016_Hive5_high_compressed/Beeyellowblue2_10Dec2016_Hive5_high_compressed.mp4',\n",
       " '/Users/callinswitzer/Desktop/CompressedBeeFrequencyLearning/Beeyellowblue3_10Dec2016_Hive5_high_compressed/Beeyellowblue3_10Dec2016_Hive5_high_compressed.mp4',\n",
       " '/Users/callinswitzer/Desktop/CompressedBeeFrequencyLearning/Beeyellowblue4_10Dec2016_Hive5_high_compressed/Beeyellowblue4_10Dec2016_Hive5_high_compressed.mp4',\n",
       " '/Users/callinswitzer/Desktop/CompressedBeeFrequencyLearning/Beeyellowblue5_11Dec2016_Hive5_high_compressed/Beeyellowblue5_11Dec2016_Hive5_high_compressed.mp4',\n",
       " '/Users/callinswitzer/Desktop/CompressedBeeFrequencyLearning/Beeyellowblue6_11Dec2016_Hive5_high_compressed/Beeyellowblue6_11Dec2016_Hive5_high_compressed.mp4',\n",
       " '/Users/callinswitzer/Desktop/CompressedBeeFrequencyLearning/Beeyellowblue7_12Dec2016_Hive5_high_compressed/Beeyellowblue7_12Dec2016_Hive5_high_compressed.mp4',\n",
       " '/Users/callinswitzer/Desktop/CompressedBeeFrequencyLearning/Beeyellowblue8_14Dec2016_Hive5_high_compressed/Beeyellowblue8_14Dec2016_Hive5_high_compressed.mp4',\n",
       " '/Users/callinswitzer/Desktop/CompressedBeeFrequencyLearning/Beeyellowblue9_14Dec2016_Hive5_high_compressed/Beeyellowblue9_14Dec2016_Hive5_high_compressed.mp4',\n",
       " '/Users/callinswitzer/Desktop/CompressedBeeFrequencyLearning/Beeyellowgreen10_12Dec2016_Hive5_low_compressed/Beeyellowgreen10_12Dec2016_Hive5_low_compressed.mp4',\n",
       " '/Users/callinswitzer/Desktop/CompressedBeeFrequencyLearning/Beeyellowgreen1_07Dec2016_Hive5_initial_compressed/Beeyellowgreen1_07Dec2016_Hive5_initial_compressed.mp4',\n",
       " '/Users/callinswitzer/Desktop/CompressedBeeFrequencyLearning/Beeyellowgreen2_07Dec2016_Hive5_initial_compressed/Beeyellowgreen2_07Dec2016_Hive5_initial_compressed.mp4',\n",
       " '/Users/callinswitzer/Desktop/CompressedBeeFrequencyLearning/Beeyellowgreen3_09Dec2016_Hive5_initial_compressed/Beeyellowgreen3_09Dec2016_Hive5_initial_compressed.mp4',\n",
       " '/Users/callinswitzer/Desktop/CompressedBeeFrequencyLearning/Beeyellowgreen4_09Dec2016_Hive5_initial_compressed/Beeyellowgreen4_09Dec2016_Hive5_initial_compressed.mp4',\n",
       " '/Users/callinswitzer/Desktop/CompressedBeeFrequencyLearning/Beeyellowgreen5_09Dec2016_Hive5_initial_compressed/Beeyellowgreen5_09Dec2016_Hive5_initial_compressed.mp4',\n",
       " '/Users/callinswitzer/Desktop/CompressedBeeFrequencyLearning/Beeyellowgreen6_10Dec2016_Hive5_initial_compressed/Beeyellowgreen6_10Dec2016_Hive5_initial_compressed.mp4',\n",
       " '/Users/callinswitzer/Desktop/CompressedBeeFrequencyLearning/Beeyellowgreen7_10Dec2016_Hive5_initial_compressed/Beeyellowgreen7_10Dec2016_Hive5_initial_compressed.mp4',\n",
       " '/Users/callinswitzer/Desktop/CompressedBeeFrequencyLearning/Beeyellowgreen8_12Dec2016_Hive5_initial_compressed/Beeyellowgreen8_12Dec2016_Hive5_initial_compressed.mp4',\n",
       " '/Users/callinswitzer/Desktop/CompressedBeeFrequencyLearning/Beeyellowgreen9_12Dec2016_Hive5_initial_compressed/Beeyellowgreen9_12Dec2016_Hive5_initial_compressed.mp4',\n",
       " '/Users/callinswitzer/Desktop/CompressedBeeFrequencyLearning/Beeyelloworange10_11Dec2016_Hive5_high_compressed/Beeyelloworange10_11Dec2016_Hive5_high_compressed.mp4',\n",
       " '/Users/callinswitzer/Desktop/CompressedBeeFrequencyLearning/Beeyelloworange11_11Dec2016_Hive5_high_compressed/Beeyelloworange11_11Dec2016_Hive5_high_compressed.mp4',\n",
       " '/Users/callinswitzer/Desktop/CompressedBeeFrequencyLearning/Beeyelloworange1_09Dec2016_Hive5_initial_compressed/Beeyelloworange1_09Dec2016_Hive5_initial_compressed.mp4',\n",
       " '/Users/callinswitzer/Desktop/CompressedBeeFrequencyLearning/Beeyelloworange2_09Dec2016_Hive5_high_compressed/Beeyelloworange2_09Dec2016_Hive5_high_compressed.mp4',\n",
       " '/Users/callinswitzer/Desktop/CompressedBeeFrequencyLearning/Beeyelloworange3_09Dec2016_Hive5_high_compressed/Beeyelloworange3_09Dec2016_Hive5_high_compressed.mp4',\n",
       " '/Users/callinswitzer/Desktop/CompressedBeeFrequencyLearning/Beeyelloworange4_10Dec2016_Hive5_high_compressed/Beeyelloworange4_10Dec2016_Hive5_high_compressed.mp4',\n",
       " '/Users/callinswitzer/Desktop/CompressedBeeFrequencyLearning/Beeyelloworange5_10Dec2016_Hive5_high_compressed/Beeyelloworange5_10Dec2016_Hive5_high_compressed.mp4',\n",
       " '/Users/callinswitzer/Desktop/CompressedBeeFrequencyLearning/Beeyelloworange6_11Dec2016_Hive5_high_compressed/Beeyelloworange6_11Dec2016_Hive5_high_compressed.mp4',\n",
       " '/Users/callinswitzer/Desktop/CompressedBeeFrequencyLearning/Beeyelloworange7_11Dec2016_Hive5_high_compressed/Beeyelloworange7_11Dec2016_Hive5_high_compressed.mp4',\n",
       " '/Users/callinswitzer/Desktop/CompressedBeeFrequencyLearning/Beeyelloworange8_11Dec2016_Hive5_high_compressed/Beeyelloworange8_11Dec2016_Hive5_high_compressed.mp4',\n",
       " '/Users/callinswitzer/Desktop/CompressedBeeFrequencyLearning/Beeyelloworange9_11Dec2016_Hive5_high_compressed/Beeyelloworange9_11Dec2016_Hive5_high_compressed.mp4',\n",
       " '/Users/callinswitzer/Desktop/CompressedBeeFrequencyLearning/Beeyellowpink10_14Dec2016_Hive5_low_compressed/Beeyellowpink10_14Dec2016_Hive5_low_compressed.mp4',\n",
       " '/Users/callinswitzer/Desktop/CompressedBeeFrequencyLearning/Beeyellowpink11_15Dec2016_Hive5_low_compressed/Beeyellowpink11_15Dec2016_Hive5_low_compressed.mp4',\n",
       " '/Users/callinswitzer/Desktop/CompressedBeeFrequencyLearning/Beeyellowpink12_15Dec2016_Hive5_low_compressed/Beeyellowpink12_15Dec2016_Hive5_low_compressed.mp4',\n",
       " '/Users/callinswitzer/Desktop/CompressedBeeFrequencyLearning/Beeyellowpink1_09Dec2016_Hive5_initial_compressed/Beeyellowpink1_09Dec2016_Hive5_initial_compressed.mp4',\n",
       " '/Users/callinswitzer/Desktop/CompressedBeeFrequencyLearning/Beeyellowpink2_09Dec2016_Hive5_low_compressed/Beeyellowpink2_09Dec2016_Hive5_low_compressed.mp4',\n",
       " '/Users/callinswitzer/Desktop/CompressedBeeFrequencyLearning/Beeyellowpink3_11Dec2016_Hive5_low_compressed/Beeyellowpink3_11Dec2016_Hive5_low_compressed.mp4',\n",
       " '/Users/callinswitzer/Desktop/CompressedBeeFrequencyLearning/Beeyellowpink4_11Dec2016_Hive5_low_compressed/Beeyellowpink4_11Dec2016_Hive5_low_compressed.mp4',\n",
       " '/Users/callinswitzer/Desktop/CompressedBeeFrequencyLearning/Beeyellowpink5_12Dec2016_Hive5_low_compressed/Beeyellowpink5_12Dec2016_Hive5_low_compressed.mp4',\n",
       " '/Users/callinswitzer/Desktop/CompressedBeeFrequencyLearning/Beeyellowpink6_12Dec2016_Hive5_low_compressed/Beeyellowpink6_12Dec2016_Hive5_low_compressed.mp4',\n",
       " '/Users/callinswitzer/Desktop/CompressedBeeFrequencyLearning/Beeyellowpink7_12Dec2016_Hive5_low_compressed/Beeyellowpink7_12Dec2016_Hive5_low_compressed.mp4',\n",
       " '/Users/callinswitzer/Desktop/CompressedBeeFrequencyLearning/Beeyellowpink8_12Dec2016_Hive5_low_compressed/Beeyellowpink8_12Dec2016_Hive5_low_compressed.mp4',\n",
       " '/Users/callinswitzer/Desktop/CompressedBeeFrequencyLearning/Beeyellowpink9_12Dec2016_Hive5_low_compressed/Beeyellowpink9_12Dec2016_Hive5_low_compressed.mp4',\n",
       " '/Users/callinswitzer/Desktop/CompressedBeeFrequencyLearning/Beeyellowpurple1_07Dec2016_Hive5_initial_compressed/Beeyellowpurple1_07Dec2016_Hive5_initial_compressed.mp4',\n",
       " '/Users/callinswitzer/Desktop/CompressedBeeFrequencyLearning/Beeyellowpurple2_09Dec2016_Hive5_low_compressed/Beeyellowpurple2_09Dec2016_Hive5_low_compressed.mp4',\n",
       " '/Users/callinswitzer/Desktop/CompressedBeeFrequencyLearning/Beeyellowpurple3_09Dec2016_Hive5_low_compressed/Beeyellowpurple3_09Dec2016_Hive5_low_compressed.mp4',\n",
       " '/Users/callinswitzer/Desktop/CompressedBeeFrequencyLearning/Beeyellowpurple4_09Dec2016_Hive5_low_compressed/Beeyellowpurple4_09Dec2016_Hive5_low_compressed.mp4',\n",
       " '/Users/callinswitzer/Desktop/CompressedBeeFrequencyLearning/Beeyellowpurple5_09Dec2016_Hive5_low_compressed/Beeyellowpurple5_09Dec2016_Hive5_low_compressed.mp4',\n",
       " '/Users/callinswitzer/Desktop/CompressedBeeFrequencyLearning/Beeyellowred10_09Dec2016_Hive5_initial_compressed/Beeyellowred10_09Dec2016_Hive5_initial_compressed.mp4',\n",
       " '/Users/callinswitzer/Desktop/CompressedBeeFrequencyLearning/Beeyellowred1_06Dec2016_Hive5_iniitial_compressed/Beeyellowred1_06Dec2016_Hive5_iniitial_compressed.mp4',\n",
       " '/Users/callinswitzer/Desktop/CompressedBeeFrequencyLearning/Beeyellowred2_07Dec2016_Hive5_initial_compressed/Beeyellowred2_07Dec2016_Hive5_initial_compressed.mp4',\n",
       " '/Users/callinswitzer/Desktop/CompressedBeeFrequencyLearning/Beeyellowred3_07Dec2016_Hive5_initial_compressed/Beeyellowred3_07Dec2016_Hive5_initial_compressed.mp4',\n",
       " '/Users/callinswitzer/Desktop/CompressedBeeFrequencyLearning/Beeyellowred4_07Dec2016_Hive5_initial_compressed/Beeyellowred4_07Dec2016_Hive5_initial_compressed.mp4',\n",
       " '/Users/callinswitzer/Desktop/CompressedBeeFrequencyLearning/Beeyellowred5_07Dec2016_Hive5_initial_compressed/Beeyellowred5_07Dec2016_Hive5_initial_compressed.mp4',\n",
       " '/Users/callinswitzer/Desktop/CompressedBeeFrequencyLearning/Beeyellowred6_07Dec2016_Hive5_initial_compressed/Beeyellowred6_07Dec2016_Hive5_initial_compressed.mp4',\n",
       " '/Users/callinswitzer/Desktop/CompressedBeeFrequencyLearning/Beeyellowred7_07Dec2016_Hive5_initial_compressed/Beeyellowred7_07Dec2016_Hive5_initial_compressed.mp4',\n",
       " '/Users/callinswitzer/Desktop/CompressedBeeFrequencyLearning/Beeyellowred8_09Dec2016_Hive5_initial_compressed/Beeyellowred8_09Dec2016_Hive5_initial_compressed.mp4',\n",
       " '/Users/callinswitzer/Desktop/CompressedBeeFrequencyLearning/Beeyellowred9_09Dec2016_Hive5_initial_compressed/Beeyellowred9_09Dec2016_Hive5_initial_compressed.mp4']"
      ]
     },
     "execution_count": 8,
     "metadata": {},
     "output_type": "execute_result"
    }
   ],
   "source": [
    "# get paths for videos\n",
    "\n",
    "vidPaths = []\n",
    "\n",
    "for path, subdirs, files in os.walk(os.getcwd()):\n",
    "    for name in files:\n",
    "        if name.endswith(\".mp4\"):\n",
    "            vidPaths.append(os.path.join(path, name))\n",
    "vidPaths"
   ]
  },
  {
   "cell_type": "code",
   "execution_count": 46,
   "metadata": {
    "collapsed": false
   },
   "outputs": [
    {
     "name": "stdout",
     "output_type": "stream",
     "text": [
      "numFrames = 117\n"
     ]
    }
   ],
   "source": [
    "# load a video\n",
    "ii = 3\n",
    "aa = vidPaths[ii]\n",
    "cap = cv2.VideoCapture(aa)\n",
    "numFr = int(round(cap.get(cv2.cv.CV_CAP_PROP_FRAME_COUNT)))\n",
    "print 'numFrames = ' + str(numFr)"
   ]
  },
  {
   "cell_type": "code",
   "execution_count": 47,
   "metadata": {
    "collapsed": false
   },
   "outputs": [
    {
     "name": "stdout",
     "output_type": "stream",
     "text": [
      "0\n",
      "1\n",
      "2\n",
      "3\n",
      "4\n",
      "5\n",
      "6\n",
      "7\n",
      "8\n",
      "9\n",
      "10\n",
      "11\n",
      "12\n",
      "13\n",
      "14\n",
      "15\n",
      "16\n",
      "17\n",
      "18\n",
      "19\n",
      "20\n",
      "21\n",
      "22\n",
      "23\n",
      "24\n",
      "25\n",
      "26\n",
      "27\n",
      "28\n",
      "29\n",
      "30\n",
      "31\n",
      "32\n",
      "33\n",
      "34\n",
      "35\n",
      "36\n",
      "37\n",
      "38\n",
      "39\n",
      "40\n",
      "41\n",
      "42\n",
      "43\n",
      "44\n",
      "45\n",
      "46\n",
      "47\n",
      "48\n",
      "49\n",
      "50\n",
      "51\n",
      "52\n",
      "53\n",
      "54\n",
      "55\n",
      "56\n",
      "57\n",
      "58\n",
      "59\n",
      "60\n",
      "61\n",
      "62\n",
      "63\n",
      "64\n",
      "65\n",
      "66\n",
      "67\n",
      "68\n",
      "69\n",
      "70\n",
      "71\n",
      "72\n",
      "73\n",
      "74\n",
      "75\n",
      "76\n",
      "77\n",
      "78\n",
      "79\n",
      "80\n",
      "81\n",
      "82\n",
      "83\n",
      "84\n",
      "85\n",
      "86\n",
      "87\n",
      "88\n",
      "89\n",
      "90\n",
      "91\n",
      "92\n",
      "93\n",
      "94\n",
      "95\n",
      "96\n",
      "97\n",
      "98\n",
      "99\n",
      "100\n",
      "101\n",
      "102\n",
      "103\n",
      "104\n",
      "105\n",
      "106\n",
      "107\n",
      "108\n",
      "109\n",
      "110\n",
      "111\n",
      "112\n",
      "113\n",
      "114\n",
      "115\n",
      "116\n"
     ]
    }
   ],
   "source": [
    "cap = cv2.VideoCapture(aa)\n",
    "ctr = 0\n",
    "\n",
    "# reset frame num to zero\n",
    "cap.set(cv2.cv.CV_CAP_PROP_FRAME_COUNT, 0) \n",
    "\n",
    "frames = []\n",
    "\n",
    "while(ctr < numFr):  # check !\n",
    "    # capture frame-by-frame\n",
    "    ret, frame = cap.read()\n",
    "    gray = cv2.cvtColor(frame, cv2.COLOR_BGR2GRAY)\n",
    "\n",
    "    frames.append(gray)\n",
    "\n",
    "    if cv2.waitKey(1) & 0xFF == ord('q'):\n",
    "        break\n",
    "        \n",
    "    print ctr\n",
    "    ctr += 1\n",
    "# When everything is done release the capture\n",
    "cap.release()\n",
    "cv2.destroyAllWindows()"
   ]
  },
  {
   "cell_type": "code",
   "execution_count": 405,
   "metadata": {
    "collapsed": false
   },
   "outputs": [
    {
     "data": {
      "text/plain": [
       "<matplotlib.image.AxesImage at 0x1da04c390>"
      ]
     },
     "execution_count": 405,
     "metadata": {},
     "output_type": "execute_result"
    }
   ],
   "source": [
    "plt.clf()\n",
    "io.imshow(frames[0])"
   ]
  },
  {
   "cell_type": "code",
   "execution_count": 50,
   "metadata": {
    "collapsed": true
   },
   "outputs": [],
   "source": [
    "frames_arr = np.array(frames)"
   ]
  },
  {
   "cell_type": "code",
   "execution_count": 51,
   "metadata": {
    "collapsed": false
   },
   "outputs": [
    {
     "data": {
      "text/plain": [
       "(117, 1024, 1280)"
      ]
     },
     "execution_count": 51,
     "metadata": {},
     "output_type": "execute_result"
    }
   ],
   "source": [
    "frames_arr.shape"
   ]
  },
  {
   "cell_type": "code",
   "execution_count": 52,
   "metadata": {
    "collapsed": false
   },
   "outputs": [],
   "source": [
    "bkg = np.median(frames_arr,axis = 0)"
   ]
  },
  {
   "cell_type": "code",
   "execution_count": 53,
   "metadata": {
    "collapsed": false
   },
   "outputs": [
    {
     "data": {
      "text/plain": [
       "(1024, 1280)"
      ]
     },
     "execution_count": 53,
     "metadata": {},
     "output_type": "execute_result"
    }
   ],
   "source": [
    "bkg.shape"
   ]
  },
  {
   "cell_type": "code",
   "execution_count": 54,
   "metadata": {
    "collapsed": false
   },
   "outputs": [
    {
     "data": {
      "text/plain": [
       "<matplotlib.image.AxesImage at 0x1244441d0>"
      ]
     },
     "execution_count": 54,
     "metadata": {},
     "output_type": "execute_result"
    }
   ],
   "source": [
    "plt.clf()\n",
    "io.imshow(bkg, cmap = \"Greys\")"
   ]
  },
  {
   "cell_type": "code",
   "execution_count": 93,
   "metadata": {
    "collapsed": true
   },
   "outputs": [],
   "source": [
    "# make bkg-subtracted images\n",
    "bkg_sub = np.abs(frames_arr - bkg )"
   ]
  },
  {
   "cell_type": "code",
   "execution_count": 94,
   "metadata": {
    "collapsed": false
   },
   "outputs": [
    {
     "data": {
      "text/plain": [
       "(117, 1024, 1280)"
      ]
     },
     "execution_count": 94,
     "metadata": {},
     "output_type": "execute_result"
    }
   ],
   "source": [
    "bkg_sub.shape"
   ]
  },
  {
   "cell_type": "code",
   "execution_count": 244,
   "metadata": {
    "collapsed": false
   },
   "outputs": [],
   "source": [
    "imnum = 79"
   ]
  },
  {
   "cell_type": "code",
   "execution_count": 280,
   "metadata": {
    "collapsed": false
   },
   "outputs": [
    {
     "data": {
      "text/plain": [
       "<matplotlib.image.AxesImage at 0x1da033750>"
      ]
     },
     "execution_count": 280,
     "metadata": {},
     "output_type": "execute_result"
    }
   ],
   "source": [
    "imnum +=1\n",
    "\n",
    "plt.clf()\n",
    "io.imshow(frames[imnum])"
   ]
  },
  {
   "cell_type": "code",
   "execution_count": 281,
   "metadata": {
    "collapsed": false
   },
   "outputs": [
    {
     "data": {
      "text/plain": [
       "<matplotlib.image.AxesImage at 0x1d3c51990>"
      ]
     },
     "execution_count": 281,
     "metadata": {},
     "output_type": "execute_result"
    }
   ],
   "source": [
    "# this might be the way to go\n",
    "\n",
    "normimg = bkg_sub[imnum] / 255.0\n",
    "\n",
    "resized_image = cv2.resize(normimg, (128, 102)) \n",
    "plt.clf()\n",
    "io.imshow(resized_image)"
   ]
  },
  {
   "cell_type": "code",
   "execution_count": 269,
   "metadata": {
    "collapsed": false
   },
   "outputs": [
    {
     "data": {
      "text/plain": [
       "<matplotlib.image.AxesImage at 0x1d2de2050>"
      ]
     },
     "execution_count": 269,
     "metadata": {},
     "output_type": "execute_result"
    }
   ],
   "source": [
    "\n",
    "plt.clf()\n",
    "io.imshow(bkg_sub[imnum], cmap = \"Greys\")"
   ]
  },
  {
   "cell_type": "code",
   "execution_count": 270,
   "metadata": {
    "collapsed": false
   },
   "outputs": [],
   "source": [
    "# convert to BW\n",
    "im_bw = (bkg_sub[imnum] > 10) * 1.0"
   ]
  },
  {
   "cell_type": "code",
   "execution_count": null,
   "metadata": {
    "collapsed": true
   },
   "outputs": [],
   "source": []
  },
  {
   "cell_type": "code",
   "execution_count": 271,
   "metadata": {
    "collapsed": false
   },
   "outputs": [
    {
     "data": {
      "text/plain": [
       "(1024, 1280)"
      ]
     },
     "execution_count": 271,
     "metadata": {},
     "output_type": "execute_result"
    }
   ],
   "source": [
    "im_bw.shape"
   ]
  },
  {
   "cell_type": "code",
   "execution_count": 272,
   "metadata": {
    "collapsed": false
   },
   "outputs": [
    {
     "data": {
      "text/plain": [
       "<matplotlib.image.AxesImage at 0x1d5aea250>"
      ]
     },
     "execution_count": 272,
     "metadata": {},
     "output_type": "execute_result"
    }
   ],
   "source": [
    "plt.clf()\n",
    "io.imshow(im_bw)"
   ]
  },
  {
   "cell_type": "code",
   "execution_count": 273,
   "metadata": {
    "collapsed": false
   },
   "outputs": [
    {
     "data": {
      "text/plain": [
       "<matplotlib.image.AxesImage at 0x1d70b87d0>"
      ]
     },
     "execution_count": 273,
     "metadata": {},
     "output_type": "execute_result"
    }
   ],
   "source": [
    "# clean up image\n",
    "kernel = cv2.getStructuringElement(cv2.MORPH_ELLIPSE, (5,5))\n",
    "erosion = cv2.erode(im_bw,kernel,iterations = 1)\n",
    "plt.clf()\n",
    "io.imshow(erosion)"
   ]
  },
  {
   "cell_type": "code",
   "execution_count": 274,
   "metadata": {
    "collapsed": false
   },
   "outputs": [
    {
     "data": {
      "text/plain": [
       "<matplotlib.image.AxesImage at 0x1d5a93d50>"
      ]
     },
     "execution_count": 274,
     "metadata": {},
     "output_type": "execute_result"
    }
   ],
   "source": [
    "dilation = cv2.dilate(erosion, kernel, iterations = 1)\n",
    "\n",
    "\n",
    "plt.clf()\n",
    "io.imshow(dilation)"
   ]
  },
  {
   "cell_type": "code",
   "execution_count": 275,
   "metadata": {
    "collapsed": true
   },
   "outputs": [],
   "source": [
    "# # crop image\n",
    "# def submatrix(arr):\n",
    "#     x, y = np.nonzero(arr)\n",
    "#     # Using the smallest and largest x and y indices of nonzero elements, \n",
    "#     # we can find the desired rectangular bounds.  \n",
    "#     # And don't forget to add 1 to the top bound to avoid the fencepost problem.\n",
    "#     return arr[x.min():x.max()+1, y.min():y.max()+1]\n",
    "\n",
    "# cpdImg = submatrix(dilation)\n",
    "\n"
   ]
  },
  {
   "cell_type": "code",
   "execution_count": 276,
   "metadata": {
    "collapsed": false
   },
   "outputs": [
    {
     "data": {
      "text/plain": [
       "<matplotlib.image.AxesImage at 0x1d86daf90>"
      ]
     },
     "execution_count": 276,
     "metadata": {},
     "output_type": "execute_result"
    }
   ],
   "source": [
    "# reduce resolution\n",
    "\n",
    "resized_image = cv2.resize(dilation, (128, 102)) \n",
    "plt.clf()\n",
    "io.imshow(resized_image)"
   ]
  },
  {
   "cell_type": "code",
   "execution_count": 277,
   "metadata": {
    "collapsed": false
   },
   "outputs": [
    {
     "data": {
      "text/plain": [
       "<matplotlib.image.AxesImage at 0x1d86a0510>"
      ]
     },
     "execution_count": 277,
     "metadata": {},
     "output_type": "execute_result"
    }
   ],
   "source": [
    "# this might be the way to go\n",
    "\n",
    "normimg = bkg_sub[imnum] / 255.0\n",
    "\n",
    "resized_image = cv2.resize(normimg, (128, 102)) \n",
    "plt.clf()\n",
    "io.imshow(resized_image)\n"
   ]
  },
  {
   "cell_type": "code",
   "execution_count": 381,
   "metadata": {
    "collapsed": false
   },
   "outputs": [],
   "source": [
    "# do clustering\n",
    "\n",
    "os.chdir(\"/Users/callinswitzer/Desktop/imgExamples\")\n",
    "\n",
    "smallFrames = []\n",
    "\n",
    "for ii in range(117):\n",
    "    normimg = bkg_sub[ii] \n",
    "    norming2 = normimg[200:, :] # remove portion with text\n",
    "\n",
    "    resized_image = cv2.resize(normimg, (128, 82)) \n",
    "    smallFrames.append(resized_image)\n",
    "    \n"
   ]
  },
  {
   "cell_type": "code",
   "execution_count": 382,
   "metadata": {
    "collapsed": false
   },
   "outputs": [
    {
     "data": {
      "text/plain": [
       "(824, 1280)"
      ]
     },
     "execution_count": 382,
     "metadata": {},
     "output_type": "execute_result"
    }
   ],
   "source": [
    "plt.clf()\n",
    "norming2 = normimg[200:, :]\n",
    "io.imshow(norming2)\n",
    "norming2.shape"
   ]
  },
  {
   "cell_type": "code",
   "execution_count": 383,
   "metadata": {
    "collapsed": false
   },
   "outputs": [
    {
     "data": {
      "text/plain": [
       "<matplotlib.image.AxesImage at 0x12fc79c90>"
      ]
     },
     "execution_count": 383,
     "metadata": {},
     "output_type": "execute_result"
    }
   ],
   "source": [
    "plt.clf()\n",
    "io.imshow(smallFrames[0])"
   ]
  },
  {
   "cell_type": "code",
   "execution_count": 384,
   "metadata": {
    "collapsed": false
   },
   "outputs": [
    {
     "data": {
      "text/plain": [
       "(117, 82, 128)"
      ]
     },
     "execution_count": 384,
     "metadata": {},
     "output_type": "execute_result"
    }
   ],
   "source": [
    "smallFrames = np.array(smallFrames)\n",
    "smallFrames.shape"
   ]
  },
  {
   "cell_type": "code",
   "execution_count": 386,
   "metadata": {
    "collapsed": false
   },
   "outputs": [
    {
     "data": {
      "text/plain": [
       "(117, 10496)"
      ]
     },
     "execution_count": 386,
     "metadata": {},
     "output_type": "execute_result"
    }
   ],
   "source": [
    "# reshape array for machine learning -- each row is a photo\n",
    "fr_resh = np.reshape(smallFrames, (117, 82*128))\n",
    "fr_resh.shape\n"
   ]
  },
  {
   "cell_type": "code",
   "execution_count": 387,
   "metadata": {
    "collapsed": true
   },
   "outputs": [],
   "source": [
    "# knn\n",
    "from sklearn.cluster import KMeans\n"
   ]
  },
  {
   "cell_type": "code",
   "execution_count": 388,
   "metadata": {
    "collapsed": false
   },
   "outputs": [
    {
     "data": {
      "text/plain": [
       "array([0, 0, 0, 0, 0, 0, 0, 0, 0, 0, 0, 0, 0, 0, 0, 0, 0, 1, 0, 0, 0, 0, 0,\n",
       "       0, 1, 1, 1, 1, 0, 0, 0, 1, 1, 0, 0, 0, 0, 1, 0, 1, 1, 1, 1, 1, 1, 1,\n",
       "       1, 1, 1, 1, 1, 1, 1, 1, 0, 0, 0, 0, 0, 0, 0, 0, 1, 0, 0, 1, 1, 1, 1,\n",
       "       1, 1, 1, 0, 0, 0, 1, 0, 1, 1, 1, 1, 0, 1, 0, 1, 1, 1, 1, 1, 1, 1, 1,\n",
       "       1, 1, 1, 1, 1, 1, 1, 0, 1, 1, 1, 0, 1, 1, 1, 1, 1, 1, 1, 0, 1, 1, 1,\n",
       "       2, 1], dtype=int32)"
      ]
     },
     "execution_count": 388,
     "metadata": {},
     "output_type": "execute_result"
    }
   ],
   "source": [
    "X = fr_resh\n",
    "kmeans = KMeans(n_clusters=3, random_state=0).fit(X)\n",
    "kmeans.labels_"
   ]
  },
  {
   "cell_type": "code",
   "execution_count": 389,
   "metadata": {
    "collapsed": true
   },
   "outputs": [],
   "source": [
    "from sklearn.decomposition import PCA\n",
    "from sklearn import preprocessing"
   ]
  },
  {
   "cell_type": "code",
   "execution_count": 390,
   "metadata": {
    "collapsed": false
   },
   "outputs": [
    {
     "data": {
      "text/plain": [
       "(array([10168,   207,    63,    25,    19,     6,     2,     2,     2,     2]),\n",
       " array([   0.        ,   22.60853653,   45.21707306,   67.82560959,\n",
       "          90.43414612,  113.04268265,  135.65121918,  158.25975571,\n",
       "         180.86829224,  203.47682877,  226.0853653 ]))"
      ]
     },
     "execution_count": 390,
     "metadata": {},
     "output_type": "execute_result"
    }
   ],
   "source": [
    "X.std(axis=0)\n",
    "\n",
    "np.histogram(X[1,:])"
   ]
  },
  {
   "cell_type": "code",
   "execution_count": 391,
   "metadata": {
    "collapsed": false
   },
   "outputs": [],
   "source": [
    "# normalize X matrix\n",
    "# X = preprocessing.scale(X)"
   ]
  },
  {
   "cell_type": "code",
   "execution_count": 392,
   "metadata": {
    "collapsed": false
   },
   "outputs": [
    {
     "data": {
      "text/plain": [
       "PCA(copy=True, iterated_power='auto', n_components=2, random_state=None,\n",
       "  svd_solver='auto', tol=0.0, whiten=False)"
      ]
     },
     "execution_count": 392,
     "metadata": {},
     "output_type": "execute_result"
    }
   ],
   "source": [
    "pca = PCA(n_components=2)\n",
    "pca.fit(X)"
   ]
  },
  {
   "cell_type": "code",
   "execution_count": 393,
   "metadata": {
    "collapsed": true
   },
   "outputs": [],
   "source": [
    "X2 = pca.transform(X)\n",
    "y = kmeans.labels_\n"
   ]
  },
  {
   "cell_type": "code",
   "execution_count": 394,
   "metadata": {
    "collapsed": false
   },
   "outputs": [
    {
     "data": {
      "text/plain": [
       "(117, 2)"
      ]
     },
     "execution_count": 394,
     "metadata": {},
     "output_type": "execute_result"
    }
   ],
   "source": [
    "X2.shape"
   ]
  },
  {
   "cell_type": "code",
   "execution_count": 397,
   "metadata": {
    "collapsed": false
   },
   "outputs": [],
   "source": [
    "plt.clf()\n",
    "plt.scatter(X2[:, 0], X2[:,1], c=y, s= 100)\n",
    "\n",
    "n = range(117)\n",
    "for i, txt in enumerate(n):\n",
    "    plt.annotate(txt, (X2[:, 0][i] + 5, X2[:,1][i] + 5))"
   ]
  },
  {
   "cell_type": "code",
   "execution_count": 349,
   "metadata": {
    "collapsed": false
   },
   "outputs": [],
   "source": [
    "plt.clf()\n",
    "plt.scatter(X2[:, 0], X2[:,1], c=y)\n",
    "plt.show()"
   ]
  },
  {
   "cell_type": "code",
   "execution_count": 403,
   "metadata": {
    "collapsed": false
   },
   "outputs": [
    {
     "data": {
      "text/plain": [
       "<matplotlib.image.AxesImage at 0x132e3fad0>"
      ]
     },
     "execution_count": 403,
     "metadata": {},
     "output_type": "execute_result"
    }
   ],
   "source": [
    "\n",
    "io.imshow(frames[116])"
   ]
  },
  {
   "cell_type": "code",
   "execution_count": 404,
   "metadata": {
    "collapsed": true
   },
   "outputs": [],
   "source": [
    "plt.close(\"all\")"
   ]
  },
  {
   "cell_type": "code",
   "execution_count": 287,
   "metadata": {
    "collapsed": false
   },
   "outputs": [
    {
     "data": {
      "text/plain": [
       "<matplotlib.image.AxesImage at 0x1dcddfe50>"
      ]
     },
     "execution_count": 287,
     "metadata": {},
     "output_type": "execute_result"
    }
   ],
   "source": [
    "resized_image = cv2.resize(normimg, (128, 102)) \n",
    "plt.clf()\n",
    "io.imshow(resized_image)\n"
   ]
  },
  {
   "cell_type": "code",
   "execution_count": 289,
   "metadata": {
    "collapsed": false
   },
   "outputs": [
    {
     "data": {
      "text/plain": [
       "True"
      ]
     },
     "execution_count": 289,
     "metadata": {},
     "output_type": "execute_result"
    }
   ],
   "source": [
    "cv2.imwrite(str(ii) + \".png\", normimg)\n",
    "    "
   ]
  },
  {
   "cell_type": "code",
   "execution_count": null,
   "metadata": {
    "collapsed": true
   },
   "outputs": [],
   "source": []
  }
 ],
 "metadata": {
  "kernelspec": {
   "display_name": "Python [default]",
   "language": "python",
   "name": "python2"
  },
  "language_info": {
   "codemirror_mode": {
    "name": "ipython",
    "version": 2
   },
   "file_extension": ".py",
   "mimetype": "text/x-python",
   "name": "python",
   "nbconvert_exporter": "python",
   "pygments_lexer": "ipython2",
   "version": "2.7.13"
  }
 },
 "nbformat": 4,
 "nbformat_minor": 1
}
