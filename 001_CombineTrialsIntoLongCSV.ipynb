{
 "cells": [
  {
   "cell_type": "markdown",
   "metadata": {
    "collapsed": true
   },
   "source": [
    "# Callin Switzer\n",
    "Read in all csv files from individual trials, and \n",
    "combine into a single long dataset\n",
    "\n",
    "Updated 4 Dec, 2017\n"
   ]
  },
  {
   "cell_type": "code",
   "execution_count": 1,
   "metadata": {},
   "outputs": [
    {
     "name": "stdout",
     "output_type": "stream",
     "text": [
      "3.6.1 |Anaconda custom (64-bit)| (default, May 11 2017, 13:04:09) \n",
      "[GCC 4.2.1 Compatible Apple LLVM 6.0 (clang-600.0.57)]\n"
     ]
    }
   ],
   "source": [
    "import numpy as np\n",
    "from matplotlib import pyplot as plt\n",
    "%matplotlib inline\n",
    "\n",
    "import os\n",
    "import pandas as pd\n",
    "import time\n",
    "import re\n",
    "from datetime import datetime\n",
    "import sys\n",
    "import csv\n",
    "import seaborn as sns\n",
    "\n",
    "print(sys.version)"
   ]
  },
  {
   "cell_type": "code",
   "execution_count": 2,
   "metadata": {
    "collapsed": true
   },
   "outputs": [],
   "source": [
    "# define directories\n",
    "baseDir = os.getcwd()\n",
    "dataDir = '/Users/cswitzer/Dropbox/SonicationBehavior/SonBehData/SonicationBehaviorTrials_NoImages/'\n"
   ]
  },
  {
   "cell_type": "code",
   "execution_count": 3,
   "metadata": {
    "collapsed": true
   },
   "outputs": [],
   "source": [
    "os.chdir(dataDir)"
   ]
  },
  {
   "cell_type": "code",
   "execution_count": 4,
   "metadata": {},
   "outputs": [
    {
     "data": {
      "text/plain": [
       "232"
      ]
     },
     "execution_count": 4,
     "metadata": {},
     "output_type": "execute_result"
    }
   ],
   "source": [
    "fldrs = [f for f in os.listdir(\".\") if not f.startswith('.')]\n",
    "len(fldrs) # should be 232"
   ]
  },
  {
   "cell_type": "code",
   "execution_count": 5,
   "metadata": {
    "collapsed": true
   },
   "outputs": [],
   "source": [
    "fldrs.sort(key=lambda x: os.path.getmtime(x)) # sort by time created"
   ]
  },
  {
   "cell_type": "code",
   "execution_count": 6,
   "metadata": {},
   "outputs": [],
   "source": [
    "# write list of all trials\n",
    "with open(\"/Users/cswitzer/Dropbox/SonicationBehavior/SonBehData/RawDataFilenames.csv\", \"w\") as f:\n",
    "    writer = csv.writer(f)\n",
    "    writer.writerows(np.transpose(np.array([fldrs])))"
   ]
  },
  {
   "cell_type": "code",
   "execution_count": 7,
   "metadata": {
    "collapsed": true
   },
   "outputs": [],
   "source": [
    "os.chdir(dataDir)"
   ]
  },
  {
   "cell_type": "code",
   "execution_count": 8,
   "metadata": {},
   "outputs": [
    {
     "name": "stdout",
     "output_type": "stream",
     "text": [
      "0\n",
      "10\n",
      "20\n",
      "30\n",
      "40\n",
      "50\n",
      "60\n",
      "70\n",
      "80\n",
      "90\n",
      "100\n",
      "110\n",
      "120\n",
      "130\n",
      "140\n",
      "150\n",
      "160\n",
      "170\n",
      "180\n",
      "190\n",
      "200\n",
      "210\n",
      "220\n",
      "230\n",
      "0 problems\n"
     ]
    }
   ],
   "source": [
    "# for each folder, open it, and read the ampFreq.txt file\n",
    "\n",
    "folders = fldrs\n",
    "\n",
    "NoFlightFolder = \"/Users/cswitzer/Dropbox/SonicationBehavior/SonBehData/SonicationBehaviorData_FlightsRemoved/\"\n",
    "\n",
    "probs = 0\n",
    "for ii in range(len(folders)):\n",
    "\n",
    "    # read contents of each folder\n",
    "    fcontents = [f for f in os.listdir(folders[ii]) if not f.startswith('.')]\n",
    "\n",
    "    # get ampFreq file(s). there should be one per folder\n",
    "    ampFreqFile = [x for x in fcontents if 'ampFreq.txt' in x]\n",
    "\n",
    "    if len(ampFreqFile) > 1: \n",
    "        print(\"PROBLEM \" + str(ii))\n",
    "\n",
    "\n",
    "    # read ampFreq file\n",
    "    tmpDF = pd.read_table(os.path.join(folders[ii], ampFreqFile[0]), header = None, sep = ',')\n",
    "\n",
    "    # add folder name to data frame\n",
    "    tmpDF[7] = folders[ii]\n",
    "\n",
    "    # add frequency information\n",
    "    folderInFolder = [x for x in fcontents if not 'ampFreq.txt' in x]\n",
    "\n",
    "    if len(folderInFolder) > 1: \n",
    "        print(\"PROBLEM\")\n",
    "        probs += 1\n",
    "\n",
    "    # list files in inner folder\n",
    "    accRecFiles = [x for x in os.listdir(os.path.join(folders[ii], folderInFolder[0])) if not x.startswith('.')]\n",
    "    accRecFiles.sort()\n",
    "\n",
    "    tmpDF[8] = accRecFiles\n",
    "\n",
    "    # remove wingbeats\n",
    "    tmpDF2 = tmpDF.loc[(tmpDF[0] > 220) & (tmpDF[0] < 450)]\n",
    "\n",
    "    # renumber index\n",
    "    tmpDF2.index = (np.arange(1, tmpDF2.shape[0] + 1))\n",
    "\n",
    "    # write to .csv\n",
    "    tmpDF2.to_csv(NoFlightFolder + folders[ii] + '.csv', \n",
    "                 header = False, index = True)\n",
    "    \n",
    "    if np.mod(ii, 10) == 0:\n",
    "        print(ii)\n",
    "    \n",
    "print(str(probs) + \" problems\")"
   ]
  },
  {
   "cell_type": "code",
   "execution_count": 9,
   "metadata": {},
   "outputs": [
    {
     "data": {
      "text/html": [
       "<div>\n",
       "<style>\n",
       "    .dataframe thead tr:only-child th {\n",
       "        text-align: right;\n",
       "    }\n",
       "\n",
       "    .dataframe thead th {\n",
       "        text-align: left;\n",
       "    }\n",
       "\n",
       "    .dataframe tbody tr th {\n",
       "        vertical-align: top;\n",
       "    }\n",
       "</style>\n",
       "<table border=\"1\" class=\"dataframe\">\n",
       "  <thead>\n",
       "    <tr style=\"text-align: right;\">\n",
       "      <th></th>\n",
       "      <th>index</th>\n",
       "      <th>freq</th>\n",
       "      <th>amp</th>\n",
       "      <th>datetime</th>\n",
       "      <th>rewNum</th>\n",
       "      <th>rewTF</th>\n",
       "      <th>lowRewAmp</th>\n",
       "      <th>highrewAmp</th>\n",
       "      <th>BeeNumCol</th>\n",
       "      <th>accFile</th>\n",
       "    </tr>\n",
       "  </thead>\n",
       "  <tbody>\n",
       "    <tr>\n",
       "      <th>0</th>\n",
       "      <td>1</td>\n",
       "      <td>340</td>\n",
       "      <td>0.69799</td>\n",
       "      <td>2016_12_11__14_51_35_856</td>\n",
       "      <td>1</td>\n",
       "      <td>T</td>\n",
       "      <td>0</td>\n",
       "      <td>5</td>\n",
       "      <td>Beesilver1_11Dec2016_Hive5_initial</td>\n",
       "      <td>2016_12_11__14_51_35_856_220_450_test.txt</td>\n",
       "    </tr>\n",
       "    <tr>\n",
       "      <th>1</th>\n",
       "      <td>2</td>\n",
       "      <td>290</td>\n",
       "      <td>0.31249</td>\n",
       "      <td>2016_12_11__14_51_37_400</td>\n",
       "      <td>2</td>\n",
       "      <td>T</td>\n",
       "      <td>0</td>\n",
       "      <td>5</td>\n",
       "      <td>Beesilver1_11Dec2016_Hive5_initial</td>\n",
       "      <td>2016_12_11__14_51_37_400_220_450_test.txt</td>\n",
       "    </tr>\n",
       "    <tr>\n",
       "      <th>2</th>\n",
       "      <td>3</td>\n",
       "      <td>310</td>\n",
       "      <td>0.49291</td>\n",
       "      <td>2016_12_11__14_51_38_788</td>\n",
       "      <td>3</td>\n",
       "      <td>T</td>\n",
       "      <td>0</td>\n",
       "      <td>5</td>\n",
       "      <td>Beesilver1_11Dec2016_Hive5_initial</td>\n",
       "      <td>2016_12_11__14_51_38_788_220_450_test.txt</td>\n",
       "    </tr>\n",
       "    <tr>\n",
       "      <th>3</th>\n",
       "      <td>4</td>\n",
       "      <td>310</td>\n",
       "      <td>0.55911</td>\n",
       "      <td>2016_12_11__14_51_39_641</td>\n",
       "      <td>4</td>\n",
       "      <td>T</td>\n",
       "      <td>0</td>\n",
       "      <td>5</td>\n",
       "      <td>Beesilver1_11Dec2016_Hive5_initial</td>\n",
       "      <td>2016_12_11__14_51_39_641_220_450_test.txt</td>\n",
       "    </tr>\n",
       "    <tr>\n",
       "      <th>4</th>\n",
       "      <td>5</td>\n",
       "      <td>350</td>\n",
       "      <td>0.30275</td>\n",
       "      <td>2016_12_11__14_51_41_043</td>\n",
       "      <td>5</td>\n",
       "      <td>T</td>\n",
       "      <td>0</td>\n",
       "      <td>5</td>\n",
       "      <td>Beesilver1_11Dec2016_Hive5_initial</td>\n",
       "      <td>2016_12_11__14_51_41_043_220_450_test.txt</td>\n",
       "    </tr>\n",
       "  </tbody>\n",
       "</table>\n",
       "</div>"
      ],
      "text/plain": [
       "  index freq      amp                   datetime rewNum rewTF lowRewAmp  \\\n",
       "0     1  340  0.69799   2016_12_11__14_51_35_856      1     T         0   \n",
       "1     2  290  0.31249   2016_12_11__14_51_37_400      2     T         0   \n",
       "2     3  310  0.49291   2016_12_11__14_51_38_788      3     T         0   \n",
       "3     4  310  0.55911   2016_12_11__14_51_39_641      4     T         0   \n",
       "4     5  350  0.30275   2016_12_11__14_51_41_043      5     T         0   \n",
       "\n",
       "  highrewAmp                           BeeNumCol  \\\n",
       "0          5  Beesilver1_11Dec2016_Hive5_initial   \n",
       "1          5  Beesilver1_11Dec2016_Hive5_initial   \n",
       "2          5  Beesilver1_11Dec2016_Hive5_initial   \n",
       "3          5  Beesilver1_11Dec2016_Hive5_initial   \n",
       "4          5  Beesilver1_11Dec2016_Hive5_initial   \n",
       "\n",
       "                                     accFile  \n",
       "0  2016_12_11__14_51_35_856_220_450_test.txt  \n",
       "1  2016_12_11__14_51_37_400_220_450_test.txt  \n",
       "2  2016_12_11__14_51_38_788_220_450_test.txt  \n",
       "3  2016_12_11__14_51_39_641_220_450_test.txt  \n",
       "4  2016_12_11__14_51_41_043_220_450_test.txt  "
      ]
     },
     "execution_count": 9,
     "metadata": {},
     "output_type": "execute_result"
    }
   ],
   "source": [
    "## combine csv's all into a single file\n",
    "csvDir = NoFlightFolder\n",
    "\n",
    "csvFiles = [f for f in os.listdir(csvDir) if f.endswith('.csv')]\n",
    "\n",
    "np_array_list = []\n",
    "for file_ in csvFiles:\n",
    "    df = pd.read_csv(os.path.join(csvDir, file_),index_col=None, header=None)\n",
    "    np_array_list.append(df.as_matrix())\n",
    "\n",
    "comb_np_array = np.vstack(np_array_list)\n",
    "big_frame = pd.DataFrame(comb_np_array)\n",
    "\n",
    "big_frame.columns = ['index', 'freq', 'amp', 'datetime', 'rewNum', 'rewTF', 'lowRewAmp', 'highrewAmp', 'BeeNumCol', 'accFile']\n",
    "\n",
    "big_frame.head()"
   ]
  },
  {
   "cell_type": "code",
   "execution_count": 10,
   "metadata": {},
   "outputs": [
    {
     "data": {
      "text/plain": [
       "(26552,)"
      ]
     },
     "execution_count": 10,
     "metadata": {},
     "output_type": "execute_result"
    }
   ],
   "source": [
    "big_frame[\"freq\"].shape"
   ]
  },
  {
   "cell_type": "code",
   "execution_count": 11,
   "metadata": {},
   "outputs": [
    {
     "data": {
      "image/png": "[encoded data removed]",
      "text/plain": [
       "<matplotlib.figure.Figure at 0x1206e6cf8>"
      ]
     },
     "metadata": {},
     "output_type": "display_data"
    }
   ],
   "source": [
    "# plot histogram of frequencies\n",
    "vls = [int(big_frame[\"freq\"][ii]) for ii in range(len(big_frame))]\n",
    "plt.hist(vls, bins = 50)\n",
    "plt.show()"
   ]
  },
  {
   "cell_type": "code",
   "execution_count": 12,
   "metadata": {
    "collapsed": true
   },
   "outputs": [],
   "source": [
    "# check to see if datetime and accFile agree\n",
    "eqs = [big_frame['datetime'][ii][1:25] == big_frame['accFile'][ii][0:24] for ii in range(len(big_frame['datetime']))]"
   ]
  },
  {
   "cell_type": "code",
   "execution_count": 13,
   "metadata": {},
   "outputs": [
    {
     "data": {
      "text/plain": [
       "0"
      ]
     },
     "execution_count": 13,
     "metadata": {},
     "output_type": "execute_result"
    }
   ],
   "source": [
    "np.sum(np.invert(eqs)) # should be zero if all of them match"
   ]
  },
  {
   "cell_type": "code",
   "execution_count": 14,
   "metadata": {},
   "outputs": [
    {
     "data": {
      "text/html": [
       "<div>\n",
       "<style>\n",
       "    .dataframe thead tr:only-child th {\n",
       "        text-align: right;\n",
       "    }\n",
       "\n",
       "    .dataframe thead th {\n",
       "        text-align: left;\n",
       "    }\n",
       "\n",
       "    .dataframe tbody tr th {\n",
       "        vertical-align: top;\n",
       "    }\n",
       "</style>\n",
       "<table border=\"1\" class=\"dataframe\">\n",
       "  <thead>\n",
       "    <tr style=\"text-align: right;\">\n",
       "      <th></th>\n",
       "      <th>index</th>\n",
       "      <th>freq</th>\n",
       "      <th>amp</th>\n",
       "      <th>datetime</th>\n",
       "      <th>rewNum</th>\n",
       "      <th>rewTF</th>\n",
       "      <th>lowRewAmp</th>\n",
       "      <th>highrewAmp</th>\n",
       "      <th>BeeNumCol</th>\n",
       "      <th>accFile</th>\n",
       "    </tr>\n",
       "  </thead>\n",
       "  <tbody>\n",
       "  </tbody>\n",
       "</table>\n",
       "</div>"
      ],
      "text/plain": [
       "Empty DataFrame\n",
       "Columns: [index, freq, amp, datetime, rewNum, rewTF, lowRewAmp, highrewAmp, BeeNumCol, accFile]\n",
       "Index: []"
      ]
     },
     "execution_count": 14,
     "metadata": {},
     "output_type": "execute_result"
    }
   ],
   "source": [
    "# find the one that doesn't match\n",
    "big_frame.loc[np.invert(eqs)] # now they all match"
   ]
  },
  {
   "cell_type": "markdown",
   "metadata": {},
   "source": [
    "### make a new column for bee color, hive, reward frequency, date, and treatment (initial, high, low)\n",
    "\n"
   ]
  },
  {
   "cell_type": "code",
   "execution_count": 15,
   "metadata": {
    "collapsed": true
   },
   "outputs": [],
   "source": [
    "str2 = [big_frame['BeeNumCol'][ii].split(\"Bee\")[1] for ii in range(len(big_frame['BeeNumCol']))]"
   ]
  },
  {
   "cell_type": "code",
   "execution_count": 16,
   "metadata": {
    "collapsed": true
   },
   "outputs": [],
   "source": [
    "beeColNum = [str2[ii].split(r'_')[0] for ii in range(len(str2))]"
   ]
  },
  {
   "cell_type": "code",
   "execution_count": 17,
   "metadata": {
    "collapsed": true
   },
   "outputs": [],
   "source": [
    "# definition for extracting trial number\n",
    "def extractNum(string):\n",
    "    try: \n",
    "        aa =  str(int(filter(str.isdigit, string)))\n",
    "    except:\n",
    "        aa = \"1\"\n",
    "    return(aa)\n",
    "    "
   ]
  },
  {
   "cell_type": "code",
   "execution_count": 18,
   "metadata": {
    "collapsed": true
   },
   "outputs": [],
   "source": [
    "# get trial number\n",
    "trialNum = [extractNum(strg) for strg in beeColNum]"
   ]
  },
  {
   "cell_type": "code",
   "execution_count": 19,
   "metadata": {
    "collapsed": true
   },
   "outputs": [],
   "source": [
    "# function to get only characters\n",
    "def extractChar(string):\n",
    "    return(\" \".join(re.findall(\"[a-zA-Z]+\", string)))"
   ]
  },
  {
   "cell_type": "code",
   "execution_count": 20,
   "metadata": {
    "collapsed": true
   },
   "outputs": [],
   "source": [
    "# get just bee color\n",
    "beeCol = [extractChar(strg) for strg in beeColNum]"
   ]
  },
  {
   "cell_type": "code",
   "execution_count": 21,
   "metadata": {
    "collapsed": true
   },
   "outputs": [],
   "source": [
    "# get datetime\n",
    "dateTime = [datetime.strptime(dt1, ' %Y_%m_%d__%H_%M_%S_%f') for dt1 in big_frame['datetime']]"
   ]
  },
  {
   "cell_type": "code",
   "execution_count": 22,
   "metadata": {
    "collapsed": true
   },
   "outputs": [],
   "source": [
    "# string format time\n",
    "dateTime_format = [datetime.strftime(datetime_object, \"%Y-%m-%d %H:%M:%S.%f\") for datetime_object in dateTime]"
   ]
  },
  {
   "cell_type": "code",
   "execution_count": 23,
   "metadata": {
    "collapsed": true
   },
   "outputs": [],
   "source": [
    "# get reward frequencies\n",
    "s1 = big_frame['accFile'][0]"
   ]
  },
  {
   "cell_type": "code",
   "execution_count": 24,
   "metadata": {
    "collapsed": true
   },
   "outputs": [],
   "source": [
    "rewFrqs = [s1.split(\"_\")[8:10] for s1 in big_frame['accFile']]"
   ]
  },
  {
   "cell_type": "code",
   "execution_count": 25,
   "metadata": {
    "collapsed": true
   },
   "outputs": [],
   "source": [
    "rewDF = pd.DataFrame(rewFrqs, columns = ['lowFrq', 'highFrq'])"
   ]
  },
  {
   "cell_type": "code",
   "execution_count": 26,
   "metadata": {
    "collapsed": true
   },
   "outputs": [],
   "source": [
    "# add to big data frame\n",
    "big_frame['trialNum'] = trialNum\n",
    "big_frame['beeCol'] = beeCol\n",
    "big_frame['datetime_str'] = dateTime_format"
   ]
  },
  {
   "cell_type": "code",
   "execution_count": 27,
   "metadata": {},
   "outputs": [
    {
     "data": {
      "text/html": [
       "<div>\n",
       "<style>\n",
       "    .dataframe thead tr:only-child th {\n",
       "        text-align: right;\n",
       "    }\n",
       "\n",
       "    .dataframe thead th {\n",
       "        text-align: left;\n",
       "    }\n",
       "\n",
       "    .dataframe tbody tr th {\n",
       "        vertical-align: top;\n",
       "    }\n",
       "</style>\n",
       "<table border=\"1\" class=\"dataframe\">\n",
       "  <thead>\n",
       "    <tr style=\"text-align: right;\">\n",
       "      <th></th>\n",
       "      <th>index</th>\n",
       "      <th>freq</th>\n",
       "      <th>amp</th>\n",
       "      <th>datetime</th>\n",
       "      <th>rewNum</th>\n",
       "      <th>rewTF</th>\n",
       "      <th>lowRewAmp</th>\n",
       "      <th>highrewAmp</th>\n",
       "      <th>BeeNumCol</th>\n",
       "      <th>accFile</th>\n",
       "      <th>trialNum</th>\n",
       "      <th>beeCol</th>\n",
       "      <th>datetime_str</th>\n",
       "      <th>lowFrq</th>\n",
       "      <th>highFrq</th>\n",
       "    </tr>\n",
       "  </thead>\n",
       "  <tbody>\n",
       "    <tr>\n",
       "      <th>0</th>\n",
       "      <td>1</td>\n",
       "      <td>340</td>\n",
       "      <td>0.69799</td>\n",
       "      <td>2016_12_11__14_51_35_856</td>\n",
       "      <td>1</td>\n",
       "      <td>T</td>\n",
       "      <td>0</td>\n",
       "      <td>5</td>\n",
       "      <td>Beesilver1_11Dec2016_Hive5_initial</td>\n",
       "      <td>2016_12_11__14_51_35_856_220_450_test.txt</td>\n",
       "      <td>1</td>\n",
       "      <td>silver</td>\n",
       "      <td>2016-12-11 14:51:35.856000</td>\n",
       "      <td>220</td>\n",
       "      <td>450</td>\n",
       "    </tr>\n",
       "    <tr>\n",
       "      <th>1</th>\n",
       "      <td>2</td>\n",
       "      <td>290</td>\n",
       "      <td>0.31249</td>\n",
       "      <td>2016_12_11__14_51_37_400</td>\n",
       "      <td>2</td>\n",
       "      <td>T</td>\n",
       "      <td>0</td>\n",
       "      <td>5</td>\n",
       "      <td>Beesilver1_11Dec2016_Hive5_initial</td>\n",
       "      <td>2016_12_11__14_51_37_400_220_450_test.txt</td>\n",
       "      <td>1</td>\n",
       "      <td>silver</td>\n",
       "      <td>2016-12-11 14:51:37.400000</td>\n",
       "      <td>220</td>\n",
       "      <td>450</td>\n",
       "    </tr>\n",
       "    <tr>\n",
       "      <th>2</th>\n",
       "      <td>3</td>\n",
       "      <td>310</td>\n",
       "      <td>0.49291</td>\n",
       "      <td>2016_12_11__14_51_38_788</td>\n",
       "      <td>3</td>\n",
       "      <td>T</td>\n",
       "      <td>0</td>\n",
       "      <td>5</td>\n",
       "      <td>Beesilver1_11Dec2016_Hive5_initial</td>\n",
       "      <td>2016_12_11__14_51_38_788_220_450_test.txt</td>\n",
       "      <td>1</td>\n",
       "      <td>silver</td>\n",
       "      <td>2016-12-11 14:51:38.788000</td>\n",
       "      <td>220</td>\n",
       "      <td>450</td>\n",
       "    </tr>\n",
       "    <tr>\n",
       "      <th>3</th>\n",
       "      <td>4</td>\n",
       "      <td>310</td>\n",
       "      <td>0.55911</td>\n",
       "      <td>2016_12_11__14_51_39_641</td>\n",
       "      <td>4</td>\n",
       "      <td>T</td>\n",
       "      <td>0</td>\n",
       "      <td>5</td>\n",
       "      <td>Beesilver1_11Dec2016_Hive5_initial</td>\n",
       "      <td>2016_12_11__14_51_39_641_220_450_test.txt</td>\n",
       "      <td>1</td>\n",
       "      <td>silver</td>\n",
       "      <td>2016-12-11 14:51:39.641000</td>\n",
       "      <td>220</td>\n",
       "      <td>450</td>\n",
       "    </tr>\n",
       "    <tr>\n",
       "      <th>4</th>\n",
       "      <td>5</td>\n",
       "      <td>350</td>\n",
       "      <td>0.30275</td>\n",
       "      <td>2016_12_11__14_51_41_043</td>\n",
       "      <td>5</td>\n",
       "      <td>T</td>\n",
       "      <td>0</td>\n",
       "      <td>5</td>\n",
       "      <td>Beesilver1_11Dec2016_Hive5_initial</td>\n",
       "      <td>2016_12_11__14_51_41_043_220_450_test.txt</td>\n",
       "      <td>1</td>\n",
       "      <td>silver</td>\n",
       "      <td>2016-12-11 14:51:41.043000</td>\n",
       "      <td>220</td>\n",
       "      <td>450</td>\n",
       "    </tr>\n",
       "  </tbody>\n",
       "</table>\n",
       "</div>"
      ],
      "text/plain": [
       "  index freq      amp                   datetime rewNum rewTF lowRewAmp  \\\n",
       "0     1  340  0.69799   2016_12_11__14_51_35_856      1     T         0   \n",
       "1     2  290  0.31249   2016_12_11__14_51_37_400      2     T         0   \n",
       "2     3  310  0.49291   2016_12_11__14_51_38_788      3     T         0   \n",
       "3     4  310  0.55911   2016_12_11__14_51_39_641      4     T         0   \n",
       "4     5  350  0.30275   2016_12_11__14_51_41_043      5     T         0   \n",
       "\n",
       "  highrewAmp                           BeeNumCol  \\\n",
       "0          5  Beesilver1_11Dec2016_Hive5_initial   \n",
       "1          5  Beesilver1_11Dec2016_Hive5_initial   \n",
       "2          5  Beesilver1_11Dec2016_Hive5_initial   \n",
       "3          5  Beesilver1_11Dec2016_Hive5_initial   \n",
       "4          5  Beesilver1_11Dec2016_Hive5_initial   \n",
       "\n",
       "                                     accFile trialNum  beeCol  \\\n",
       "0  2016_12_11__14_51_35_856_220_450_test.txt        1  silver   \n",
       "1  2016_12_11__14_51_37_400_220_450_test.txt        1  silver   \n",
       "2  2016_12_11__14_51_38_788_220_450_test.txt        1  silver   \n",
       "3  2016_12_11__14_51_39_641_220_450_test.txt        1  silver   \n",
       "4  2016_12_11__14_51_41_043_220_450_test.txt        1  silver   \n",
       "\n",
       "                 datetime_str lowFrq highFrq  \n",
       "0  2016-12-11 14:51:35.856000    220     450  \n",
       "1  2016-12-11 14:51:37.400000    220     450  \n",
       "2  2016-12-11 14:51:38.788000    220     450  \n",
       "3  2016-12-11 14:51:39.641000    220     450  \n",
       "4  2016-12-11 14:51:41.043000    220     450  "
      ]
     },
     "execution_count": 27,
     "metadata": {},
     "output_type": "execute_result"
    }
   ],
   "source": [
    "big_frame2 = pd.concat([big_frame, rewDF], axis  = 1)\n",
    "big_frame2.head()"
   ]
  },
  {
   "cell_type": "code",
   "execution_count": 28,
   "metadata": {},
   "outputs": [],
   "source": [
    "big_frame2.to_csv('/Users/cswitzer/Dropbox/SonicationBehavior/SonBehData/CombinedBeeTrials_noWingbeats.csv', header = True, index = False)"
   ]
  },
  {
   "cell_type": "code",
   "execution_count": 29,
   "metadata": {},
   "outputs": [
    {
     "name": "stdout",
     "output_type": "stream",
     "text": [
      "{'commit_hash': '5a894b9',\n",
      " 'commit_source': 'installation',\n",
      " 'default_encoding': 'UTF-8',\n",
      " 'ipython_path': '/Users/cswitzer/anaconda/envs/python3/lib/python3.6/site-packages/IPython',\n",
      " 'ipython_version': '5.3.0',\n",
      " 'os_name': 'posix',\n",
      " 'platform': 'Darwin-17.2.0-x86_64-i386-64bit',\n",
      " 'sys_executable': '/Users/cswitzer/anaconda/envs/python3/bin/python',\n",
      " 'sys_platform': 'darwin',\n",
      " 'sys_version': '3.6.1 |Anaconda custom (64-bit)| (default, May 11 2017, '\n",
      "                '13:04:09) \\n'\n",
      "                '[GCC 4.2.1 Compatible Apple LLVM 6.0 (clang-600.0.57)]'}\n"
     ]
    }
   ],
   "source": [
    "# print system info\n",
    "import IPython\n",
    "print(IPython.sys_info())"
   ]
  },
  {
   "cell_type": "code",
   "execution_count": 30,
   "metadata": {},
   "outputs": [
    {
     "name": "stdout",
     "output_type": "stream",
     "text": [
      "alabaster==0.7.10\r\n",
      "anaconda-client==1.6.3\r\n",
      "anaconda-navigator==1.6.2\r\n",
      "anaconda-project==0.6.0\r\n",
      "appnope==0.1.0\r\n",
      "appscript==1.0.1\r\n",
      "asn1crypto==0.22.0\r\n",
      "astroid==1.4.9\r\n",
      "astropy==1.3.2\r\n",
      "Babel==2.4.0\r\n",
      "backports.functools-lru-cache==1.4\r\n",
      "backports.shutil-get-terminal-size==1.0.0\r\n",
      "beautifulsoup4==4.6.0\r\n",
      "bitarray==0.8.1\r\n",
      "blaze==0.10.1\r\n",
      "bleach==1.5.0\r\n",
      "bokeh==0.12.5\r\n",
      "boto==2.46.1\r\n",
      "Bottleneck==1.2.1\r\n",
      "cffi==1.10.0\r\n",
      "chardet==3.0.3\r\n",
      "click==6.7\r\n",
      "cloudpickle==0.2.2\r\n",
      "clyent==1.2.2\r\n",
      "colorama==0.3.9\r\n",
      "conda==4.3.30\r\n",
      "contextlib2==0.5.5\r\n",
      "cryptography==1.8.1\r\n",
      "cycler==0.10.0\r\n",
      "Cython==0.25.2\r\n",
      "cytoolz==0.8.2\r\n",
      "dask==0.14.3\r\n",
      "datashape==0.5.4\r\n",
      "decorator==4.0.11\r\n",
      "distributed==1.16.3\r\n",
      "docutils==0.13.1\r\n",
      "entrypoints==0.2.2\r\n",
      "et-xmlfile==1.0.1\r\n",
      "fastcache==1.0.2\r\n",
      "Flask==0.12.2\r\n",
      "Flask-Cors==3.0.2\r\n",
      "gevent==1.2.1\r\n",
      "greenlet==0.4.12\r\n",
      "h5py==2.7.1\r\n",
      "HeapDict==1.0.0\r\n",
      "html5lib==0.999\r\n",
      "idna==2.5\r\n",
      "imagesize==0.7.1\r\n",
      "ipykernel==4.6.1\r\n",
      "ipython==5.3.0\r\n",
      "ipython-genutils==0.2.0\r\n",
      "ipywidgets==6.0.0\r\n",
      "isort==4.2.5\r\n",
      "itsdangerous==0.24\r\n",
      "jdcal==1.3\r\n",
      "jedi==0.10.2\r\n",
      "Jinja2==2.9.6\r\n",
      "jsonschema==2.6.0\r\n",
      "jupyter-client==5.0.1\r\n",
      "jupyter-console==5.1.0\r\n",
      "jupyter-core==4.3.0\r\n",
      "lazy-object-proxy==1.2.2\r\n",
      "llvmlite==0.18.0\r\n",
      "locket==0.2.0\r\n",
      "lxml==3.7.3\r\n",
      "MarkupSafe==0.23\r\n",
      "matplotlib==2.1.0\r\n",
      "mistune==0.7.4\r\n",
      "mpmath==0.19\r\n",
      "msgpack-python==0.4.8\r\n",
      "multipledispatch==0.4.9\r\n",
      "navigator-updater==0.1.0\r\n",
      "nbconvert==5.1.1\r\n",
      "nbformat==4.3.0\r\n",
      "networkx==1.11\r\n",
      "nltk==3.2.3\r\n",
      "nose==1.3.7\r\n",
      "notebook==5.0.0\r\n",
      "numba==0.33.0\r\n",
      "numexpr==2.6.2\r\n",
      "numpy==1.12.1\r\n",
      "numpydoc==0.6.0\r\n",
      "odo==0.5.0\r\n",
      "olefile==0.44\r\n",
      "openpyxl==2.4.7\r\n",
      "packaging==16.8\r\n",
      "pandas==0.20.1\r\n",
      "pandocfilters==1.4.1\r\n",
      "partd==0.3.8\r\n",
      "pathlib2==2.2.1\r\n",
      "patsy==0.4.1\r\n",
      "pep8==1.7.0\r\n",
      "pexpect==4.2.1\r\n",
      "pickleshare==0.7.4\r\n",
      "Pillow==4.3.0\r\n",
      "ply==3.10\r\n",
      "prompt-toolkit==1.0.14\r\n",
      "psutil==5.2.2\r\n",
      "ptyprocess==0.5.1\r\n",
      "py==1.4.33\r\n",
      "pycosat==0.6.2\r\n",
      "pycparser==2.17\r\n",
      "pycrypto==2.6.1\r\n",
      "pycurl==7.43.0\r\n",
      "pyflakes==1.5.0\r\n",
      "Pygments==2.2.0\r\n",
      "pylint==1.6.4\r\n",
      "pyodbc==4.0.16\r\n",
      "pyOpenSSL==17.0.0\r\n",
      "pyparsing==2.1.4\r\n",
      "pytest==3.0.7\r\n",
      "python-dateutil==2.6.0\r\n",
      "pytz==2017.2\r\n",
      "PyWavelets==0.5.2\r\n",
      "PyYAML==3.12\r\n",
      "pyzmq==16.0.2\r\n",
      "QtAwesome==0.4.4\r\n",
      "qtconsole==4.3.0\r\n",
      "QtPy==1.2.1\r\n",
      "requests==2.14.2\r\n",
      "rope-py3k==0.9.4.post1\r\n",
      "scikit-image==0.13.0\r\n",
      "scikit-learn==0.19.0\r\n",
      "scipy==0.19.1\r\n",
      "seaborn==0.8.1\r\n",
      "simplegeneric==0.8.1\r\n",
      "singledispatch==3.4.0.3\r\n",
      "six==1.10.0\r\n",
      "snowballstemmer==1.2.1\r\n",
      "sortedcollections==0.5.3\r\n",
      "sortedcontainers==1.5.7\r\n",
      "Sphinx==1.5.6\r\n",
      "spyder==3.1.4\r\n",
      "SQLAlchemy==1.1.9\r\n",
      "statsmodels==0.8.0\r\n",
      "sympy==1.0\r\n",
      "tables==3.4.2\r\n",
      "tblib==1.3.2\r\n",
      "terminado==0.6\r\n",
      "testpath==0.3\r\n",
      "toolz==0.8.2\r\n",
      "tornado==4.5.1\r\n",
      "traitlets==4.3.2\r\n",
      "unicodecsv==0.14.1\r\n",
      "wcwidth==0.1.7\r\n",
      "Werkzeug==0.12.2\r\n",
      "widgetsnbextension==2.0.0\r\n",
      "wrapt==1.10.10\r\n",
      "xlrd==1.0.0\r\n",
      "XlsxWriter==0.9.6\r\n",
      "xlwings==0.10.4\r\n",
      "xlwt==1.2.0\r\n",
      "zict==0.1.2\r\n"
     ]
    }
   ],
   "source": [
    "# show installed packages and versions\n",
    "!pip freeze "
   ]
  },
  {
   "cell_type": "code",
   "execution_count": 31,
   "metadata": {},
   "outputs": [
    {
     "name": "stdout",
     "output_type": "stream",
     "text": [
      "[NbConvertApp] Converting notebook 001_CombineTrialsIntoLongCSV.ipynb to html\n",
      "[NbConvertApp] Writing 303003 bytes to 001_CombineTrialsIntoLongCSV.html\n"
     ]
    }
   ],
   "source": [
    "# convert to html, so ppl don't have to run python to see code\n",
    "os.chdir(baseDir)\n",
    "!jupyter nbconvert --to html 001_CombineTrialsIntoLongCSV"
   ]
  },
  {
   "cell_type": "code",
   "execution_count": null,
   "metadata": {
    "collapsed": true
   },
   "outputs": [],
   "source": []
  }
 ],
 "metadata": {
  "anaconda-cloud": {},
  "kernelspec": {
   "display_name": "Python 3",
   "language": "python",
   "name": "python3"
  },
  "language_info": {
   "codemirror_mode": {
    "name": "ipython",
    "version": 3
   },
   "file_extension": ".py",
   "mimetype": "text/x-python",
   "name": "python",
   "nbconvert_exporter": "python",
   "pygments_lexer": "ipython3",
   "version": "3.6.1"
  }
 },
 "nbformat": 4,
 "nbformat_minor": 1
}
