{
 "cells": [
  {
   "cell_type": "markdown",
   "metadata": {
    "collapsed": true
   },
   "source": [
    "# Callin Switzer\n",
    "Read in all csv files from individual trials, and \n",
    "combine into a single long dataset\n"
   ]
  },
  {
   "cell_type": "code",
   "execution_count": null,
   "metadata": {},
   "outputs": [],
   "source": [
    "import numpy as np\n",
    "from matplotlib import pyplot as plt\n",
    "%matplotlib inline\n",
    "\n",
    "import os\n",
    "import pandas as pd\n",
    "import time\n",
    "import re\n",
    "from datetime import datetime\n",
    "import sys\n",
    "import csv\n",
    "import seaborn as sns\n",
    "from collections import Counter\n",
    "from IPython.display import Image\n",
    "\n",
    "from sklearn import linear_model\n",
    "from sklearn.metrics import mean_squared_error, r2_score\n",
    "\n",
    "print(sys.version)\n",
    "\n",
    "now = datetime.now()\n",
    "print(\"last run on \" + str(now))"
   ]
  },
  {
   "cell_type": "code",
   "execution_count": null,
   "metadata": {
    "collapsed": true
   },
   "outputs": [],
   "source": [
    "# define directories\n",
    "baseDir = os.getcwd()\n",
    "dataDir = '/Users/cswitzer/Dropbox/SonicationBehavior/SonBehData/SonicationBehaviorTrials_NoImages/'\n"
   ]
  },
  {
   "cell_type": "code",
   "execution_count": null,
   "metadata": {
    "collapsed": true
   },
   "outputs": [],
   "source": [
    "os.chdir(dataDir)"
   ]
  },
  {
   "cell_type": "code",
   "execution_count": null,
   "metadata": {},
   "outputs": [],
   "source": [
    "fldrs = [f for f in os.listdir(\".\") if not f.startswith('.')]\n",
    "len(fldrs) # should be 232"
   ]
  },
  {
   "cell_type": "code",
   "execution_count": null,
   "metadata": {
    "collapsed": true
   },
   "outputs": [],
   "source": [
    "fldrs.sort(key=lambda x: os.path.getmtime(x)) # sort by time created"
   ]
  },
  {
   "cell_type": "code",
   "execution_count": null,
   "metadata": {
    "collapsed": true
   },
   "outputs": [],
   "source": [
    "# write list of all trials\n",
    "with open(\"/Users/cswitzer/Dropbox/SonicationBehavior/SonBehData/RawDataFilenames.csv\", \"w\") as f:\n",
    "    writer = csv.writer(f)\n",
    "    writer.writerows(np.transpose(np.array([fldrs])))"
   ]
  },
  {
   "cell_type": "code",
   "execution_count": null,
   "metadata": {
    "collapsed": true
   },
   "outputs": [],
   "source": [
    "os.chdir(dataDir)"
   ]
  },
  {
   "cell_type": "code",
   "execution_count": null,
   "metadata": {},
   "outputs": [],
   "source": [
    "# for each folder, open it, and read the ampFreq.txt file\n",
    "\n",
    "folders = fldrs\n",
    "\n",
    "NoFlightFolder = \"/Users/cswitzer/Dropbox/SonicationBehavior/SonBehData/SonicationBehaviorData_FlightsRemoved/\"\n",
    "\n",
    "probs = 0\n",
    "for ii in range(len(folders)):\n",
    "\n",
    "    # read contents of each folder\n",
    "    fcontents = [f for f in os.listdir(folders[ii]) if not f.startswith('.')]\n",
    "\n",
    "    # get ampFreq file(s). there should be one per folder\n",
    "    ampFreqFile = [x for x in fcontents if 'ampFreq.txt' in x]\n",
    "\n",
    "    if len(ampFreqFile) > 1: \n",
    "        print(\"PROBLEM \" + str(ii))\n",
    "\n",
    "\n",
    "    # read ampFreq file\n",
    "    tmpDF = pd.read_table(os.path.join(folders[ii], ampFreqFile[0]), header = None, sep = ',')\n",
    "\n",
    "    # add folder name to data frame\n",
    "    tmpDF[7] = folders[ii]\n",
    "\n",
    "    # add frequency information\n",
    "    folderInFolder = [x for x in fcontents if not 'ampFreq.txt' in x]\n",
    "\n",
    "    if len(folderInFolder) > 1: \n",
    "        print(\"PROBLEM\")\n",
    "        probs += 1\n",
    "\n",
    "    # list files in inner folder\n",
    "    accRecFiles = [x for x in os.listdir(os.path.join(folders[ii], folderInFolder[0])) if not x.startswith('.')]\n",
    "    accRecFiles.sort()\n",
    "\n",
    "    tmpDF[8] = accRecFiles\n",
    "\n",
    "    # remove wingbeats\n",
    "    tmpDF2 = tmpDF.loc[(tmpDF[0] > 220) & (tmpDF[0] < 450)]\n",
    "\n",
    "    # renumber index\n",
    "    tmpDF2.index = (np.arange(1, tmpDF2.shape[0] + 1))\n",
    "\n",
    "    # write to .csv\n",
    "    tmpDF2.to_csv(NoFlightFolder + folders[ii] + '.csv', \n",
    "                 header = False, index = True)\n",
    "    \n",
    "    if np.mod(ii, 10) == 0:\n",
    "        print(ii)\n",
    "    \n",
    "print(str(probs) + \" problems\")"
   ]
  },
  {
   "cell_type": "code",
   "execution_count": null,
   "metadata": {},
   "outputs": [],
   "source": [
    "## combine csv's all into a single file\n",
    "csvDir = NoFlightFolder\n",
    "\n",
    "csvFiles = [f for f in os.listdir(csvDir) if f.endswith('.csv')]\n",
    "\n",
    "np_array_list = []\n",
    "for file_ in csvFiles:\n",
    "    df = pd.read_csv(os.path.join(csvDir, file_),index_col=None, header=None)\n",
    "    np_array_list.append(df.as_matrix())\n",
    "\n",
    "comb_np_array = np.vstack(np_array_list)\n",
    "big_frame = pd.DataFrame(comb_np_array)\n",
    "\n",
    "big_frame.columns = ['index', 'freq', 'amp', 'datetime', 'rewNum', 'rewTF', 'lowRewAmp', 'highrewAmp', 'BeeNumCol', 'accFile']\n",
    "\n",
    "big_frame.head()"
   ]
  },
  {
   "cell_type": "code",
   "execution_count": null,
   "metadata": {},
   "outputs": [],
   "source": [
    "big_frame[\"freq\"].shape"
   ]
  },
  {
   "cell_type": "code",
   "execution_count": null,
   "metadata": {},
   "outputs": [],
   "source": [
    "# plot histogram of frequencies\n",
    "vls = [int(big_frame[\"freq\"][ii]) for ii in range(len(big_frame))]\n",
    "plt.hist(vls, bins = 50)\n",
    "plt.show()"
   ]
  },
  {
   "cell_type": "code",
   "execution_count": null,
   "metadata": {
    "collapsed": true
   },
   "outputs": [],
   "source": [
    "# check to see if datetime and accFile agree\n",
    "eqs = [big_frame['datetime'][ii][1:25] == big_frame['accFile'][ii][0:24] for ii in range(len(big_frame['datetime']))]"
   ]
  },
  {
   "cell_type": "code",
   "execution_count": null,
   "metadata": {},
   "outputs": [],
   "source": [
    "np.sum(np.invert(eqs)) # should be zero if all of them match"
   ]
  },
  {
   "cell_type": "code",
   "execution_count": null,
   "metadata": {},
   "outputs": [],
   "source": [
    "# find the one that doesn't match\n",
    "big_frame.loc[np.invert(eqs)] # now they all match"
   ]
  },
  {
   "cell_type": "markdown",
   "metadata": {},
   "source": [
    "### make a new column for bee color, hive, reward frequency, date, and treatment (initial, high, low)\n",
    "\n"
   ]
  },
  {
   "cell_type": "code",
   "execution_count": null,
   "metadata": {
    "collapsed": true
   },
   "outputs": [],
   "source": [
    "str2 = [big_frame['BeeNumCol'][ii].split(\"Bee\")[1] for ii in range(len(big_frame['BeeNumCol']))]"
   ]
  },
  {
   "cell_type": "code",
   "execution_count": null,
   "metadata": {
    "collapsed": true
   },
   "outputs": [],
   "source": [
    "beeColNum = [str2[ii].split(r'_')[0] for ii in range(len(str2))]"
   ]
  },
  {
   "cell_type": "code",
   "execution_count": null,
   "metadata": {
    "collapsed": true
   },
   "outputs": [],
   "source": [
    "hiveNum = [str2[ii].split(r'_')[2] for ii in range(len(str2))]"
   ]
  },
  {
   "cell_type": "code",
   "execution_count": null,
   "metadata": {
    "collapsed": true
   },
   "outputs": [],
   "source": [
    "hive = [int(re.findall(r'\\d+', ii)[0]) for ii in hiveNum]"
   ]
  },
  {
   "cell_type": "code",
   "execution_count": null,
   "metadata": {
    "collapsed": true
   },
   "outputs": [],
   "source": [
    "# definition for extracting trial number\n",
    "def extractNum(string):\n",
    "    try: \n",
    "        aa =  re.findall(r'\\d+', string)[0]\n",
    "    except:\n",
    "        aa = \"1\"\n",
    "    return(int(aa))\n",
    "    "
   ]
  },
  {
   "cell_type": "code",
   "execution_count": null,
   "metadata": {
    "collapsed": true
   },
   "outputs": [],
   "source": [
    "# get trial number\n",
    "trialNum = [extractNum(ii) for ii in beeColNum]"
   ]
  },
  {
   "cell_type": "code",
   "execution_count": null,
   "metadata": {
    "collapsed": true
   },
   "outputs": [],
   "source": [
    "# function to get only characters\n",
    "def extractChar(string):\n",
    "    return(\" \".join(re.findall(\"[a-zA-Z]+\", string)))"
   ]
  },
  {
   "cell_type": "code",
   "execution_count": null,
   "metadata": {
    "collapsed": true
   },
   "outputs": [],
   "source": [
    "# get just bee color\n",
    "beeCol = [extractChar(strg) for strg in beeColNum]"
   ]
  },
  {
   "cell_type": "code",
   "execution_count": null,
   "metadata": {
    "collapsed": true
   },
   "outputs": [],
   "source": [
    "# get datetime\n",
    "dateTime = [datetime.strptime(dt1, ' %Y_%m_%d__%H_%M_%S_%f') for dt1 in big_frame['datetime']]"
   ]
  },
  {
   "cell_type": "code",
   "execution_count": null,
   "metadata": {
    "collapsed": true
   },
   "outputs": [],
   "source": [
    "# string format time\n",
    "dateTime_format = [datetime.strftime(datetime_object, \"%Y-%m-%d %H:%M:%S.%f\") for datetime_object in dateTime]"
   ]
  },
  {
   "cell_type": "code",
   "execution_count": null,
   "metadata": {
    "collapsed": true
   },
   "outputs": [],
   "source": [
    "# get reward frequencies\n",
    "s1 = big_frame['accFile'][0]"
   ]
  },
  {
   "cell_type": "code",
   "execution_count": null,
   "metadata": {
    "collapsed": true
   },
   "outputs": [],
   "source": [
    "rewFrqs = [s1.split(\"_\")[8:10] for s1 in big_frame['accFile']]\n"
   ]
  },
  {
   "cell_type": "code",
   "execution_count": null,
   "metadata": {
    "collapsed": true
   },
   "outputs": [],
   "source": [
    "rewDF = pd.DataFrame(rewFrqs, columns = ['lowFrq', 'highFrq'])\n",
    "\n",
    "# make sure all reward frequencies are integers\n",
    "rewFrqs = [[int(float(jj)) for jj in ff] for ff in rewFrqs]"
   ]
  },
  {
   "cell_type": "code",
   "execution_count": null,
   "metadata": {
    "collapsed": true
   },
   "outputs": [],
   "source": [
    "# add to big data frame\n",
    "big_frame['hive'] = hive\n",
    "big_frame['trialNum'] = trialNum\n",
    "big_frame['beeCol'] = beeCol\n",
    "big_frame['beeCol'] = big_frame['beeCol'].str.lower()\n",
    "big_frame['datetime_str'] = dateTime_format"
   ]
  },
  {
   "cell_type": "code",
   "execution_count": null,
   "metadata": {},
   "outputs": [],
   "source": [
    "big_frame2 = pd.concat([big_frame, rewDF], axis  = 1)\n",
    "\n",
    "big_frame2.head()"
   ]
  },
  {
   "cell_type": "code",
   "execution_count": null,
   "metadata": {
    "collapsed": true
   },
   "outputs": [],
   "source": [
    "# remove test rows\n",
    "big_frame2 = big_frame2.loc[big_frame2['beeCol'] != \"testtestphoto\",:]"
   ]
  },
  {
   "cell_type": "code",
   "execution_count": null,
   "metadata": {
    "collapsed": true
   },
   "outputs": [],
   "source": [
    "# fix typo -- accidentally wrote \"whitred\" instead of whitered\n",
    "big_frame2[\"beeCol\"] = big_frame2[\"beeCol\"].replace(\"whitred\", \"whitered\")"
   ]
  },
  {
   "cell_type": "code",
   "execution_count": null,
   "metadata": {},
   "outputs": [],
   "source": [
    "big_frame2.shape"
   ]
  },
  {
   "cell_type": "code",
   "execution_count": null,
   "metadata": {
    "collapsed": true
   },
   "outputs": [],
   "source": [
    "big_frame2.to_csv('/Users/cswitzer/Dropbox/SonicationBehavior/SonBehData/CombinedBeeTrials_noWingbeats.csv', header = True, index = False)"
   ]
  },
  {
   "cell_type": "markdown",
   "metadata": {},
   "source": [
    "## Incorporate IT-Span Information"
   ]
  },
  {
   "cell_type": "code",
   "execution_count": null,
   "metadata": {
    "collapsed": true
   },
   "outputs": [],
   "source": [
    "#%qtconsole"
   ]
  },
  {
   "cell_type": "code",
   "execution_count": null,
   "metadata": {
    "collapsed": true
   },
   "outputs": [],
   "source": [
    "dataDir2 = '/Users/cswitzer/Dropbox/SonicationBehavior/SonBehData/BeeMetaData/'"
   ]
  },
  {
   "cell_type": "code",
   "execution_count": null,
   "metadata": {},
   "outputs": [],
   "source": [
    "## Add IT Span to dataset\n",
    "md = pd.read_csv(dataDir2 + \"BeeMetaData1.csv\")\n",
    "print(md.shape)\n",
    "md2 = pd.read_csv(dataDir2 + \"BeeMetaData2.csv\")\n",
    "print(md2.shape)"
   ]
  },
  {
   "cell_type": "code",
   "execution_count": null,
   "metadata": {},
   "outputs": [],
   "source": [
    "md_comb = pd.concat([md, md2])\n",
    "md_comb.shape"
   ]
  },
  {
   "cell_type": "code",
   "execution_count": null,
   "metadata": {},
   "outputs": [],
   "source": [
    "md_comb= md_comb[pd.notnull(md_comb['IT'])]\n",
    "md_comb.shape"
   ]
  },
  {
   "cell_type": "code",
   "execution_count": null,
   "metadata": {},
   "outputs": [],
   "source": [
    "md_sub = md_comb.loc[:, ['BeeColorNum', 'IT', 'Hive']]\n",
    "md_sub = md_sub.reset_index(drop=True)\n",
    "md_sub['Hive'] = md_sub['Hive'].astype(int)\n",
    "md_sub"
   ]
  },
  {
   "cell_type": "code",
   "execution_count": null,
   "metadata": {},
   "outputs": [],
   "source": [
    "# check to make sure each row is unique\n",
    "print(len(md_sub))\n",
    "print(len(np.unique(md_sub['BeeColorNum'])))"
   ]
  },
  {
   "cell_type": "markdown",
   "metadata": {},
   "source": [
    "### Merge metadata into full dataset\n",
    "\n"
   ]
  },
  {
   "cell_type": "code",
   "execution_count": null,
   "metadata": {},
   "outputs": [],
   "source": [
    "bf2 = big_frame2.merge(md_sub, left_on =['beeCol', 'hive'], right_on = [\"BeeColorNum\", \"Hive\"], how = 'outer', indicator = True)\n",
    "bf2.head()"
   ]
  },
  {
   "cell_type": "code",
   "execution_count": null,
   "metadata": {},
   "outputs": [],
   "source": [
    "Counter(bf2._merge) # shows 144 rows that don't have IT span metadata"
   ]
  },
  {
   "cell_type": "code",
   "execution_count": null,
   "metadata": {},
   "outputs": [],
   "source": [
    "# show rows where IT span is missing\n",
    "bf2[bf2['_merge'] == \"left_only\"]"
   ]
  },
  {
   "cell_type": "code",
   "execution_count": null,
   "metadata": {},
   "outputs": [],
   "source": [
    "np.unique(bf2[bf2['_merge'] == \"left_only\"][\"beeCol\"])"
   ]
  },
  {
   "cell_type": "code",
   "execution_count": null,
   "metadata": {},
   "outputs": [],
   "source": [
    "# make sure hive matches, except for the missing bees -- should be 144\n",
    "np.sum(bf2[\"Hive\"] != bf2[\"hive\"])"
   ]
  },
  {
   "cell_type": "code",
   "execution_count": null,
   "metadata": {},
   "outputs": [],
   "source": [
    "# show all the possible treatments done in the experiments\n",
    "bf2.groupby(['lowFrq','highFrq']).size().reset_index().rename(columns={0:'count'})"
   ]
  },
  {
   "cell_type": "code",
   "execution_count": null,
   "metadata": {},
   "outputs": [],
   "source": [
    "# add treatment to dataset\n",
    "trt = []\n",
    "for ii in range(len(bf2)):\n",
    "    low = int(float(bf2.lowFrq[ii]))\n",
    "    high = int(float(bf2.highFrq[ii]))\n",
    "    if((low == 220.0)  & (high == 450.0)):\n",
    "        trt.append('full')\n",
    "    elif(low == 500):\n",
    "        trt.append('unrewarded')\n",
    "    elif(low > 330):\n",
    "        trt.append('high')\n",
    "    elif((low < 250) & (high <= 350)):\n",
    "        trt.append('low')\n",
    "    else:\n",
    "        trt.append('unknown')\n",
    "print(len(trt))\n",
    "print(len(trt) == len(bf2))"
   ]
  },
  {
   "cell_type": "code",
   "execution_count": null,
   "metadata": {},
   "outputs": [],
   "source": [
    "Counter(trt)"
   ]
  },
  {
   "cell_type": "code",
   "execution_count": null,
   "metadata": {
    "collapsed": true
   },
   "outputs": [],
   "source": [
    "\n",
    "bf2['trt'] = trt"
   ]
  },
  {
   "cell_type": "code",
   "execution_count": null,
   "metadata": {},
   "outputs": [],
   "source": [
    "print(bf2.shape)\n",
    "bf2.head()"
   ]
  },
  {
   "cell_type": "code",
   "execution_count": null,
   "metadata": {
    "collapsed": true
   },
   "outputs": [],
   "source": [
    "# save to .csv file\n",
    "bf2.to_csv('/Users/cswitzer/Dropbox/SonicationBehavior/SonBehData/CombinedBeeTrials_noWingbeats.csv', header = True, index = False)"
   ]
  },
  {
   "cell_type": "code",
   "execution_count": null,
   "metadata": {},
   "outputs": [],
   "source": [
    "# impute missing IT spans for 144 rows -- using data from \n",
    "# trials when bees were rewarded for the full range -- 220 - 450\n",
    "smdf = bf2.loc[bf2['trt'] == 'full', :]\n",
    "len(smdf)"
   ]
  },
  {
   "cell_type": "code",
   "execution_count": null,
   "metadata": {},
   "outputs": [],
   "source": [
    "smdf = smdf.reset_index(drop=True)\n",
    "smdf.head()"
   ]
  },
  {
   "cell_type": "code",
   "execution_count": null,
   "metadata": {},
   "outputs": [],
   "source": [
    "# show histogram of buzzes\n",
    "vls = np.array(smdf.freq).reshape(-1,1)\n",
    "plt.hist(vls, bins = np.arange(215, 455, 10))\n",
    "plt.show()"
   ]
  },
  {
   "cell_type": "code",
   "execution_count": null,
   "metadata": {
    "collapsed": true
   },
   "outputs": [],
   "source": [
    "smdf['freq'] = [int(smdf.loc[ii, 'freq']) for ii in range(len(smdf))]"
   ]
  },
  {
   "cell_type": "code",
   "execution_count": null,
   "metadata": {},
   "outputs": [],
   "source": [
    "indBees = pd.DataFrame(smdf.groupby(['beeCol', 'hive'], as_index=False)['freq'].mean())\n",
    "print(len(indBees))\n",
    "indBees.head()"
   ]
  },
  {
   "cell_type": "code",
   "execution_count": null,
   "metadata": {},
   "outputs": [],
   "source": [
    "# get bee frequencies (excluding the missing bees)\n",
    "indFreqs = pd.DataFrame(smdf.groupby(['beeCol', 'hive', 'IT'], as_index=False)['freq'].mean())\n",
    "print(len(indFreqs))\n",
    "indFreqs.head()"
   ]
  },
  {
   "cell_type": "code",
   "execution_count": null,
   "metadata": {},
   "outputs": [],
   "source": [
    "# merge datasets\n",
    "beeFreq = indBees.merge(indFreqs, how = 'outer', indicator = True)\n",
    "print(len(beeFreq))\n",
    "beeFreq.head()"
   ]
  },
  {
   "cell_type": "code",
   "execution_count": null,
   "metadata": {},
   "outputs": [],
   "source": [
    "# use linear regression to estimate relationship between avg freq and IT span\n",
    "\n",
    "# Use only one feature\n",
    "freq_X_train = np.array(indFreqs.loc[:,\"freq\"]).reshape(-1,1)\n",
    "freq_X_test = np.array(beeFreq.loc[beeFreq[\"_merge\"] == 'left_only', \"freq\"]).reshape(-1,1)\n",
    "\n",
    "# response variable\n",
    "freq_y_train = np.array(indFreqs.loc[:, \"IT\"]).reshape(-1,1)\n",
    "\n",
    "\n",
    "# Create linear regression object\n",
    "regr = linear_model.LinearRegression()\n",
    "\n",
    "# Train the model using the training sets\n",
    "regr.fit(freq_X_train, freq_y_train)\n",
    "\n",
    "# Make predictions using the testing set\n",
    "freq_y_pred = np.round(regr.predict(freq_X_test), 2)\n",
    "freq_y_pred, 2"
   ]
  },
  {
   "cell_type": "code",
   "execution_count": null,
   "metadata": {},
   "outputs": [],
   "source": [
    "train = plt.scatter(freq_X_train, freq_y_train, label = \"raw data\")\n",
    "lne = np.arange(280, 400).reshape(-1,1)\n",
    "pred, = plt.plot(lne, regr.predict(lne), color = 'green', label='predicted line')\n",
    "imputedVals = plt.scatter(freq_X_test, freq_y_pred, color = 'r', label = \"imputed values\")\n",
    "\n",
    "plt.legend(handles=[pred, train, imputedVals])\n",
    "plt.show()"
   ]
  },
  {
   "cell_type": "markdown",
   "metadata": {},
   "source": [
    "###  Put imputed values back into dataset\n"
   ]
  },
  {
   "cell_type": "code",
   "execution_count": null,
   "metadata": {},
   "outputs": [],
   "source": [
    "naSet = beeFreq.loc[beeFreq[\"_merge\"] == 'left_only', :].copy()\n",
    "naSet[\"IT\"]= freq_y_pred\n",
    "naSet = naSet.rename(index=str, columns={\"IT\": \"IT_imputed\"})\n",
    "naSet.head()\n",
    "naSet = naSet.drop([\"_merge\", 'freq'], axis = 1)\n",
    "naSet"
   ]
  },
  {
   "cell_type": "code",
   "execution_count": null,
   "metadata": {},
   "outputs": [],
   "source": [
    "bb2 = beeFreq.copy()\n",
    "\n",
    "bb2.loc[np.isnan(bb2[\"IT\"]), \"IT\"] = np.array(naSet[\"IT_imputed\"])\n",
    "bb2 = bb2.rename(index = str, columns = {\"IT\": \"IT_imputed\", \"freq\": \"meanFreq\"})\n",
    "bb2 = bb2.drop(\"_merge\", axis = 1)\n",
    "bb2.head()"
   ]
  },
  {
   "cell_type": "code",
   "execution_count": null,
   "metadata": {},
   "outputs": [],
   "source": [
    "print(bf2.shape)\n",
    "bf2.head()"
   ]
  },
  {
   "cell_type": "code",
   "execution_count": null,
   "metadata": {},
   "outputs": [],
   "source": [
    "beeFreq2 = pd.merge(left = bb2, right = bf2.drop(\"_merge\", axis = 1), on = [\"beeCol\", \"hive\"], how = 'outer', indicator = \"BothDFS\")\n",
    "# fill na's for IT_imputed\n",
    "beeFreq2['IT_imputed'] = beeFreq2['IT_imputed'].fillna(beeFreq2['IT'])\n",
    "\n",
    "print(beeFreq2.shape)\n",
    "beeFreq2.head()"
   ]
  },
  {
   "cell_type": "code",
   "execution_count": null,
   "metadata": {},
   "outputs": [],
   "source": [
    "Counter(beeFreq2.BothDFS) \n",
    "# the 240 were bees that were never rewarded \n",
    "# for the full range (220 - 450 hz)"
   ]
  },
  {
   "cell_type": "code",
   "execution_count": null,
   "metadata": {
    "collapsed": true
   },
   "outputs": [],
   "source": [
    "bcs = np.unique(beeFreq2.beeCol)\n",
    "noFull = []\n",
    "for ii in bcs:\n",
    "    levels = np.unique(beeFreq2.loc[beeFreq2.beeCol == ii, \"trt\"])\n",
    "    if \"full\" not in levels:\n",
    "        noFull.append([ii, len(beeFreq2.loc[beeFreq2.beeCol == ii, \"trt\"]), levels])"
   ]
  },
  {
   "cell_type": "code",
   "execution_count": null,
   "metadata": {},
   "outputs": [],
   "source": [
    "noFull # these treatments add up to 240"
   ]
  },
  {
   "cell_type": "code",
   "execution_count": null,
   "metadata": {
    "collapsed": true
   },
   "outputs": [],
   "source": [
    "beeFreq2.drop([\"BothDFS\", \"BeeColorNum\", \"Hive\"], axis = 1).to_csv('/Users/cswitzer/Dropbox/SonicationBehavior/SonBehData/CombinedBeeTrials_noWingbeats.csv', header = True, index = False)"
   ]
  },
  {
   "cell_type": "code",
   "execution_count": null,
   "metadata": {},
   "outputs": [],
   "source": [
    "beeFreq2.shape"
   ]
  },
  {
   "cell_type": "code",
   "execution_count": null,
   "metadata": {},
   "outputs": [],
   "source": [
    "np.sum(np.isnan(beeFreq2.IT_imputed))"
   ]
  },
  {
   "cell_type": "markdown",
   "metadata": {},
   "source": [
    "### Make a clean dataset for analysis"
   ]
  },
  {
   "cell_type": "code",
   "execution_count": null,
   "metadata": {
    "collapsed": true
   },
   "outputs": [],
   "source": [
    "beeFreq3 = beeFreq2.drop([\"BothDFS\", \"BeeColorNum\", \"Hive\"], axis = 1).copy()"
   ]
  },
  {
   "cell_type": "code",
   "execution_count": null,
   "metadata": {},
   "outputs": [],
   "source": [
    "beeFreq2.groupby(['lowFrq','highFrq']).size().reset_index().rename(columns={0:'count'})"
   ]
  },
  {
   "cell_type": "code",
   "execution_count": null,
   "metadata": {
    "collapsed": true
   },
   "outputs": [],
   "source": [
    "keep1 = ((pd.to_numeric(beeFreq3[\"lowFrq\"]) == 220) & (pd.to_numeric(beeFreq3[\"highFrq\"]) == 330))\n",
    "keep2 = ((pd.to_numeric(beeFreq3[\"lowFrq\"]) == 220) & (pd.to_numeric(beeFreq3[\"highFrq\"]) == 450))\n",
    "keep3 = ((pd.to_numeric(beeFreq3[\"lowFrq\"]) == 338) & (pd.to_numeric(beeFreq3[\"highFrq\"]) == 388))\n",
    "\n",
    "beeFreq4 = beeFreq3.loc[keep1 | keep2 |keep3, :]"
   ]
  },
  {
   "cell_type": "code",
   "execution_count": null,
   "metadata": {},
   "outputs": [],
   "source": [
    "beeFreq4.head()"
   ]
  },
  {
   "cell_type": "code",
   "execution_count": null,
   "metadata": {},
   "outputs": [],
   "source": [
    "print(beeFreq4.shape)\n",
    "beeFreq4.groupby(['lowFrq','highFrq']).size().reset_index().rename(columns={0:'count'})"
   ]
  },
  {
   "cell_type": "code",
   "execution_count": null,
   "metadata": {},
   "outputs": [],
   "source": [
    "# remove whitepink, trial 2, full treatment (11 rows that were messed up)\n",
    "pinkError = ((beeFreq4.beeCol == \"whitepink\") & (beeFreq4.trialNum == 2) & (beeFreq4.trt == \"full\"))\n",
    "beeFreq5 = beeFreq4.loc[~pinkError, :]\n",
    "beeFreq5.shape"
   ]
  },
  {
   "cell_type": "code",
   "execution_count": null,
   "metadata": {},
   "outputs": [],
   "source": [
    "# remove orange trial 1, high treatment (another error)\n",
    "orangeError = ((beeFreq5.beeCol == \"orange\") & (beeFreq5.trialNum == 1) & (beeFreq5.trt == \"high\"))\n",
    "beeFreq6 = beeFreq5.loc[~orangeError, :]\n",
    "beeFreq6.shape"
   ]
  },
  {
   "cell_type": "code",
   "execution_count": null,
   "metadata": {},
   "outputs": [],
   "source": [
    "# make new column that shows amplitude of acceleration in m/s/s\n",
    "#this image shows the calibration for the accelerometer\n",
    "Image(\"/Users/cswitzer/Dropbox/SonicationBehavior/accelerometer_calib.jpeg\", width = 300)"
   ]
  },
  {
   "cell_type": "code",
   "execution_count": null,
   "metadata": {},
   "outputs": [],
   "source": [
    "# conversion for acceleration (based on image above)\n",
    "beeFreq7 = beeFreq6.copy()\n",
    "beeFreq7[\"amp_acc\"] = (beeFreq7.amp * 1000.0) / 10.17"
   ]
  },
  {
   "cell_type": "code",
   "execution_count": null,
   "metadata": {
    "collapsed": true
   },
   "outputs": [],
   "source": [
    "beeFreq7.to_csv('/Users/cswitzer/Dropbox/SonicationBehavior/SonBehData/01_CombinedTrials_cleaned.csv', header = True, index = False)"
   ]
  },
  {
   "cell_type": "code",
   "execution_count": null,
   "metadata": {},
   "outputs": [],
   "source": [
    "# print system info\n",
    "import IPython\n",
    "print(IPython.sys_info())"
   ]
  },
  {
   "cell_type": "code",
   "execution_count": null,
   "metadata": {},
   "outputs": [],
   "source": [
    "# show installed packages and versions\n",
    "!pip freeze "
   ]
  },
  {
   "cell_type": "code",
   "execution_count": null,
   "metadata": {},
   "outputs": [],
   "source": [
    "# convert to html, so ppl don't have to run python to see code\n",
    "os.chdir(baseDir)\n",
    "!jupyter nbconvert --to html 001_CombineTrialsIntoLongCSV"
   ]
  }
 ],
 "metadata": {
  "anaconda-cloud": {},
  "kernelspec": {
   "display_name": "Python 3",
   "language": "python",
   "name": "python3"
  },
  "language_info": {
   "codemirror_mode": {
    "name": "ipython",
    "version": 3
   },
   "file_extension": ".py",
   "mimetype": "text/x-python",
   "name": "python",
   "nbconvert_exporter": "python",
   "pygments_lexer": "ipython3",
   "version": "3.6.1"
  }
 },
 "nbformat": 4,
 "nbformat_minor": 1
}
