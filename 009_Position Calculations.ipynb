{
 "cells": [
  {
   "cell_type": "code",
   "execution_count": 1,
   "metadata": {
    "collapsed": true
   },
   "outputs": [],
   "source": [
    "import pandas as pd\n",
    "import numpy as np\n",
    "%matplotlib inline\n",
    "import matplotlib.pyplot as plt\n",
    "from matplotlib import gridspec\n",
    "import seaborn as sns\n",
    "import os\n",
    "import csv\n",
    "import time\n",
    "from scipy import signal"
   ]
  },
  {
   "cell_type": "code",
   "execution_count": 2,
   "metadata": {
    "collapsed": true
   },
   "outputs": [],
   "source": [
    "def readMyFile(filename):\n",
    "    \n",
    "    '''Read in csv 10x faster than pandas'''\n",
    "    \n",
    "    tmpdta = []\n",
    " \n",
    "    with open(filename, newline=\"\\n\") as csvDataFile:\n",
    "        csvReader = csv.reader(csvDataFile, delimiter=' ', quoting=csv.QUOTE_NONNUMERIC)\n",
    "        for row in csvReader:\n",
    "            tmpdta.append(row)\n",
    " \n",
    "    return(pd.DataFrame(np.transpose(tmpdta)))"
   ]
  },
  {
   "cell_type": "code",
   "execution_count": 267,
   "metadata": {},
   "outputs": [],
   "source": [
    "# fft class\n",
    "\n",
    "class fft_:\n",
    "    \n",
    "    '''\n",
    "    Does fft spectrum with accelerometer data\n",
    "    \n",
    "    '''\n",
    "    def __init__(self, timesteps, sigl, cutoff = 200):\n",
    "        self.timesteps = timesteps\n",
    "        self.sigl = sigl - np.mean(sigl)\n",
    "        self.log_rate = len(self.timesteps)*(1/(np.round(np.max(self.timesteps), decimals = 1)))\n",
    "        \n",
    "    \n",
    "    def butter_highpass(self, order=5):\n",
    "        self.order = order\n",
    "        nyq = 0.5 * self.log_rate\n",
    "        normal_cutoff = self.cutoff / nyq\n",
    "        b, a = signal.butter(self.order, normal_cutoff, btype='high', analog=False)\n",
    "        return b,a\n",
    "\n",
    "    def butter_highpass_filter(self, sigToFilter, cutoff = 200, order=5):\n",
    "        self.cutoff = cutoff\n",
    "        b, a = self.butter_highpass()\n",
    "        newSig = np.concatenate([np.flip(sigToFilter[0:5000], axis = 0),\n",
    "                                 sigToFilter, \n",
    "                                 sigToFilter[15000:len(sigToFilter)]])\n",
    "        y = signal.filtfilt(b, a, newSig)\n",
    "        self.filtered_sigl = y[5000:25000]\n",
    "        \n",
    "    \n",
    "    def filterAcc(self):\n",
    "        self.butter_highpass_filter(sigToFilter= self.sigl, cutoff = 220)\n",
    "        self.filtered_acc = self.filtered_sigl - np.mean(self.filtered_sigl)\n",
    "    \n",
    "    \n",
    "    def doubleIntegrate(self, sigToIntegrate):\n",
    "        vel = np.cumsum(sigToIntegrate)/self.log_rate\n",
    "        pos = np.cumsum(vel - np.mean(vel)) / self.log_rate\n",
    "        self.pos_unfilt = pos - np.mean(pos)\n",
    "        \n",
    "        # highpass filter position\n",
    "        self.butter_highpass_filter(sigToFilter= pos, cutoff = 100)\n",
    "        self.pos = self.filtered_sigl - np.mean(self.filtered_sigl)\n",
    "         \n",
    "    \n",
    "    def fft_fit(self, inputSignal):\n",
    "        n =len(inputSignal) # length of the sigl\n",
    "        k = np.arange(n, step = 1)\n",
    "        T = n/self.log_rate\n",
    "        frq = k/T # two sides frequency range\n",
    "        frq = frq[range(int(n/2))] # one side frequency range\n",
    "\n",
    "        # fft computing and normalization (note that *2 is so that it is scaled properly)\n",
    "        Y = np.fft.fft(inputSignal)/n *2 \n",
    "        Y = Y[range(int(n/2))]\n",
    "\n",
    "        # calculate top frequency\n",
    "        ind = np.argpartition(abs(Y), -4)[-4:]\n",
    "        \n",
    "        # Find highest point on the spectrum\n",
    "        self.peakFrq = frq[ind[::-1]]\n",
    "        self.pwr = (abs(Y)[ind[::-1]])\n",
    "        \n",
    "        self.dominant_freq = [x for (y,x) in sorted(zip(self.pwr,self.peakFrq), reverse = True)][0]\n",
    "        self.max_amp = self.pwr[self.peakFrq == self.dominant_freq]\n",
    "        self.Y = Y\n",
    "        self.frq = frq\n",
    "        self.fftSignal = inputSignal\n",
    "        \n",
    "        \n",
    "        \n",
    "    def plot_fft(self, title = \"\"):    \n",
    "        plt.figure(figsize=(10,4))\n",
    "        gs = gridspec.GridSpec(1, 2, width_ratios=[2,2]) \n",
    "\n",
    "        # create subplot 1\n",
    "        ax1 = plt.subplot(gs[0])\n",
    "        ax1.plot(self.timesteps[0:len(self.fftSignal)],self.fftSignal, color = 'black', linewidth=0.5)\n",
    "        ax1.set_title(title + \" signal\")\n",
    "    \n",
    "        # subplot 2\n",
    "        ax2 = plt.subplot(gs[1])\n",
    "        ax2.plot(self.frq, abs(self.Y), color = \"black\", linewidth=0.5)\n",
    "        ax2.plot(self.dominant_freq, self.max_amp,'o', color = 'black', markersize = 5)\n",
    "        ax2.set_xlim(-0, 1003)\n",
    "        ax2.set_title(title + \" FFT spectrum\")\n",
    "        plt.show()"
   ]
  },
  {
   "cell_type": "code",
   "execution_count": 158,
   "metadata": {
    "collapsed": true
   },
   "outputs": [],
   "source": [
    "# forget about envelope for now -- just find position amplitude for all recordings\n",
    "HeavyLight = \"/Users/cswitzer/Dropbox/SonicationBehavior/SonBehData/02_HeavyLight_cleaned.csv\"\n",
    "hl = pd.read_csv(HeavyLight)\n",
    "\n",
    "dd = \"/Users/cswitzer/Dropbox/SonicationBehavior/SonBehData/SonicationBehavior_HeavyLight/\"\n",
    "\n",
    "allFolders = np.unique(hl.accFileAndFolder)"
   ]
  },
  {
   "cell_type": "code",
   "execution_count": null,
   "metadata": {
    "collapsed": true
   },
   "outputs": [],
   "source": [
    "foldNum = 2\n",
    "ii += 1\n",
    "tmpF = os.path.join(dd, allFolders[foldNum])\n",
    "tmpDF = pd.read_csv(tmpF, header = None)\n",
    "tmpDF.columns = [\"frq\", \"MaxMinAmp\", \"fname_short\", \"dd\", \"TT\", \"AA\", \"BB\"]\n",
    "tmpDF.fname_short = [ff.strip() for ff in tmpDF.fname_short]\n",
    "\n",
    "fold = os.path.join(dd, allFolders[foldNum]).split(\"_ampFreq.txt\")[0]\n",
    "\n",
    "accRecs = [f for f in os.listdir(fold) if not f.startswith(\".\") ]\n",
    "\n",
    "ar = accRecs[ii]\n",
    "tmpdf1 = readMyFile(os.path.join(fold, ar))\n",
    "timesteps = tmpdf1.iloc[:,0 ]\n",
    "sig = np.array(tmpdf1.iloc[:,1]*1000 / 10.17)\n",
    "\n",
    "sigProc = fft_(timesteps, sig)\n",
    "sigProc.fft_fit(sigProc.sigl)\n",
    "sigProc.plot_fft(title = \"Original Acceleration\")\n",
    "\n",
    "sigProc.filterAcc()\n",
    "sigProc.fft_fit(sigProc.filtered_acc)\n",
    "sigProc.plot_fft(title = \"Filtered Acceleration\")\n",
    "\n",
    "\n",
    "sigProc.doubleIntegrate(sigProc.filtered_sigl)\n",
    "sigProc.fft_fit(sigProc.pos_unfilt)\n",
    "sigProc.plot_fft(title =  \"Position (no filt)\")\n",
    "\n",
    "sigProc.fft_fit(sigProc.pos)\n",
    "sigProc.plot_fft(title =  \"Position (h.p. filt'd')\")\n",
    "\n",
    "\n",
    "# envelope\n",
    "accMxs = pd.Series(abs(sigProc.filtered_acc -np.mean(sigProc.filtered_acc))).rolling(int(700), center = True, min_periods = 1).max().tolist()\n",
    "\n",
    "# plt.plot(abs(sigProc.filtered_acc -np.mean(sigProc.filtered_acc)))\n",
    "# plt.plot(accMxs)\n",
    "# plt.show()\n",
    "\n",
    "\n",
    "mxs = pd.Series(abs(sigProc.pos)).rolling(int(700), center = True, min_periods = 1).max().tolist()\n",
    "# plt.plot(abs(sigProc.pos -np.mean(sigProc.pos)))\n",
    "# plt.plot(mxs)\n",
    "# plt.show()\n",
    "\n",
    "aa = np.array(np.where(np.array(accMxs) > 2.0))\n",
    "bb = aa.flatten()\n",
    "\n",
    "if bb.shape[0] > 0:\n",
    "\n",
    "    plt.plot(sigProc.pos )\n",
    "    plt.title(\"position with amplitude drawn\")\n",
    "\n",
    "\n",
    "    plt.plot(bb, sigProc.pos[np.array(accMxs) > 2.0])\n",
    "\n",
    "    maxCut = np.array(mxs)[np.array(accMxs) > 2.0]\n",
    "    mm = np.mean(np.unique(maxCut))\n",
    "\n",
    "    plt.hlines(xmin = 0, xmax = 20000, y = [mm, - mm])\n",
    "    print(np.mean(np.unique(mm)))"
   ]
  },
  {
   "cell_type": "code",
   "execution_count": 257,
   "metadata": {},
   "outputs": [
    {
     "data": {
      "text/plain": [
       "[<matplotlib.lines.Line2D at 0x129b29a90>]"
      ]
     },
     "execution_count": 257,
     "metadata": {},
     "output_type": "execute_result"
    },
    {
     "data": {
      "image/png": "[encoded data removed]",
      "text/plain": [
       "<matplotlib.figure.Figure at 0x1296c1978>"
      ]
     },
     "metadata": {},
     "output_type": "display_data"
    }
   ],
   "source": [
    "plt.plot(sigProc.pos)"
   ]
  },
  {
   "cell_type": "code",
   "execution_count": 213,
   "metadata": {},
   "outputs": [
    {
     "data": {
      "text/plain": [
       "[<matplotlib.lines.Line2D at 0x12ac545c0>]"
      ]
     },
     "execution_count": 213,
     "metadata": {},
     "output_type": "execute_result"
    },
    {
     "data": {
      "image/png": "[encoded data removed]",
      "text/plain": [
       "<matplotlib.figure.Figure at 0x12ac54588>"
      ]
     },
     "metadata": {},
     "output_type": "display_data"
    }
   ],
   "source": [
    "newSig = np.concatenate([np.flip(sigProc.sigl[0:5000], axis = 0),sigProc.sigl, sigProc.sigl[15000:len(sigProc.sigl)]])\n",
    "plt.plot(newSig)"
   ]
  },
  {
   "cell_type": "code",
   "execution_count": null,
   "metadata": {
    "collapsed": true
   },
   "outputs": [],
   "source": []
  },
  {
   "cell_type": "code",
   "execution_count": null,
   "metadata": {
    "collapsed": true
   },
   "outputs": [],
   "source": []
  },
  {
   "cell_type": "code",
   "execution_count": null,
   "metadata": {
    "collapsed": true
   },
   "outputs": [],
   "source": []
  },
  {
   "cell_type": "code",
   "execution_count": null,
   "metadata": {
    "collapsed": true
   },
   "outputs": [],
   "source": []
  },
  {
   "cell_type": "code",
   "execution_count": null,
   "metadata": {
    "collapsed": true
   },
   "outputs": [],
   "source": []
  },
  {
   "cell_type": "code",
   "execution_count": null,
   "metadata": {
    "collapsed": true
   },
   "outputs": [],
   "source": []
  },
  {
   "cell_type": "code",
   "execution_count": 7,
   "metadata": {},
   "outputs": [
    {
     "ename": "TypeError",
     "evalue": "__init__() missing 2 required positional arguments: 'timesteps' and 'sigl'",
     "output_type": "error",
     "traceback": [
      "\u001b[0;31m---------------------------------------------------------------------------\u001b[0m",
      "\u001b[0;31mTypeError\u001b[0m                                 Traceback (most recent call last)",
      "\u001b[0;32m<ipython-input-7-5a0429bd8b86>\u001b[0m in \u001b[0;36m<module>\u001b[0;34m()\u001b[0m\n\u001b[1;32m     19\u001b[0m \u001b[0;34m\u001b[0m\u001b[0m\n\u001b[1;32m     20\u001b[0m         \u001b[0;31m# compute fft and save\u001b[0m\u001b[0;34m\u001b[0m\u001b[0;34m\u001b[0m\u001b[0m\n\u001b[0;32m---> 21\u001b[0;31m         \u001b[0mfft\u001b[0m \u001b[0;34m=\u001b[0m \u001b[0mfft_\u001b[0m\u001b[0;34m(\u001b[0m\u001b[0;34m)\u001b[0m\u001b[0;34m\u001b[0m\u001b[0m\n\u001b[0m\u001b[1;32m     22\u001b[0m \u001b[0;34m\u001b[0m\u001b[0m\n\u001b[1;32m     23\u001b[0m         \u001b[0;31m# convert signal to m/s/s (*1000 / 10.17)\u001b[0m\u001b[0;34m\u001b[0m\u001b[0;34m\u001b[0m\u001b[0m\n",
      "\u001b[0;31mTypeError\u001b[0m: __init__() missing 2 required positional arguments: 'timesteps' and 'sigl'"
     ]
    }
   ],
   "source": [
    "for foldNum in range(len(allFolders)):\n",
    "    tmpF = os.path.join(dd, allFolders[foldNum])\n",
    "    tmpDF = pd.read_csv(tmpF, header = None)\n",
    "    tmpDF.columns = [\"frq\", \"MaxMinAmp\", \"fname_short\", \"dd\", \"TT\", \"AA\", \"BB\"]\n",
    "    tmpDF.fname_short = [ff.strip() for ff in tmpDF.fname_short]\n",
    "\n",
    "\n",
    "\n",
    "    fold = os.path.join(dd, allFolders[foldNum]).split(\"_ampFreq.txt\")[0]\n",
    "\n",
    "    accRecs = [f for f in os.listdir(fold) if not f.startswith(\".\") ]\n",
    "\n",
    "\n",
    "\n",
    "    for ii in range(len(accRecs)):\n",
    "        # read in data\n",
    "        ar = accRecs[ii]\n",
    "        tmpdf1 = readMyFile(os.path.join(fold, ar))\n",
    "\n",
    "        # compute fft and save\n",
    "        fft = fft_()\n",
    "\n",
    "        # convert signal to m/s/s (*1000 / 10.17)\n",
    "        fft.fit(timesteps = tmpdf1.iloc[:,0 ], signal = np.array(tmpdf1.iloc[:,1]*1000 / 10.17))\n",
    "        #print(fft.dominant_freq, fft.max_amp)\n",
    "\n",
    "        if ii == 0:\n",
    "            tmpDF2 = np.hstack([ar, fft.dominant_freq, fft.max_amp[0], fft.amp_pos])\n",
    "\n",
    "        else:\n",
    "            tmpDF2 = np.vstack([tmpDF2, np.hstack([ar, int(fft.dominant_freq), fft.max_amp[0], fft.amp_pos])])\n",
    "        \n",
    "        #print(fft.dominant_freq)\n",
    "        #fft.plot_fft()\n",
    "\n",
    "    tmpDF2 = pd.DataFrame(tmpDF2)\n",
    "    tmpDF2.columns = [\"filename\", \"freq\", \"acc_amplitude_fft\", \"pos_amplitude_fft\" ]\n",
    "    tmpDF2.sort_values(by = \"filename\", inplace = True)\n",
    "    tmpDF2.reset_index(inplace = True, drop = True)\n",
    "    tmpDF2[\"fname_short\"] = [\"_\".join(tmpDF2.filename[jj].split(\"_\")[0:8]) for jj in range(len(tmpDF2))]\n",
    "\n",
    "\n",
    "    tmpDF3 = pd.merge(tmpDF2, tmpDF, how = \"outer\", left_on = \"fname_short\", right_on = \"fname_short\")\n",
    "    tmpDF3[\"Folder\"] = fold.split(\"/\")[-2]\n",
    "\n",
    "    if(foldNum == 0):\n",
    "        bigDF = pd.DataFrame(tmpDF3) \n",
    "    else:\n",
    "        bigDF = pd.concat([bigDF, tmpDF3])\n",
    "    \n",
    "    print(foldNum)\n",
    "\n",
    "bigDF.reset_index(drop = True, inplace = True)\n",
    "bigDF.freq = pd.to_numeric(bigDF.freq)\n",
    "bigDF.acc_amplitude_fft = pd.to_numeric(bigDF.acc_amplitude_fft)\n",
    "bigDF.pos_amplitude_fft = pd.to_numeric(bigDF.pos_amplitude_fft)"
   ]
  },
  {
   "cell_type": "code",
   "execution_count": null,
   "metadata": {
    "collapsed": true,
    "scrolled": true
   },
   "outputs": [],
   "source": [
    "for foldNum in range(len(allFolders)):\n",
    "    tmpF = os.path.join(dd, allFolders[foldNum])\n",
    "    tmpDF = pd.read_csv(tmpF, header = None)\n",
    "    tmpDF.columns = [\"frq\", \"MaxMinAmp\", \"fname_short\", \"dd\", \"TT\", \"AA\", \"BB\"]\n",
    "    tmpDF.fname_short = [ff.strip() for ff in tmpDF.fname_short]\n",
    "\n",
    "\n",
    "\n",
    "    fold = os.path.join(dd, allFolders[foldNum]).split(\"_ampFreq.txt\")[0]\n",
    "\n",
    "    accRecs = [f for f in os.listdir(fold) if not f.startswith(\".\") ]\n",
    "\n",
    "\n",
    "\n",
    "    for ii in range(len(accRecs)):\n",
    "        # read in data\n",
    "        ar = accRecs[ii]\n",
    "        tmpdf1 = readMyFile(os.path.join(fold, ar))\n",
    "\n",
    "        # compute fft and save\n",
    "        fft = fft_()\n",
    "\n",
    "        # convert signal to m/s/s (*1000 / 10.17)\n",
    "        fft.fit(timesteps = tmpdf1.iloc[:,0 ], signal = np.array(tmpdf1.iloc[:,1]*1000 / 10.17))\n",
    "        #print(fft.dominant_freq, fft.max_amp)\n",
    "\n",
    "        if ii == 0:\n",
    "            tmpDF2 = np.hstack([ar, fft.dominant_freq, fft.max_amp[0], fft.amp_pos])\n",
    "\n",
    "        else:\n",
    "            tmpDF2 = np.vstack([tmpDF2, np.hstack([ar, int(fft.dominant_freq), fft.max_amp[0], fft.amp_pos])])\n",
    "        \n",
    "        #print(fft.dominant_freq)\n",
    "        #fft.plot_fft()\n",
    "\n",
    "    tmpDF2 = pd.DataFrame(tmpDF2)\n",
    "    tmpDF2.columns = [\"filename\", \"freq\", \"acc_amplitude_fft\", \"pos_amplitude_fft\" ]\n",
    "    tmpDF2.sort_values(by = \"filename\", inplace = True)\n",
    "    tmpDF2.reset_index(inplace = True, drop = True)\n",
    "    tmpDF2[\"fname_short\"] = [\"_\".join(tmpDF2.filename[jj].split(\"_\")[0:8]) for jj in range(len(tmpDF2))]\n",
    "\n",
    "\n",
    "    tmpDF3 = pd.merge(tmpDF2, tmpDF, how = \"outer\", left_on = \"fname_short\", right_on = \"fname_short\")\n",
    "    tmpDF3[\"Folder\"] = fold.split(\"/\")[-2]\n",
    "\n",
    "    if(foldNum == 0):\n",
    "        bigDF = pd.DataFrame(tmpDF3) \n",
    "    else:\n",
    "        bigDF = pd.concat([bigDF, tmpDF3])\n",
    "    \n",
    "    print(foldNum)\n",
    "\n",
    "bigDF.reset_index(drop = True, inplace = True)\n",
    "bigDF.freq = pd.to_numeric(bigDF.freq)\n",
    "bigDF.acc_amplitude_fft = pd.to_numeric(bigDF.acc_amplitude_fft)\n",
    "bigDF.pos_amplitude_fft = pd.to_numeric(bigDF.pos_amplitude_fft)"
   ]
  },
  {
   "cell_type": "code",
   "execution_count": null,
   "metadata": {
    "collapsed": true
   },
   "outputs": [],
   "source": []
  },
  {
   "cell_type": "code",
   "execution_count": null,
   "metadata": {
    "collapsed": true
   },
   "outputs": [],
   "source": [
    "bigM = []\n",
    "\n",
    "for foldNum in  range(len(allFolders)):\n",
    "    tmpF = os.path.join(dd, allFolders[foldNum])\n",
    "    tmpDF = pd.read_csv(tmpF, header = None)\n",
    "    tmpDF.columns = [\"frq\", \"MaxMinAmp\", \"fname_short\", \"dd\", \"TT\", \"AA\", \"BB\"]\n",
    "    tmpDF.fname_short = [ff.strip() for ff in tmpDF.fname_short]\n",
    "\n",
    "\n",
    "\n",
    "    fold = os.path.join(dd, allFolders[foldNum]).split(\"_ampFreq.txt\")[0]\n",
    "\n",
    "    accRecs = [f for f in os.listdir(fold) if not f.startswith(\".\") ]\n",
    "\n",
    "    mm = []\n",
    "\n",
    "    for ii in range(len(accRecs)):\n",
    "            # read in data\n",
    "            ar = accRecs[ii]\n",
    "            tmpdf1 = readMyFile(os.path.join(fold, ar))\n",
    "            signal = (tmpdf1.iloc[:,1] - np.mean(tmpdf1.iloc[:,1]))*1000 / 10.17\n",
    "            times = tmpdf1.iloc[:,0]\n",
    "            mxs = pd.Series(abs(signal)).rolling(int(tmpdf1.shape[0]/28), center = True, min_periods = 1).max().tolist()\n",
    "\n",
    "            mm.append(np.unique(mxs))\n",
    "\n",
    "    out = np.concatenate(mm).ravel()\n",
    "    bigM.append(out)\n",
    "    print(foldNum)\n",
    "    #plt.hist(out[out <10], bins = 30, density = True)\n",
    "    #plt.xlim(0, 10)\n",
    "    sns.kdeplot(np.array(out[out <15]), bw=0.3)\n",
    "    #plt.show()"
   ]
  },
  {
   "cell_type": "code",
   "execution_count": null,
   "metadata": {
    "collapsed": true
   },
   "outputs": [],
   "source": [
    "\n",
    "zz = np.concatenate(bigM).ravel()\n",
    "plt.hist(zz[zz < 20], density = True, bins = 200)\n",
    "sns.kdeplot(zz[zz < 20], bw=0.2)\n",
    "plt.xlim(0, 15)\n",
    "plt.show()"
   ]
  },
  {
   "cell_type": "code",
   "execution_count": null,
   "metadata": {
    "collapsed": true
   },
   "outputs": [],
   "source": [
    "       \n",
    "\n",
    "\n",
    "ii =0\n",
    "ar = accRecs[ii]\n",
    "tmpdf1 = readMyFile(os.path.join(fold, ar))\n",
    "\n",
    "signal = (tmpdf1.iloc[:,1] - np.mean(tmpdf1.iloc[:,1]))*1000 / 10.17\n",
    "times = tmpdf1.iloc[:,0]\n",
    "mxs = pd.Series(abs(signal)).rolling(int(tmpdf1.shape[0]/28), center = True, min_periods = 1).max().tolist()\n",
    "print(int(tmpdf1.shape[0]/28))\n",
    "plt.plot(abs(signal))\n",
    "plt.plot(mxs)\n",
    "plt.show()\n",
    "\n",
    "plt.hist(mxs)\n",
    "plt.show()\n",
    "\n",
    "t2 = times[np.array(mxs) > 2.0]\n",
    "s2 = signal[np.array(mxs) > 2.0]\n",
    "\n",
    "fft = fft_()\n",
    "fft.fit(t2, s2)\n",
    "fft.plot_fft()"
   ]
  },
  {
   "cell_type": "code",
   "execution_count": null,
   "metadata": {
    "collapsed": true
   },
   "outputs": [],
   "source": [
    "plt.plot(np.mod(times, 0.01) > 0.005) "
   ]
  },
  {
   "cell_type": "code",
   "execution_count": null,
   "metadata": {
    "collapsed": true
   },
   "outputs": [],
   "source": [
    "sig1_amp = np.round(np.mod(times, 0.01), decimals = 1)\n",
    "\n",
    "\n",
    "signal = (np.mod(times, 0.01) > 0.005)*np.sin(2* np.pi * (times* 200)) #+ 0.2*np.random.randn(len(times))\n",
    "signal[abs(signal)>0.9] = 2*np.sin(2* np.pi * (times[abs(signal)>0.9]* 200))\n",
    "\n",
    "signal = signal + ~(np.mod(times, 0.01) > 0.005)*np.sin(2* np.pi * times* 1000)*0.1 #+ np.sin(2* np.pi * (times* 3))\n",
    "\n",
    "\n",
    "#signal = np.sin(2* np.pi * (times* 100))\n",
    "#signal[times < 0.07] = np.sin(2* np.pi * times* 1000)*0.1\n",
    "\n",
    "\n",
    "#signal = 0.8*np.sin(2* np.pi * times* 400) + np.sin(2* np.pi * (times* 200 + 400))\n",
    "\n",
    "\n",
    "#sig1 = np.sin(2* np.pi * times* 50)\n",
    "\n",
    "\n",
    "#signal = 5.44 * np.sin(2* np.pi * times* 200) + 4 * np.sin(2* np.pi * times* 400)\n",
    "\n",
    "#signal = lowess(signal + 0.01*np.random.randn(len(times)), times, frac = 1/20)[:,1]\n",
    "plt.figure(figsize = [10,10])\n",
    "plt.plot(signal)\n",
    "#plt.hlines(xmin = 0, xmax = 20000, y = 0.54)\n",
    "\n",
    "fft = fft_()\n",
    "fft.fit(times, signal)\n",
    "fft.plot_fft()"
   ]
  },
  {
   "cell_type": "code",
   "execution_count": null,
   "metadata": {
    "collapsed": true
   },
   "outputs": [],
   "source": [
    "from scipy import signal\n",
    "\n",
    "def highpass_filter(y, sr):\n",
    "    filter_stop_freq = 70  # Hz\n",
    "    filter_pass_freq = 100  # Hz\n",
    "    filter_order = 1001\n",
    "\n",
    "    # High-pass filter\n",
    "    nyquist_rate = sr / 2.\n",
    "    desired = (0, 0, 1, 1)\n",
    "    bands = (0, filter_stop_freq, filter_pass_freq, nyquist_rate)\n",
    "    filter_coefs = signal.firls(filter_order, bands, desired, nyq=nyquist_rate)\n",
    "\n",
    "    # Apply high-pass filter\n",
    "    filtered_audio = signal.filtfilt(filter_coefs, [1], y)\n",
    "    return filtered_audio"
   ]
  },
  {
   "cell_type": "code",
   "execution_count": null,
   "metadata": {
    "collapsed": true
   },
   "outputs": [],
   "source": [
    "fc = 0.1\n",
    "b = 0.08\n",
    "N = int(np.ceil((4 / b)))\n",
    "if not N % 2: N += 1\n",
    "n = np.arange(N)\n",
    " \n",
    "sinc_func = np.sinc(2 * fc * (n - (N - 1) / 2.))\n",
    "window = np.blackman(N)\n",
    "sinc_func = sinc_func * window\n",
    "sinc_func = sinc_func / np.sum(sinc_func)\n",
    "\n",
    "# reverse function\n",
    "sinc_func = -sinc_func\n",
    "sinc_func[(N - 1) / 2] += 1\n",
    "\n",
    "s = list(data['10 Min Std Dev'])\n",
    "new_signal = np.convolve(s, sinc_func)\n",
    "\n",
    "trace1 = go.Scatter(\n",
    "    x=range(len(new_signal)),\n",
    "    y=new_signal,\n",
    "    mode='lines',\n",
    "    name='High-Pass Filter',\n",
    "    marker=dict(\n",
    "        color='#424242'\n",
    "    )\n",
    ")\n",
    "\n",
    "layout = go.Layout(\n",
    "    title='High-Pass Filter',\n",
    "    showlegend=True\n",
    ")\n",
    "\n",
    "trace_data = [trace1]\n",
    "fig = go.Figure(data=trace_data, layout=layout)\n",
    "py.iplot(fig, filename='fft-high-pass-filter')"
   ]
  },
  {
   "cell_type": "code",
   "execution_count": null,
   "metadata": {
    "collapsed": true
   },
   "outputs": [],
   "source": [
    "del signal"
   ]
  },
  {
   "cell_type": "code",
   "execution_count": null,
   "metadata": {},
   "outputs": [],
   "source": [
    "import numpy as np\n",
    "import pandas as pd\n",
    "from scipy import signal\n",
    "import matplotlib.pyplot as plt\n",
    "def sine_generator(timesteps, sinefreq):\n",
    "    nsamples = len(timesteps)\n",
    "    w = 2. * np.pi * sinefreq\n",
    "    y_sine = np.sin(w * timesteps)*3.22\n",
    "    result = pd.DataFrame({ \n",
    "        'data' : y_sine} ,index=timesteps)\n",
    "    return result\n",
    "\n",
    "def butter_highpass(cutoff, log_rate, order=5):\n",
    "    nyq = 0.5 * log_rate\n",
    "    normal_cutoff = cutoff / nyq\n",
    "    b, a = signal.butter(order, normal_cutoff, btype='high', analog=False)\n",
    "    return b, a\n",
    "\n",
    "def butter_highpass_filter(data, cutoff, log_rate, order=5):\n",
    "    b, a = butter_highpass(cutoff, log_rate, order=order)\n",
    "    y = signal.filtfilt(b, a, data)\n",
    "    return y\n",
    "\n",
    "\n",
    "timesteps = np.linspace(0, 0.1, num = 20000)\n",
    "log_rate = 200000 # samples per second\n",
    "sine_fq = 300\n",
    "\n",
    "sine_5Hz = sine_generator(timesteps,sine_fq)\n",
    "sine_fq = 30 #Hz\n",
    "sine_1Hz = sine_generator(timesteps,sine_fq)\n",
    "sine = sine_5Hz + sine_1Hz\n",
    "plt.plot(sine)"
   ]
  },
  {
   "cell_type": "code",
   "execution_count": null,
   "metadata": {
    "collapsed": true
   },
   "outputs": [],
   "source": [
    "sine = sine_5Hz + sine_1Hz\n",
    "sig1_amp = np.round(np.mod(timesteps, 0.01), decimals = 1)\n",
    "\n",
    "\n",
    "sig = (np.mod(timesteps, 0.01) > 0.005*3/2)*np.sin(2* np.pi * (timesteps* 300)) #+ 0.2*np.random.randn(len(times))\n",
    "sig[abs(sig)>0.9] = 2*np.sin(2* np.pi * (timesteps[abs(sig)>0.9]* 300))\n",
    "\n",
    "sig = sig + ~(np.mod(timesteps, 0.01) > 0.005)*np.sin(2* np.pi * timesteps* 1000)* 0.1 + np.sin(2* np.pi * (timesteps* 10))\n",
    "sine['data'] = data\n",
    "#sine['data'] = sig"
   ]
  },
  {
   "cell_type": "code",
   "execution_count": null,
   "metadata": {},
   "outputs": [],
   "source": [
    "filtered_sine = butter_highpass_filter(sine.data, 200, log_rate)\n",
    "\n",
    "plt.figure(figsize=(20,10))\n",
    "plt.subplot(211)\n",
    "plt.plot(sine)\n",
    "plt.title('generated signal')\n",
    "plt.subplot(212)\n",
    "plt.plot(range(len(filtered_sine)),filtered_sine)\n",
    "plt.title('filtered signal')\n",
    "plt.show()"
   ]
  },
  {
   "cell_type": "code",
   "execution_count": null,
   "metadata": {},
   "outputs": [],
   "source": [
    "vel = np.cumsum(filtered_sine)/log_rate\n",
    "\n",
    "pos = np.cumsum(vel - np.mean(vel)) / log_rate\n",
    "\n",
    "aa = fft_()\n",
    "aa.fit(timesteps, pos-np.mean(pos))\n",
    "plt.figure(figsize = [15,10])\n",
    "plt.plot(timesteps, pos - np.mean(pos))\n",
    "plt.hlines(xmin = 0, xmax = 0.01, y = [aa.max_amp, 1.8e-06])\n",
    "aa.plot_fft()\n",
    "print(aa.max_amp)"
   ]
  },
  {
   "cell_type": "code",
   "execution_count": null,
   "metadata": {
    "collapsed": true
   },
   "outputs": [],
   "source": []
  },
  {
   "cell_type": "code",
   "execution_count": null,
   "metadata": {
    "collapsed": true
   },
   "outputs": [],
   "source": []
  },
  {
   "cell_type": "code",
   "execution_count": null,
   "metadata": {
    "collapsed": true
   },
   "outputs": [],
   "source": [
    "fft = fft_()"
   ]
  },
  {
   "cell_type": "code",
   "execution_count": null,
   "metadata": {
    "collapsed": true
   },
   "outputs": [],
   "source": [
    "fft.fit(timesteps, filtered_sine)"
   ]
  },
  {
   "cell_type": "code",
   "execution_count": null,
   "metadata": {},
   "outputs": [],
   "source": [
    "fft.plot_fft()"
   ]
  },
  {
   "cell_type": "code",
   "execution_count": null,
   "metadata": {},
   "outputs": [],
   "source": [
    "peakind = signal.find_peaks_cwt(filtered_sine, widths = np.arange(200, 400))\n",
    "plt.plot(timesteps,filtered_sine)\n",
    "plt.scatter(timesteps[peakind], np.array(filtered_sine)[peakind], c= 'red')"
   ]
  },
  {
   "cell_type": "code",
   "execution_count": null,
   "metadata": {},
   "outputs": [],
   "source": [
    " np.array(sine.data)[peakind]"
   ]
  },
  {
   "cell_type": "code",
   "execution_count": null,
   "metadata": {},
   "outputs": [],
   "source": [
    "from scipy import signal\n",
    "t = timesteps \n",
    "t= np.linspace(-1, 1, 200, endpoint=False)\n",
    "sig  = sine.data\n",
    "# filtered_sine \n",
    "#sig = np.cos(2 * np.pi * 7 * t) + signal.gausspulse(t - 0.4, fc=2)\n",
    "widths = np.arange(1000, 2000)\n",
    "cwtmatr = signal.cwt(sig, signal.ricker, widths)\n",
    "plt.plot(sig)\n",
    "plt.show()\n",
    "\n",
    "plt.imshow(cwtmatr, extent=[-1, 1, 1, 31], cmap='PRGn', aspect='auto',\n",
    "           vmax=abs(cwtmatr).max(), vmin=-abs(cwtmatr).max())\n",
    "plt.show()"
   ]
  },
  {
   "cell_type": "code",
   "execution_count": null,
   "metadata": {
    "collapsed": true
   },
   "outputs": [],
   "source": []
  },
  {
   "cell_type": "code",
   "execution_count": null,
   "metadata": {
    "collapsed": true
   },
   "outputs": [],
   "source": []
  },
  {
   "cell_type": "code",
   "execution_count": null,
   "metadata": {
    "collapsed": true
   },
   "outputs": [],
   "source": []
  },
  {
   "cell_type": "code",
   "execution_count": null,
   "metadata": {
    "collapsed": true
   },
   "outputs": [],
   "source": []
  },
  {
   "cell_type": "code",
   "execution_count": null,
   "metadata": {
    "collapsed": true
   },
   "outputs": [],
   "source": []
  },
  {
   "cell_type": "code",
   "execution_count": null,
   "metadata": {
    "collapsed": true
   },
   "outputs": [],
   "source": [
    "# analytical calculate position amplitude\n",
    "2.0 / (np.pi * 2 * 100)**2"
   ]
  },
  {
   "cell_type": "code",
   "execution_count": null,
   "metadata": {
    "collapsed": true
   },
   "outputs": [],
   "source": [
    "plt.plot(fft.frq,abs(fft.Y))\n",
    "print(fft.amp_pos)\n",
    "plt.xlim(0, 1000)"
   ]
  },
  {
   "cell_type": "code",
   "execution_count": null,
   "metadata": {
    "collapsed": true
   },
   "outputs": [],
   "source": [
    "vel = np.cumsum(signal)/log_rate\n",
    "\n",
    "pos = np.cumsum(vel - np.mean(vel)) / log_rate\n",
    "\n",
    "aa = fft_()\n",
    "aa.fit(times, pos-np.mean(pos))\n",
    "plt.figure(figsize = [15,10])\n",
    "plt.plot(times, pos - np.mean(pos))\n",
    "plt.hlines(xmin = 0, xmax = 0.01, y = [aa.max_amp, 1.8e-06])\n",
    "aa.plot_fft()\n",
    "print(aa.max_amp)"
   ]
  },
  {
   "cell_type": "code",
   "execution_count": null,
   "metadata": {
    "collapsed": true
   },
   "outputs": [],
   "source": [
    "v2 = np.diff(pos) *log_rate\n",
    "a2 = np.diff(v2-np.mean(v2)) * log_rate\n",
    "plt.figure(figsize = [15,10])\n",
    "\n",
    "plt.plot(pos-np.mean(pos))\n",
    "plt.show()\n",
    "\n",
    "plt.plot(v2-np.mean(v2))\n",
    "plt.show()\n",
    "plt.plot(a2)\n",
    "plt.show()\n"
   ]
  },
  {
   "cell_type": "code",
   "execution_count": null,
   "metadata": {
    "collapsed": true
   },
   "outputs": [],
   "source": [
    "import pdvega  # import adds vgplot attribute to pandas\n",
    "\n"
   ]
  },
  {
   "cell_type": "code",
   "execution_count": null,
   "metadata": {
    "collapsed": true
   },
   "outputs": [],
   "source": [
    "sig1 = np.sin(2* np.pi * times* 350)\n",
    "\n",
    "\n",
    "signal = 5*np.sin(2* np.pi * times* 352)\n",
    "signal[abs(sig1) < 0.99] =  sig1\n",
    "\n",
    "#signal[signal < 0] =  signal[signal < 0]*5\n",
    "signal = signal + np.random.randn(len(times))*0.4\n",
    "\n",
    "signal.vgplot.line()"
   ]
  },
  {
   "cell_type": "code",
   "execution_count": null,
   "metadata": {
    "collapsed": true
   },
   "outputs": [],
   "source": [
    "#ii +=1\n",
    "ar = accRecs[ii]\n",
    "tmpdf1 = readMyFile(os.path.join(fold, ar))\n",
    "\n",
    "signal = (tmpdf1.iloc[:,1] - np.mean(tmpdf1.iloc[:,1]))*1000 / 10.17\n",
    "times = tmpdf1.iloc[:,0]\n",
    "mxs = pd.Series(abs(signal)).rolling(int(tmpdf1.shape[0]/28), center = True, min_periods = 1).max().tolist()\n",
    "print(int(tmpdf1.shape[0]/28))\n",
    "plt.plot(abs(signal))\n",
    "plt.plot(mxs)\n",
    "\n",
    "plt.show()\n",
    "plt.plot(signal)\n",
    "plt.show()\n",
    "plt.plot(signal[0:5000])\n",
    "\n",
    "\n",
    "\n",
    "signal[0:5000].vgplot.line()\n",
    "\n"
   ]
  },
  {
   "cell_type": "code",
   "execution_count": null,
   "metadata": {
    "collapsed": true
   },
   "outputs": [],
   "source": [
    "fft = fft_()\n",
    "fft.fit(times, signal-np.mean(signal))\n",
    "fft.plot_fft()"
   ]
  },
  {
   "cell_type": "code",
   "execution_count": null,
   "metadata": {
    "collapsed": true
   },
   "outputs": [],
   "source": [
    "sig1 = np.sin(2* np.pi * times* 50)\n",
    "\n",
    "\n",
    "signal = 5.44 * np.sin(2* np.pi * times* 200) + 4 * np.sin(2* np.pi * times* 400)\n",
    "plt.plot(signal)\n",
    "\n",
    "fft = fft_()\n",
    "fft.fit(times, signal)\n",
    "fft.plot_fft()"
   ]
  },
  {
   "cell_type": "code",
   "execution_count": null,
   "metadata": {
    "collapsed": true
   },
   "outputs": [],
   "source": [
    "len(times)"
   ]
  },
  {
   "cell_type": "code",
   "execution_count": null,
   "metadata": {
    "collapsed": true
   },
   "outputs": [],
   "source": [
    "print(bigDF.shape)\n",
    "bigDF.head()"
   ]
  },
  {
   "cell_type": "code",
   "execution_count": null,
   "metadata": {
    "collapsed": true
   },
   "outputs": [],
   "source": []
  },
  {
   "cell_type": "code",
   "execution_count": null,
   "metadata": {
    "collapsed": true
   },
   "outputs": [],
   "source": [
    "print(hl.shape)\n",
    "hl.datetime = [ff.strip() for ff in hl.datetime]\n",
    "hl.head()"
   ]
  },
  {
   "cell_type": "code",
   "execution_count": null,
   "metadata": {
    "collapsed": true
   },
   "outputs": [],
   "source": [
    "# merge bigDF and hl\n",
    "\n",
    "totalDF = pd.merge(bigDF, hl, left_on = [\"fname_short\", \"freq\"], right_on=[\"datetime\", \"freq\"], how = \"inner\")\n",
    "totalDF.shape"
   ]
  },
  {
   "cell_type": "code",
   "execution_count": null,
   "metadata": {
    "collapsed": true
   },
   "outputs": [],
   "source": [
    "totalDF.head()"
   ]
  },
  {
   "cell_type": "code",
   "execution_count": null,
   "metadata": {
    "collapsed": true
   },
   "outputs": [],
   "source": [
    "# change column names\n",
    "totalDF2 =totalDF.rename(columns = {'amp_acc':'MinMax_amp_acc_m/s/s', \n",
    "                                    'amp': 'MinMax_amp_Volts', \n",
    "                                   'acc_amplitude_fft': 'acc_amplitude_fft_m/s/s', \n",
    "                                    'pos_amplitude_fft': 'pos_amplitude_fft_m'\n",
    "                                   })\n",
    "totalDF2.drop([\"frq\", \"TT\", \"AA\", \"BB\", \"dd\", \"fname_short\", \"MaxMinAmp\"], axis = 1, inplace = True)\n",
    "totalDF2.head()\n"
   ]
  },
  {
   "cell_type": "code",
   "execution_count": null,
   "metadata": {
    "collapsed": true
   },
   "outputs": [],
   "source": [
    "plt.scatter(x = totalDF2['acc_amplitude_fft_m/s/s'], y = totalDF2['pos_amplitude_fft_m']*10**7, s= 1)"
   ]
  },
  {
   "cell_type": "code",
   "execution_count": null,
   "metadata": {
    "collapsed": true
   },
   "outputs": [],
   "source": [
    "# write to file\n",
    "totalDF2.to_csv(\"/Users/cswitzer/Dropbox/SonicationBehavior/SonBehData/02_1_HeavyLight_cleaned_posAdded.csv\", index = False)"
   ]
  },
  {
   "cell_type": "code",
   "execution_count": null,
   "metadata": {
    "collapsed": true
   },
   "outputs": [],
   "source": [
    "plt.scatter(x = totalDF2.MinMax_amp_Volts, y = totalDF2['acc_amplitude_fft_m/s/s'], s = 1)"
   ]
  },
  {
   "cell_type": "code",
   "execution_count": null,
   "metadata": {
    "collapsed": true
   },
   "outputs": [],
   "source": []
  },
  {
   "cell_type": "code",
   "execution_count": null,
   "metadata": {
    "collapsed": true
   },
   "outputs": [],
   "source": []
  },
  {
   "cell_type": "code",
   "execution_count": null,
   "metadata": {
    "collapsed": true
   },
   "outputs": [],
   "source": []
  },
  {
   "cell_type": "code",
   "execution_count": null,
   "metadata": {
    "collapsed": true
   },
   "outputs": [],
   "source": []
  },
  {
   "cell_type": "code",
   "execution_count": null,
   "metadata": {
    "collapsed": true
   },
   "outputs": [],
   "source": [
    "ar = accRecs[2]\n",
    "stt = time.time()\n",
    "dta = readMyFile(os.path.join(fold, ar))\n",
    "\n",
    "\n",
    "#fft practice\n",
    "\n",
    "#xx = np.linspace(0, 0.1, num = 1000)\n",
    "#act = 2.09906008*np.sin(350*2*np.pi*xx) \n",
    "xx = dta.iloc[:,0 ]\n",
    "act = dta.iloc[:,1]*1000 / 10.17\n",
    "\n",
    "#plt.plot(xx, act)\n",
    "\n",
    "log_rate = len(xx)*(1/(np.max(xx)))\n",
    "\n",
    "n =len(act) # length of the signal\n",
    "k = np.arange(n, step = 1)\n",
    "T = n/log_rate\n",
    "frq = k/T # two sides frequency range\n",
    "frq = frq[range(int(n/2))] # one side frequency range\n",
    "\n",
    "\n",
    "# fft computing and normalization (note that *2 is so that it is scaled properly)\n",
    "Y = np.fft.fft(act)/n *2 \n",
    "Y = Y[range(int(n/2))]\n",
    "\n",
    "# calculate top frequency\n",
    "ind = np.argpartition(abs(Y), -4)[-4:]\n",
    "# Find highest point on the spectrum\n",
    "peakFrq = frq[ind[::-1]]\n",
    "pwr = (abs(Y)[ind[::-1]])\n",
    "domPK = [x for (y,x) in sorted(zip(pwr,peakFrq), reverse = True)][0]\n",
    "\n",
    "beeFrqPwr = pwr[peakFrq == domPK]\n",
    "\n",
    "plt.figure(figsize=(10,4))\n",
    "gs = gridspec.GridSpec(1, 2, width_ratios=[2,2]) \n",
    "\n",
    "#create subplot 1\n",
    "ax1 = plt.subplot(gs[0])\n",
    "\n",
    "ax1.plot(xx,act,color = 'black', linewidth=0.5 )\n",
    "\n",
    "ax2 = plt.subplot(gs[1])\n",
    "ax2.plot(frq,abs(Y), color = \"black\", linewidth=0.5)\n",
    "ax2.plot(domPK, beeFrqPwr,'o', color = 'black', markersize = 5)\n",
    "\n",
    "ax2.set_xlim(-0, 1003)\n",
    "print(beeFrqPwr)\n",
    "\n",
    "print(time.time() - stt)"
   ]
  },
  {
   "cell_type": "code",
   "execution_count": null,
   "metadata": {
    "collapsed": true
   },
   "outputs": [],
   "source": []
  },
  {
   "cell_type": "code",
   "execution_count": null,
   "metadata": {
    "collapsed": true
   },
   "outputs": [],
   "source": []
  },
  {
   "cell_type": "code",
   "execution_count": null,
   "metadata": {
    "collapsed": true
   },
   "outputs": [],
   "source": []
  },
  {
   "cell_type": "code",
   "execution_count": null,
   "metadata": {
    "collapsed": true
   },
   "outputs": [],
   "source": []
  },
  {
   "cell_type": "code",
   "execution_count": null,
   "metadata": {
    "collapsed": true
   },
   "outputs": [],
   "source": []
  },
  {
   "cell_type": "code",
   "execution_count": null,
   "metadata": {
    "collapsed": true
   },
   "outputs": [],
   "source": [
    "# processing -- find signal envelope\n",
    "\n",
    "from scipy.signal import hilbert\n",
    "duration = 0.1\n",
    "fs = log_rate/2\n",
    "samples = int(fs*duration)\n",
    "t = np.arange(samples) / fs\n",
    "\n",
    "signal = act\n",
    "#signal *= (1.0 + 0.5 * np.sin(2.0*np.pi*3.0*t) )\n",
    "\n",
    "analytic_signal = hilbert(signal)\n",
    "amplitude_envelope = np.abs(analytic_signal)\n",
    "instantaneous_phase = np.unwrap(np.angle(analytic_signal))\n",
    "#instantaneous_frequency = (np.diff(instantaneous_phase) /\n",
    "#                           (2.0*np.pi) * fs)\n",
    "\n",
    "\n",
    "fig = plt.figure()\n",
    "ax0 = fig.add_subplot(211)\n",
    "ax0.plot(t, signal, label='signal')\n",
    "ax0.plot(t, amplitude_envelope, label='envelope')\n",
    "ax0.set_xlabel(\"time in seconds\")\n",
    "ax0.legend()\n"
   ]
  },
  {
   "cell_type": "code",
   "execution_count": null,
   "metadata": {
    "collapsed": true
   },
   "outputs": [],
   "source": [
    "recDir = os.listdir(\"/Users/cswitzer/Dropbox/SonicationBehavior/SonBehData/SonicationBehavior_HeavyLight/Bee31_19Oct2016_Hive3_W_S/2016_10_19__11_23_02\")\n",
    "recDir = [ii for ii in recDir if not ii.startswith(\".\")]\n",
    "\n",
    "print(len(recDir))\n",
    "dct = \"/Users/cswitzer/Dropbox/SonicationBehavior/SonBehData/SonicationBehavior_HeavyLight/Bee31_19Oct2016_Hive3_W_S/2016_10_19__11_23_02\"\n",
    "f = recDir[0]\n",
    "\n",
    "# load in all data\n",
    "def readCenter(f):\n",
    "    tmp = np.transpose(pd.read_csv(os.path.join(dct, f), sep = \" \", header = None))\n",
    "    tmp.iloc[:,1] = tmp.iloc[:,1] - np.mean(tmp.iloc[:,1])\n",
    "    tmp[\"name\"] = f\n",
    "    print(f)\n",
    "    return(tmp)\n",
    "\n",
    "df = pd.concat( [readCenter(f) for f in recDir] )\n",
    "#np.transpose(pd.read_csv(os.path.join(dct, f), sep = \" \", header = None))\n",
    "#combined_csv = \n",
    "\n",
    "df.head()"
   ]
  },
  {
   "cell_type": "code",
   "execution_count": null,
   "metadata": {
    "collapsed": true
   },
   "outputs": [],
   "source": [
    "direct = \"/Users/cswitzer/Dropbox/SonicationBehavior/SonBehData/SonicationBehavior_HeavyLight/Bee2_27Sept_Hive4_S_W/2016_09_27__11_54_44\"\n",
    "\n",
    "recDir = os.listdir(direct)\n",
    "recDir = [ii for ii in recDir if not ii.startswith(\".\")]\n",
    "\n",
    "print(len(recDir))\n",
    "dct = direct\n",
    "f = recDir[0]\n",
    "\n",
    "# load in all data\n",
    "def readCenter(f):\n",
    "    tmp = np.transpose(pd.read_csv(os.path.join(dct, f), sep = \" \", header = None))\n",
    "    tmp.iloc[:,1] = tmp.iloc[:,1] - np.mean(tmp.iloc[:,1])\n",
    "    tmp[\"name\"] = f\n",
    "    print(f)\n",
    "    return(tmp)\n",
    "\n",
    "df = pd.concat( [readCenter(f) for f in recDir] )\n",
    "#np.transpose(pd.read_csv(os.path.join(dct, f), sep = \" \", header = None))\n",
    "#combined_csv = \n",
    "\n",
    "df.head()"
   ]
  },
  {
   "cell_type": "code",
   "execution_count": null,
   "metadata": {
    "collapsed": true
   },
   "outputs": [],
   "source": [
    "# calculate running mean and look at histogram\n",
    "d2 = df\n",
    "\n",
    "signal = np.array(d2.iloc[:,1]*1000 / 10.17) # convert from V to m/s/s\n",
    "act = signal\n",
    "times = d2.iloc[:,0]\n",
    "xx = times\n",
    "\n",
    "\n",
    "f, ax1 = plt.subplots()\n",
    "f.set_figwidth(15)\n",
    "ax1.plot( abs(signal),color = 'black', linewidth=0.5 )\n",
    "#ax1.scatter(xs[peakind], data[peakind])\n",
    "mxs = pd.Series(abs(signal)).rolling(int(d2.shape[0]/28/124), center = True, min_periods = 1).max().tolist()\n",
    "print(int(d2.shape[0]/28))\n",
    "ax1.plot(mxs)\n",
    "plt.show()\n",
    "\n",
    "plt.hist(np.array(mxs)[~np.isnan(np.array(mxs))], bins = 50)\n",
    "plt.vlines(ymin = 0, ymax = 175000, x = 5)\n",
    "plt.show()"
   ]
  },
  {
   "cell_type": "code",
   "execution_count": null,
   "metadata": {
    "collapsed": true
   },
   "outputs": [],
   "source": [
    "plt.plot(mxs[0:20000])"
   ]
  },
  {
   "cell_type": "code",
   "execution_count": null,
   "metadata": {
    "collapsed": true
   },
   "outputs": [],
   "source": []
  },
  {
   "cell_type": "code",
   "execution_count": null,
   "metadata": {
    "collapsed": true
   },
   "outputs": [],
   "source": []
  },
  {
   "cell_type": "code",
   "execution_count": null,
   "metadata": {
    "collapsed": true
   },
   "outputs": [],
   "source": [
    "dct = direct\n",
    "recDir = os.listdir(direct)\n",
    "recDir = [ii for ii in recDir if not ii.startswith(\".\")]\n",
    "fle = os.path.join(dct, recDir[ff])\n",
    "ff+=1\n",
    "\n",
    "d2 = np.transpose(pd.read_csv(fle, sep = \" \", header = None))\n",
    "\n",
    "signal = d2.iloc[:,1]*1000 / 10.17 # convert from V to m/s/s\n",
    "act = signal-np.mean(signal)\n",
    "times = d2.iloc[:,0]\n",
    "xx = times\n",
    "\n",
    "log_rate = 200000.0\n",
    "\n",
    "n =len(act) # length of the signal\n",
    "k = np.arange(n, step = 1)\n",
    "T = n/log_rate\n",
    "frq = k/T # two sides frequency range\n",
    "frq = frq[range(int(n/2))] # one side frequency range\n",
    "\n",
    "Y = np.fft.fft(act)/n # fft computing and normalization\n",
    "Y = Y[range(int(n/2))]*2\n",
    "\n",
    "# calculate top frequency\n",
    "ind = np.argpartition(abs(Y), -4)[-4:]\n",
    "# Find highest point on the spectrum\n",
    "peakFrq = frq[ind[::-1]]\n",
    "pwr = (abs(Y)[ind[::-1]])\n",
    "domPK = [x for (y,x) in sorted(zip(pwr,peakFrq), reverse = True)][0]\n",
    "\n",
    "beeFrqPwr = pwr[peakFrq == domPK]\n",
    "\n",
    "plt.figure(figsize=(10,4))\n",
    "gs = gridspec.GridSpec(1, 2, width_ratios=[2,2]) \n",
    "\n",
    "# create subplot 1\n",
    "ax1 = plt.subplot(gs[0])\n",
    "\n",
    "ax1.plot(xx,act,color = 'black', linewidth=0.5 )\n",
    "\n",
    "ax2 = plt.subplot(gs[1])\n",
    "ax2.plot(frq,abs(Y), color = \"black\", linewidth=0.5)\n",
    "ax2.plot(domPK, beeFrqPwr,'o', color = 'black', markersize = 5)\n",
    "\n",
    "ax2.set_xlim(-3, 1003)\n",
    "print(beeFrqPwr)\n",
    "\n",
    "\n",
    "#plt.plot(d2.iloc[:,0], d2.iloc[:,1])\n",
    "plt.show()\n",
    "\n",
    "\n",
    "f, ax1 = plt.subplots()\n",
    "f.set_figwidth(15)\n",
    "ax1.plot(times, abs(signal),color = 'black', linewidth=0.5 )\n",
    "#ax1.scatter(xs[peakind], data[peakind])\n",
    "mxs = pd.Series(abs(signal)).rolling(int(d2.shape[0]/28), center = True, min_periods = 1).max().tolist()\n",
    "print(int(d2.shape[0]/28))\n",
    "ax1.plot(times, mxs)\n",
    "\n",
    "from statsmodels.nonparametric.smoothers_lowess import lowess\n",
    "\n",
    "\n",
    "ssmp = np.array((np.linspace(0, len(mxs), num = 100) - 1).astype(int))\n",
    "smth = lowess(endog = np.array(mxs)[ssmp], exog = np.array(times)[ssmp], frac = 0.06)\n",
    "ax1.plot(times[ssmp], smth[:,1])\n",
    "plt.show()\n",
    "plt.hist(np.array(mxs)[~np.isnan(np.array(mxs))])\n",
    "plt.show()\n",
    "\n",
    "\n",
    "#________________________\n",
    "# calculate fft for subset of data\n",
    "\n",
    "df3 = d2.iloc[np.array(mxs) > 1.5, :].reset_index(drop=True)\n",
    "signal = df3.iloc[:,1]*1000 / 10.17\n",
    "act = signal-np.mean(signal)\n",
    "times = df3.iloc[:,0]\n",
    "xx = times\n",
    "\n",
    "log_rate = 200000.0\n",
    "\n",
    "n =len(act) # length of the signal\n",
    "k = np.arange(n, step = 1)\n",
    "T = n/log_rate\n",
    "frq = k/T # two sides frequency range\n",
    "frq = frq[range(int(n/2))] # one side frequency range\n",
    "\n",
    "Y = np.fft.fft(act)/n # fft computing and normalization\n",
    "Y = Y[range(int(n/2))]*2\n",
    "\n",
    "# calculate top frequency\n",
    "ind = np.argpartition(abs(Y), -4)[-4:]\n",
    "# Find highest point on the spectrum\n",
    "peakFrq = frq[ind[::-1]]\n",
    "pwr = (abs(Y)[ind[::-1]])\n",
    "domPK = [x for (y,x) in sorted(zip(pwr,peakFrq), reverse = True)][0]\n",
    "\n",
    "beeFrqPwr = pwr[peakFrq == domPK]\n",
    "\n",
    "plt.figure(figsize=(10,4))\n",
    "gs = gridspec.GridSpec(1, 2, width_ratios=[2,2]) \n",
    "\n",
    "# create subplot 1\n",
    "ax1 = plt.subplot(gs[0])\n",
    "\n",
    "ax1.plot(xx,act,color = 'black', linewidth=0.5 )\n",
    "\n",
    "ax2 = plt.subplot(gs[1])\n",
    "ax2.plot(frq,abs(Y), color = \"black\", linewidth=0.5)\n",
    "ax2.plot(domPK, beeFrqPwr,'o', color = 'black', markersize = 5)\n",
    "\n",
    "ax2.set_xlim(-3, 1003)\n",
    "print(beeFrqPwr)\n",
    "\n",
    "\n",
    "#plt.plot(d2.iloc[:,0], d2.iloc[:,1])\n",
    "plt.show()\n",
    "\n",
    "\n",
    "f, ax1 = plt.subplots()\n",
    "f.set_figwidth(15)\n",
    "ax1.plot(abs(signal),color = 'black', linewidth=0.5 )\n",
    "#ax1.scatter(xs[peakind], data[peakind])\n",
    "mxs = pd.Series(abs(signal)).rolling(int(d2.shape[0]/28), center = True).max().tolist()\n",
    "print(int(d2.shape[0]/28))\n",
    "ax1.plot(np.array(mxs))"
   ]
  },
  {
   "cell_type": "code",
   "execution_count": null,
   "metadata": {
    "collapsed": true
   },
   "outputs": [],
   "source": [
    "plt.plot(smth[:,1])"
   ]
  },
  {
   "cell_type": "code",
   "execution_count": null,
   "metadata": {
    "collapsed": true
   },
   "outputs": [],
   "source": []
  },
  {
   "cell_type": "code",
   "execution_count": null,
   "metadata": {
    "collapsed": true
   },
   "outputs": [],
   "source": [
    "# print system info\n",
    "import IPython\n",
    "print(IPython.sys_info())"
   ]
  },
  {
   "cell_type": "code",
   "execution_count": null,
   "metadata": {
    "collapsed": true
   },
   "outputs": [],
   "source": []
  },
  {
   "cell_type": "code",
   "execution_count": null,
   "metadata": {
    "collapsed": true
   },
   "outputs": [],
   "source": [
    "# convert to html, so ppl don't have to run python to see code\n",
    "!jupyter nbconvert --to html 008_ExampleFigureSpectrum"
   ]
  },
  {
   "cell_type": "code",
   "execution_count": null,
   "metadata": {
    "collapsed": true
   },
   "outputs": [],
   "source": []
  }
 ],
 "metadata": {
  "kernelspec": {
   "display_name": "Python 3",
   "language": "python",
   "name": "python3"
  },
  "language_info": {
   "codemirror_mode": {
    "name": "ipython",
    "version": 3
   },
   "file_extension": ".py",
   "mimetype": "text/x-python",
   "name": "python",
   "nbconvert_exporter": "python",
   "pygments_lexer": "ipython3",
   "version": "3.6.1"
  }
 },
 "nbformat": 4,
 "nbformat_minor": 2
}
