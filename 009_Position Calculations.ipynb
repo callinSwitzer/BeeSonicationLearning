{
 "cells": [
  {
   "cell_type": "code",
   "execution_count": 1,
   "metadata": {
    "collapsed": true
   },
   "outputs": [],
   "source": [
    "import pandas as pd\n",
    "import numpy as np\n",
    "%matplotlib inline\n",
    "import matplotlib.pyplot as plt\n",
    "from matplotlib import gridspec\n",
    "import seaborn as sns\n",
    "import os\n",
    "import csv\n",
    "import time\n",
    "from scipy import signal"
   ]
  },
  {
   "cell_type": "code",
   "execution_count": 2,
   "metadata": {},
   "outputs": [],
   "source": [
    "import itertools as it"
   ]
  },
  {
   "cell_type": "code",
   "execution_count": 3,
   "metadata": {
    "collapsed": true
   },
   "outputs": [],
   "source": [
    "def readMyFile(filename):\n",
    "    \n",
    "    '''Read in csv 10x faster than pandas'''\n",
    "    \n",
    "    tmpdta = []\n",
    " \n",
    "    with open(filename, newline=\"\\n\") as csvDataFile:\n",
    "        csvReader = csv.reader(csvDataFile, delimiter=' ', quoting=csv.QUOTE_NONNUMERIC)\n",
    "        for row in csvReader:\n",
    "            tmpdta.append(row)\n",
    " \n",
    "    return(pd.DataFrame(np.transpose(tmpdta)))"
   ]
  },
  {
   "cell_type": "code",

   "execution_count": 4,
   "metadata": {},
   "outputs": [],
   "source": [
    "# fft class\n",
    "\n",
    "class fft_:\n",
    "    \n",
    "    '''\n",
    "    Does fft spectrum with accelerometer data\n",
    "    \n",
    "    '''\n",
    "    def __init__(self, timesteps, sigl, cutoff = 200):\n",
    "        self.timesteps = timesteps\n",
    "        self.sigl = sigl - np.mean(sigl)\n",
    "        self.log_rate = len(self.timesteps)*(1/(np.round(np.max(self.timesteps), decimals = 1)))\n",
    "        \n",
    "    \n",
    "    def butter_highpass(self, order=5):\n",
    "        self.order = order\n",
    "        nyq = 0.5 * self.log_rate\n",
    "        normal_cutoff = self.cutoff / nyq\n",
    "        b, a = signal.butter(self.order, normal_cutoff, btype='high', analog=False)\n",
    "        return b,a\n",
    "\n",
    "    def butter_highpass_filter(self, sigToFilter, cutoff = 200, order=5):\n",
    "        self.cutoff = cutoff\n",
    "        b, a = self.butter_highpass()\n",
    "        newSig = np.concatenate([np.flip(sigToFilter[0:5000], axis = 0),\n",
    "                                 sigToFilter, \n",
    "                                 np.flip(sigToFilter[15000:len(sigToFilter)], axis = 0) ])\n",
    "        self.newSig = newSig\n",
    "        y = signal.filtfilt(b, a, newSig)\n",
    "        self.filtered_sigl = y[5000:25000]\n",
    "        \n",
    "    \n",
    "    def filterAcc(self):\n",
    "        self.butter_highpass_filter(sigToFilter= self.sigl, cutoff = 220)\n",
    "        self.filtered_acc = self.filtered_sigl - np.mean(self.filtered_sigl)\n",
    "    \n",
    "    \n",
    "    def doubleIntegrate(self, sigToIntegrate):\n",
    "        vel = np.cumsum(sigToIntegrate)/self.log_rate\n",
    "        pos = np.cumsum(vel - np.mean(vel)) / self.log_rate\n",
    "        self.pos_unfilt = pos - np.mean(pos)\n",
    "        \n",
    "        # highpass filter position\n",
    "        self.butter_highpass_filter(sigToFilter= pos, cutoff = 100)\n",
    "        self.pos = self.filtered_sigl - np.mean(self.filtered_sigl)\n",
    "         \n",
    "    \n",
    "    def fft_fit(self, inputSignal):\n",
    "        n =len(inputSignal) # length of the sigl\n",
    "        k = np.arange(n, step = 1)\n",
    "        T = n/self.log_rate\n",
    "        frq = k/T # two sides frequency range\n",
    "        frq = frq[range(int(n/2))] # one side frequency range\n",
    "\n",
    "        # fft computing and normalization (note that *2 is so that it is scaled properly)\n",
    "        Y = np.fft.fft(inputSignal)/n *2 \n",
    "        Y = Y[range(int(n/2))]\n",
    "\n",
    "        # calculate top frequency\n",
    "        ind = np.argpartition(abs(Y), -4)[-4:]\n",
    "        \n",
    "        # Find highest point on the spectrum\n",
    "        self.peakFrq = frq[ind[::-1]]\n",
    "        self.pwr = (abs(Y)[ind[::-1]])\n",
    "        \n",
    "        self.dominant_freq = [x for (y,x) in sorted(zip(self.pwr,self.peakFrq), reverse = True)][0]\n",
    "        self.max_amp = self.pwr[self.peakFrq == self.dominant_freq]\n",
    "        self.Y = Y\n",
    "        self.frq = frq\n",
    "        self.fftSignal = inputSignal\n",
    "        \n",
    "        \n",
    "        \n",
    "    def plot_fft(self, title = \"\"):    \n",
    "        plt.figure(figsize=(10,4))\n",
    "        gs = gridspec.GridSpec(1, 2, width_ratios=[2,2]) \n",
    "\n",
    "        # create subplot 1\n",
    "        ax1 = plt.subplot(gs[0])\n",
    "        ax1.plot(self.timesteps[0:len(self.fftSignal)],self.fftSignal, color = 'black', linewidth=0.5)\n",
    "        ax1.set_title(title + \" signal\")\n",
    "    \n",
    "        # subplot 2\n",
    "        ax2 = plt.subplot(gs[1])\n",
    "        ax2.plot(self.frq, abs(self.Y), color = \"black\", linewidth=0.5)\n",
    "        ax2.plot(self.dominant_freq, self.max_amp,'o', color = 'black', markersize = 5)\n",
    "        ax2.set_xlim(-0, 1003)\n",
    "        ax2.set_title(title + \" FFT spectrum\")\n",
    "        plt.show()"
   ]
  },
  {
   "cell_type": "code",
   "execution_count": 5,
   "metadata": {},
   "outputs": [],
   "source": [
    "def windowsOrMacDirectories():\n",
    "    \"\"\" Sets base directories for win or mac\n",
    "\n",
    "       \n",
    "    \"\"\"\n",
    "    if os.environ['COMPUTERNAME'] == 'SHEALMACLEARN':\n",
    "        DropboxDirect = os.path.join(\"D:\\Dropbox\")\n",
    "#     elif sys.platform.startswith('linux') or sys.platform.startswith('cygwin'):\n",
    "#         # this excludes your current terminal \"/dev/tty\"\n",
    "    elif sys.platform.startswith('darwin'):\n",
    "        DropboxDirect = os.path.join(\"/Users/cswitzer/Dropbox\")\n",
    "    else:\n",
    "        raise EnvironmentError('Unknown computer platform')\n",
    "    \n",
    "    baseDir = os.getcwd()\n",
    "    dataDir = os.path.join(DropboxDirect, 'SonicationBehavior', 'SonBehData')\n",
    "    figDir = os.path.join(DropboxDirect, 'SonicationBehavior', 'SonBehFigs')\n",
    "    return baseDir, dataDir, figDir\n",
    "\n",
    "\n",
    "baseDir, dataDir, figDir = windowsOrMacDirectories()"
   ]
  },
  {
   "cell_type": "code",
   "execution_count": 6,
   "metadata": {
    "collapsed": true
   },
   "outputs": [],
   "source": [
    "# Read in Heavy/Light data\n",
    "HeavyLight = os.path.join(dataDir, \"02_HeavyLight_cleaned.csv\")\n",
    "hl = pd.read_csv(HeavyLight)\n",
    "\n",
    "dd = os.path.join(dataDir, \"SonicationBehavior_HeavyLight\")\n",
    "\n",
    "allFolders = np.unique(hl.accFileAndFolder)"
   ]
  },
  {
   "cell_type": "code",
   "execution_count": 7,
   "metadata": {},
   "outputs": [
    {
     "name": "stdout",
     "output_type": "stream",
     "text": [
      "well, it WASN'T defined after all!\n"
     ]
    },
    {
     "data": {
      "image/png": "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\n",
      "text/plain": [
       "<matplotlib.figure.Figure at 0x2699280e0b8>"
      ]
     },
     "metadata": {},
     "output_type": "display_data"
    },
    {
     "data": {
      "image/png": "iVBORw0KGgoAAAANSUhEUgAAAmcAAAEICAYAAAAa+FMDAAAABHNCSVQICAgIfAhkiAAAAAlwSFlzAAALEgAACxIB0t1+/AAAADl0RVh0U29mdHdhcmUAbWF0cGxvdGxpYiB2ZXJzaW9uIDIuMS4yLCBodHRwOi8vbWF0cGxvdGxpYi5vcmcvNQv5yAAAIABJREFUeJzsnXeYFEX6x7/vZuIuWXIWAcWECIoenh5mEc+AWU9PvTPdyZ3pjKh36hkwnTljxp+KCuoZT0WQrKKiSFhWwpJ32Tg7U78/pmuorqmO0zPTs1uf59lnZ7qrq2p6eqq//b5vvUWMMWg0Go1Go9FowkFetjug0Wg0Go1Go9mJFmcajUaj0Wg0IUKLM41Go9FoNJoQocWZRqPRaDQaTYjQ4kyj0Wg0Go0mRGhxptFoNBqNRhMitDjLEETUh4h2EFG+8f5TIjo/i/15hohuzVb7Mpk+H0Q0i4jOzmB7BxHRsgy004+IGBEVpLstTfjQ44w9zX2c0TQftDgLGCJaRUR1xgDJ/3owxsoZY20ZY1HFMecQ0RfZ6K8dRDTOuNFfme2+pAIR3URE08RtjLEjGWPPZqoPjLHPGWNDMtWepnmjx5nwkclxxhC9jdL3f4qxT3Vt/EZ4XWOcb3F/n6D76OMzMSIalO1+hAUtztLDscYAyf/WprOxNFpJzgawxfgfSrSFSNOC0eNMhgjpOHOn9P2/IuyTr43P+GsAw40yZcL+8iz03xMh/Q7ShhZnGcLK3UREQwE8AmCM8QSzzdheTER3EVE5EW0gokeIqJWxbxwRVRDRVUS0HsDTxvZjiGgxEW0jotlENEJoZ28iWkhE1UT0CoASh/62BnAigIsBDCaikdL+sUYb24hoDRGdY2xvRUR3E9FqItpORF8I/R4tHLOEiMbZtP8HIvqBiLYS0ftE1FfYx4joYiL6GcDPxrb7jH5UEdECIjrI2H4EgGsBnGKc3yXG9oR7g4jyiOg6o8+VRPQcEZVK39vZxnexiYj+YdPvo4joe+M8/0pEfxO/M6HcPkS0yCj3GhG9Qob7R/h+Jxv9WUdE5wrHHm0cW2V85pvsvktNy0GPMy1jnMkExvf+q/FdLiOiQ43tNxHRdGPMqja+7z2F43oQ0etEtJGIVhLRZcK+fCK6loh+MY5dQES9ieh/RpElxvk7RXX9kcL6S4LFjeIWxf9Q3J28g4i+JKJdiGiq8R3/SER7p//sBQBjTP8F+AdgFYDDFNv7AWAACoz3nwI433h9DoAvpPJTAcwA0BFAOwBvA/iXsW8cgCYAdwAoBtAKwD4AKgHsDyAf8afQVcb+IgCrAfwVQCHig2EEwK02n+NMAOuMut4GcL+wrw+AagCnGvV1ArCXse8h47P1NI49wOhDTwCbARyF+EPB74z3XRTn43gAywEMBVAA4DoAs4X2GYD/GuemlbHtDKMfBQAmA1gPoMTYdxOAadLnE9v7g9HeAABtAfwfgOel7+1x4zzvCaABwFCL87YOwEHG6w4A9hG+swrjNf8+LjfO3wkAGvn3IXy/U4z9RwGoBdBB2L+HcR5HANgA4HjVdab/mucf9DjT0seZZ6zOq9W1YXWNWJQZAmANgB7CMQOFzxkxvt9CAH8DsNJ4nQdgAYAbjOthAIAVAA43jv07gG+N+sn4nJ2E8z1I6MM4JF9/5yD5Gk4cZ5yXTQD2RfzB4GOjb2cZ18mtAD7J9u/X1W882x1obn/GD2MHgG3G35vGdtMPAjaDpnHR1vAfg7FtDICVxutxiN/MS4T9DwO4RerLMgC/AXAwgLUASNg32+rHbez/EMBU4/WpADYCKDTeXwPgDcUxeQDqAOyp2HcVjIFI2PY+gLMV52MWgPOkemsB9DXeMwC/dfgetvJ+wHnQ/AjAn4V9QxAffAqE762XsP9rAJMs2i0HcCGA9tL2cdgpzg4G8Kv0fXwBszirgzB4In5DHG3R5lQA96quM/3XPP+gx5mWPs48A6Be+P43OV0bwn7HMQLAIMTHnMP49yHsuwnAHOm8rQNwEOKivVwqfw2Ap4VrZYJFmypxJl9/58BZnD0u7LsUwA/C+z0AbMvkb9Xvn3ZrpofjGWNlxt/xPo7vAqA1gAWGaX4bgPeM7ZyNjLF64X1fAJN5eeOY3gB6GH+/MuPqNFht1TgR9QZwCIAXjE1vIf4UcrTxvjeAXxSHdjbKqfb1BXCS1L+xALpblL1PKLcF8RtJT6HMGqnPkw33xHbjmFKjP27oAfP5WI34gNlN2LZeeF2L+JOvit8j/tS+mog+I6IxFu3J38caqcxmxliTqk0i2p+IPjHcBtsBXAT3n1XTfNDjTDItZZwBgLuE71/uQ0rXBmNsOYC/IC7EKonoZSLqIRRZI5SNAahA/PP1BdBDOv/XCp/R6ju1Qr7+3LBBeF2neG93TkODFmfhgEnvNyF+EQ0XfmClLB7MaXXMGgC3CeXLGGOtGWMvIf5U05OISChvNzvnTMSvjbcNX/8KxAfDs4S2BiqO24T405xq3xrEn2jF/rVhjN1uUfZCqWwrxths1ec34j6uAnAy4q6/MgDbER9oTWUtWIv4oMLpg7g5fYO6uDWMsXmMsQkAugJ4E8CrimKq76O3h2ZeRNwV1ZsxVop4LBHZH6LR6HFGUTYnx5lMwBh7kTE2FvE+M8Tdi5zEeEVEeQB6If751iBueRXPaTvG2FFGcavv1LIb0vsaxB8oeNu7eKgrp9DiLBxsANCLiIqAxJPI4wDuJaKuAEBEPYnocJs6HgdwkWFVISJqQ/HA8XYAvkJ8ELiMiAqI6AQAo2zqOgvAzQD2Ev5+D+BoIuqE+JPuYUR0slFfJyLay+j3UwDuMYJC84loDBEVA5gG4FgiOtzYXmIEfPZStP8IgGuIaLjx2UuJ6CSb/rYzPt9GAAVEdAOA9sL+DQD6GYOIipcA/JWI+hNRWwD/BPCKZLlyhIiKiOh0IipljEUAVAFISmmA+PcRBXCJcf4mwP77kGkHYAtjrJ6IRgE4zUs/NS0WPc6YyclxJhMQ0RAi+q1xTusRF/HiWLYvEZ1A8Yknf0E8Pm4O4q7YKooH8bcyvoPdiWg/47gnANxCRION62eE8V0D8fM3wKFrSwAMJ6K9iKgEcctes0SLs3DwMYClANYT0SZj21WIB4/OIaIqxGMzLPNkMcbmA/gjgAcRj4NYjrh/HoyxRsSDzs8x9p2CeDBqEkQ0GvGYhIcYY+uFvxlGnaey+LTroxAPiN0CYDHigZ1APDj0WwDzjH13AMhjjK0BMAFxE/dGxJ+g/g7FNcgYe8M47mXjs38H4Eirz454TMksAD8h7iqoh9kd8ZrxfzMRLVQc/xSA5wH8D/Hg0XrEYxX8cCaAVUa/L0I8gNiE8H2ch3hMyBkA3kF8gHPDnwFMIaJqxANvVdY5jUZGjzPmz5LL40y6KQZwO+JWyvWIewKuFfa/hfj3uxXxMe8ExliExfPrHYu40F5pHP8E4u5fALgH8fHqA8QfXp9EPNAfiAutZw136MmqTjHGfkJ8otSHiM+gDV3evqAgc3iARqPJBkQ0F8AjjLGns90XjUajsYLiqXsGMcaSHjw1waEtZxpNFqB4xu5dDHfN2YinxHgv2/3SaDQaTfZpURl3NZoQMQRx835bxGcvncgYW5fdLmk0Go0mDGi3pkaj0Wg0Gk2I0G5NjUaj0Wg0mhARardm586dWb9+/bLdDY1GkyEWLFiwiTHWxblk+NHjl0bT8ghqDAu1OOvXrx/mz5+f7W5oNJoMQUSWGeVzDT1+aTQtj6DGMO3W1Gg0Go1GowkRWpxpNBqNRqPRhAgtzjQajUaj0WhChBZnGo1Go9FoNCEiZXFGRL2J6BMi+oGIlhLR5YoyRET3E9FyIvqGiPZJtV2NRqPxAhEdQUTLjHHoasX+g4loIRE1EdGJiv3tiehXInowMz3WaDQtlSAsZ00AJjPGhgIYDeBiIhomlTkSwGDj7wIADwfQrkaj0biCiPIBPIT4WDQMwKmKcaoc8UW7X7So5hYAn6WrjxqNJreJRqPAzkXeUyJlccYYW8cYW2i8rgbwA4CeUrEJAJ5jceYAKCOi7qm2rdFoNC4ZBWA5Y2wFY6wRwMuIj0sJGGOrGGPfAIjJBxPRvgC6AfggE53VaDS5RTQaxeGHHw4AA4KoL9CYMyLqB2BvAHOlXT0BrBHeVyBZwPE6LiCi+UQ0f+PGjUF2L6voZbI0mqziegySIaI8AHcD+Hsa+qXRaJoBs2bNwty5c4GAdFVg4oyI2gJ4HcBfGGNV8m7FIUq1whh7jDE2kjE2skuXZpEoHAAwZcoUTJ8+Pdvd0GhaKq7HIAV/BjCTMbbGqWBzfbjUaDRq6uvrAQCLFi1CTU1NYPUGIs6IqBBxYfYCY+z/FEUqAPQW3vcCsDaItnOFiooK/Prrr9nuhkbTUkllDBoD4BIiWgXgLgBnEdHtqoLN9eFSo9Goue666wAAe++9N9q0aRNYvUHM1iQATwL4gTF2j0WxGYgPaEREowFsZ4ytS7XtXGLatGn4y1/+ku1uaDQtlXkABhNRfyIqAjAJ8XHJEcbY6YyxPoyxfgD+hnj8bNJsT41G07KIRCKoqKgAABx55JHYf//9AUXMqh+CWFvzQABnAviWiBYb264F0AcAGGOPAJgJ4CgAywHUAjg3gHZziqampmx3QaNpsTDGmojoEgDvA8gH8BRjbCkRTQEwnzE2g4j2A/AGgA4AjiWimxljw7PYbY1GE2Lq6upQWVkJAMjPz8f777+PgoKCFUHUnbI4Y4x9AXU8h1iGAbg41bY0Go3GL4yxmYg/KIrbbhBez0Pc3WlXxzMAnklD9zQaTY5RW1ubEGdAXKAB2B5E3XqFgAyhLWcajUaj0TQfamtrUVtbm5a6tTjTaDQajUaj8UhdXR3atm3Lk88GihZnGo1Go9FoNB6pra1F7969sXnz5sDr1uJMo9FoNBqNxiO1tbXo16+fKe4sKLQ404SGgw8+ONtd0Gg0PtGroGhaGlqcaVoEn3/+eba7oNFofHL77cq8vBpNs6Wurg59+/bV4kyj0Wg04SQdcTcaTZjRljONRqPRhJq6urqkbXp9UU1zpra2Fj169MDWrVsDr1uLM41Go9GkjEqcTZ06NQs90WgyA0+lweMtI5FIYHVrcabRaDSalFGJs/r6+iz0RKPJDLW1tWjVqlXifZCWYi3ONBqNRpMyKnGm2qbRNBcaGhpQVFSUeK/FmUaj0WhChRZnmuaIk+Ai2rm0uBZnGo1GowkVDQ0NScvYNDQ0IBaLeapHTyLQhIl77rnHddkgZ21qcabRaDSalIlEImhqakra5nXdwXvvvTfIbmk0KeFmYfOSkhLU1dVpy5lGo9FowkVTU1PSbDWVYHNCTyLQhIm6ujrHB4yuXbti48aNgabU0OJMo9FoNCljJc68Ws60ONOEicbGRssUGTzerGvXrqisrAx0CbNAxBkRPUVElUT0ncX+cUS0nYgWG383BNGuRqPRaMKBykrW1NTk2XKmJxFowkQkEkFjY6NyHxdjXJwFSVCWs2cAHOFQ5nPG2F7G35SA2tVoNBpNCAjKranFmSZMNDY2WoozTmjFGWPsfwC2BFGXRqPRaHIPqwkBXsRZLBbTbk1NqLCznHG6dOmCyspKU1qNVMlkzNkYIlpCRLOIaLhVISK6gIjmE9F8PaVao9FocoNYLJZkOfPq1oxGo4EugaPRpEokEnG8Jtu0aYPa2trwxZy5YCGAvoyxPQE8AOBNq4KMsccYYyMZYyO7dOmSoe5pNJrmDhEdQUTLiGg5EV2t2H8wES0koiYiOlHYvhcRfUVES4noGyI6JbM9zw0KCgpSdmuqXKMaTTZx49bk5QoLCwNrNyPijDFWxRjbYbyeCaCQiDpnom2NRqMhonwADwE4EsAwAKcS0TCpWDmAcwC8KG2vBXAWY2w44rG1U4moLL09zj0KCgpSznPmZwKBRpNO3Lg1AWDTpk0I0qCUEXFGRLuQ4YwlolFGu5sz0bam+TJr1qxsd0GTO4wCsJwxtoIx1gjgZQATxAKMsVWMsW8AxKTtPzHGfjZerwVQCUCb9SUKCwu15UzT7HBrOduyZUv4xBkRvQTgKwBDiKiCiM4joouI6CKjyIkAviOiJQDuBzCJBemc1TQr3nzT0uudgDGGo446KgO90TQTegJYI7yvMLZ5wni4LALwi8X+FhszqxJnRKTFmSaniUajSnEWi8VMEwDKysrQtWvXwNotCKISxtipDvsfBPBgEG1pmj8TJ050DKyMxWLIy9M5lDWuUU2j8vSASETdATwP4GzGmHLBSMbYYwAeA4CRI0e2qAfQwsLCJCGmcnXaocWZJmyoHjqAeMqX1q1bJ9537do1fJYzjSbTNDU1oaAgkGcLTcugAkBv4X0vAGvdHkxE7QG8C+A6xticgPvWLFBNCMjPz9fiTJPTFBUVKS1ntbW1JnE2ZswY9OjRI7B2tTiz4fzzz892FzQWaHGm8cg8AIOJqD8RFQGYBGCGmwON8m8AeI4x9loa+5jTqCwM2nKmyXUKCwuV4qyurg6tWrVKvD/22GPRrl27wNrV4syGJ5980nLfM888gw8//DCDvdGIRKNR7dbUuIYx1gTgEgDvA/gBwKuMsaVENIWIjgMAItqPiCoAnATgUSJaahx+MoCDAZwjLEG3VxY+RmiJRqMoLi5WujW9zNaMRqN6tqYmVLi1nAWNNj34ZP78+aiursZhhx2W7a40K2IxcyhPfX09SkpKksoxxgLNxqxp/hhpfGZK224QXs9D3N0pHzcNwLS0dzCHaWpqQqtWrQKxnOXn5wfdPY3GN9kSZ9r0oAkV27ZtM73v3FmdDk+LM40mPEQiEbRq1SqQCQE6XEETJqzEmezWDBotzlJAi4PgkWdp1tTUWJatqqpKd3c0Go0LgrScaXGmcZNXLFMUFRUp4yC15Syk6DRtzpxwwgmejxHPq92grs+/RhMeVOKMMeZrtqYWZ5qbb745211IoN2aOYi2nNnzxhtveD5GFF1bt251VU6j0WQXlVuzqakJJSUlWpxpPBGNRm3H/kxjNVtTi7OQosVBnGeffRbvvfdeYPXp86rR5B5NTU1o3bq1yXLGBZvXtTW1OGvZ1NXVoaGhIdvdABC/HxUXF+uYs1xDW86ABQsW4McffwysPrfiTJ7V6cT111/vpzsajcYFXIiJ4oy7OrXlTOOFMImzSCSCNm3aaMtZS2XOnNxNOP7AAw+gsrLSsdxxxx3nqj63ouuBBx5I2vavf/3LMpD01ltv9SzoNP74+9//nu0uaDKMSohZzeB0qqeoqMiTtU3TvKitrQ2NOGtsbESbNm30hIBcIkj325gxYwKrKxvYzazh5+ntt992VZfbQXnHjh1J2/75z3+ivr4+5bo1qXHXXXdluwuaDKOynEUiEV8xZ14FnaZ5ETbLmdX1WFdXp8zBGRTNUpy5EU7vvvtuyu1ot2acL7/80nKfVxHrVkDdc889nurNZbZv34558+ZluxsajSWq4P9UxJlewqnlEibLWSQSQVFRkfI+xhhL6yo1zU6c/fTTTzj66KMdyx1zzDEptSN+WWGa9psN7NyyXl2J4nn1k8esOQrmhQsXalehJtREIpGkCQF+Y85KSkq0OGvBhMly1tjYiMLCwqy03ezEWX19PdasWePrWC9LMYkZ6m+66SZf7bUEUrGc+ZloYNders4EJaKc7bumZaASVX5na2px1rKpra0NzaQQbjnLBs1OnKVyI/voo488t6Wxx8lyVlNTY/q+0hkXlqsCR4szTdjhgfziderHrRmNRrVbs4VTV1eX1kB7L3DLWTbu9YGIMyJ6iogqieg7i/1ERPcT0XIi+oaI9gmiXYu2HG9kGzduTNr2008/eWrnsccew6ZNmzwd44Yzzzwz8DqziZM4a9u2rSlZrTiQ+/lB2B3jV+CsWLHC8/URJLn0EKCaqKFp/kQikaSbmF+3phZnLZva2tq05g/zQnOwnD0D4Aib/UcCGGz8XQDg4YDaTcLvjeyXX37xfIzduo927Lfffpb7pk2b5qvOsKISZ7/88gu+//77xPvy8vLEa9FyJn4nL7zwgqv20mFhevnll/HMM88EXq8XcsVy1q5dOwD2qztomh88P1mqljMtzjRhspzxh45sjL+BiDPG2P8AbLEpMgHAcyzOHABlRNQ9iLZl3FjOgpph4VcIzp8/P5D2cwGVm/L111/H008/nXgvDt5iedGidsYZZzi25fR9rF271rEOFWJ8YTawu6bDKtreeeedbHdBk0H4TUzepsWZxithspy1hAkBPQGIUfoVxrYkiOgCIppPRPNV7kcniCiUyUYvvfTSbHfBxPHHH59yHRUVFY5lVOIhLy/P9B2Jg/d33+30jHv9UVRXV9vuX758uaf6OLFYLJTibMKECejfv38WeuSMzinXsuCWM/F34jcJrc5z1rIJm+Us192aTqjubMpHfsbYY4yxkYyxkV26dPHekAvLWTasDaqM9tnkrbfecizjdJ569+7tqw47cSYmkR0wYIBj/V7wKxjSnc/GLzNmzMDq1auz3Q0lYXxA0qRGdXW1ZZxtJBJJcmtyoaVna2q8oC1ncTJ1x6kAIN7JewHw52NywIs42759u+k4zn333ac8bvny5XjxxReVx7ghbNYzJy655BJ8+umnKdWh+i4aGxtNMWRy4kqOnxu83XfvN1hdtJxlQ9hv3boVs2fPxoIFC9IyCSUdaHHW/Pjuu+8we/Zs5b6mpialW9MqgacV2q2piUajoUulkbOzNV0wA8BZxqzN0QC2M8bWpaMhJ3Em7hNn4Ikn/y9/+Yuyjh9//NF1YLqKjh07+j42GyxduhSHHHJISnWozuMLL7xgmjEbjUYT5bZs2WJ7rBOLFi2y3Pfcc88lXi9evNh1DJpoOdttt9089ylV3nvvPQDAjTfemDPrsIY1Fk7jn6amJkvRpFqwXGVNc9OGFmcaIBxjiCqWMlMElUrjJQBfARhCRBVEdB4RXUREFxlFZgJYAWA5gMcB/DmIdlUsWbLENrYoLy8v6UtXLdytujDmzp2Lr776KvVO5gifffZZynWozqMYVwYAX331VaLc559/ntjux/ryww8/WO4T65s6dSo++OAD0/7FixcrA9kZY1i7di0uu+yyrKTUKCsrA5D92DcvhNFyRkRHENEyI6XP1Yr9BxPRQiJqIqITpX1nE9HPxt/Zmet1eIhEIpbr6FpNCPB6Y9PiTAPE443DcA1wt2Y2hGIgtkPG2KkO+xmAi4Noy4lHHnnEct/ChQsBAF9//TXvFwCgW7dumDVrlqms+GWsXr0a77zzDj788ENTioBcuVHK+E0B4gc3F/VHH32UKMdv6oyxwN2aYuyLauLI3LlzsXDhwqSlvRhj2LZtG5YuXeq5P6lSXV2Ne++9N9GPXLnmwibOiCgfwEMAfod4mMU8IprBGPteKFYO4BwAf5OO7QjgRgAjEY+VXWAc26LyhUQiEUfLmZznzK84E2NPNS2P4uJiNDQ0ZC0Yn2M1ISATYi18Uc4p8vHHH1vu46LETsCpKC8vx8svv4z8/PyU+maH00zDIHn//fcz1pabi/j8889PEmfz5s1Lim9xIyrt2hMFg8qCGovFlIH/TU1NqK+vz4o4a2xsRF1dHYB48mTV56uvr1cmVs4mYRNnAEYBWM4YW8EYawTwMuIpfhIwxlYxxr4BIHf+cAD/ZYxtMQTZf2Gf17FZYifOVPmgVIlpndCWMw2wU5xlGyvrb0NDA4qLi9PadrMTZypWrFhheq8K7pbXcZSXFIpEImkVZ4MHD7a9wbpZzN0tVkHln376qWmSRBC4EWdi0DAflPPy8vDzzz+byqWaO0u0nK1cuRIzZsww7bcSZ88//3xS2VRxm/S4trY28XrBggVKt+3jjz+Orl27Bta3IOCCMkS4TueTyrGppgIKM01NTZZuTbuYMy8wxlBUVKRTabRwwiLOrJZvykS6jxYhzgYOHGh6r3qSe/vtt03vRVExdepUzJ07N63pFDZs2GBrbZg5c2ZgbVlNbb/yyit9LTZuhxtxxhhLlGvbti0AID8/P+l8pOrSEz/34sWLXYuzdDzFDxo0yFU5WcSpbnbiCgth4dFHH812F2Rcp/NJ5dhUUwGFGSfLWRBuTSB+jWvLWcumuLg4FK5tK7dmbW2tFmepsGPHDpPlYdWqVab9dmJItCDxpzj5+KDJ1ILtYjvLly83zZC04sQTT3Qs49SWFbFYLFGO5za74447XLfx2GOPmdqz+l6j0SieeuopAGqhZyXOsumik8+f6mYXxhtZCC0fqaTzyVgqoDDjFHNm5db0Oq6FJRhckz3CZjmTr+FM5GJr1uLs5ptvxkMPPZR4z2OW+OzMWCyGNWvWJF6LiG4ZfiOXyzjN3IxGo5g9e7alK8AtToPbYYcd5ru+66+/PpGqwc4y9frrr3tqgyOKYzd94oPyK6+8klTGqn8XXnhh4nUsFkOfPn2U5aLRKM477zwAUArSaDSq7G82xZnctspyFrTL1S9i3GQIxdk8AIOJqD8RFQGYhHiKHze8D2A8EXUgog4AxhvbWhR2bk2VC9OPWxPQ4kwTHnFmZTnTbs0Uee2110y5rbhVZO7cuQDiNz4eFyLfBJctW5Z4zUWBbLVwslht374dRx99NLp16wYAJqGoIlPTdcXP+tVXX+H0009PqT55dqOIm5URxOD8VAflaDSKX3/91XKfCu7KbWhowBNPPGHaJ7pcs4HcZ5XlLCxCSHRDpPpAEjSMsSYAlyAuqn4A8CpjbCkRTSGi4wCAiPYjogoAJwF4lIiWGsduAXAL4gJvHoApxrYWhZvZmnJ5P25NLc40YRJnqms4E27NcKThTRPi0jbV1dUoLS017WeM4ZJLLlEeK4ozLuq8DjQ89QFPv+GU3d3KQrN582ZP7TohtiOeI78iZPTo0Sn3h58jO6FRVVXlWJd4/GeffYbNmzfjhBNOsK176NChYIwlCaH169dj4sSJWb1RuLGchWVmpHh+VbkDsw1jbCbiORfFbTcIr+ch7rJUHfsUgKfS2sGQYyfOVEuccVen11hRLc40YRFnVhMCtFszQDp06JA0MSAWiyVck//73/9M+8ThegkVAAAgAElEQVQbNb/52ZnoVcKmpqbGlBfNL0FbIexmZKoG0lTWKrWzPC1ZsgRAfBDniYNfe+01y7rk8zB27Ngk96QoVBYtWmRKreJkYZLFWSQSQUVFRdYW8Y5Go0l9DrM404udN2/s3JoqtOVM45ewiLNoNKrM0qAnBARINBpNEh7iTU0+0eJNkc/klDPbi6gESFFRETp37uy6j5lyn914442eyjv1yynFiNXxPK5MnBCgSsFgdXzr1q0TMYMc8Tvdvn07HnrooYRAlsW53IaVuPArfsrLy/HJJ5/4OhYA+vTp48qtyfuXbVeiFmfNm0gk4smFrmPONH4JizgD4gaLvLw80/imY84CRnYPijf9/fbbz7TP6w1ZVb6iosLTQtXTp09Xbv/3v/8NAPjrX//qqU9OqGLgrIRQKmksrOrk56ypqclXXiwiSgrg53XW1tYm2uVrmo4YMcKyrmg0imnTpgFIXgJKviGtW+duWdivvvoKDz/8sKuyKtauXZskeJ599tmkcvwzZzulRlhi3zTpIRKJeE4n5LTWsYqCggJ9LYWcyspKnHqq7cJAvuCWqjCJMyD5gUFbzjzgZgCYMCGeENxq9qWI18FB1b6V2LJix44dyu3cNTd16lRP7Ttx2WWXuSrnVPe1115re6zV8Xw5raampoTgGTt2rGX7RGSKOyOipPx0XMxs3bo1KU+O3Xfa1NSElStXAgCGDRumrJNjZ0EV8XNjUvVLhJ8zVRkvDwLpQFvOmjdu8pYFsbyYtpyFm0gkgilTpqBnT7c5nN1TV1eHVq1ahU6cFRUVmTwTOubMA3YuKw6/WatWCJBvovyG5/bmqhJ6Xpd32LZtm3K7XR/4IOY3D5kMPzcPPvigsg9+Bk0na1w0GsWQIUNc1dWhQwfTe/lJXvweZAuXnXjwIsbdihCrG5UXC5ebmDPen2wsyq7qh6Z54sZNGURohrachZt//etfuPzyy9GmTZvA6+YWqbCLM+3W9AC3eniBB6EDyYOK1xtNLBbDSy+9ZMqw71WcWaWdcLNepPhZ/LJu3TpMnjwZAHDppZcq299jjz1MM/H+9Kc/OdbrNGBHo1F0794d+fn5yhg98XhRfBFRQgDxwVzeL7dj1we3eJnkofrs4gzhM8880/Z4uV924swpVUu60TfU5o1qRqYbvFrTgrC+adLDggUL0L9/fwwePBhA8HHSYbacyW5NbTlLA/zHf9ddd1mW+f777wF4s5y9/vrrJpeX17U4rQK65TUmVbjp5913322ZAwyIx8h98cUXtnVs27bNJBhkS5aqX059a2pqAmMMJ598sidBK4qzL7/8EoBZzMjnn+9TiQgvg4xbIVdXV6esV9zG49zctqW6psJisdKuKI0WVs2bNWvWYPfddwcAtGnTxnWScbfkiuXM79JkXmiR4ozfzMTFouVs/15nGfFARivrwZVXXml672XdsKAu0ueee852cXUrRDEhJowV4aK0oaEBS5cuTWzv3LmzK7cmzwknCo299trL1L488A8ePDjxJM9Xf+DHq6ZA33fffQDi+cvsPqMTbsXQ2WefrYwR++9//+t4LBc6clsqywV3L2R78XNx8EqHy0MTfrKZsFmTfrZu3Zp4IC8tLbVNy+SHsFrOCgsLTeNbJq7zFinOOCUlJYnXXFQddNBBAAC3ixbzL2njxo3Iz8+3vHHLJlCvkwVEzj77bMt+2CELK7dPuaLAICKT65BPYthjjz0AxF12/MkKiCeo5W2uWLFCWT8XZ/J0Zaf+FRUVJcrw2Z68b7FYDI8//nhSO4D6XPkVZxdddFHSfrHfqnq58JJnhYrwgUkW+6Lg5E9ufBZy+/btk+rZtGlTYrZvuhEHr7DkXtNkHy3Ymg+yOLOKk/ZLrljOMkEg4oyIjiCiZUS0nIiuVuw/h4g2EtFi4+/8INqVEdf2c4Nq0FiwYAGAnTdQp4GF34TmzJmDl156ybVV5Z133nHsl5XJWFySSmbHjh148cUXUV9fn4gf48jCStWmCjHRqzwDUT7n7777blK9vDy3bol15efnY88990QsFksSt/w4uxs9tyRxQaSa7CHjVpytWbMGFRUVSdvFPj766KP49ttvk8pw0Sp/ZrHPb775pmUf+WeWU4yIljM3OfQqKyuTrLbpQnRranGm0TQ/qqur0a5dOwBAWVlZ2ixn+fn5oRpDZHGWCfd9yuKMiPIBPATgSADDAJxKRMMURV9hjO1l/D2h2J8yZWVlnsqrvnx+83MbP8PrEN1pXhBFAbfayfm5RJyWxWnXrh1OP/105TqRdqkd3D7dcuvb/fffr9wvz5B0ijmbOHEi9t5774RbU7QU8XPLV2+QV3Hgx4iMGzfOdKwK1T5VH6+77jrl8bI1S/VQwJ8uVekt+DX2yy+/AIAyDpDPvuWxjxzRcsatlRw/A0aQVg1tOdPYPQBqch9xUkg63JqZyB/mB3lCQK64NUcBWM4YW8EYawTwMoAJAdTrmSASx3JLh1fLmVdxxusV6x8/frxpm8qsK675CQAbNmxw1R4Qd0/yrPyA+WZuNwNRtOBxgXf55Ze7alMUZ4yxJGvgzz//jFNOOUXp1pTPkXw+xAkBHP792QkVt+LMKru/LM5U37ndzEU5bkx1PI9Lky2RYhCq/BnFz7Bs2TLMnTvX9vr94IMPcOGFF1ru94oWZ5rCwsKka19PEmiepDPmDAjXdZOrbs2eAMQ1dCqMbTK/J6JviGg6EfW2qoyILiCi+UQ030/wOseNL9zuBsLFmVMfuNXDa140lcuO37QZY5aJTuX6Fy1a5Ko9jlWck10qDtE1V15e7umpQRZnojWQiBITI1QTAuR2uGWR07p166QfMB8s7GaRBhlzJh/rNvbPbdm1a9datiWLPPH9Bx98gGnTpuGaa66xrHvHjh2J6/v555937IsT4pPlBRdckHJ9mtxDJ5BtOZSVlaUt5ixs5KRbE4Cql/Jd520A/RhjIwB8CCB5DRp+IGOPMcZGMsZGug3KV+GU4gGwF2czZswA4GyZWrx4MYCdN2y3TxJi4Dqnbdu2AOIzOf/v//4PQLLLzMoyZ3Wjr6qqMrVhNSHAztLzwgsvKPsu1+GmX6L1Ky8vzyRUrCxndnFkVklo/cacnXPOOZbHceRzJZ4PVfyZDLcePvXUU45l7Xj//fdN78UZxnz1B3kFBRFxgshZZ52VUl8A8woXPA+SpmWhE8i2HNJtOQsTuTpbswKAaAnrBcD0uM8Y28wY43flxwHsG0C7KSPeVLt162ba53ZyAR+I+P+GhgYsXLgQkUjElUAQY5L47FHRiuW0lBAXLrK7kzGGqqoqHHPMMaY0ITNnzlT2x+5pVx5svViKZMuZyLvvvmtaSis/Px+lpaWJ/fvuu6/pOFUaiV122QVA8pJcBxxwgGWfVKKcTwRxM6FAPldifX7ceX5/6HJbBx98sOn9nDlzko759ttvccMNNwAIPj7olltuSbzWM/RaJirLmb4WmietW7dWTnhKhVyxnGWCIMTZPACDiag/ERUBmARghliAiLoLb48DYJ1DIINYWZS8wAciXhcR4eijj8amTZtcmT7feOONpP6IgkYe6KwsZ1bWHJ6mQmxH7ruqHRH5c8iB+XaIn2X16tVJ+0XLGRHhwAMPTOw76qijTGWHDh2adDwPiud18/Mji1URlSDhQoa7qd2syqB6ny6XDl9z1K5f8uzN+fPnJ5XZsGFDQkTFYjHldzJr1izTShduEa2iOuasZaLdmi2HdLj2wmo5kycE5IRbkzHWBOASAO8jLrpeZYwtJaIpRHScUewyIlpKREsAXAbgnFTbtcJL1t5ULR7AziBoMYeWnaWHw8uIMWNiHJrVTdjtwCe7BF999VXb8l4GVDEOz4vlTGXJkd2aqvrcWLPuvfdeAO6+Rzu35gcffOBYzz777GN6L6ZF8fN05ebBgLvpU7VC8HO5adMmlJeX45tvvkkq8+KLL2LevHkAgE8//TTx2gnVTFtNyyIot6a2toUPu7E5KFTJw8NArlrOwBibyRjblTE2kDF2m7HtBsbYDOP1NYyx4YyxPRljhzDGvD+Wu8SLyBAvtlTFGR+Q3F6svG3VDDdRnMk/CLcXiGwVtEoAy7GbZSr3wa9bUyVWReGVl5entEKpJk/I7fO63XyPqjJ21jCnsu+88w4aGhpw7rnn+rIauFkX1m/+Nqt6otEo7rzzTmWZWCyWWJz97bffxmeffeZYL4CMTzXXhA+V5SxMs+40/lG5HFvK71wUZ5n6zC16hQC7mYFO2zmy5cwuO7zoduL7VNaG1atXp2w547MgeX++/vpr2/JiP55++mnTPnlw5fFZgFksiklVx4wZA2Bn7BugXheya9euaN++vdJyxpdZshKqKj799FPHMm5SadiJM9VszcbGRkyfPt3X05XdSgEcJ3F2+OGHY8IE+ww2sVjM9F1afcbKykpTjjfxGL7Q/Zw5c/DRRx+ZjtOWM01Qbk0t6MKHuDpAS0OcENDY2IiioqK0t9mixZkbt6aTxUnl1gTUg8vFF1+ceM3LiTd6fnN75513LAWJ29kxPJXBF1984epGKfbDyY21Zs3OzCniOpETJ05MvOYuTMZYonynTp2S6hoyZAhuueUWxGKxJHFmZ7GTt/HzrYqtszrGbpudEHz44YdN71esWIFYLIYdO3Zg6tSppn3yKg0q3OTG459PPMcibvKV9e3b13RdygMMT4orimgeCwjEU6o88sgjAOIimLuAgfgklhNOOMF0XBhxsZpJMRG9YuyfS0T9jO2FRPQsEX1LRD8QkXWOkhaMnq3ZfFGJs5YiokXLWU1NTUbWDm7R4szNk75oJVIhL1DtJpWDuF9Mf3DFFVcAiC8a7cfyIOaq8pp7y25ywKGHHmp6L5q23XzOwYMHY9CgQcp4QJ7UlosAO1cz36dKmOtlkBDXVLVqy+78v/fee0nbeN/kJLtu4id42hQ7+OcbNGiQcj+3lNpRUVGRqOe7775LuC75qhM8llC8JkVrG0/1AsQ/r7i01IUXXohnnnnGdFzYcLmayXkAtjLGBgG4F8AdxvaTABQzxvZAfLb5hVy4aXaiZ2s2X1qy5UwUZ7W1tVqcpRs3szXdujW50ON1/uMf/7A9li811aNHD9s25Tr4wMfbEy0zYq4qr8tIiUJVXvape/fupveff/554rXTTZgLr7KyMlcxZ+Lnvfnmm9GlS5eE24/v4+5OYGdqEC/ijIsPcfkjL+JMBe/bl19+6ek4AK5mJ/HAfat+2U0+EeHnScyxxielcNEpW874QwPnjjvuwI8//ogHHnggse3jjz82lQmjOIO71UwmYGcexukADqX4SWMA2hBRAYBWABoBVGWm27mDtpw1X1q6OOP33pqamoyk+2ix4mzcuHGurEtO4ozn05KTyspxW3J5uxgicUKAvDYjX36pR48eiEQilpn9xZvjSSedZPsZAHsxZ7dMkFtxZieeeBl5QkBdXR0ikQgeffRRU1vcStTY2JhIC+FFnHE3qyiM5WWSvIoL7u6zywlnhZWFUIS7HK3qc/v5+SL2Yj180Jk+fToAsytfZTm++uqrXX3vIcTNaiaJMsZM9O0AOiEu1GoArANQDuAuxtiWdHc411BZzuTftSY3sXJrtoTvVrs1M0hRUZFtzBlPbup0k3n22fhDNk/GJ5ZXufHEhLCAWhTFYjHLC55brTZu3Gi7RI5oyVAtvi3j5WnXqzgD4j/iK6+8Mmk/d2XyJLTy+RaXdOKCl7f5r3/9K7EvLy8vkbTWCZ76Yvfdd8dFF10EIDko3+uAo8oppkK1TJI8G/LDDz+0PN7vQwSHi7iXXnopsY3fTJcuXQoApqXD/FgCAeCmm27ydVyacbOaiVWZUQCiAHoA6A9gMhENSGogoOXnwkp+fr7tg5xKnBUUFHi25IdU3LdoVOKsXbt2rhO2q4hGo77HmHQjXoP5+fkmy5kWZ2nEKfhcniloBY/b4YHgYvnhw4dbHqeaEMCxy3MmoloY3S9+XRFiRn8VouVM9SMWxZn8nbRr1w79+vVLxELx2aCqc9O3b1/X+XHE47lVTsZJnMlLJ1l9X3I9qmWS5HgxL2lNOG7dmqrjM52/J4s4rmYiljFcmKUAtgA4DcB7jLEIY6wSwJcARsoNsICWnwsr8jI2Miq3pnZ1Ng+qqqrQvn1707aysrKUlnD69ddfEwYOmWwLdDHnmuiZyNQqBlqcGVgNOGJwtApVCga+Hqebi0slKLZu3eo7mapf/A6eToJIdFmqkJdvWrhwYWLfH//4R4wYMSJpAoBVKoxUBIqMvOA4YJ5I8Pjjj5v2yW5Rzt133+2qTyratWtnej9x4kTL68Ltk5xqILUS+WLAv4xVP6655hoce+yxrvqSBRxXMzHen228PhHAxyx+wZQD+C3FaQNgNIC05WsMK06pMlT78/PzPY8vLWUWYC6hGmNLS0tTWvx85cqVptn/YSISiSi9X9py5gE/IkUWZ1Y3G6cVB+zyYzn1q6GhAccccwzuu+8+ADtnRbqZveemfi+8/PLLrst6+Yx2qUWAeGZ/bjn74YcfEgvOA3HBqDpONdAzxgLNLK1yU44fP97UnkiQ1ide9+9//3vLfTJu3bBycD9g3XdRKMvw+DSZtm3bhjLDN+B6NZMnAXQiouUArgDA0208BKAtgO8QF3lPM8aSl1do5sjL2MhYuTXdiLNsW0o03kl18fOVK1cirBbmSCRiSjckphTS4swlVj9qMZGmTH5+vqsb2pQpU2z3f/HFF5Z9sUvDwRhLXJT8aWTUqFGJ/W6S3AU5mHH3rAoxRYLXPjDGEI1GbRfI5eJMjseTk6ZyVDeHWCyGfv36uVq+i6eOsHs6t2pD9doPs2bNciwj909ONWLVNxX8WuQTAkSsLGfiuZQFHH8vL/9UVVUVaqsHc17NpJ4xdhJjbBBjbBRjbIWxfYexfThjbBhj7N/Z/BzZQuXWFK/JVNya0WjU0VOhCRepirPy8nIMGDBA+YDox+IaJI2Njcr7iXZresDqhmX3BB/0DKKOHTsCMN8kr7/+ettjqqurEYvFkhLYAsD+++/v2Ka4Lmeq2D0NqxbH5tjl15o0aRJOO+00XH755ViyZIlt+9ytKRKNRl1bzj755BP07NkzEeBvx7Rp0wDYx2mpBguvQc12yLnjVKjEmdU163Qt2w2g//63WmeIAxOfICOz5557mt6PHTtWOelB0zxQWcZEUcX3Owk2FU1NTVqc5RhlZWUpuTWbmpowaNAgrFq1KmlfcXFxoHHVXtFuzQDwM4PNzgrhtj1VMLxbwccFD2MscQGI/fn5558d67BKo+GHvfbay3KffJ7E93Yz0ri4EJd1kpk8ebJpQoCIF3EGJLuq7bjhhhts84up2vDiznXCThjyusVJB5dccoltu07XHU85osJKfIspWOzEnXizXrlyZUYGLk12ULk1I5FIkjgTBZvb2ZpanOUeqVrOiAgDBw7EL7/8gqamJtMDehjEmejB4mOvFmce8GsBW7duXUrtiRclF1hu+8JTYohpM8Qbrxh7ZUVQsT0FBQXYZ599AqlLxI17S06lIcLF2bBhw1BWVoaDDjoIABJrdcp4EWdOfVNZEkWx9NZbb6Uk0Hj7/Ef+44/JseW//vpr4jUXc37FmZs1R2V4bjWn+l999dXEaz0rr3mjcms2NTUlxj9uJROtDn4tZ2GIQVOtBqLZSarijDGWEGd1dXUmd2G2xZmVWzNT7vdmIc78WM7kZXZSbY/P0PSqqLkwket1I/Lczk6048Ybb3TMXaQyObvBzeAqp9IQ4RMCmLEE1BlnnAHAOkaKiPDQQw/56quMm5vJ0KFDfdfPxVnXrl1d1ZWXl2dr7T3ssMMS9Yiiyiv8OvZLJhYE1mQPlVtTFFV8v2hNcxs7JNYTlvQbH3zwQaDhDLmK1bhTXFzsezIUX0C8S5cu2LhxI+rq6kzejGyLM6sJAZmixYqzVLATTrvuuqunuiKRSKI+cUkdESvBF9TF0tDQgGXLlgVSl4jd+b/nnnsAmNfWtHJr8n28Pju3ZlDYxeBxUjln/Ltz+wTGxZl87T322GMAdi4H9uOPP1paFt1g5/50gxZnzRP+8GTl1pStZCprmhNiXqmwiLPa2tqsCoSwIAunICgvL0efPn0SY6EcaJ9tcWZlOcsUzVqc2ZGKsLFrz0q47dixQ7n9ggsuwFtvvYXCwkJs3rxZ2UZNTU0iq71IEBcur8MuLswvdufpr3/9KwB7tya3nPFZm7y+SCSCJ598MqnOIJ9s3IizIJg0aVLSNtV5s1ruSw7ITxU/VlLxvGdzMNOkD24Js3Jrqixnqbg1nfKpZYqamhrbSU8thXSsq7ly5Ur0798/8T6MlrOcF2dEdAQRLSOi5UR0tWJ/MRG9YuyfS0T9gmiXYyWInCYE+IUxhiOOOMJTm/X19Urf/D777IN9990X48aNM22XP9Po0aP9ddaB22+/PS31Au5EM7eIxWIxnHPOOTjyyCMT+cSi0SgeffRRlJeXmyxnkUhE+f3ZpT1RWR/tBv9M3RjE9Ckc1VqoVm5N1U1PXorKC1bJdO0Q+xDWHGea1OA3KpVoUk0IELeFUZzNnj3bVbna2lotzpAecbZq1aqEOCOipAXFwyDOVBMCMkXK4oyI8hFP0HgkgGEATiWiYVKx8wBsZYwNAnAvgDtSbVfE6qTZxR+lIs7mzJmTJKY4di7P77//PmnbmWeeifPPPx+33XabbT1hmAFnN6NThVPcXJs2bRKWsVgshg4dOqBz584J9yQf0Ovr6xGLxRJuRKvktHaoBuN//vOfluXlm8mZZ57pqT0VqlgwlZhRZebn50TO/aY6D/JanelGPFedO3fOaNuazMDdlFYxZ04TArzO1ky3OHvhhRdcldPiLE46xNnatWvRvXt3AED37t2xYsWKUFnOmoNbcxSA5YyxFYyxRgAvA5gglZkAgC+gNR3AoRSgD8pKnKWSf8WOQw45xDK+yWv8GzPWnZRPh1w+yHgqvzjlKpOxyiLP+dvf/pbk1ozFYjj44IMBmG/6lZWViZUUIpEI8vLyEkLg3HPPdeyLV9Eg3xiee+45T8erGDRoUNI2UZw1Njbarp2pspyprotMXyviAGq3nqwmd+Fiq6ioKMmtqbKc+Yk5y6Q4Uy3PpqKmpkbHnCE94kwMZRk4cCC+++67UFvOMk0Qo3hPAOLiWBXGNmUZYwmV7QA6qSojoguIaD4RzbfLoSWycuVKr31O4oYbbvBU3kpb+o1/k2+ocj3pnCnCZwymwlFHHeXrONGtyV/ztRnFp23x/HDLEl9E/PDDD/fbbUv4jWHIkCGB1y0ifq/jx49PWnFCLPfKK6+4EmeZNr+L31OYVwfQ+EeMObOznKlizvzM1ky3OFu3bp2r34m2nMVJhzgTGThwIL799ttQW85ycbamqsfyVe+mTHwjY48xxkYyxka6XXNLzAflll69erkqxzP/y1h9UV7j3+S1J/mThDyBIJ0XxuGHH45+/fqlVIdfQSC6Nbk445/V6qZ//fXX46WXXkosDO7G9Oz1/PEbw+9+9ztPx4m4cS8ecMABidcrVqywzeEGuBPtjz76qG2bQS89YiWiNc0HtzFnfOWVsMecbd26VRk+IFNQUKDFGdIvznr37o1ly5aFznKW627NCgC9hfe9AMg240QZIioAUAogeZE/n/gRBn/4wx8SebMA74lsvbo1AfWNVHZr8htd27ZtHY8NijPOOAOXXnppSnWkIs4AmNyaKnEmn29x4OY/ILsYMq/94zeTVMQGd8/aIcYSrlmzJmmtSo4Ycybi57rwaiV2Qrzxiv1xc/PT5AbcOqZya4qWM06qszXTnUqjurracga9SElJiXZrIp5wXbUiDhD/rrwK6draWpOVjMclhsly1hzcmvMADCai/kRUBGASADm9/QwAZxuvTwTwMcty+ucBAwZg4MCBifdeY8W8ujWtttfU1Cjr8usmBIArrrjCU/nu3bujT58+pm1enxj8fJ0333xz4rXKciYOzrJIEs8ZtzZarf/oh0gkgj333BOffPKJ62NSSf7Kufbaa5XbvVjOnHCzbqsXxIFZ/J6CTvOhyR5Obk05X58ccxa2CQFFRUWuxFlxcbG2nAHKPJSc0tJSz7kVV61aleSt6d+/v8lylm1hLLs1c262phFDdgmA9wH8AOBVxthSIppCRMcZxZ4E0ImIlgO4AkBSuo1M4xSAD8QvOsaY0g3k1a1pxeWXX441a9Ykte+lHjk3ldcbdirrjHJSPf71119HbW2tpVtTHhjE9/y13ef2MyHg+OOPx7fffuv6GKs1V++8807lguxONyzuRthll11MFsZUUdXhVdCLPPjgg4nXJSUliddu1ofV5AZObs2gLWfpFGdNTU0oKytDTU2NY9mSkhItzhzws4STmEaDM3DgwNBZzuTrOpMCLZAAEcbYTMbYroyxgYyx24xtNzDGZhiv6xljJzHGBjHGRjHGVgTRbpDIJ3306NEYP348tm3bhr///e9J5f3M1lSJh4aGBuXi4V5uwvIF5HYiBUfVL68CL1XRMH36dFRWVprcml4tZ3Z99mqejkQingeGnj3j82BkK+RVV12ljANzcpn+4Q9/ALDzqfX0009HdXW1qUxQ7u5Nmza5LisLOTHmk69UoGleOLk1ZctZmGPOqqur0b17d0fLGWMs69YbJ6qqqkxr26YLO1FSWlrqOTOCnIAWAC688MJQxZzx5aU4RISGhgYUFxdnpP1mEb0bhJqV67ASUxxx31VXXZV4HYRlA4CnJxH5huinD6rP7wXRYuKXgoICVxMC5Pdc5IgWnFRpamrynKCXn4O+ffsG0gcuujds2JD4jFu2mEM1/Ygz1XdrlbdPRY8ePTy3qclt7NyaohATt4V1tmZVVRV69OjhKM7q6urQoUOHUFvO1q5di+XLl2e1D2VlZZ4tZxs3boQ84U4zoyMAACAASURBVG/EiBGmB9ZsizOV5UxeYiqdNAtxFgSxWMx003ESJ+JFtGbNzkwiH3/8sbK800QBef9bb72VVMYK+WLxulBvEG5N1fJSTtx4442m94WFhSnFnK1evdq2fhEx3k1FKjeG7t27O86YdINqGrf81OZHnKnE+9577+14HI+DDPPNSpMe7Nya8oQAIvK9tmYmxZmTW7O2thYdO3YM9fW+YcOGrPevY8eOnr01TsYPIBziTPa41NTUZCwhfLMQZ35+xKqYs169euH4448HEHc32lkTxONFYfPGG28oy4vrZqrqcrJcebkJexVabtrPBIWFhSa35sKFCxP75Ez6qiz5bmYHunVv8mvqmmuucVWec/HFFwd27sQbHk9CKz/Jebku7r//fgDqQH1Z/KrS2BQUFOD22283TaQBgp2IoQkndm5N2XLGGPMdc8Z/52GwnHFxFma3ZhjE2W677aZc/SZV0j1j1wlVnrPq6motzrwQRJwLv6Ged955uO2227BkyRLsu+++luXFm6Kb9l9//XVXdXFUKRPOP/98x3bkY92sIReE5SwIZLemiLxNFBO8725mX7kVW3z2kddYtQcffBCTJ0/GcccdZ1lm/vz5rupSibNU4kv4pAhV0mFZnD377LNJZYgIV111Fbp162bavn79et990uQGbpPQyuUBf7M1/aRncMv27dtdxZzV1NSE3nJWWVmZJJbTgd1DYGFhYVpEVLYTWstuzaKiImzbtk2LMy/4yUWlspxNnz4d48ePx8SJE01l5Dgfuc1dd93Vc/si7du3T+qPajCbPHmyq/pEceYm2a5fy1mqudFkZLemCF+DjaPKDecGOTbGCtlF6oXddtvN1prkdo1ScWDgFgXZfeBlALNLzyJbJo888sjE6+effx6AdToPTfOH36jy8/OTfm+y5cyvW1OOOUuX1cSLWzPsMWebN29OJOPOJq1bt3Y1+zWXkC1nXJzpmDMP+BFncuwOYwy9e/dGUVFR4ubDZ6A88MADSceLN8XddtvNVZtWTzh77rln0g3vN7/5jas6VYjizM2N1Mpy5mQRXLRokffOKeBtFxQUJPKdyYwYMSJpm1ViVrvlqNatW+eqT5WVlcrtbleWsEO12LnMbrvtljRTSPyeuMvXizizK2v3G+LJmrmozFVxRkRHENEyIlpOREnpfIiomIheMfbPJaJ+wr4RRPQVES0lom+JKPUZMDmEyjpmtS8Vt2amYs522WUXV+KsXbt2gU3ySgd2+ccyyejRozF37lxXZRsaGrKa3NUL4rktKirC1q1bteXMC34uTln9qm44P/30k+XxfkyuVpMFVHXJKwR4IQhxxhjDhg0bbI+TY4/8MmXKFAA7xZnqfMjuyGg0apn7SxY/EyZMSLyeM2cOAPvJAnazEW+55RbLfUHyxBNPmNzqXJzxp3i+L0hxNnLkSNvjL7/8cgC5OVuTiPIBPATgSADDAJxKRMOkYucB2MoYGwTgXgB3GMcWAJgG4CLG2HAA4wCkL0NqCBGtY/J15JRKI4yzNTt06OAoumprazN2Iw47TveR/fffPzG2OrFhw4acjFPVbk0fpPrkMGXKFOUP1c4Co0qCGiSqmB83QmvcuHGmz2K15IaI1U3b6enGi9th0KBBiddW58su5kw+5quvvnItznbffffEa6eVD7p162aZCqNTp05piYNQmcn32GOPpO/OKhZv6NChrtpRHc/FJhHh66+/dnV8juYyGwVgOWNsBWOsEcDLACZIZSYA4D+86QAOpfiHHg/gG8bYEgBgjG1mjHmbEp3jiJYweRxySqURNsvZjh07XN1ga2pqMubCynXatGmD2tpaV2XXrVuXFKaSC3DLmXZreiAVKxMAtGvXzjTg8NfDhw+3PEa80Q0ePDil9oko4bbjNz6v6TA4rVq1SoiVV1991fWN1E/M2X777ee6X6NGjUq8tor7kmdriqgmBFjFnMniTBw07FyKr776KojIdVwax8oi6haVWK2vr1em0pApLS11naNMVccRRxwBIJ6jzUl48vMSi8VycXDtCWCN8L7C2KYsY6x8sh1AJwC7AmBE9D4RLSSiK60aIaILiGg+Ec33ml4gzHhxa8rbwibOAHcP1JnMaRVmVJZRFW4ncaxfvz4nLWeFhYXarekV0TLC8ZIUVXbr8ZuU3c1KvOH3798/JWuCmCJh2DDZ07IT3sdjjz3Wssyuu+6aEGdu/fry51elUVDhJnaKw1OUANbizMtsTbsJAcccc4zpvRjQa2c5GzhwoC9xNnbsWE/lZVQ3CtUNTyWYe/bsif/85z+ObbzwwgvK88rrVMXS7bfffrjwwgsT7+Wgby7scgTVj1k+oVZlCgCMBXC68X8iER2qaoQx9hhjbCRjbKTb31EuIFrC5OtINSFAtpyFbW1NN+SCWzMT8Z8NDQ2u7qd77723qzjkXLacabdmAHiZYeMnlcQ///lP03uvN3S5fTfwPsoJamX+/e9/A3C/UoD8+YuKijBp0iTH47xYLFVJY2Xkhc+tjudluaiRZyvJsyHFY+Xvqbi4GJ06dQIQd2OcccYZtq5gVd8KCwtTmqmkOh+ySEzFdc4Yw2mnneYqZQsA/OMf/wAAfP3113jkkUcS23l/+Hc0c+ZMV22HhAoAvYX3vQCstSpjxJmVAthibP+MMbaJMVYLYCaAfdLe4xAhCjD5O7WaEBDW5ZvcEna3ZqYSotbX17sSZ2PHjsUXX3zhWK6ystK1ASBM6NmaWYCLAg5/bXdDlPelIs5E3Jh7+U3WKrUGnz3q1jUqi7Pi4mK8+OKLjsf5/cxW4iw/Pz/JrcmthCrLGc/59dvf/ta0z26R9KVLlya1y+vOy8vDnXfe6XmRdEAdN+YW1XVGRKbzFESsm6odlXi67LLLbI/n35Hcp5tuuslVm1liHoDBRNSfiIoATAIwQyozA8DZxusTAXzM4ifofQAjiKi1Idp+AyD4rJshRrWUjbgv6JizbCcgBcLv1tywYUNSzsF0UF9f72o9yU6dOinTTsmIK0E4kc2HO7ntoqIi1NXVBXavdyI0I2c2ISLlDEe7G6K8zynQ3Kl9Ds+xpkK26FhdJLw+WWT8+OOPluX5Z544cSJuuOEG50575Jtvvknqn4xoORsxYgRKS0sxYMAA5TFEZFpBQN5n9d7NSgN232U6ptWfdtppSdvy8/NNfQ1C5KjOu/wE27dvX3Ts2NG2Hivrpt0M2GxjxJBdgrjQ+gHAq4yxpUQ0hYh4xuAnAXQiouUArgBwtXHsVgD3IC7wFgNYyBh7N9OfIZuI1jHVbE275ZuyPVvzzTffNL13e8NXLd8TJjIpztyGCYXoYSxwVKtjpJPmeyY9IFuO3IgzGStr0B577OGqfY7dzDtVXNBDDz1kWZ8cKD5kyBDL9kVx5madxd122w0HH3wwgPjMSSfEJVDk88rTZOTn5ydu/FOnTsX27dsts897ydkllrWbgeskzogI/fr1szzeL1OnTk3a1r59e9M1xc9NKqjOmZwOZdWqVUrRL7o3e/fu7TizM4wwxmYyxnZljA1kjN1mbLuBMTbDeF3PGDuJMTaIMTaKMbZCOHYaY2w4Y2x3xpjlhIDmipNbU7xWGWMmAe82bMTv2ppNTU22XoLHHnvMVT25RmVlpe14FhRuY86A7Gf1DxKVAUaLMx9YBRj27ClPyErGjziT91lZsbw+SXhZbWDmzJn485//7Kl+FeLnP/PMM5UJX2UOPPBA9OnTB5WVlRg9erSyjGgK/+677xKvZfHDn07z8/PR2NhocpnNmjUr0UcRLy5ncZKFHJ8m5ktzEmeLFi1SrkuZKnl5eXjvvfdM24qLi003PDduBSdSGTjFiQF5eXk5OdtK4x87tyYQzE1ZtJzxEAc3vPbaa7bL1C1YsMCXizRE8ZJKwmg5k71QzQltOfOJ1QXx8MMPOx5rJc7sfpzyYMQXlZZx459Wudbc8O233zr2y4prr73WV5vyMXaBnaK4OOCAAwDEk6seeqhyohvy8vIwe/ZsbNu2zbFPYmoOq75xuIWPtyGiejoXvzO+SgQQt1xm8snQy2xYGVUamOb0VKvJLHZuTRk3E3qs2vBzzS9ZssRyncyamhq0a9fOMaF2LpKpwHov4qxdu3aorq623G8VEpELFBUVZTQOMiVxRkQdiei/RPSz8b+DRbkoES02/uQg3LTQu3d8YpZd2gmOldnd7glAvsCGDRuWaFPEbYZ+Ffvvv3/StrPOOsuxPjfIcUXpeEpUDbQlJSWWbfFgfTc/YLt1Iu2sj25uHKKF4L777rPtRzpJZULAkiVLkralc1CUZ/fm4mwsjTWicHIaK/yOJdFo1FfM0ooVKyxnS5eXl2P06NFYu3Ztog3+OZysPGEXEZmKiXM7IQAAOnToYHqgldmyZYtjTGtYUE0IaNWqVcbaT9VydjWAjxhjgwF8ZLxXUccY28v4O86iTKB4eQKTZ2ty7FSyKuhcVUcqoqdPnz5J21QrB4i4nUnSocNOHe0nlYibgUt8guKTGcTjbr75ZlN5vu6l6Na06pdd+yqRzOHXxbvv7oznfvLJJ01t2Z3DVEWsXdyfjB8rwp/+9KfEsXJbYhu9evXCa6+95rl+K/ji6JrmSypixe3vRmzD7THFxcWWlrPy8nKMGTMmIc527NiRCG1o3bo16urqUu5ztvBzrvzgxXJWVlZmK85yNccZEBdnmZy9m6o4E5c7eRbA8TZl04p8cXoxY1vN1vSikmWBxxOTerWcpfq05kactW3bFueee65p288//6wsy3OAyQux2w1qIvzziLFeKhcyANMTrVOMmepz9u/fH0ByOhJxMOD1zJ8/H0B8diJPWsv32cXWpDoI/vDDD67Lip+5qqoKzz33nOMxv/zyS0II202MePbZZ/G73/3OdV+c8LPChCY3CZNFadOmTejbt6+l5Wz16tUmy1lVVRXat28PIL7kkJWoyyWKiorSmhPOy4QAJ3GWS6sDyNd5UVFRRpMSpyrOujHG1gGA8d9q6kgJxZc0mUNEtgKOfC5/It8M3IoHo02lYPAS2JiXl2cqzwP1U3Fr+jHxuxFn++yzj6nN6urqROJamVWrVinrXb16tWX927dvT7xesya+Yg4/N/K5FvvBM86rLGfyOVIJCz6bVS4rimx5Vpf4Odyk0kgVq+/aznJ24YUXms6pHR988AEqKytNx6v47W9/mxBxn3zyiau67ZCtzFZxhZrcJ0zC+5tvvsEBBxxgKbLWrVuHESNGJH4Tojhr27atbfLoMIlQFfx7KCkp8ZR03SteLGcdOnTA1q1bLffnkuVMvs4LCwvDJc6I6EMi+k7xJy8abEcfxthIAKcBmEpEA60KZmP5Ez/iLC8vL2F94XWI5flrrwOZSriIMx2dcJq9M3r06KRgcTsR6DYIWIQPfkB8tmy3bt0sxZkIt9IVFhaCiNCxY0dbt+Ybb7xh2w/V9Hq774Mn702n5cwKMZEuP3/8e3nkkUeSZpnaweNQ/vznPyelylDhdm1OFePHjweQLARffvll33VqcpugRI2bepYsWYL999/fUpzEYjEUFhYmfrfbt283ibPmYDkLkzgL2nIWptmfoXNrMsYOM3L7yH9vAdhARN0BwPhfaVHHWuP/CgCfAnBOpOURtzdN1WLdfmdr7rvvvomMyKWlpYl8XcBOcebmwhIHIVFQ8O12C7BzJk2ahEsuuQQXX3yxbbnx48cnCTg7cUYUX0ZILuPUDrDTzcgYM4kzK/Lz89GnT5/ErMjBgwfbijO5Lvlc33rrrUnH9ejRw7J9Pminc6CzQhQ33Eomfr6SkhL88Y9/9FTnkCFDlHGLQcKFbJiTdWqCxUk0qX6z6bJCbdmyBZ06dbIcJ+Ttdm5NqzQJfmJy001jY2PiN5cJceZ2QoCTONuxY4enZf8ynb7Cjlxza4rLnZwNIGnRRyLqQETFxuvOAA5EFpc+ufzyy5O2WS3f5AYeWN+6dWtT3VxkpeLWPOWUU1z3Y9SoUcjPz0/U5TZAu23bto753FSzJ924/rjgiMViypg+GS4AufDiySyDxE0ON7vz4bU/XgYiO+666y5f1qh031TS6QLWhBOnayqTYsar6LNza06ePFnZ7+LiYlMS7TAgJqAtKSlJa/+8xJyVlpbahmB4vS4yce4jkQg2b97sWC7XxNntAH5HRD8D+J3xHkQ0koieMMoMBTCfiJYA+ATA7YyxwMWZn9lA9957b2KbysIlpmSQXT9O7Xlxa8ptT5gQ9xhbzexTIU4RB4AzzjhDWe6UU07BySefnHjvlGHaSpx5+ZFt2rQJ7dq1Q3FxcdLALc7Y5N+DKM7+9re/WfZLNWPWqizHjZiws655HVys1qlUYZcwefny5bb5g1SozseyZcs81eGEtphpZAoKCpJCCtIh1pzyoqlSc8jiTLSc/fzzz0o3Z3FxcVas6XaI4izd/fO6fFOQbsi9994bn376aWD1qfjss8/w1FNPJW2Xx8+SkhIcd1xGkk0ASFGcMcY2M8YOZYwNNv5vMbbPZ4ydb7yezRjbgzG2p/H/ySA6ruiL52OqqqoAWD/piV8OX9JIjKeyQxRnqrUTRUTBwBhLvPcyIUAWZ1YMGzbMtETUnXfe6Zht32/iQH5Mp06dUFBQgDFjxqCoqMjyhy6LMwC2TypOMzpVyGKCu15F7CZVeH1y4gOoGyvo//73P091+8HLChRu0JazlofTWBDUuphOY/pPP/1kez2vX78+8aBVWFiIhoYGW7fmunXrErP8+TgEpN8y5QdxdYB0uzUbGhoCWaHED4cccgg+++yztLo2v/76a2zatClpu3z95eXlKcOi0kWzWSFAxOt6Y1YxZyJeUwXwJ8c+ffo4XtjifsZYQmR4cYnFYjHPebGKi4vRpk0bV27NCy64wLTdi7tWFHcTJkzAE088YVleHBQZY5Zr5qksZ24sS/Jap1dfnZyaz06ceQ0IPeSQQwDEYzGC5qCDDrLdP3bsWLz66quBtysSxPJhmtzC6bdfUFCQ1tQOnCVLltgup7Z69epEzGX37t2xfv16VFdXJybXyG7NVq1aJcRZXV1dYpZ3usWPHzIpzrKd1f+Pf/yj5T0jCGpra7MmPu1oNuLsgQceSLz+9ddfTespcq68Ur1e8R133GFKSmonzqxSTsjwmYezZs1yNWOOU1pair/+9a8A4k97di42ET/ZtceNG+f4wxOtX24Q86GJ1kNeDxFZ/hBEkcxfW5nIVeJs0aJFyrLi9ym6iocNG5ZYVkokHdagvn37mpaRUuHV+ivO8FRRWFiY9kz9BxxwQOiCpTXZpbCw0NcyN14FwLJly2wtZ+Xl5Qlx1qNHD6xduzbp4ZdbzhoaGhJrBQPxGza3kofRrblhwwZTzFnY+qdCFLxeGDp0KNatW5eYfKfCb3wyv2+qQpuynUql2Ygz0TJRUFCAvn37JpW54447lCf8l19+MQUxyl+y6AbkFiSnC0EMbnfrCjv66KORl5eXcKF26dIFP/30k6tjS0pKPAefn3baadh111195VOzunB33333xGsuwpwEIDdZixMzuDizspzZ9UHGKq+aFVycHXjgga7qd2p7xIgRGDNmTOA/drscTRpNunC6jlWWMzfXvjymOh0TjUZtrdwqcSbSunXrxG9o/fr12HPPPROWs9ra2oSVPIxuzZqamsR9JYz9U7Fu3TrfCWgvu+wyPProo5b733jjDSxevNhzvd9//z2GDx+OPn36JHJyhoVmI85UCeM44hqV//nPf5KOtQp25//FpY7cMHnyZJO1rFu3bpg0aVJiRsjIkSOVx73zzjtJ/XEr7K644gpLy6AVZ511FgYOHOg4CB5++OFJ26zE6YMPPph4vc8++yTK2rXBB0Tx6cWP5QyAq9gBuR4ZcaWCVOFu2lRm7VrhdYKARhMEeXl5tg9NQcWcOeH0exHTNqjEmfgwuHbtWowYMQI88XlNTY1JnIXNMiWe/7BZ9qy+l/Xr1/tOQNulSxdbAVpZWek6UbfIl19+iQMPPBDDhw9PrO0MhCPRcrMRZwBw2GGHJV6LgftiLNYXX3yRdJxsOZKz0s+ePdtTzNnxxx9vioXg4oQv+Ook9vxYsvLy8nytxQg4D3Lvvfde0janGTl33nlnIgN9NBq1bEPMDadya8qxWk4/btn9umPHDktT+ttvv610i/Dzb/cd8yWfnGjVqhX69OmDvn374ve//72rY0RUsz3FmDyNJtM4LRekEmfpuFa9PMx06tQJmzZtsuzH2rVr0bdv34Q7VnRrhk2cbdu2LTG2AuHrn9U5TnV1ALtraMuWLb4SCldUVKBXr14YOnQovv9+ZxKJSCSS9clOzUqciSfzoosuSryeMmUK+vXrZ3mcHzHkxRojW46cRFSmfd1u2tt3331NwfBOx4hxZTt27FCWv/baa02zJ1XiTP6BXHfddYn9bvptZ3kcMGCA8geoWhxd5u2333ZsG4ivOvDWW29hwIABuPTSS10dI3LfffclbeOxZvI16NXCq9H4obCw0Hb2XEFBga+YMy80NDQ43jzF8cFqrBAtZ2J8r+jWDJtl6r///a9p+bpMTAjwQn5+vvL7T+fSTX7FGae0tDSRvQEwJ/nNFs1KnIk/QPHEdu3a1TIe6+STT0764XJ3nF9ksReLxUzbwibO3Pz4WrdunVjeCHCXJdxpcOSDK88xo4o5ky10fP1MN33wC/9+xKfTVAiin24eIMI440jT/HByWxYWFgaS68puXNq4caNpVr4qoNuLqNi8eTM6deqU+K3Kbs0wxXQtXrwYe+21V+J92CxnZWVlShfjpk2b0Llz57S0WVVV5VmciTNeZbTlLEBkS4oYKNqxY0ccffTRyuOGDh2adPNU3eS8/NBHjx5tel9UVGRaG9FJkWd7logVYr9U50POGSaWP+CAA/D000871i8v82QVJOzWcqZqw4kBAwa4rs9pLdOgEBPU8s8gn8+7774bN954Y0b6o2m5uHFr2gXqB0FlZaXpt9e6dWvU1dUl3otraNohp/vh4408ISAs4kcOuQHSLx69jrNWi5+LM2WDplWrVrbiTLVv9uzZptn64vf/008/pX3pOyeajTg74ogjTMvbiDFfPXv2xO2336487tZbb/U8vXePPfZQTizgyBfzySefjPvvvx8AsGrVKtx222229WdanLnNCyf2S3XOxB+eLKpatWqldC3LMynlfHPijMmbbrrJ1Mb/t3fu4VXU577/vrmQkAQIgUASEhNoLoqIIhfBG0UsXguiWKi7jxzbYq3bp0d3vVQ9Kmi1R+uzyz7aVm27z2Nt99Zqa0st3dS2m4MWvEQF5E7IhYQkQEgMmgAB8p4/1sxy1qy5rbVm1ppZeT/PkydrzfzWzDtr1vzmnffq1fcUy0XplnXNDiNlWO86uOmmm0Q5s4GIriSi3UTUQERRRe6IKIeIXlHWv0tEVbr1ZxDRZ0Rk3LpiCODEram3Orh9rWpLSQDRBWVbW1ujrmOjBzqzh26/ltIwqu3mJ/kA+/6a8WLVZ1N//rU0NDTguuuui1q+ZcuWiHZ+FRUV4YzN3//+9/jyl7/sgtTxkzbKWUZGRoTr0qmGfvr0afz0pz+NaV+5ubkxmWeJKPwkWVlZGS7NUVFREdN+vcKpb107sc2ZM8dyfUZGRsTTs9HkrF9mFHOmzWx95JFHHMWRxMMDDzzg2ra8QOuysXqY8KvV1Q8QUSaAHwO4CsBkAF8lIn1BxG8A6GHmagA/AvCkbv2PAPzZa1n9jBO3ptcuIW37IiC6oOzBgwejyjY4aUGkKjp+dWvq480Ae2U52XilnBUVFZnWOjOrrTcwMIDVq1dHVGxQGRwcjPidqhmbBw8exOjRo8Wt6Tbf+ta3Yv6Mk1gdL7KNkpVtZ9SiKB7sbvxahfj222/HE088YfnZlStXRrgijJQzMxlUN4S2EKsThdzsGOysmVpqamrCr1ORMfnqq68mfZ9pwiwADczcyMwDAF4GsEg3ZhGAF5XXrwGYT8qPhoiuA9AIYDuGME7cmvobWzzXidV8o3dr6i0n3d3dUQkyZWVlEeElRvsYP348Dh065Fu35ieffBJ1XF4/kMV67kaPHp105cyMH/7wh7jrrrsMFS3996ZmbL744otYvnx5QrK6QdopZ88995zleu2NNRHMfrAvvPCC420kKxtkz549jjsbWDF//nzL9VrlKCsrK0LpNZtAtHJpEwKOHTsWUXdGjzY2REVblsOMeCpU69E2D3faOSFRbrnllnDtPAn8j5sJALSVJtuUZYZjmPkUgF4AY4goH8B9AFZZ7YCIbiWieiKqV2tmpRtO3Jpux5zpi3F/+umnEZnYestZT09PuHSRSmlpaVQcGjNHNPYeP348Dh486MtsTW1fUD9TWFgYFXNm16TeCWbKmVEcHgB8/PHHGDduXHjetFMyCwsL0dXVhe7u7qTFEluRdsqZHXYNzlX0vST12zBTNlasWOFYFm32o5dkZWXh7rsTD5HRm9P1WD3BmZXS0I9R3XdtbW2W2xkcHMTWrVvxzjvvhNc5cRPH2hvTSoY5c+Zg5cqVCW9Pv10jLrzwQtTU1PjGFR5QjL5g/YRgNmYVgB8xs2VKGDO/wMwzmHmG162zUkWy3Zo9PT3hlnZa9MW6tcpZd3d3lHJWV1dnOOd2dHSEy2ioytmpU6fCx+AXt+b+/ftjSlZyi1gtc0ZuTavMSKeMGTPGUDnr6+tDQUFB1L29qakpXHlB26rLim3btuH6669PSE63GHLKmVGKt9GPT98qQnvi42kyrqekpMRx38xkYdcDlIgs+0NqMwqNPqvHKBPT6Clo+vTp4dcXX3xx+LMNDQ2W2/Oa7OzspFmx1AeC5ubmpOzPDXz4lN8GQKvdlgNoNxtDRFkARgHoBnABgKeIqBnAnQAeIKI7vBbYj9i5NY0SApxgpgT87W9/i5pv9WP1N1+jPo5nnHEGQ/SvwQAAIABJREFULrnkkohlGRkZaGtrC9ffGjduXLi/pkqyGrnbceTIEc9KUbiJXlEG3KlxZmY5M1LEgZClUU3YchoH99hjj2HWrFkJyekWopzFuY1E/fyPPvqo7yq821nX7ILxrTIXjcbv378/aoyRclZfXx9+rSpD+tpxgLvKmVoOZfJkfbz45/zud78LK4tuYHVDy8nJwciRIz1LRfeKJUuWpFoELe8DqCGiiUQ0DMAyAGt0Y9YAUANOlgD4O4e4hJmrmLkKwGoATzDzsxiC2Lk1jSxn8cyX6vWs1vXSZ3JrMVIInJCXl4eGhoYoy5kWvyTZdHV1JS2MIhGM4oXdUs7UFohazJQzbTkVvXJm5mbV1o9LNcGa6V3AqeXMikmTJsXcZDzRfSYDJzKZKUC1tbVR9d3stv3rX/864r2+CK3Vdoxq5riheKts2rQJACxjZ8aMGeNqbE15ebmp6X3+/Pn41a9+5dq+kkFGRgZ+9rOfpVqMMEoM2R0A1gHYCeA3zLydiB4looXKsF8gFGPWAOBfAESV2xjqOHFrxnNdGFnSBwcHwcwoLS2NUpq0OHVbGX1u7969YeXMLy5MI4JiOTPCDeVsxIgRhv2Ejxw5Ymo50ypn2sK4vb29Ua0B/UZCdxYiuhHASgBnAZjFzPUm464E8G8AMgH8nJmNi44lASOl6i9/+Yvt5yorK8OvX3vtNVeUq0QsPanIIDLLoAQig+TNPutk+/oitGbbKS4ujnry8cISmaj7OlbM2k1py7EEhebmZt+5Npl5LYC1umUPa14fB3CjzTZWeiJcQBg2bFhEIo4eI7dmPNdmdnY2Pv74Y5x55pkYO3YsmpubUVJSYhjzG6/lrKCgAK2trVEZkH7zagDWljOvHvZPnToV17yjl8eNmDOzY+zu7g6Xp9KiTfQoLCxEZ2dneF1PT4/vlbNELWfbAFwPYIPZAIe1hTzBqPCsWgxWi7bhqRGlpaWYO3du+L0bF0Ki2/CiQJ6dTInI7FQ5UydFM/edup3s7OykWB/POOMMV4P+hxKjRo3ypYVYSAytW9MoxMOthIDs7GysXbsWCxYsQFVVVTjesqenJ0qZsipCaoX6uSD8Tk+cOGEa4+qVMqlVcBJBm2DhNmZuTS16t6ZRSRK/kZByxsw7mdnaZOKstpAn3HfffVHLjG76dnE8mZmZrv/4i4qKoookxkKqnuzi3W+sypmd5QyIPm92sj388MOW643IyclBXV1dzJ8ThHRBf11p3ZpGlhW32jdlZ2ejra0N48ePR1VVFVpaWgBEF6AFQnN0PGEN+hIcKkFQ1pJBvMqZWds9LzCqaaff56hRo6KUs3S3nDnBSW2hMKmoE2Tnuqqrq3M9EHPx4sX4/ve/7+o2E8WJ5czPytm1115ruf1VqyxLVBkS76QvCOnC6dOnI5QtbbamkUUkOzs7qoZjPDfn7Ozs8A10+PDh4YLV+gK0iVBQUJC0FmxBxC3LmVsY3X+OHz+O4cOHR4TF6MempXJGRH8lom0Gf06tX05qC32+IgV1guwsZzNmzEB1dXXM2/XSTZgKy1lJSYltrTMznByrk4QAq2261QlBvw9RzoShzMmTJyOUM61bU78OCIWBfP3rX094v9nZ2bj88sujluv7atrJa0VBQUFUSaPMzMyoVkB+iEFLhTXv+PHjcZULSoWseXl5ER1ntOjLv6RFzBkzX87MUwz+/uBwH05qCyUNo7gEK+XswQcfDP/QYq3or6+S7Cb6NiRuYHdBVVdXexp/ZVeqQ08iZSXsuh1o9yHKmTCUOXnyZIR1zM6tSURRN/R4rqOvfvWrEXUVVQXJyK2pxag7gBn5+flRyllxcXHMbYJSjVfK0IkTJ+KynGm7Krip2Fodpz4pRD9W+z7tY84c4qS2UNLYvHlz1DIrt6a2onysF2wi5vKtW7darv/Od75jm8gQK7F0N/AD8SpnDzzwANatW+dorLg1haGO3nWpV86cBHobWaPsGDlyZMTcrFqxu7q6LEtKOAkQVykvL4+qxTdu3Djbord+w28JAdoA/CNHjrgWFmRVEDiWciqfffaZaWa8X0hIOSOixUTUBmAOgD8R0TpleRkRrQXMawslJnb86FP7p0yZYnmT16ZtJ/NknnPOOZbrp02bZpg+nCy8nqxidWvGUk/r8ccfd1wiw69uzaAVoxWCi95NOGzYMEu3phFZWVmWypkT5aKkpAQHDx7E6dOnLa9fo2xOM3JycqI6o4wfPz6qzVuq3ZonT55MelkfIH7lTNv83I0aZypWzc9jrXXnd4U70WzN15m5nJlzmHk8M1+hLG9n5qs149Yycy0zf4GZH09U6EQoLy+PChx3qpx5wZo1KTMiJoTXk1Wsytk3v/lNT+S4+eabcdFFF3my7US46667fFdDTEhP7NyaTixndsqZk5Z42nIaVsRiOTNi/PjxvrOqdHd3p6Q7QCKWMzWsJxXKWaqVaTcIVlVLF8jIyIh40mNmy0nBa+XMi3pl6UA8CQFeMG/ePM/3EQ/Tp083bQ4vCG5i5daMxXJ2+vRp0/X6jFAjqqqq8NFHH9le993d3aitrbWVyYzS0tIoz0WqrSx2rkE1091tOY8fPx5XfLNeOdP3NI0XffNzrRKmVc6MlMqgKWxDzjeiD0x18sSW6gvTj/jBrTmUXXtePzQIgoqVW9Muc1LFznLmpBJ9ZWUlWlpabG+ysSQEGJGfn4/FixdHLEv1jd0uzi4nJ8ey32m8xJsQMHr0aOzYsQPMjI6OjoRqemrRW876+/vDVk6tcqZteh5UhtzdTR9DNDg4iKVLl5qOl5tgapDv3B75joRkoHdrapNkdu3ahTPPPNN2G24oZ9paZ1YEoYZVrNj11dRmR7pJvG7N2tpa1NTU4P7778f69eujYvjiRa+caftq6pUzfdhHInU6U8GQdGvqC9XV1taa1sgS5cwYr+OdnLhKzj77bNN1U6ZMwbZt29wUyVcEaZIRgo1RXJn6+2ttbUV5ebntNuyyNU+dOuUo4P348eOWFhFmtk0YiIdU3wO6urowc+ZM0/Vqr2W3rUXxKmdEhIULF2LhwoWuKo1FRUU4cuRI+L02Fk+rnPX29kbdo9Q6aG4pil4z5JQzfeyDqnyZZeTJTdAYrzOHZs2aZTvm4osvNl0XlAswXi644ALLJ2lBcAu95UwLMzsKL3DDcgaELCU1NTWG67xy7amk8kHdLuZMVc7cJt4itFrc7DAwcuRIHD16NPxem/xh59ZUy3sE5d4w5Nya+jopg4ODEZXp9RQXFzuKqRDcxekkaHZu0j0erbq6GldccUWqxRCGAEZB/7EqKUbKWX9/P1544QUAzpWzsWPHmrZu0hchdRNtEkQqUFsUmZGbm4sTJ054sl8/tW/S/+60ytnw4cPR398PwNhypipnbiicySC972AGZGdnR0wSRGRZvfr222/H7bffnizxhhR33nmn6bpEszVT7YYQhHTByHLGzDhx4oTjrilG2ZobN27Ehg0bADhXzqqqqkwfyGKtcxULXik/euyKj5vhleUs3oSAZKGNOdPO+VaWs97e3kDEJA455UxvOSsuLrZUzohIbvQeYWXdcvqdm1k85ZwJgjuY1TLbt2+f457DRpazTZs2YcKECeF9OFHOli5dimnTphmu89Jy5pXyo+XYsWOmPUntwmu8SgiIRQFPBWY17YwSAtTm50HoqwkMQeWsoKAgQqNWYyb8WAU+XbjgggsMl3/hC1+I6J0XK1YKmBdN0AVhKGLm1ty1axfq6uocbcMoIUBrlXGqnI0ePdpUWcjPz/fMcuaV8qNlzZo1cRdr9VJ59PODrpm718yt2dvbG5hs3iGnnJ177rl44403IpaJchbCqwrU77zzjuHy3NzcqNYpKolaztRYFkEQEsPMrblnzx7HxV71lrPe3l6MGDEinIzlVDmzoqCgwFPLmdduzQ8//BCzZ8823I/dfJgMy16QMLL2qm7NIDQ9B4agcgZEZhpWVFQgIyMDhw4dSqFE/iDZvdsyMjIsq4bbITFnguA9Zm5NbQFQO/TK2YYNGzB37lwUFxfj8OHDrihn+fn56OzsREFBQULbMcJr5aezsxMlJSUoLi5GV1dXzJ9PVkxckFHdmmI5CwD33nsvzj///LTP7HOKXbN1t1EtlgUFBVi9erWr2yaiQGTkCMmDiK4kot1E1EBE3zNYn0NEryjr3yWiKmX5l4joAyL6WPl/WbJlTyVeZGvW19djxowZqKioQFtbm2uWs9bW1oS6A5gRi1uzt7c35u2/8sorWLp0aVhZ1eKkBtxQspxlZmbGlTmrKrBBiTkbcnXOjBDlLMRtt92W1P1p3cm33HJLxLpE3Zp264ShBRFlAvgxgC8BaAPwPhGtYeYdmmHfANDDzNVEtAzAkwCWAugC8GVmbieiKQDWAZiQ3CNIDs899xw6OzuRn5+PW265BWPHjjV1a8aCPltTVcbKy8vR2tqKsrIyVyxnra2tpqESieDUMnXy5EnccccdeOmll2Lafnt7O8rKygyVs56eHls3XKIxcUEqtl5UVIS33noLTU1NjjpG6BHLWQAYM2YMioqKRDlTSHYdH20bGD1OJmo7t6YoZ4KGWQAamLmRmQcAvAxgkW7MIgAvKq9fAzCfiIiZP2LmdmX5dgC5RJSWZtmOjg488sgjuOSSSyLKXOiVs4MHD5rWGzNCazk7fPhwuICyqpz53XLm1DK1fft2tLS0xLTtN954A9OnTwcAQ+XMrnVTLPKZ8ZOf/ASrVq0KxJy5YMEC9PT0YP78+XjyySdj/rxdzTi/MKS1knvuuQcrVqwQ5Uwh2RemNuYslqc2bZyLVSmNIEw0QtKYAKBV874N0dav8BhmPgWgF4A+S+YGAB8xc9oF+AwMDCA7OxtEhNraWuzfvx+AsVuzqanJUU9NFW225vr16zFv3jwAcD3mLNVuzffff99xeZHTp0/j6aefRnd3N77yla8ACH0f+vjnrq4u22StRJWzjo4OXHPNNXjooYd8nxxXU1ODG264AVVVVVH3jXSa84e0VqLWMAuKOddrkn1RqpazWE3MasBsVlYWKisrDceIciboMLrI9T8QyzFEdDZCrs5vme6E6FYiqieier0FxO+0tbWhoqICQKhkRU9PDwDz9k1Oy2gAkZazrVu3YurUqQA+fyhzQzkbNmwYOjo6PMnEM1J+mBnPPPNMxLLW1lZUVFQ4mnsefPBBXHHFFbj55pvDy9SMQi1dXV2OLGdat2ssbaxUWWfMmIGlS5fGZY0S3Cch5YyIbiSi7UQ0SEQzLMY1K8G0m4moPpF9eoFYzkIkW5kpLi5GVVUVGhsbMWLECMefU2sjFRYW4oMPPjAcI8qZoKMNQIXmfTmAdrMxRJQFYBSAbuV9OYDXAdzMzPvMdsLMLzDzDGaeUVxc7KL43rN//36cccYZACIt2UZuzaKionABWSdolTOjfpxOG59bQUTo7+/3zK2pjznr7e3F6tWrI+YZZkZRUVFYsTWjpaUFFRUVUUlYRq0EY3Vr9vT04OGHH7Y9JpWmpiZMmjQJQCgpLJ44Lr+Q6jZbbpKoVrINwPUANjgYO4+Zz2NmUyUuVYhyFiLZyszcuXPx9NNPmzZVdoKZ1VOsoYKO9wHUENFEIhoGYBmANboxawAsV14vAfB3ZmYiKgTwJwD3M/M/kiZxkmlpaQkrZ8Dn84GRW/O2226L6RpTlTOzXo1uWM6AkMXPi8bWRm7NlpYWTJs2Ddu3bwcQKi0yfPhwlJaWoqOjw3J7r776atiVaYcTt6a2883u3btx4MCBiPXMjJUrVxp+9u2338bFF18cNT6IqC280mH+T0grYeadzLzbLWFShShnIYJ6QQqCHUoM2R0IZVruBPAbZt5ORI8S0UJl2C8AjCGiBgD/AkAtt3EHgGoADynW/81EZNzgMcC0tbWhvLw8armRW3Pu3LkxbVvN1ty8eTPOO++8iHVEhIGBAVeUs4qKCk9uzEZuzZaWFqxYsQLr1q0DgPCxlZWVob1db5T9HGbG4cOH4dSyeuzYsZgUzt27o2/J3d3deOuttwzH79mzBzU1NeH3Y8eOxZEjRxzvz08UFBTg0KFDnijoySZZWgkD+ItSI+hWq4GpiNkQ5SyE3wNBYyEjIwOdnZ2pFkPwEcy8lplrmfkLzPy4suxhZl6jvD7OzDcyczUzz2LmRmX595k5X7H8q39pV7V6YGAgojZgXl4e+vr6TGPOYkG1nL377rtR7dyKi4vR2dnpmnLmBUZuzf3792PatGno7u4GEEoGmDlzpq3lrL6+HjNnzjRdH2+Qu/q55ubmqFjc9vZ2y0Lr2n3W1NSgoaHB0T79RkFBAdrb26OanqsEqR6crVZCRH8lom0Gf/o0dCsuYubzAVwF4J+JyLShYipiNkQ5C5FOyhkROX4yFQQhmsrKSuzfv9+0Q0AsqNmaRhaj8vJyNDc3u6Kc6a1ybmHk1lSPZeTIkejt7UVXVxeKi4tRWlpqaTn74x//iGuvvdYTOYHQPK6P3ztw4AAmTZqE/v7+iOVHjhyJcplWV1cHWjk7cOBAVF9NlcLCwsDc722lZObLmXmKwd8fnO5ErRGkPG2+jlDNId+QDv5pN0gn5UwQhGj6+vocX+eVlZVoaWnB4OBgwjc0fYcALRUVFWhqanJFObv77rsT3oYROTk5pj0vFyxYgDfffDO8LC8vzzSo/uTJkxgcHDSMu1PRxo/FgtbClpubGyFDe3s7Lr300iila+PGjbjooosillVWVqK5uTnm/fsB1XJmpZwFoa8mkAS3JhHlE9EI9TWABQglEvgGUc5COJ20d+3a5bEkgiB4wfPPP4/6+uiEeSPXmaqcuUFWVhY6OzsNsw7dtJx5hdqgXYv6nZ133nlYv369qStNyxtvvIGrrrrKcsyYMWPCMV/Hjh2LqQ2dmvWqd612dHRg7ty52LNnT8T4Dz/8ENOmTYtYNmzYsMBmPKqWM7NzMWrUqEB0BwASL6WxmIjaAMwB8CciWqcsLyOitcqw8QDeJqItAN4D8Cdm/q9E9it4g9Mm5LHUN4qVjRs3erZtQRjqtLa2YvPmzVHLjco1lJSU2GYdOiUrKwubNm3CrFnRTpOxY8eio6PD18qZFUSEY8eOYcYM+0IEb7/9Ni688ELLMdpCtPv27YupHVVTUxMmTpwYpZwNDAxg8uTJUZYzK5d1EBPEnFjOgqKcJXQ1MPPrCLkp9cvbAVytvG4EcG4i+xGSg1PlzEvmzJmTahEEIW0ZMWIEWltbo5a3tLREBZGrRaLdiNHJyspCfX19lJUGCMX8Zmdn+145U+PmsrKyokqC3H333aiqqrL8/KZNmzB79mxbT422hVNDQ0NEJqUVRITdu3ejrq4Oubm5UVayvLy8iJizY8eOWbpX3Yg1TDb5+fmWytmsWbMMf4N+JBiRcUJS8FvMWSyFaQVBsMdMMdAWoHUyPlaysrIwYcIE056GEyZM8L1yVl1djX37QvWH1U4AKmeddVbUsektT6+//jquv/562/1olbO9e/c6Vs6AUMhJXV0dysrKbK2eRpmzKoWFhejo6LBU3vyIXbZmZmZmYI5JlDMhjB8sZ1qC1v5GEPzM4OAgiCiip62KmXLmFpmZmaaKABBKCvC7cjZlyhRs2xYKl7b7vgoLC9Hb2xt+v2fPHkycONFRFwStcvbZZ585fkhlZnz66acYNWpURNyaGZs2bTL1VFRXV2P79u2BUWRU8vPz0dHRkRYP9qKcCWH8ZjmLJRBWEARrOjo6UFZWhtra2iiXV3d3t2EWW2ZmpivB4fn5+aYV6oFQUoDflbO6urpwMpSRG1iLvpzGSy+9hOXLl5uO11JUVBSunRZv3Je2fZ22NZa2d2d/fz/y8/MNP19dXY1t27YFTjkbNmwYCgoKEm4F5gdEOVN4/vnnUy1CyvGb5UwQBPdobGzExIkTMW3aNMOkACMX5oQJEyxrdjnFru7g1772NVNFwS9oC9EeOHDAsreo1q14+vRpEJHjqvWZmZmuBuMfPHgQJSUlAEIFZvfu3WvYkkvLxIkTsWPHjkA+IJeVlaVaBFcQ5Uzh1lstGxcMCUQ5E4T0pbGxEZMmTUJdXZ1hix8j3CynYcWUKVN8bznTYtc1QWs5++CDDxxlcupRe3U65ZNPPjG0fra3t4cVFtVq+uGHH+L888833VZubi6OHj0aOMsZIMqZkIaIciYI6YsaJ5WZmen4Wq+srJTYTw1mxWj1aEtZrF+/PuZepEAoU7O6utrx+IGBAcMyR1or38SJE9HY2GjY7Nxoe0FUzqwsmkFClDMhTGNjY6pFEATBI/SlEVTXmb4shJaKiorAlVPwEtXqaJfFWlBQgL6+PgBAb2+vowK1emLN1MzJycGZZ54Zfp+dnY2BgYEIy5laYLanp8e2Un5ZWVkglTOrvqVBQpQzIcxHH32UahEEQUgCEyZMwIEDBwBEl4XQkpubi/Ly8mSK5mumTJmCrVu3Oi4x0tfXF1csHTPHbDmbPXt2RAZpSUkJOjs7cejQoYh4P6e166qrqwOpnN12222pFsEVRDkTwkyfPj3VIgiCkAS0SQGNjY2WZSG01pihTnV1Nd566y2UlpY6Gr9hwwZceumlMe8nIyMDR48eRUFBgePPLFu2LCJLUU1KYOYIZayvrw9Tpkyx3d706dMtkzgEbxHlTAgTy0QgCIK/+e1vf4ujR48CiA4uP+ecc7Bx40Y89dRTeO+99yxdQU888YTnsgaFrKwsNDU1Oa4JZ1Xo1Qondcrs0LdwUrn88svxxS9+0fbzl112maet+gRrgpMeI3iO3+qcCYIQH88++yyOHz+OV155BStWrEBzc3NEe6G8vDyMGTMGS5cutXVbBimLMhmMGzfOssaZFrusTjOKi4tx6tSpmD+npbS0FJs2bYpafs011yS0XSE5yFUnAAgF/sYSfCoIgv/45JNP8Oyzz2LOnDmYP38+7r33XgChhtiTJk2KGPvd7343FSIGnkWLFtn20QSAkSNHxp1MMW7cuJjizYzQdhoQgocoZwIAYN68eXFlFAmCkFpaW1vx0ksvob+/H4WFhbjxxhvD7qipU6diy5YtaGxsjMu9JkRz4403Oho3c+bMuMs61NbWOi5aa0ZmZib6+vpQVFSU0HaE1CDKmSAIQkBgZnR2dmLnzp3Ys2cPGhsbUVZWhm9/+9uGpRFuuOEG/OAHPwARYcyYMSmQeOgSTyKAyoQJE1yp19XR0eEo+F/wH6KcCYIg+JBTp05h79692LJlC3bt2hUuHFtWVoazzjoLCxcuRGlpqWVZh+HDh4OZcfz4ccflH4T04ejRo2lTlHWoIcqZIAhDBiK6EsC/AcgE8HNm/t+69TkAfglgOoAjAJYyc7Oy7n4A3wBwGsB3mHmdGzKdPn0azc3N2LFjB3bu3Im+vj4wMzIzM1FTU4Nzzz0XS5YsiTsw/4YbbsBjjz3mhqhCwBg/fnzatDMaaiSknBHRDwF8GcAAgH0AbmHmTwzGWU6IgiAIXkNEmQB+DOBLANoAvE9Ea5h5h2bYNwD0MHM1ES0D8CSApUQ0GcAyAGcDKAPwVyKqZWbHPc/6+/uxZ88e7Nq1C/v27Qu3AcrIyMDEiRMxefJkzJs3z/WSNueddx5WrVrl6jaFYFBdXS3KWUBJ1HL2JoD7mfkUET0J4H4A92kHOJwQhRSTm5srKfNCujMLQAMzNwIAEb0MYBEA7Vy0CMBK5fVrAJ6lkD9wEYCXmfkEgCYialC2F12rQOHQoUN46KGHwu7EvLw81NTUYOrUqVi8eDFycnLcPToLJO5oaHLPPfeIOzugJHQ3Zua/aN6+A2CJwTAnE6KQYp555hlRzoR0ZwKAVs37NgD6FMbwGOWhsxfAGGX5O7rPRgXzENGtAG4FgPLycjz66KNycxRShvz2goubHQK+DuDPBsuNJkTTCEUiupWI6omoXmq0JI9hw4Y56rcmCAHG6E7FDsc4+SyY+QVmnsHMM8aPHy83R0EQ4sL2bkxEfyWibQZ/izRjHgRwCsCvjTZhsCxqUguv0Exu0tdLEAQXaQOg7fBdDqDdbAwRZQEYBaDb4WcFQRBcwdaPxcyXW60nouUArgUwn5mNlC6Z1ARB8APvA6ghookADiAU4H+TbswaAMsRiiVbAuDvzMxEtAbAfxDRvyKUEFAD4L2kSS4IwpAi0WzNKxFKAJjLzP0mw5xMiIIgCJ6ixJDdAWAdQpnj/87M24noUQD1zLwGwC8AvKQE/HcjNF9BGfcbhGJlTwH451gyNQVBEGIh0QjwZwHkAHhTia14h5lvI6IyhEpmXG02ISa4X0EQhJhh5rUA1uqWPax5fRyAYX8eZn4cwOOeCigIgoDEszUNO7MyczuAqzXvoyZEQRAEQRAEIRpJzxMEQRAEQfARopwJgiAIgiD4CFHOBEEQBEEQfAQZV7/wB0R0GECLw+FjAXR5KI5XiNzJJahyA8GVPRa5K5k5LQocEtGnAHanWg6XCOpvT0+6HAeQPseSLscBhI4l3405zNf9emI5QCKqZ+YZXsrjBSJ3cgmq3EBwZQ+q3C6wO12OO13OYbocB5A+x5IuxwGEj6XKjW2JW1MQBEEQBMFHiHImCIIgCILgI9JJOXsh1QLEicidXIIqNxBc2YMqd6Kk03Gny7Gky3EA6XMs6XIcgIvH4uuEAEEQBEEQhKFGOlnOBEEQBEEQAo8oZ4IgCIIgCD4iEMoZEV1JRLuJqIGIvmewPoeIXlHWv0tEVZp19yvLdxPRFUGQm4i+REQfENHHyv/LgiC3Zv0ZRPQZEd2dLJmV/SbyO5lKRJuIaLvyvef6XW4iyiaiFxV5dxLR/cmS2aHclxLRh0R0ioiW6NYtJ6K9yt/y5EntPXbfi98gogoi+m/lN7SdiP6nsryIiN5UztGbRDRaWU5E9H+U49tKROen9ggiIaJMIvqIiN5Q3k9Urpu9ynXNS3TAAAAGKklEQVQ0TFluOY+lGiIqJKLXiGiXcm7mBPGcENFdyu9qGxH9JxHlBuWcENG/E9EhItqmWRbzOYhrvmNmX/8ByASwD8AkAMMAbAEwWTfmdgDPKa+XAXhFeT1ZGZ8DYKKyncwAyD0NQJnyegqAA0H4vjXrfwvgVQB3B0FuhOr9bQVwrvJ+TEB+JzcBeFl5nQegGUCVj+SuAjAVwC8BLNEsLwLQqPwfrbwenazfSqq/F7/9ASgFcL7yegSAPcrc+RSA7ynLvwfgSeX11QD+DIAAzAbwbqqPQXc8/wLgPwC8obz/DYBlyuvnAHxbeW05j6X6D8CLAL6pvB4GoDBo5wTABABNAIZrzsX/CMo5AXApgPMBbNMsi+kcxDvfBcFyNgtAAzM3MvMAgJcBLNKNWYTQDxkAXgMwn4hIWf4yM59g5iYADcr2fC03M3/EzO3K8u0AcokoJylSJ/Z9g4iuQ+jHtz1J8qokIvcCAFuZeQsAMPMRZj4dALkZQD4RZQEYDmAAwNHkiG0vNzM3M/NWAIO6z14B4E1m7mbmHgBvArgyGUInASfn01cwcwczf6i8/hTAToRuqtrf3YsArlNeLwLwSw7xDoBCIipNstiGEFE5gGsA/Fx5TwAuQ+i6AaKPw3AeSzVENBIhxeAXAMDMA8z8CQJ4ThB6+B2uzFN5ADoQkHPCzBsAdOsWx3oO4prvgqCcTQDQqnnfpiwzHMPMpwD0ImT9cPJZr0hEbi03APiImU94JKeeuOUmonwA9wFYlQQ59STyfdcCYCJap7jh7k2CvFEyKcQi92sA+hCa7PYDeJqZ9ROJVyRybaXyuvSaQB+b4kaaBuBdAOOZuQMIKXAAxinD/HyMqwHci88fCMYA+ES5boBIWZ3Mv6liEoDDAP6v4qL9uTK/BuqcMPMBAE8jND91IPQdf4BgnhOVWM9BXOcmCMqZkdasr/9hNsbJZ70iEblDK4nOBvAkgG+5KJcdici9CsCPmPkz16WyJxG5swBcDOCflP+LiWi+u+KZkojcswCcBlCGkNv+u0Q0yV3xTEnk2krldek1gT02IipAKCThTma2ssD68hiJ6FoAh5j5A+1ig6HsYF2qyULInfZTZp6G0EOYVfyiL49FicdahND8VAYgH8BVBkODcE7scFUPCYJy1gagQvO+HEC72RjFdDoKIVOkk896RSJyq+b51wHczMz7PJfWQCaFWOS+AMBTRNQM4E4ADxDRHV4LrJdJIdbfyf9j5i5m7gewFqGJMRkkIvdNAP6LmU8y8yEA/wCQrB51iVxbqbwuvSaQx0ZE2QgpZr9m5t8piw+qrjHl/yFluV+P8SIAC5X552WEXGerEXIvqX2ktbKazr8+oA1AGzO/q7x/DaE5KWjn5HIATcx8mJlPAvgdgAsRzHOiEus5iOvcBEE5ex9AjZLdMQyhIME1ujFrAKgZEEsA/J1DkXhrACxTMkAmAqgB8J7f5SaiQgB/AnA/M/8jSfKqxC03M1/CzFUcavy6GsATzPys3+UGsA7AVCLKUyaEuQB2BEDu/QAuU7KE8hEKQt3lI7nNWAdgARGNVp6sFyjL0oFEvpeUoMT0/ALATmb+V80q7e9uOYA/aJbfrPzuZgPoVd08qYSZ72fmcmX+WYbQdfJPAP4boesGiD4Oo+sq5TBzJ4BWIqpTFs1HaE4K1DlBaI6arcythM+PI3DnREOs5yC++c4uY8APfwhlQexBKAvqQWXZowAWKq9zEcoObEBI+Zqk+eyDyud2A7gqCHID+F8ImbE3a/7G+V1u3TZWIonZmi78Tr6GUBLDNgBPBUFuAAXK8u0ITXj3+EzumQg9NfYBOAJgu+azX1eOpwHALcmUOxXfi5//EHLlM0IZy+p8czVCsT5/A7BX+V+kjCcAP1aO72MAM1J9DAbH9EV8nq05SbluGpTrJUdZbjuPpfgYzgNQr5yX3yOU6Re4c4JQuMsuZW59CaHqCYE4JwD+E6FYuZPKXPaNeM5BPPOdtG8SBEEQBEHwEUFwawqCIAiCIAwZRDkTBEEQBEHwEaKcCYIgCIIg+AhRzgRBEARBEHyEKGeCIAiCIAg+QpQzQRAEQRAEHyHKmSAIgiAIgo/4/5h+slRmTQxKAAAAAElFTkSuQmCC\n",
      "text/plain": [
       "<matplotlib.figure.Figure at 0x2698bfb8208>"
      ]
     },
     "metadata": {},
     "output_type": "display_data"
    },
    {
     "data": {
      "image/png": "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\n",
      "text/plain": [
       "<matplotlib.figure.Figure at 0x2698bfacd30>"
      ]
     },
     "metadata": {},
     "output_type": "display_data"
    },
    {
     "data": {
      "image/png": "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\n",
      "text/plain": [
       "<matplotlib.figure.Figure at 0x26992cf54e0>"
      ]
     },
     "metadata": {},
     "output_type": "display_data"
    }
   ],
   "source": [
    "foldNum = 2\n",
    "try:\n",
    "    ii += 1\n",
    "except NameError:\n",
    "    print(\"well, it WASN'T defined after all!\")\n",
    "    ii = 0\n",
    "\n",
    "tmpF = os.path.join(dd, allFolders[foldNum])\n",
    "tmpDF = pd.read_csv(tmpF, header = None)\n",
    "tmpDF.columns = [\"frq\", \"MaxMinAmp\", \"fname_short\", \"dd\", \"TT\", \"AA\", \"BB\"]\n",
    "tmpDF.fname_short = [ff.strip() for ff in tmpDF.fname_short]\n",
    "\n",
    "fold = os.path.join(dd, allFolders[foldNum]).split(\"_ampFreq.txt\")[0]\n",
    "\n",
    "accRecs = [f for f in os.listdir(fold) if not f.startswith(\".\") ]\n",
    "\n",
    "ar = accRecs[ii]\n",
    "tmpdf1 = readMyFile(os.path.join(fold, ar))\n",
    "timesteps = tmpdf1.iloc[:,0 ]\n",
    "sig = np.array(tmpdf1.iloc[:,1]*1000 / 10.17)\n",
    "\n",
    "# timesteps = np.linspace(0, 0.1, num = 20000)\n",
    "# sig = 3.0*np.sin(369*2*np.pi*(timesteps + 0.003)) \n",
    "\n",
    "sigProc = fft_(timesteps, sig)\n",
    "sigProc.fft_fit(sigProc.sigl)\n",
    "sigProc.plot_fft(title = \"Original Acceleration\")\n",
    "\n",
    "\n",
    "sigProc.filterAcc()\n",
    "#plt.plot(sigProc.newSig)\n",
    "sigProc.fft_fit(sigProc.filtered_acc)\n",
    "sigProc.plot_fft(title = \"Filtered Acceleration\")\n",
    "\n",
    "\n",
    "sigProc.doubleIntegrate(sigProc.filtered_sigl)\n",
    "sigProc.fft_fit(sigProc.pos_unfilt)\n",
    "sigProc.plot_fft(title =  \"Position (no filt)\")\n",
    "\n",
    "sigProc.fft_fit(sigProc.pos)\n",
    "sigProc.plot_fft(title =  \"Position (h.p. filt'd')\")\n",
    "\n",
    "\n",
    "# envelope\n",
    "accMxs = pd.Series(abs(sigProc.filtered_acc -np.mean(sigProc.filtered_acc))).rolling(int(700), center = True, min_periods = 1).max().tolist()\n",
    "# plt.plot(abs(sigProc.filtered_acc -np.mean(sigProc.filtered_acc)))\n",
    "# plt.plot(accMxs)\n",
    "# plt.show()\n",
    "\n",
    "\n",
    "zz = np.array(accMxs)\n",
    "plt.hist(zz[zz < 20], density = True, bins = 10)\n",
    "sns.kdeplot(zz[zz < 20], bw=0.8)\n",
    "plt.show()\n",
    "\n",
    "\n",
    "aa = np.array(np.where((np.array(accMxs) > 2.0) & (np.arange(0, len(accMxs)) < 18000) & (np.arange(0, len(accMxs)) > 2000)))\n",
    "bb = aa.flatten()\n",
    "\n",
    "\n",
    "\n",
    "\n",
    "\n",
    "if bb.shape[0] > 0:\n",
    "    \n",
    "    mxs = pd.Series(abs(sigProc.pos - np.mean(sigProc.pos[bb]))).rolling(int(700), center = True, min_periods = 1).max().tolist()\n",
    "    # plt.plot(abs(sigProc.pos -np.mean(sigProc.pos)))\n",
    "    # plt.plot(mxs)\n",
    "    # plt.show()\n",
    "\n",
    "    plt.plot(sigProc.pos - np.mean(sigProc.pos[bb]) )\n",
    "    plt.title(\"position with amplitude drawn\")\n",
    "\n",
    "\n",
    "    plt.plot(bb, sigProc.pos[bb] - np.mean(sigProc.pos[bb]))\n",
    "\n",
    "    maxCut = np.array(mxs)[bb]\n",
    "    mm = np.mean(np.unique(maxCut))\n",
    "\n",
    "    plt.hlines(xmin = 0, xmax = 20000, y = [mm, - mm])\n",
    "    print(np.mean(np.unique(mm)))\n",
    "else:\n",
    "    print(\"signal didn't go over amp threshold\")"
   ]
  },
  {
   "cell_type": "code",
   ]
  },
  {
   "cell_type": "code",
   "execution_count": null,
   "metadata": {},
   "outputs": [],
   "source": []
  },
  {
   "cell_type": "code",
   "execution_count": 28,

   "metadata": {},
   "outputs": [
    {
     "data": {
      "image/png": "iVBORw0KGgoAAAANSUhEUgAAAXcAAAD8CAYAAACMwORRAAAABHNCSVQICAgIfAhkiAAAAAlwSFlz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\nAElFTkSuQmCC\n",
      "text/plain": [
       "(0, 2)"
      ]
     },
     "execution_count": 28,
     "metadata": {},
     "output_type": "execute_result"
    },
    {
     "data": {
      "image/png": "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\n",
      "text/plain": [
       "<matplotlib.figure.Figure at 0x24255797ef0>"
      ]
     },
     "metadata": {},
     "output_type": "display_data"
    }
   ],
   "source": [

    "plt.plot(accMxs)\n",
    "plt.ylim(0, 2)"
   ]
  },
  {
   "cell_type": "code",
   "execution_count": 22,
   "metadata": {},
   "outputs": [
    {
     "name": "stdout",
     "output_type": "stream",
     "text": [
      "[[    0  2001]\n",
      " [    1 15999]\n",
      " [    0  2000]]\n"
     ]
    },
    {
     "data": {
      "text/plain": [
       "[<matplotlib.lines.Line2D at 0x2425405f7f0>]"
      ]
     },
     "execution_count": 22,
     "metadata": {},
     "output_type": "execute_result"
    },
    {
     "data": {
      "image/png": "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\n",
      "text/plain": [
       "<matplotlib.figure.Figure at 0x2425405ff60>"
      ]
     },
     "metadata": {},
     "output_type": "display_data"
    }
   ],
   "source": [
    "# exclude short sequences\n",
    "cc = (np.array(accMxs) > 2.0) & (np.arange(0, len(accMxs)) < 18000) & (np.arange(0, len(accMxs)) > 2000)\n",
    "lengths = np.array([[k, sum(1 for _ in i)] for k, i in it.groupby(cc)])\n",
    "print(lengths)\n",
    "#plt.plot(cc*1.0)\n",
    "\n",
    "lengths[lengths[:,1]<2000,0] = 0\n",
    "keepers = np.repeat(lengths[:,0], lengths[:,1])\n",
    "#plt.plot(keepers*1.0)\n",
    "#plt.show()\n",
    "\n",
    "plt.plot(sigProc.pos )\n",
    "plt.title(\"position with amplitude drawn\")\n",
    "bb2 = np.array(np.where(keepers)).flatten()\n",
    "\n",
    "plt.plot(bb2, sigProc.pos[bb2])"
   ]
  },
  {
   "cell_type": "code",
   "execution_count": null,
   "metadata": {},
   "outputs": [],
   "source": [
    "bb2 = np.array(np.where(keepers)).flatten()\n",
    "plt.plot(bb2)"
   ]
  },
  {
   "cell_type": "code",
   "execution_count": null,
   "metadata": {},
   "outputs": [],
   "source": [
    "len(aa)"
   ]
  },
  {
   "cell_type": "raw",
   "metadata": {},
   "source": [
    "# refref: here here"
   ]
  },
  {
   "cell_type": "code",
   "execution_count": null,
   "metadata": {},
   "outputs": [],
   "source": [
    "# try to understand rolling variance\n",
    "xx = np.arange(0, 20000)\n",
    "\n",
    "yy =  0.011*xx *np.random.randn(len(xx))#3*np.sin(2*np.pi * xx/500)* np.sin(xx/3000)\n",
    "\n",
    "xx\n",
    "plt.plot(xx, yy)"
   ]
  },
  {
   "cell_type": "code",
   "execution_count": null,
   "metadata": {},
   "outputs": [],
   "source": [
    "accMxs = pd.Series(yy).rolling(int(5000), center = True, min_periods = 1).var().tolist()\n",
    "# plt.plot(abs(sigProc.filtered_acc -np.mean(sigProc.filtered_acc)))\n",
    "\n",
    "plt.scatter(xx, yy, s = 1)\n",
    "plt.plot(accMxs, c= 'r')\n",
    "plt.show()"
   ]
  },
  {
   "cell_type": "code",
   "execution_count": 10,
   "metadata": {},
   "outputs": [
    {
     "ename": "NameError",
     "evalue": "name 'yy' is not defined",
     "output_type": "error",
     "traceback": [
      "\u001b[1;31m---------------------------------------------------------------------------\u001b[0m",
      "\u001b[1;31mNameError\u001b[0m                                 Traceback (most recent call last)",
      "\u001b[1;32m<ipython-input-10-d95af10025a9>\u001b[0m in \u001b[0;36m<module>\u001b[1;34m()\u001b[0m\n\u001b[0;32m      3\u001b[0m \u001b[1;33m\u001b[0m\u001b[0m\n\u001b[0;32m      4\u001b[0m \u001b[1;31m#yy = 3*np.sin(2*np.pi * xx/500)* np.sin(xx/3000)\u001b[0m\u001b[1;33m\u001b[0m\u001b[1;33m\u001b[0m\u001b[0m\n\u001b[1;32m----> 5\u001b[1;33m \u001b[0maccMxs\u001b[0m \u001b[1;33m=\u001b[0m \u001b[0mpd\u001b[0m\u001b[1;33m.\u001b[0m\u001b[0mSeries\u001b[0m\u001b[1;33m(\u001b[0m\u001b[0myy\u001b[0m\u001b[1;33m)\u001b[0m\u001b[1;33m.\u001b[0m\u001b[0mrolling\u001b[0m\u001b[1;33m(\u001b[0m\u001b[0mint\u001b[0m\u001b[1;33m(\u001b[0m\u001b[1;36m2000\u001b[0m\u001b[1;33m)\u001b[0m\u001b[1;33m,\u001b[0m \u001b[0mcenter\u001b[0m \u001b[1;33m=\u001b[0m \u001b[1;32mTrue\u001b[0m\u001b[1;33m,\u001b[0m \u001b[0mmin_periods\u001b[0m \u001b[1;33m=\u001b[0m \u001b[1;36m1\u001b[0m\u001b[1;33m)\u001b[0m\u001b[1;33m.\u001b[0m\u001b[0mapply\u001b[0m\u001b[1;33m(\u001b[0m\u001b[0meuclidean_dist\u001b[0m\u001b[1;33m)\u001b[0m\u001b[1;33m.\u001b[0m\u001b[0mtolist\u001b[0m\u001b[1;33m(\u001b[0m\u001b[1;33m)\u001b[0m\u001b[1;33m\u001b[0m\u001b[0m\n\u001b[0m\u001b[0;32m      6\u001b[0m \u001b[1;31m# plt.plot(abs(sigProc.filtered_acc -np.mean(sigProc.filtered_acc)))\u001b[0m\u001b[1;33m\u001b[0m\u001b[1;33m\u001b[0m\u001b[0m\n\u001b[0;32m      7\u001b[0m \u001b[1;33m\u001b[0m\u001b[0m\n",
      "\u001b[1;31mNameError\u001b[0m: name 'yy' is not defined"
     ]
    }
   ],
   "source": [
    "def euclidean_dist(x): # same as L2 Norm\n",
    "    return x.dot(x)/len(x)\n",
    "\n",
    "#yy = 3*np.sin(2*np.pi * xx/500)* np.sin(xx/3000)\n",
    "accMxs = pd.Series(yy).rolling(int(2000), center = True, min_periods = 1).apply(euclidean_dist).tolist()\n",
    "# plt.plot(abs(sigProc.filtered_acc -np.mean(sigProc.filtered_acc)))\n",
    "\n",
    "plt.scatter(xx, yy, s = 1)\n",
    "plt.plot(accMxs, c= 'r')\n",
    "plt.show()"
   ]
  },
  {
   "cell_type": "code",
   "execution_count": null,
   "metadata": {},
   "outputs": [],
   "source": [
    "20000 / 500"
   ]
  },
  {
   "cell_type": "code",
   "execution_count": null,
   "metadata": {},
   "outputs": [],
   "source": [
    "def varNoMean(x):\n",
    "    return np.sum((x)**2)/len(x)\n",
    "\n",
    "#yy = 3*np.sin(2*np.pi * xx/500)* np.sin(xx/3000)\n",
    "accMxs = pd.Series(yy).rolling(int(500), center = True, min_periods = 1).apply(varNoMean).tolist()\n",
    "# plt.plot(abs(sigProc.filtered_acc -np.mean(sigProc.filtered_acc)))\n",
    "\n",
    "plt.scatter(xx, yy, s = 1)\n",
    "plt.plot(accMxs, c= 'r')\n",
    "plt.show()\n",
    "\n",
    "accMxs = pd.Series(yy).rolling(int(500), center = True, min_periods = 1).var().tolist()\n",
    "# plt.plot(abs(sigProc.filtered_acc -np.mean(sigProc.filtered_acc)))\n",
    "\n",
    "plt.scatter(xx, yy, s = 1)\n",
    "plt.plot(accMxs, c= 'r')\n",
    "plt.show()"
   ]
  },
  {
   "cell_type": "code",
   "execution_count": null,
   "metadata": {},
   "outputs": [],
   "source": [
    "np.sum((xx - np.mean(xx))**2)/len(xx)\n",
    "np.var(xx)"
   ]
  },
  {
   "cell_type": "code",
   "execution_count": null,
   "metadata": {},
   "outputs": [],
   "source": [
    "# why does position sometimes have a slope?  does it depend on phase? \n",
    "bb.shape\n"
   ]
  },
  {
   "cell_type": "code",
   "execution_count": null,
   "metadata": {},
   "outputs": [],
   "source": [
    "newSig = np.concatenate([np.flip(sigProc.sigl[0:5000], axis = 0),sigProc.sigl, sigProc.sigl[15000:len(sigProc.sigl)]])\n",
    "plt.plot(newSig)"
   ]
  },
  {
   "cell_type": "code",
   "execution_count": null,
   "metadata": {
    "collapsed": true
   },
   "outputs": [],
   "source": []
  },
  {
   "cell_type": "code",
   "execution_count": null,
   "metadata": {
    "collapsed": true
   },
   "outputs": [],
   "source": []
  },
  {
   "cell_type": "code",
   "execution_count": null,
   "metadata": {
    "collapsed": true
   },
   "outputs": [],
   "source": []
  },
  {
   "cell_type": "code",
   "execution_count": null,
   "metadata": {
    "collapsed": true
   },
   "outputs": [],
   "source": []
  },
  {
   "cell_type": "code",
   "execution_count": null,
   "metadata": {
    "collapsed": true
   },
   "outputs": [],
   "source": []
  },
  {
   "cell_type": "code",
   "execution_count": null,
   "metadata": {
    "collapsed": true
   },
   "outputs": [],
   "source": []
  },
  {
   "cell_type": "code",
   "execution_count": null,
   "metadata": {},
   "outputs": [],
   "source": [
    "for foldNum in range(len(allFolders)):\n",
    "    tmpF = os.path.join(dd, allFolders[foldNum])\n",
    "    tmpDF = pd.read_csv(tmpF, header = None)\n",
    "    tmpDF.columns = [\"frq\", \"MaxMinAmp\", \"fname_short\", \"dd\", \"TT\", \"AA\", \"BB\"]\n",
    "    tmpDF.fname_short = [ff.strip() for ff in tmpDF.fname_short]\n",
    "\n",
    "\n",
    "\n",
    "    fold = os.path.join(dd, allFolders[foldNum]).split(\"_ampFreq.txt\")[0]\n",
    "\n",
    "    accRecs = [f for f in os.listdir(fold) if not f.startswith(\".\") ]\n",
    "\n",
    "\n",
    "\n",
    "    for ii in range(len(accRecs)):\n",
    "        # read in data\n",
    "        ar = accRecs[ii]\n",
    "        tmpdf1 = readMyFile(os.path.join(fold, ar))\n",
    "\n",
    "        # compute fft and save\n",
    "        fft = fft_()\n",
    "\n",
    "        # convert signal to m/s/s (*1000 / 10.17)\n",
    "        fft.fit(timesteps = tmpdf1.iloc[:,0 ], signal = np.array(tmpdf1.iloc[:,1]*1000 / 10.17))\n",
    "        #print(fft.dominant_freq, fft.max_amp)\n",
    "\n",
    "        if ii == 0:\n",
    "            tmpDF2 = np.hstack([ar, fft.dominant_freq, fft.max_amp[0], fft.amp_pos])\n",
    "\n",
    "        else:\n",
    "            tmpDF2 = np.vstack([tmpDF2, np.hstack([ar, int(fft.dominant_freq), fft.max_amp[0], fft.amp_pos])])\n",
    "        \n",
    "        #print(fft.dominant_freq)\n",
    "        #fft.plot_fft()\n",
    "\n",
    "    tmpDF2 = pd.DataFrame(tmpDF2)\n",
    "    tmpDF2.columns = [\"filename\", \"freq\", \"acc_amplitude_fft\", \"pos_amplitude_fft\" ]\n",
    "    tmpDF2.sort_values(by = \"filename\", inplace = True)\n",
    "    tmpDF2.reset_index(inplace = True, drop = True)\n",
    "    tmpDF2[\"fname_short\"] = [\"_\".join(tmpDF2.filename[jj].split(\"_\")[0:8]) for jj in range(len(tmpDF2))]\n",
    "\n",
    "\n",
    "    tmpDF3 = pd.merge(tmpDF2, tmpDF, how = \"outer\", left_on = \"fname_short\", right_on = \"fname_short\")\n",
    "    tmpDF3[\"Folder\"] = fold.split(\"/\")[-2]\n",
    "\n",
    "    if(foldNum == 0):\n",
    "        bigDF = pd.DataFrame(tmpDF3) \n",
    "    else:\n",
    "        bigDF = pd.concat([bigDF, tmpDF3])\n",
    "    \n",
    "    print(foldNum)\n",
    "\n",
    "bigDF.reset_index(drop = True, inplace = True)\n",
    "bigDF.freq = pd.to_numeric(bigDF.freq)\n",
    "bigDF.acc_amplitude_fft = pd.to_numeric(bigDF.acc_amplitude_fft)\n",
    "bigDF.pos_amplitude_fft = pd.to_numeric(bigDF.pos_amplitude_fft)"
   ]
  },
  {
   "cell_type": "code",
   "execution_count": null,
   "metadata": {
    "collapsed": true,
    "scrolled": true
   },
   "outputs": [],
   "source": [
    "for foldNum in range(len(allFolders)):\n",
    "    tmpF = os.path.join(dd, allFolders[foldNum])\n",
    "    tmpDF = pd.read_csv(tmpF, header = None)\n",
    "    tmpDF.columns = [\"frq\", \"MaxMinAmp\", \"fname_short\", \"dd\", \"TT\", \"AA\", \"BB\"]\n",
    "    tmpDF.fname_short = [ff.strip() for ff in tmpDF.fname_short]\n",
    "\n",
    "\n",
    "\n",
    "    fold = os.path.join(dd, allFolders[foldNum]).split(\"_ampFreq.txt\")[0]\n",
    "\n",
    "    accRecs = [f for f in os.listdir(fold) if not f.startswith(\".\") ]\n",
    "\n",
    "\n",
    "\n",
    "    for ii in range(len(accRecs)):\n",
    "        # read in data\n",
    "        ar = accRecs[ii]\n",
    "        tmpdf1 = readMyFile(os.path.join(fold, ar))\n",
    "\n",
    "        # compute fft and save\n",
    "        fft = fft_()\n",
    "\n",
    "        # convert signal to m/s/s (*1000 / 10.17)\n",
    "        fft.fit(timesteps = tmpdf1.iloc[:,0 ], signal = np.array(tmpdf1.iloc[:,1]*1000 / 10.17))\n",
    "        #print(fft.dominant_freq, fft.max_amp)\n",
    "\n",
    "        if ii == 0:\n",
    "            tmpDF2 = np.hstack([ar, fft.dominant_freq, fft.max_amp[0], fft.amp_pos])\n",
    "\n",
    "        else:\n",
    "            tmpDF2 = np.vstack([tmpDF2, np.hstack([ar, int(fft.dominant_freq), fft.max_amp[0], fft.amp_pos])])\n",
    "        \n",
    "        #print(fft.dominant_freq)\n",
    "        #fft.plot_fft()\n",
    "\n",
    "    tmpDF2 = pd.DataFrame(tmpDF2)\n",
    "    tmpDF2.columns = [\"filename\", \"freq\", \"acc_amplitude_fft\", \"pos_amplitude_fft\" ]\n",
    "    tmpDF2.sort_values(by = \"filename\", inplace = True)\n",
    "    tmpDF2.reset_index(inplace = True, drop = True)\n",
    "    tmpDF2[\"fname_short\"] = [\"_\".join(tmpDF2.filename[jj].split(\"_\")[0:8]) for jj in range(len(tmpDF2))]\n",
    "\n",
    "\n",
    "    tmpDF3 = pd.merge(tmpDF2, tmpDF, how = \"outer\", left_on = \"fname_short\", right_on = \"fname_short\")\n",
    "    tmpDF3[\"Folder\"] = fold.split(\"/\")[-2]\n",
    "\n",
    "    if(foldNum == 0):\n",
    "        bigDF = pd.DataFrame(tmpDF3) \n",
    "    else:\n",
    "        bigDF = pd.concat([bigDF, tmpDF3])\n",
    "    \n",
    "    print(foldNum)\n",
    "\n",
    "bigDF.reset_index(drop = True, inplace = True)\n",
    "bigDF.freq = pd.to_numeric(bigDF.freq)\n",
    "bigDF.acc_amplitude_fft = pd.to_numeric(bigDF.acc_amplitude_fft)\n",
    "bigDF.pos_amplitude_fft = pd.to_numeric(bigDF.pos_amplitude_fft)"
   ]
  },
  {
   "cell_type": "code",
   "execution_count": null,
   "metadata": {
    "collapsed": true
   },
   "outputs": [],
   "source": []
  },
  {
   "cell_type": "code",
   "execution_count": null,
   "metadata": {
    "collapsed": true
   },
   "outputs": [],
   "source": [
    "bigM = []\n",
    "\n",
    "for foldNum in  range(len(allFolders)):\n",
    "    tmpF = os.path.join(dd, allFolders[foldNum])\n",
    "    tmpDF = pd.read_csv(tmpF, header = None)\n",
    "    tmpDF.columns = [\"frq\", \"MaxMinAmp\", \"fname_short\", \"dd\", \"TT\", \"AA\", \"BB\"]\n",
    "    tmpDF.fname_short = [ff.strip() for ff in tmpDF.fname_short]\n",
    "\n",
    "\n",
    "\n",
    "    fold = os.path.join(dd, allFolders[foldNum]).split(\"_ampFreq.txt\")[0]\n",
    "\n",
    "    accRecs = [f for f in os.listdir(fold) if not f.startswith(\".\") ]\n",
    "\n",
    "    mm = []\n",
    "\n",
    "    for ii in range(len(accRecs)):\n",
    "            # read in data\n",
    "            ar = accRecs[ii]\n",
    "            tmpdf1 = readMyFile(os.path.join(fold, ar))\n",
    "            signal = (tmpdf1.iloc[:,1] - np.mean(tmpdf1.iloc[:,1]))*1000 / 10.17\n",
    "            times = tmpdf1.iloc[:,0]\n",
    "            mxs = pd.Series(abs(signal)).rolling(int(tmpdf1.shape[0]/28), center = True, min_periods = 1).max().tolist()\n",
    "\n",
    "            mm.append(np.unique(mxs))\n",
    "\n",
    "    out = np.concatenate(mm).ravel()\n",
    "    bigM.append(out)\n",
    "    print(foldNum)\n",
    "    #plt.hist(out[out <10], bins = 30, density = True)\n",
    "    #plt.xlim(0, 10)\n",
    "    sns.kdeplot(np.array(out[out <15]), bw=0.3)\n",
    "    #plt.show()"
   ]
  },
  {
   "cell_type": "code",
   "execution_count": null,
   "metadata": {
    "collapsed": true
   },
   "outputs": [],
   "source": [
    "\n",
    "zz = np.concatenate(bigM).ravel()\n",
    "plt.hist(zz[zz < 20], density = True, bins = 200)\n",
    "sns.kdeplot(zz[zz < 20], bw=0.2)\n",
    "plt.xlim(0, 15)\n",
    "plt.show()"
   ]
  },
  {
   "cell_type": "code",
   "execution_count": null,
   "metadata": {
    "collapsed": true
   },
   "outputs": [],
   "source": [
    "       \n",
    "\n",
    "\n",
    "ii =0\n",
    "ar = accRecs[ii]\n",
    "tmpdf1 = readMyFile(os.path.join(fold, ar))\n",
    "\n",
    "signal = (tmpdf1.iloc[:,1] - np.mean(tmpdf1.iloc[:,1]))*1000 / 10.17\n",
    "times = tmpdf1.iloc[:,0]\n",
    "mxs = pd.Series(abs(signal)).rolling(int(tmpdf1.shape[0]/28), center = True, min_periods = 1).max().tolist()\n",
    "print(int(tmpdf1.shape[0]/28))\n",
    "plt.plot(abs(signal))\n",
    "plt.plot(mxs)\n",
    "plt.show()\n",
    "\n",
    "plt.hist(mxs)\n",
    "plt.show()\n",
    "\n",
    "t2 = times[np.array(mxs) > 2.0]\n",
    "s2 = signal[np.array(mxs) > 2.0]\n",
    "\n",
    "fft = fft_()\n",
    "fft.fit(t2, s2)\n",
    "fft.plot_fft()"
   ]
  },
  {
   "cell_type": "code",
   "execution_count": null,
   "metadata": {
    "collapsed": true
   },
   "outputs": [],
   "source": [
    "plt.plot(np.mod(times, 0.01) > 0.005) "
   ]
  },
  {
   "cell_type": "code",
   "execution_count": null,
   "metadata": {
    "collapsed": true
   },
   "outputs": [],
   "source": [
    "sig1_amp = np.round(np.mod(times, 0.01), decimals = 1)\n",
    "\n",
    "\n",
    "signal = (np.mod(times, 0.01) > 0.005)*np.sin(2* np.pi * (times* 200)) #+ 0.2*np.random.randn(len(times))\n",
    "signal[abs(signal)>0.9] = 2*np.sin(2* np.pi * (times[abs(signal)>0.9]* 200))\n",
    "\n",
    "signal = signal + ~(np.mod(times, 0.01) > 0.005)*np.sin(2* np.pi * times* 1000)*0.1 #+ np.sin(2* np.pi * (times* 3))\n",
    "\n",
    "\n",
    "#signal = np.sin(2* np.pi * (times* 100))\n",
    "#signal[times < 0.07] = np.sin(2* np.pi * times* 1000)*0.1\n",
    "\n",
    "\n",
    "#signal = 0.8*np.sin(2* np.pi * times* 400) + np.sin(2* np.pi * (times* 200 + 400))\n",
    "\n",
    "\n",
    "#sig1 = np.sin(2* np.pi * times* 50)\n",
    "\n",
    "\n",
    "#signal = 5.44 * np.sin(2* np.pi * times* 200) + 4 * np.sin(2* np.pi * times* 400)\n",
    "\n",
    "#signal = lowess(signal + 0.01*np.random.randn(len(times)), times, frac = 1/20)[:,1]\n",
    "plt.figure(figsize = [10,10])\n",
    "plt.plot(signal)\n",
    "#plt.hlines(xmin = 0, xmax = 20000, y = 0.54)\n",
    "\n",
    "fft = fft_()\n",
    "fft.fit(times, signal)\n",
    "fft.plot_fft()"
   ]
  },
  {
   "cell_type": "code",
   "execution_count": null,
   "metadata": {
    "collapsed": true
   },
   "outputs": [],
   "source": [
    "from scipy import signal\n",
    "\n",
    "def highpass_filter(y, sr):\n",
    "    filter_stop_freq = 70  # Hz\n",
    "    filter_pass_freq = 100  # Hz\n",
    "    filter_order = 1001\n",
    "\n",
    "    # High-pass filter\n",
    "    nyquist_rate = sr / 2.\n",
    "    desired = (0, 0, 1, 1)\n",
    "    bands = (0, filter_stop_freq, filter_pass_freq, nyquist_rate)\n",
    "    filter_coefs = signal.firls(filter_order, bands, desired, nyq=nyquist_rate)\n",
    "\n",
    "    # Apply high-pass filter\n",
    "    filtered_audio = signal.filtfilt(filter_coefs, [1], y)\n",
    "    return filtered_audio"
   ]
  },
  {
   "cell_type": "code",
   "execution_count": null,
   "metadata": {
    "collapsed": true
   },
   "outputs": [],
   "source": [
    "fc = 0.1\n",
    "b = 0.08\n",
    "N = int(np.ceil((4 / b)))\n",
    "if not N % 2: N += 1\n",
    "n = np.arange(N)\n",
    " \n",
    "sinc_func = np.sinc(2 * fc * (n - (N - 1) / 2.))\n",
    "window = np.blackman(N)\n",
    "sinc_func = sinc_func * window\n",
    "sinc_func = sinc_func / np.sum(sinc_func)\n",
    "\n",
    "# reverse function\n",
    "sinc_func = -sinc_func\n",
    "sinc_func[(N - 1) / 2] += 1\n",
    "\n",
    "s = list(data['10 Min Std Dev'])\n",
    "new_signal = np.convolve(s, sinc_func)\n",
    "\n",
    "trace1 = go.Scatter(\n",
    "    x=range(len(new_signal)),\n",
    "    y=new_signal,\n",
    "    mode='lines',\n",
    "    name='High-Pass Filter',\n",
    "    marker=dict(\n",
    "        color='#424242'\n",
    "    )\n",
    ")\n",
    "\n",
    "layout = go.Layout(\n",
    "    title='High-Pass Filter',\n",
    "    showlegend=True\n",
    ")\n",
    "\n",
    "trace_data = [trace1]\n",
    "fig = go.Figure(data=trace_data, layout=layout)\n",
    "py.iplot(fig, filename='fft-high-pass-filter')"
   ]
  },
  {
   "cell_type": "code",
   "execution_count": null,
   "metadata": {
    "collapsed": true
   },
   "outputs": [],
   "source": [
    "del signal"
   ]
  },
  {
   "cell_type": "code",
   "execution_count": null,
   "metadata": {
    "collapsed": true
   },
   "outputs": [],
   "source": [
    "import numpy as np\n",
    "import pandas as pd\n",
    "from scipy import signal\n",
    "import matplotlib.pyplot as plt\n",
    "def sine_generator(timesteps, sinefreq):\n",
    "    nsamples = len(timesteps)\n",
    "    w = 2. * np.pi * sinefreq\n",
    "    y_sine = np.sin(w * timesteps)*3.22\n",
    "    result = pd.DataFrame({ \n",
    "        'data' : y_sine} ,index=timesteps)\n",
    "    return result\n",
    "\n",
    "def butter_highpass(cutoff, log_rate, order=5):\n",
    "    nyq = 0.5 * log_rate\n",
    "    normal_cutoff = cutoff / nyq\n",
    "    b, a = signal.butter(order, normal_cutoff, btype='high', analog=False)\n",
    "    return b, a\n",
    "\n",
    "def butter_highpass_filter(data, cutoff, log_rate, order=5):\n",
    "    b, a = butter_highpass(cutoff, log_rate, order=order)\n",
    "    y = signal.filtfilt(b, a, data)\n",
    "    return y\n",
    "\n",
    "\n",
    "timesteps = np.linspace(0, 0.1, num = 20000)\n",
    "log_rate = 200000 # samples per second\n",
    "sine_fq = 300\n",
    "\n",
    "sine_5Hz = sine_generator(timesteps,sine_fq)\n",
    "sine_fq = 30 #Hz\n",
    "sine_1Hz = sine_generator(timesteps,sine_fq)\n",
    "sine = sine_5Hz + sine_1Hz\n",
    "plt.plot(sine)"
   ]
  },
  {
   "cell_type": "code",
   "execution_count": null,
   "metadata": {
    "collapsed": true
   },
   "outputs": [],
   "source": [
    "sine = sine_5Hz + sine_1Hz\n",
    "sig1_amp = np.round(np.mod(timesteps, 0.01), decimals = 1)\n",
    "\n",
    "\n",
    "sig = (np.mod(timesteps, 0.01) > 0.005*3/2)*np.sin(2* np.pi * (timesteps* 300)) #+ 0.2*np.random.randn(len(times))\n",
    "sig[abs(sig)>0.9] = 2*np.sin(2* np.pi * (timesteps[abs(sig)>0.9]* 300))\n",
    "\n",
    "sig = sig + ~(np.mod(timesteps, 0.01) > 0.005)*np.sin(2* np.pi * timesteps* 1000)* 0.1 + np.sin(2* np.pi * (timesteps* 10))\n",
    "sine['data'] = data\n",
    "#sine['data'] = sig"
   ]
  },
  {
   "cell_type": "code",
   "execution_count": null,
   "metadata": {
    "collapsed": true
   },
   "outputs": [],
   "source": [
    "filtered_sine = butter_highpass_filter(sine.data, 200, log_rate)\n",
    "\n",
    "plt.figure(figsize=(20,10))\n",
    "plt.subplot(211)\n",
    "plt.plot(sine)\n",
    "plt.title('generated signal')\n",
    "plt.subplot(212)\n",
    "plt.plot(range(len(filtered_sine)),filtered_sine)\n",
    "plt.title('filtered signal')\n",
    "plt.show()"
   ]
  },
  {
   "cell_type": "code",
   "execution_count": null,
   "metadata": {
    "collapsed": true
   },
   "outputs": [],
   "source": [
    "vel = np.cumsum(filtered_sine)/log_rate\n",
    "\n",
    "pos = np.cumsum(vel - np.mean(vel)) / log_rate\n",
    "\n",
    "aa = fft_()\n",
    "aa.fit(timesteps, pos-np.mean(pos))\n",
    "plt.figure(figsize = [15,10])\n",
    "plt.plot(timesteps, pos - np.mean(pos))\n",
    "plt.hlines(xmin = 0, xmax = 0.01, y = [aa.max_amp, 1.8e-06])\n",
    "aa.plot_fft()\n",
    "print(aa.max_amp)"
   ]
  },
  {
   "cell_type": "code",
   "execution_count": null,
   "metadata": {
    "collapsed": true
   },
   "outputs": [],
   "source": []
  },
  {
   "cell_type": "code",
   "execution_count": null,
   "metadata": {
    "collapsed": true
   },
   "outputs": [],
   "source": []
  },
  {
   "cell_type": "code",
   "execution_count": null,
   "metadata": {
    "collapsed": true
   },
   "outputs": [],
   "source": [
    "fft = fft_()"
   ]
  },
  {
   "cell_type": "code",
   "execution_count": null,
   "metadata": {
    "collapsed": true
   },
   "outputs": [],
   "source": [
    "fft.fit(timesteps, filtered_sine)"
   ]
  },
  {
   "cell_type": "code",
   "execution_count": null,
   "metadata": {
    "collapsed": true
   },
   "outputs": [],
   "source": [
    "fft.plot_fft()"
   ]
  },
  {
   "cell_type": "code",
   "execution_count": null,
   "metadata": {
    "collapsed": true
   },
   "outputs": [],
   "source": [
    "peakind = signal.find_peaks_cwt(filtered_sine, widths = np.arange(200, 400))\n",
    "plt.plot(timesteps,filtered_sine)\n",
    "plt.scatter(timesteps[peakind], np.array(filtered_sine)[peakind], c= 'red')"
   ]
  },
  {
   "cell_type": "code",
   "execution_count": null,
   "metadata": {
    "collapsed": true
   },
   "outputs": [],
   "source": [
    " np.array(sine.data)[peakind]"
   ]
  },
  {
   "cell_type": "code",
   "execution_count": null,
   "metadata": {
    "collapsed": true
   },
   "outputs": [],
   "source": [
    "from scipy import signal\n",
    "t = timesteps \n",
    "t= np.linspace(-1, 1, 200, endpoint=False)\n",
    "sig  = sine.data\n",
    "# filtered_sine \n",
    "#sig = np.cos(2 * np.pi * 7 * t) + signal.gausspulse(t - 0.4, fc=2)\n",
    "widths = np.arange(1000, 2000)\n",
    "cwtmatr = signal.cwt(sig, signal.ricker, widths)\n",
    "plt.plot(sig)\n",
    "plt.show()\n",
    "\n",
    "plt.imshow(cwtmatr, extent=[-1, 1, 1, 31], cmap='PRGn', aspect='auto',\n",
    "           vmax=abs(cwtmatr).max(), vmin=-abs(cwtmatr).max())\n",
    "plt.show()"
   ]
  },
  {
   "cell_type": "code",
   "execution_count": null,
   "metadata": {
    "collapsed": true
   },
   "outputs": [],
   "source": []
  },
  {
   "cell_type": "code",
   "execution_count": null,
   "metadata": {
    "collapsed": true
   },
   "outputs": [],
   "source": []
  },
  {
   "cell_type": "code",
   "execution_count": null,
   "metadata": {
    "collapsed": true
   },
   "outputs": [],
   "source": []
  },
  {
   "cell_type": "code",
   "execution_count": null,
   "metadata": {
    "collapsed": true
   },
   "outputs": [],
   "source": []
  },
  {
   "cell_type": "code",
   "execution_count": null,
   "metadata": {
    "collapsed": true
   },
   "outputs": [],
   "source": []
  },
  {
   "cell_type": "code",
   "execution_count": null,
   "metadata": {
    "collapsed": true
   },
   "outputs": [],
   "source": [
    "# analytical calculate position amplitude\n",
    "2.0 / (np.pi * 2 * 100)**2"
   ]
  },
  {
   "cell_type": "code",
   "execution_count": null,
   "metadata": {
    "collapsed": true
   },
   "outputs": [],
   "source": [
    "plt.plot(fft.frq,abs(fft.Y))\n",
    "print(fft.amp_pos)\n",
    "plt.xlim(0, 1000)"
   ]
  },
  {
   "cell_type": "code",
   "execution_count": null,
   "metadata": {
    "collapsed": true
   },
   "outputs": [],
   "source": [
    "vel = np.cumsum(signal)/log_rate\n",
    "\n",
    "pos = np.cumsum(vel - np.mean(vel)) / log_rate\n",
    "\n",
    "aa = fft_()\n",
    "aa.fit(times, pos-np.mean(pos))\n",
    "plt.figure(figsize = [15,10])\n",
    "plt.plot(times, pos - np.mean(pos))\n",
    "plt.hlines(xmin = 0, xmax = 0.01, y = [aa.max_amp, 1.8e-06])\n",
    "aa.plot_fft()\n",
    "print(aa.max_amp)"
   ]
  },
  {
   "cell_type": "code",
   "execution_count": null,
   "metadata": {
    "collapsed": true
   },
   "outputs": [],
   "source": [
    "v2 = np.diff(pos) *log_rate\n",
    "a2 = np.diff(v2-np.mean(v2)) * log_rate\n",
    "plt.figure(figsize = [15,10])\n",
    "\n",
    "plt.plot(pos-np.mean(pos))\n",
    "plt.show()\n",
    "\n",
    "plt.plot(v2-np.mean(v2))\n",
    "plt.show()\n",
    "plt.plot(a2)\n",
    "plt.show()\n"
   ]
  },
  {
   "cell_type": "code",
   "execution_count": null,
   "metadata": {
    "collapsed": true
   },
   "outputs": [],
   "source": [
    "import pdvega  # import adds vgplot attribute to pandas\n",
    "\n"
   ]
  },
  {
   "cell_type": "code",
   "execution_count": null,
   "metadata": {
    "collapsed": true
   },
   "outputs": [],
   "source": [
    "sig1 = np.sin(2* np.pi * times* 350)\n",
    "\n",
    "\n",
    "signal = 5*np.sin(2* np.pi * times* 352)\n",
    "signal[abs(sig1) < 0.99] =  sig1\n",
    "\n",
    "#signal[signal < 0] =  signal[signal < 0]*5\n",
    "signal = signal + np.random.randn(len(times))*0.4\n",
    "\n",
    "signal.vgplot.line()"
   ]
  },
  {
   "cell_type": "code",
   "execution_count": null,
   "metadata": {
    "collapsed": true
   },
   "outputs": [],
   "source": [
    "#ii +=1\n",
    "ar = accRecs[ii]\n",
    "tmpdf1 = readMyFile(os.path.join(fold, ar))\n",
    "\n",
    "signal = (tmpdf1.iloc[:,1] - np.mean(tmpdf1.iloc[:,1]))*1000 / 10.17\n",
    "times = tmpdf1.iloc[:,0]\n",
    "mxs = pd.Series(abs(signal)).rolling(int(tmpdf1.shape[0]/28), center = True, min_periods = 1).max().tolist()\n",
    "print(int(tmpdf1.shape[0]/28))\n",
    "plt.plot(abs(signal))\n",
    "plt.plot(mxs)\n",
    "\n",
    "plt.show()\n",
    "plt.plot(signal)\n",
    "plt.show()\n",
    "plt.plot(signal[0:5000])\n",
    "\n",
    "\n",
    "\n",
    "signal[0:5000].vgplot.line()\n",
    "\n"
   ]
  },
  {
   "cell_type": "code",
   "execution_count": null,
   "metadata": {
    "collapsed": true
   },
   "outputs": [],
   "source": [
    "fft = fft_()\n",
    "fft.fit(times, signal-np.mean(signal))\n",
    "fft.plot_fft()"
   ]
  },
  {
   "cell_type": "code",
   "execution_count": null,
   "metadata": {
    "collapsed": true
   },
   "outputs": [],
   "source": [
    "sig1 = np.sin(2* np.pi * times* 50)\n",
    "\n",
    "\n",
    "signal = 5.44 * np.sin(2* np.pi * times* 200) + 4 * np.sin(2* np.pi * times* 400)\n",
    "plt.plot(signal)\n",
    "\n",
    "fft = fft_()\n",
    "fft.fit(times, signal)\n",
    "fft.plot_fft()"
   ]
  },
  {
   "cell_type": "code",
   "execution_count": null,
   "metadata": {
    "collapsed": true
   },
   "outputs": [],
   "source": [
    "len(times)"
   ]
  },
  {
   "cell_type": "code",
   "execution_count": null,
   "metadata": {
    "collapsed": true
   },
   "outputs": [],
   "source": [
    "print(bigDF.shape)\n",
    "bigDF.head()"
   ]
  },
  {
   "cell_type": "code",
   "execution_count": null,
   "metadata": {
    "collapsed": true
   },
   "outputs": [],
   "source": []
  },
  {
   "cell_type": "code",
   "execution_count": null,
   "metadata": {
    "collapsed": true
   },
   "outputs": [],
   "source": [
    "print(hl.shape)\n",
    "hl.datetime = [ff.strip() for ff in hl.datetime]\n",
    "hl.head()"
   ]
  },
  {
   "cell_type": "code",
   "execution_count": null,
   "metadata": {
    "collapsed": true
   },
   "outputs": [],
   "source": [
    "# merge bigDF and hl\n",
    "\n",
    "totalDF = pd.merge(bigDF, hl, left_on = [\"fname_short\", \"freq\"], right_on=[\"datetime\", \"freq\"], how = \"inner\")\n",
    "totalDF.shape"
   ]
  },
  {
   "cell_type": "code",
   "execution_count": null,
   "metadata": {
    "collapsed": true
   },
   "outputs": [],
   "source": [
    "totalDF.head()"
   ]
  },
  {
   "cell_type": "code",
   "execution_count": null,
   "metadata": {
    "collapsed": true
   },
   "outputs": [],
   "source": [
    "# change column names\n",
    "totalDF2 =totalDF.rename(columns = {'amp_acc':'MinMax_amp_acc_m/s/s', \n",
    "                                    'amp': 'MinMax_amp_Volts', \n",
    "                                   'acc_amplitude_fft': 'acc_amplitude_fft_m/s/s', \n",
    "                                    'pos_amplitude_fft': 'pos_amplitude_fft_m'\n",
    "                                   })\n",
    "totalDF2.drop([\"frq\", \"TT\", \"AA\", \"BB\", \"dd\", \"fname_short\", \"MaxMinAmp\"], axis = 1, inplace = True)\n",
    "totalDF2.head()\n"
   ]
  },
  {
   "cell_type": "code",
   "execution_count": null,
   "metadata": {
    "collapsed": true
   },
   "outputs": [],
   "source": [
    "plt.scatter(x = totalDF2['acc_amplitude_fft_m/s/s'], y = totalDF2['pos_amplitude_fft_m']*10**7, s= 1)"
   ]
  },
  {
   "cell_type": "code",
   "execution_count": null,
   "metadata": {
    "collapsed": true
   },
   "outputs": [],
   "source": [
    "# write to file\n",
    "totalDF2.to_csv(\"/Users/cswitzer/Dropbox/SonicationBehavior/SonBehData/02_1_HeavyLight_cleaned_posAdded.csv\", index = False)"
   ]
  },
  {
   "cell_type": "code",
   "execution_count": null,
   "metadata": {
    "collapsed": true
   },
   "outputs": [],
   "source": [
    "plt.scatter(x = totalDF2.MinMax_amp_Volts, y = totalDF2['acc_amplitude_fft_m/s/s'], s = 1)"
   ]
  },
  {
   "cell_type": "code",
   "execution_count": null,
   "metadata": {
    "collapsed": true
   },
   "outputs": [],
   "source": []
  },
  {
   "cell_type": "code",
   "execution_count": null,
   "metadata": {
    "collapsed": true
   },
   "outputs": [],
   "source": []
  },
  {
   "cell_type": "code",
   "execution_count": null,
   "metadata": {
    "collapsed": true
   },
   "outputs": [],
   "source": []
  },
  {
   "cell_type": "code",
   "execution_count": null,
   "metadata": {
    "collapsed": true
   },
   "outputs": [],
   "source": []
  },
  {
   "cell_type": "code",
   "execution_count": null,
   "metadata": {
    "collapsed": true
   },
   "outputs": [],
   "source": [
    "ar = accRecs[2]\n",
    "stt = time.time()\n",
    "dta = readMyFile(os.path.join(fold, ar))\n",
    "\n",
    "\n",
    "#fft practice\n",
    "\n",
    "#xx = np.linspace(0, 0.1, num = 1000)\n",
    "#act = 2.09906008*np.sin(350*2*np.pi*xx) \n",
    "xx = dta.iloc[:,0 ]\n",
    "act = dta.iloc[:,1]*1000 / 10.17\n",
    "\n",
    "#plt.plot(xx, act)\n",
    "\n",
    "log_rate = len(xx)*(1/(np.max(xx)))\n",
    "\n",
    "n =len(act) # length of the signal\n",
    "k = np.arange(n, step = 1)\n",
    "T = n/log_rate\n",
    "frq = k/T # two sides frequency range\n",
    "frq = frq[range(int(n/2))] # one side frequency range\n",
    "\n",
    "\n",
    "# fft computing and normalization (note that *2 is so that it is scaled properly)\n",
    "Y = np.fft.fft(act)/n *2 \n",
    "Y = Y[range(int(n/2))]\n",
    "\n",
    "# calculate top frequency\n",
    "ind = np.argpartition(abs(Y), -4)[-4:]\n",
    "# Find highest point on the spectrum\n",
    "peakFrq = frq[ind[::-1]]\n",
    "pwr = (abs(Y)[ind[::-1]])\n",
    "domPK = [x for (y,x) in sorted(zip(pwr,peakFrq), reverse = True)][0]\n",
    "\n",
    "beeFrqPwr = pwr[peakFrq == domPK]\n",
    "\n",
    "plt.figure(figsize=(10,4))\n",
    "gs = gridspec.GridSpec(1, 2, width_ratios=[2,2]) \n",
    "\n",
    "#create subplot 1\n",
    "ax1 = plt.subplot(gs[0])\n",
    "\n",
    "ax1.plot(xx,act,color = 'black', linewidth=0.5 )\n",
    "\n",
    "ax2 = plt.subplot(gs[1])\n",
    "ax2.plot(frq,abs(Y), color = \"black\", linewidth=0.5)\n",
    "ax2.plot(domPK, beeFrqPwr,'o', color = 'black', markersize = 5)\n",
    "\n",
    "ax2.set_xlim(-0, 1003)\n",
    "print(beeFrqPwr)\n",
    "\n",
    "print(time.time() - stt)"
   ]
  },
  {
   "cell_type": "code",
   "execution_count": null,
   "metadata": {
    "collapsed": true
   },
   "outputs": [],
   "source": []
  },
  {
   "cell_type": "code",
   "execution_count": null,
   "metadata": {
    "collapsed": true
   },
   "outputs": [],
   "source": []
  },
  {
   "cell_type": "code",
   "execution_count": null,
   "metadata": {
    "collapsed": true
   },
   "outputs": [],
   "source": []
  },
  {
   "cell_type": "code",
   "execution_count": null,
   "metadata": {
    "collapsed": true
   },
   "outputs": [],
   "source": []
  },
  {
   "cell_type": "code",
   "execution_count": null,
   "metadata": {
    "collapsed": true
   },
   "outputs": [],
   "source": []
  },
  {
   "cell_type": "code",
   "execution_count": null,
   "metadata": {
    "collapsed": true
   },
   "outputs": [],
   "source": [
    "# processing -- find signal envelope\n",
    "\n",
    "from scipy.signal import hilbert\n",
    "duration = 0.1\n",
    "fs = log_rate/2\n",
    "samples = int(fs*duration)\n",
    "t = np.arange(samples) / fs\n",
    "\n",
    "signal = act\n",
    "#signal *= (1.0 + 0.5 * np.sin(2.0*np.pi*3.0*t) )\n",
    "\n",
    "analytic_signal = hilbert(signal)\n",
    "amplitude_envelope = np.abs(analytic_signal)\n",
    "instantaneous_phase = np.unwrap(np.angle(analytic_signal))\n",
    "#instantaneous_frequency = (np.diff(instantaneous_phase) /\n",
    "#                           (2.0*np.pi) * fs)\n",
    "\n",
    "\n",
    "fig = plt.figure()\n",
    "ax0 = fig.add_subplot(211)\n",
    "ax0.plot(t, signal, label='signal')\n",
    "ax0.plot(t, amplitude_envelope, label='envelope')\n",
    "ax0.set_xlabel(\"time in seconds\")\n",
    "ax0.legend()\n"
   ]
  },
  {
   "cell_type": "code",
   "execution_count": null,
   "metadata": {
    "collapsed": true
   },
   "outputs": [],
   "source": [
    "recDir = os.listdir(\"/Users/cswitzer/Dropbox/SonicationBehavior/SonBehData/SonicationBehavior_HeavyLight/Bee31_19Oct2016_Hive3_W_S/2016_10_19__11_23_02\")\n",
    "recDir = [ii for ii in recDir if not ii.startswith(\".\")]\n",
    "\n",
    "print(len(recDir))\n",
    "dct = \"/Users/cswitzer/Dropbox/SonicationBehavior/SonBehData/SonicationBehavior_HeavyLight/Bee31_19Oct2016_Hive3_W_S/2016_10_19__11_23_02\"\n",
    "f = recDir[0]\n",
    "\n",
    "# load in all data\n",
    "def readCenter(f):\n",
    "    tmp = np.transpose(pd.read_csv(os.path.join(dct, f), sep = \" \", header = None))\n",
    "    tmp.iloc[:,1] = tmp.iloc[:,1] - np.mean(tmp.iloc[:,1])\n",
    "    tmp[\"name\"] = f\n",
    "    print(f)\n",
    "    return(tmp)\n",
    "\n",
    "df = pd.concat( [readCenter(f) for f in recDir] )\n",
    "#np.transpose(pd.read_csv(os.path.join(dct, f), sep = \" \", header = None))\n",
    "#combined_csv = \n",
    "\n",
    "df.head()"
   ]
  },
  {
   "cell_type": "code",
   "execution_count": null,
   "metadata": {
    "collapsed": true
   },
   "outputs": [],
   "source": [
    "direct = \"/Users/cswitzer/Dropbox/SonicationBehavior/SonBehData/SonicationBehavior_HeavyLight/Bee2_27Sept_Hive4_S_W/2016_09_27__11_54_44\"\n",
    "\n",
    "recDir = os.listdir(direct)\n",
    "recDir = [ii for ii in recDir if not ii.startswith(\".\")]\n",
    "\n",
    "print(len(recDir))\n",
    "dct = direct\n",
    "f = recDir[0]\n",
    "\n",
    "# load in all data\n",
    "def readCenter(f):\n",
    "    tmp = np.transpose(pd.read_csv(os.path.join(dct, f), sep = \" \", header = None))\n",
    "    tmp.iloc[:,1] = tmp.iloc[:,1] - np.mean(tmp.iloc[:,1])\n",
    "    tmp[\"name\"] = f\n",
    "    print(f)\n",
    "    return(tmp)\n",
    "\n",
    "df = pd.concat( [readCenter(f) for f in recDir] )\n",
    "#np.transpose(pd.read_csv(os.path.join(dct, f), sep = \" \", header = None))\n",
    "#combined_csv = \n",
    "\n",
    "df.head()"
   ]
  },
  {
   "cell_type": "code",
   "execution_count": null,
   "metadata": {
    "collapsed": true
   },
   "outputs": [],
   "source": [
    "# calculate running mean and look at histogram\n",
    "d2 = df\n",
    "\n",
    "signal = np.array(d2.iloc[:,1]*1000 / 10.17) # convert from V to m/s/s\n",
    "act = signal\n",
    "times = d2.iloc[:,0]\n",
    "xx = times\n",
    "\n",
    "\n",
    "f, ax1 = plt.subplots()\n",
    "f.set_figwidth(15)\n",
    "ax1.plot( abs(signal),color = 'black', linewidth=0.5 )\n",
    "#ax1.scatter(xs[peakind], data[peakind])\n",
    "mxs = pd.Series(abs(signal)).rolling(int(d2.shape[0]/28/124), center = True, min_periods = 1).max().tolist()\n",
    "print(int(d2.shape[0]/28))\n",
    "ax1.plot(mxs)\n",
    "plt.show()\n",
    "\n",
    "plt.hist(np.array(mxs)[~np.isnan(np.array(mxs))], bins = 50)\n",
    "plt.vlines(ymin = 0, ymax = 175000, x = 5)\n",
    "plt.show()"
   ]
  },
  {
   "cell_type": "code",
   "execution_count": null,
   "metadata": {
    "collapsed": true
   },
   "outputs": [],
   "source": [
    "plt.plot(mxs[0:20000])"
   ]
  },
  {
   "cell_type": "code",
   "execution_count": null,
   "metadata": {
    "collapsed": true
   },
   "outputs": [],
   "source": []
  },
  {
   "cell_type": "code",
   "execution_count": null,
   "metadata": {
    "collapsed": true
   },
   "outputs": [],
   "source": []
  },
  {
   "cell_type": "code",
   "execution_count": null,
   "metadata": {
    "collapsed": true
   },
   "outputs": [],
   "source": [
    "dct = direct\n",
    "recDir = os.listdir(direct)\n",
    "recDir = [ii for ii in recDir if not ii.startswith(\".\")]\n",
    "fle = os.path.join(dct, recDir[ff])\n",
    "ff+=1\n",
    "\n",
    "d2 = np.transpose(pd.read_csv(fle, sep = \" \", header = None))\n",
    "\n",
    "signal = d2.iloc[:,1]*1000 / 10.17 # convert from V to m/s/s\n",
    "act = signal-np.mean(signal)\n",
    "times = d2.iloc[:,0]\n",
    "xx = times\n",
    "\n",
    "log_rate = 200000.0\n",
    "\n",
    "n =len(act) # length of the signal\n",
    "k = np.arange(n, step = 1)\n",
    "T = n/log_rate\n",
    "frq = k/T # two sides frequency range\n",
    "frq = frq[range(int(n/2))] # one side frequency range\n",
    "\n",
    "Y = np.fft.fft(act)/n # fft computing and normalization\n",
    "Y = Y[range(int(n/2))]*2\n",
    "\n",
    "# calculate top frequency\n",
    "ind = np.argpartition(abs(Y), -4)[-4:]\n",
    "# Find highest point on the spectrum\n",
    "peakFrq = frq[ind[::-1]]\n",
    "pwr = (abs(Y)[ind[::-1]])\n",
    "domPK = [x for (y,x) in sorted(zip(pwr,peakFrq), reverse = True)][0]\n",
    "\n",
    "beeFrqPwr = pwr[peakFrq == domPK]\n",
    "\n",
    "plt.figure(figsize=(10,4))\n",
    "gs = gridspec.GridSpec(1, 2, width_ratios=[2,2]) \n",
    "\n",
    "# create subplot 1\n",
    "ax1 = plt.subplot(gs[0])\n",
    "\n",
    "ax1.plot(xx,act,color = 'black', linewidth=0.5 )\n",
    "\n",
    "ax2 = plt.subplot(gs[1])\n",
    "ax2.plot(frq,abs(Y), color = \"black\", linewidth=0.5)\n",
    "ax2.plot(domPK, beeFrqPwr,'o', color = 'black', markersize = 5)\n",
    "\n",
    "ax2.set_xlim(-3, 1003)\n",
    "print(beeFrqPwr)\n",
    "\n",
    "\n",
    "#plt.plot(d2.iloc[:,0], d2.iloc[:,1])\n",
    "plt.show()\n",
    "\n",
    "\n",
    "f, ax1 = plt.subplots()\n",
    "f.set_figwidth(15)\n",
    "ax1.plot(times, abs(signal),color = 'black', linewidth=0.5 )\n",
    "#ax1.scatter(xs[peakind], data[peakind])\n",
    "mxs = pd.Series(abs(signal)).rolling(int(d2.shape[0]/28), center = True, min_periods = 1).max().tolist()\n",
    "print(int(d2.shape[0]/28))\n",
    "ax1.plot(times, mxs)\n",
    "\n",
    "from statsmodels.nonparametric.smoothers_lowess import lowess\n",
    "\n",
    "\n",
    "ssmp = np.array((np.linspace(0, len(mxs), num = 100) - 1).astype(int))\n",
    "smth = lowess(endog = np.array(mxs)[ssmp], exog = np.array(times)[ssmp], frac = 0.06)\n",
    "ax1.plot(times[ssmp], smth[:,1])\n",
    "plt.show()\n",
    "plt.hist(np.array(mxs)[~np.isnan(np.array(mxs))])\n",
    "plt.show()\n",
    "\n",
    "\n",
    "#________________________\n",
    "# calculate fft for subset of data\n",
    "\n",
    "df3 = d2.iloc[np.array(mxs) > 1.5, :].reset_index(drop=True)\n",
    "signal = df3.iloc[:,1]*1000 / 10.17\n",
    "act = signal-np.mean(signal)\n",
    "times = df3.iloc[:,0]\n",
    "xx = times\n",
    "\n",
    "log_rate = 200000.0\n",
    "\n",
    "n =len(act) # length of the signal\n",
    "k = np.arange(n, step = 1)\n",
    "T = n/log_rate\n",
    "frq = k/T # two sides frequency range\n",
    "frq = frq[range(int(n/2))] # one side frequency range\n",
    "\n",
    "Y = np.fft.fft(act)/n # fft computing and normalization\n",
    "Y = Y[range(int(n/2))]*2\n",
    "\n",
    "# calculate top frequency\n",
    "ind = np.argpartition(abs(Y), -4)[-4:]\n",
    "# Find highest point on the spectrum\n",
    "peakFrq = frq[ind[::-1]]\n",
    "pwr = (abs(Y)[ind[::-1]])\n",
    "domPK = [x for (y,x) in sorted(zip(pwr,peakFrq), reverse = True)][0]\n",
    "\n",
    "beeFrqPwr = pwr[peakFrq == domPK]\n",
    "\n",
    "plt.figure(figsize=(10,4))\n",
    "gs = gridspec.GridSpec(1, 2, width_ratios=[2,2]) \n",
    "\n",
    "# create subplot 1\n",
    "ax1 = plt.subplot(gs[0])\n",
    "\n",
    "ax1.plot(xx,act,color = 'black', linewidth=0.5 )\n",
    "\n",
    "ax2 = plt.subplot(gs[1])\n",
    "ax2.plot(frq,abs(Y), color = \"black\", linewidth=0.5)\n",
    "ax2.plot(domPK, beeFrqPwr,'o', color = 'black', markersize = 5)\n",
    "\n",
    "ax2.set_xlim(-3, 1003)\n",
    "print(beeFrqPwr)\n",
    "\n",
    "\n",
    "#plt.plot(d2.iloc[:,0], d2.iloc[:,1])\n",
    "plt.show()\n",
    "\n",
    "\n",
    "f, ax1 = plt.subplots()\n",
    "f.set_figwidth(15)\n",
    "ax1.plot(abs(signal),color = 'black', linewidth=0.5 )\n",
    "#ax1.scatter(xs[peakind], data[peakind])\n",
    "mxs = pd.Series(abs(signal)).rolling(int(d2.shape[0]/28), center = True).max().tolist()\n",
    "print(int(d2.shape[0]/28))\n",
    "ax1.plot(np.array(mxs))"
   ]
  },
  {
   "cell_type": "code",
   "execution_count": null,
   "metadata": {
    "collapsed": true
   },
   "outputs": [],
   "source": [
    "plt.plot(smth[:,1])"
   ]
  },
  {
   "cell_type": "code",
   "execution_count": null,
   "metadata": {
    "collapsed": true
   },
   "outputs": [],
   "source": []
  },
  {
   "cell_type": "code",
   "execution_count": null,
   "metadata": {
    "collapsed": true
   },
   "outputs": [],
   "source": [
    "# print system info\n",
    "import IPython\n",
    "print(IPython.sys_info())"
   ]
  },
  {
   "cell_type": "code",
   "execution_count": null,
   "metadata": {
    "collapsed": true
   },
   "outputs": [],
   "source": []
  },
  {
   "cell_type": "code",
   "execution_count": null,
   "metadata": {
    "collapsed": true
   },
   "outputs": [],
   "source": [
    "# convert to html, so ppl don't have to run python to see code\n",
    "!jupyter nbconvert --to html 008_ExampleFigureSpectrum"
   ]
  },
  {
   "cell_type": "code",
   "execution_count": null,
   "metadata": {
    "collapsed": true
   },
   "outputs": [],
   "source": []
  }
 ],
 "metadata": {
  "kernelspec": {
   "display_name": "Python 3",
   "language": "python",
   "name": "python3"
  },
  "language_info": {
   "codemirror_mode": {
    "name": "ipython",
    "version": 3
   },
   "file_extension": ".py",
   "mimetype": "text/x-python",
   "name": "python",
   "nbconvert_exporter": "python",
   "pygments_lexer": "ipython3",
   "version": "3.6.4"
  }
 },
 "nbformat": 4,
 "nbformat_minor": 2
}
