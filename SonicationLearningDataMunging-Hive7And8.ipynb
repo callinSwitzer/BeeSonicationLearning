{
 "cells": [
  {
   "cell_type": "code",
   "execution_count": null,
   "metadata": {
    "collapsed": true
   },
   "outputs": [],
   "source": [
    "# helpful munging scripts\n",
    "# Callin Switzer\n",
    "# 15 Jan 2016\n",
    "# 28 June 2017, Gathering data for hives 7 and 8"
   ]
  },
  {
   "cell_type": "code",
   "execution_count": 1,
   "metadata": {
    "collapsed": false
   },
   "outputs": [],
   "source": [
    "# import cv2\n",
    "import numpy as np\n",
    "import matplotlib\n",
    "matplotlib.use(\"TkAgg\") # have to use this for tkinter to  work below\n",
    "from matplotlib import pyplot as plt\n",
    "%matplotlib tk\n",
    "\n",
    "# scikit image\n",
    "import skimage\n",
    "from skimage import io\n",
    "\n",
    "import os\n",
    "import pandas as pd\n",
    "import time\n",
    "import re\n",
    "from datetime import datetime"
   ]
  },
  {
   "cell_type": "code",
   "execution_count": 2,
   "metadata": {
    "collapsed": true
   },
   "outputs": [],
   "source": [
    " %qtconsole"
   ]
  },
  {
   "cell_type": "code",
   "execution_count": null,
   "metadata": {
    "collapsed": true
   },
   "outputs": [],
   "source": [
    "# import Tkinter as tk\n",
    "# import tkFileDialog\n",
    "\n",
    "# def file_choose():\n",
    "#     '''\n",
    "#     Opens tkfileDialog and returns full path name.\n",
    "#     It's the equivalent of file.choose in R.\n",
    "#     Make sure the following modeules are loaded\n",
    "#     import Tkinter as tk\n",
    "#     import tkFileDialog\n",
    "#     Also, won't work if %matplotlib qt4 has been used\n",
    "#     '''\n",
    "#     root = tk.Tk()\n",
    "#     root.update()\n",
    "#     file1 = tkFileDialog.askopenfilename(parent=root)\n",
    "#     root.destroy() # closes the window\n",
    "#     return file1"
   ]
  },
  {
   "cell_type": "code",
   "execution_count": null,
   "metadata": {
    "collapsed": true
   },
   "outputs": [],
   "source": [
    "#aa = file_choose()"
   ]
  },
  {
   "cell_type": "code",
   "execution_count": null,
   "metadata": {
    "collapsed": false
   },
   "outputs": [],
   "source": [
    "#print aa"
   ]
  },
  {
   "cell_type": "code",
   "execution_count": 6,
   "metadata": {
    "collapsed": true
   },
   "outputs": [],
   "source": [
    "os.chdir('D:\\Google Drive\\BeeSonicationLearning')"
   ]
  },
  {
   "cell_type": "code",
   "execution_count": 12,
   "metadata": {
    "collapsed": false
   },
   "outputs": [],
   "source": [
    "fldrs = [f for f in os.listdir(\"D:\\Google Drive\\BeeSonicationLearning\") if not f.startswith('.') and f.startswith('B')]"
   ]
  },
  {
   "cell_type": "code",
   "execution_count": 13,
   "metadata": {
    "collapsed": false
   },
   "outputs": [
    {
     "data": {
      "text/plain": [
       "['B_207_2017_05_30_H_7_RewSec',\n",
       " 'B_208_2017_05_30_H_7_RewSec',\n",
       " 'B_209_2017_05_30_H_7_RewFir',\n",
       " 'B_210_2017_05_30_H_7_RewFir',\n",
       " 'B_211_2017_05_30_H_8_RewSec',\n",
       " 'B_212_2017_05_30_H_8_RewSec',\n",
       " 'B_213_2017_05_30_H_8_RewFir',\n",
       " 'B_214_2017_05_30_H_8_RewSec',\n",
       " 'B_215_2017_05_30_H_8_RewFir',\n",
       " 'B_216_2017_05_30_H_8_RewFir',\n",
       " 'B_217_2017_05_30_H_8_RewSec',\n",
       " 'B_218_2017_05_30_H_8_RewFir',\n",
       " 'B_219_2017_05_30_H_8_RewFir',\n",
       " 'B_220_2017_05_30_H_8_RewFir',\n",
       " 'B_221_2017_05_30_H_8_RewSec',\n",
       " 'B_222_2017_05_30_H_8_RewSec',\n",
       " 'B_223_2017_05_30_H_8_RewSec',\n",
       " 'B_224_2017_05_30_H_7_RewSec',\n",
       " 'B_225_2017_05_30_H_7_RewFir',\n",
       " 'B_226_2017_05_30_H_8_RewFir',\n",
       " 'B_227_2017_05_30_H_7_RewSec',\n",
       " 'B_228_2017_05_30_H_7_RewSec',\n",
       " 'B_229_2017_05_30_H_8_RewFir',\n",
       " 'B_230_2017_05_30_H_8_RewFir',\n",
       " 'B_231_2017_05_30_H_7_RewSec',\n",
       " 'B_232_2017_05_30_H_7_RewFir',\n",
       " 'B_233_2017_05_30_H_8_RewSec',\n",
       " 'B_234_2017_05_30_H_7_RewFir',\n",
       " 'B_235_2017_05_30_H_8_RewFir',\n",
       " 'B_236_2017_05_30_H_8_RewSec',\n",
       " 'B_237_2017_05_31_H_7_RewFir',\n",
       " 'B_238_2017_05_31_H_8_RewSec',\n",
       " 'B_239_2017_05_31_H_8_RewFir',\n",
       " 'B_240_2017_05_31_H_8_RewSec',\n",
       " 'B_241_2017_05_31_H_7_RewFir',\n",
       " 'B_242_2017_05_31_H_8_RewSec',\n",
       " 'B_243_2017_05_31_H_7_RewFir',\n",
       " 'B_244_2017_05_31_H_8_RewFir',\n",
       " 'B_245_2017_05_31_H_7_RewSec',\n",
       " 'B_246_2017_05_31_H_7_RewSec',\n",
       " 'B_247_2017_05_31_H_7_RewSec',\n",
       " 'B_248_2017_05_31_H_8_RewFir',\n",
       " 'B_249_2017_05_31_H_7_RewFir',\n",
       " 'B_250_2017_05_31_H_7_RewFir',\n",
       " 'B_251_2017_05_31_H_7_RewSec',\n",
       " 'B_252_2017_05_31_H_7_RewSec',\n",
       " 'B_253_2017_05_31_H_8_RewSec',\n",
       " 'B_254_2017_05_31_H_7_RewFir',\n",
       " 'B_255_2017_06_02_H_7_RewSec',\n",
       " 'B_256_2017_06_02_H_7_RewSec',\n",
       " 'B_257_2017_06_02_H_7_RewFir',\n",
       " 'B_258_2017_06_02_H_8_RewSec',\n",
       " 'B_259_2017_06_02_H_8_RewSec',\n",
       " 'B_260_2017_06_02_H_7_RewFir',\n",
       " 'B_261_2017_06_02_H_8_RewSec',\n",
       " 'B_262_2017_06_02_H_8_RewSec',\n",
       " 'B_263_2017_06_02_H_7_RewFir',\n",
       " 'B_264_2017_06_02_H_8_RewFir',\n",
       " 'B_265_2017_06_02_H_7_RewFir',\n",
       " 'B_266_2017_06_02_H_8_RewFir',\n",
       " 'B_267_2017_06_02_H_7_RewFir',\n",
       " 'B_268_2017_06_02_H_7_RewSec',\n",
       " 'B_269_2017_06_02_H_7_RewSec',\n",
       " 'B_270_2017_06_02_H_7_RewFir',\n",
       " 'B_271_2017_06_03_H_7_RewSec',\n",
       " 'B_272_2017_06_03_H_7_RewSec',\n",
       " 'B_273_2017_06_03_H_7_RewFir',\n",
       " 'B_274_2017_06_03_H_7_RewSec',\n",
       " 'B_275_2017_06_03_H_7_RewSec',\n",
       " 'B_276_2017_06_03_H_8_RewFir',\n",
       " 'B_277_2017_06_03_H_7_RewFir',\n",
       " 'B_278_2017_06_03_H_7_RewFir',\n",
       " 'B_279_2017_06_03_H_7_RewFir',\n",
       " 'B_280_2017_06_03_H_7_RewSec',\n",
       " 'B_281_2017_06_03_H_7_RewFir',\n",
       " 'B_282_2017_06_04_H_7_RewFir',\n",
       " 'B_283_2017_06_04_H_8_RewSec',\n",
       " 'B_284_2017_06_04_H_7_RewSec',\n",
       " 'B_285_2017_06_04_H_7_RewFir',\n",
       " 'B_286_2017_06_04_H_7_RewFir',\n",
       " 'B_287_2017_06_04_H_8_RewFir',\n",
       " 'B_288_2017_06_04_H_8_RewSec',\n",
       " 'B_289_2017_06_04_H_8_RewSec',\n",
       " 'B_290_2017_06_04_H_7_RewFir',\n",
       " 'B_291_2017_06_04_H_8_RewFir',\n",
       " 'B_292_2017_06_04_H_8_RewFir',\n",
       " 'B_293_2017_06_04_H_7_RewSec',\n",
       " 'B_294_2017_06_04_H_7_RewSec',\n",
       " 'B_295_2017_06_04_H_8_RewSec',\n",
       " 'B_296_2017_06_04_H_7_RewFir',\n",
       " 'B_297_2017_06_04_H_8_RewSec',\n",
       " 'B_298_2017_06_04_H_7_RewFir',\n",
       " 'B_299_2017_06_04_H_7_RewFir',\n",
       " 'B_300_2017_06_04_H_7_RewFir',\n",
       " 'B_301_2017_06_04_H_8_RewFir',\n",
       " 'B_302_2017_06_04_H_8_RewSec']"
      ]
     },
     "execution_count": 13,
     "metadata": {},
     "output_type": "execute_result"
    }
   ],
   "source": [
    "fldrs"
   ]
  },
  {
   "cell_type": "code",
   "execution_count": 14,
   "metadata": {
    "collapsed": true
   },
   "outputs": [],
   "source": [
    "fldrs.sort(key=lambda x: os.path.getmtime(x)) # sort by time created"
   ]
  },
  {
   "cell_type": "code",
   "execution_count": 15,
   "metadata": {
    "collapsed": false
   },
   "outputs": [
    {
     "data": {
      "text/plain": [
       "['B_207_2017_05_30_H_7_RewSec',\n",
       " 'B_208_2017_05_30_H_7_RewSec',\n",
       " 'B_209_2017_05_30_H_7_RewFir',\n",
       " 'B_210_2017_05_30_H_7_RewFir',\n",
       " 'B_211_2017_05_30_H_8_RewSec',\n",
       " 'B_212_2017_05_30_H_8_RewSec',\n",
       " 'B_213_2017_05_30_H_8_RewFir',\n",
       " 'B_214_2017_05_30_H_8_RewSec',\n",
       " 'B_215_2017_05_30_H_8_RewFir',\n",
       " 'B_216_2017_05_30_H_8_RewFir',\n",
       " 'B_217_2017_05_30_H_8_RewSec',\n",
       " 'B_218_2017_05_30_H_8_RewFir',\n",
       " 'B_219_2017_05_30_H_8_RewFir',\n",
       " 'B_220_2017_05_30_H_8_RewFir',\n",
       " 'B_221_2017_05_30_H_8_RewSec',\n",
       " 'B_222_2017_05_30_H_8_RewSec',\n",
       " 'B_223_2017_05_30_H_8_RewSec',\n",
       " 'B_224_2017_05_30_H_7_RewSec',\n",
       " 'B_225_2017_05_30_H_7_RewFir',\n",
       " 'B_226_2017_05_30_H_8_RewFir',\n",
       " 'B_227_2017_05_30_H_7_RewSec',\n",
       " 'B_228_2017_05_30_H_7_RewSec',\n",
       " 'B_229_2017_05_30_H_8_RewFir',\n",
       " 'B_230_2017_05_30_H_8_RewFir',\n",
       " 'B_231_2017_05_30_H_7_RewSec',\n",
       " 'B_232_2017_05_30_H_7_RewFir',\n",
       " 'B_233_2017_05_30_H_8_RewSec',\n",
       " 'B_234_2017_05_30_H_7_RewFir',\n",
       " 'B_235_2017_05_30_H_8_RewFir',\n",
       " 'B_236_2017_05_30_H_8_RewSec',\n",
       " 'B_237_2017_05_31_H_7_RewFir',\n",
       " 'B_238_2017_05_31_H_8_RewSec',\n",
       " 'B_254_2017_05_31_H_7_RewFir',\n",
       " 'B_253_2017_05_31_H_8_RewSec',\n",
       " 'B_252_2017_05_31_H_7_RewSec',\n",
       " 'B_251_2017_05_31_H_7_RewSec',\n",
       " 'B_250_2017_05_31_H_7_RewFir',\n",
       " 'B_249_2017_05_31_H_7_RewFir',\n",
       " 'B_248_2017_05_31_H_8_RewFir',\n",
       " 'B_247_2017_05_31_H_7_RewSec',\n",
       " 'B_246_2017_05_31_H_7_RewSec',\n",
       " 'B_245_2017_05_31_H_7_RewSec',\n",
       " 'B_244_2017_05_31_H_8_RewFir',\n",
       " 'B_243_2017_05_31_H_7_RewFir',\n",
       " 'B_242_2017_05_31_H_8_RewSec',\n",
       " 'B_241_2017_05_31_H_7_RewFir',\n",
       " 'B_240_2017_05_31_H_8_RewSec',\n",
       " 'B_239_2017_05_31_H_8_RewFir',\n",
       " 'B_255_2017_06_02_H_7_RewSec',\n",
       " 'B_256_2017_06_02_H_7_RewSec',\n",
       " 'B_257_2017_06_02_H_7_RewFir',\n",
       " 'B_258_2017_06_02_H_8_RewSec',\n",
       " 'B_259_2017_06_02_H_8_RewSec',\n",
       " 'B_260_2017_06_02_H_7_RewFir',\n",
       " 'B_261_2017_06_02_H_8_RewSec',\n",
       " 'B_262_2017_06_02_H_8_RewSec',\n",
       " 'B_263_2017_06_02_H_7_RewFir',\n",
       " 'B_264_2017_06_02_H_8_RewFir',\n",
       " 'B_265_2017_06_02_H_7_RewFir',\n",
       " 'B_266_2017_06_02_H_8_RewFir',\n",
       " 'B_267_2017_06_02_H_7_RewFir',\n",
       " 'B_268_2017_06_02_H_7_RewSec',\n",
       " 'B_269_2017_06_02_H_7_RewSec',\n",
       " 'B_270_2017_06_02_H_7_RewFir',\n",
       " 'B_271_2017_06_03_H_7_RewSec',\n",
       " 'B_272_2017_06_03_H_7_RewSec',\n",
       " 'B_273_2017_06_03_H_7_RewFir',\n",
       " 'B_274_2017_06_03_H_7_RewSec',\n",
       " 'B_275_2017_06_03_H_7_RewSec',\n",
       " 'B_276_2017_06_03_H_8_RewFir',\n",
       " 'B_277_2017_06_03_H_7_RewFir',\n",
       " 'B_278_2017_06_03_H_7_RewFir',\n",
       " 'B_279_2017_06_03_H_7_RewFir',\n",
       " 'B_280_2017_06_03_H_7_RewSec',\n",
       " 'B_281_2017_06_03_H_7_RewFir',\n",
       " 'B_282_2017_06_04_H_7_RewFir',\n",
       " 'B_283_2017_06_04_H_8_RewSec',\n",
       " 'B_284_2017_06_04_H_7_RewSec',\n",
       " 'B_285_2017_06_04_H_7_RewFir',\n",
       " 'B_286_2017_06_04_H_7_RewFir',\n",
       " 'B_287_2017_06_04_H_8_RewFir',\n",
       " 'B_288_2017_06_04_H_8_RewSec',\n",
       " 'B_289_2017_06_04_H_8_RewSec',\n",
       " 'B_290_2017_06_04_H_7_RewFir',\n",
       " 'B_291_2017_06_04_H_8_RewFir',\n",
       " 'B_292_2017_06_04_H_8_RewFir',\n",
       " 'B_293_2017_06_04_H_7_RewSec',\n",
       " 'B_294_2017_06_04_H_7_RewSec',\n",
       " 'B_295_2017_06_04_H_8_RewSec',\n",
       " 'B_296_2017_06_04_H_7_RewFir',\n",
       " 'B_297_2017_06_04_H_8_RewSec',\n",
       " 'B_298_2017_06_04_H_7_RewFir',\n",
       " 'B_299_2017_06_04_H_7_RewFir',\n",
       " 'B_300_2017_06_04_H_7_RewFir',\n",
       " 'B_301_2017_06_04_H_8_RewFir',\n",
       " 'B_302_2017_06_04_H_8_RewSec']"
      ]
     },
     "execution_count": 15,
     "metadata": {},
     "output_type": "execute_result"
    }
   ],
   "source": [
    "# fldrs.reverse()\n",
    "fldrs"
   ]
  },
  {
   "cell_type": "code",
   "execution_count": 17,
   "metadata": {
    "collapsed": true
   },
   "outputs": [],
   "source": [
    "import csv"
   ]
  },
  {
   "cell_type": "code",
   "execution_count": 19,
   "metadata": {
    "collapsed": false
   },
   "outputs": [],
   "source": [
    "with open(\"C:\\Users\\Combes4\\Desktop\\outputHive7_8.csv\", \"wb\") as f:\n",
    "    writer = csv.writer(f)\n",
    "    writer.writerows(np.transpose(np.array([fldrs])))"
   ]
  },
  {
   "cell_type": "code",
   "execution_count": 20,
   "metadata": {
    "collapsed": false
   },
   "outputs": [
    {
     "data": {
      "text/plain": [
       "(96L, 1L)"
      ]
     },
     "execution_count": 20,
     "metadata": {},
     "output_type": "execute_result"
    }
   ],
   "source": [
    "np.transpose(np.array([fldrs])).shape"
   ]
  },
  {
   "cell_type": "code",
   "execution_count": 62,
   "metadata": {
    "collapsed": false
   },
   "outputs": [
    {
     "name": "stdout",
     "output_type": "stream",
     "text": [
      "0\n",
      "1\n",
      "2\n",
      "3\n",
      "4\n",
      "5\n",
      "6\n",
      "7\n",
      "8\n",
      "9\n",
      "10\n",
      "11\n",
      "12\n",
      "13\n",
      "14\n",
      "15\n",
      "16\n",
      "17\n",
      "18\n",
      "19\n",
      "20\n",
      "21\n",
      "22\n",
      "23\n",
      "24\n",
      "25\n",
      "26\n",
      "27\n",
      "28\n",
      "29\n",
      "30\n",
      "31\n",
      "32\n",
      "33\n",
      "34\n",
      "35\n",
      "36\n",
      "37\n",
      "38\n",
      "39\n",
      "40\n",
      "41\n",
      "42\n",
      "43\n",
      "44\n",
      "45\n",
      "46\n",
      "47\n",
      "48\n",
      "49\n",
      "50\n",
      "51\n",
      "52\n",
      "53\n",
      "54\n",
      "55\n",
      "56\n",
      "57\n",
      "58\n",
      "59\n",
      "60\n",
      "61\n",
      "62\n",
      "63\n",
      "64\n",
      "65\n",
      "66\n",
      "67\n",
      "68\n",
      "69\n",
      "70\n",
      "71\n",
      "72\n",
      "73\n",
      "74\n",
      "75\n",
      "76\n",
      "77\n",
      "78\n",
      "79\n",
      "80\n",
      "81\n",
      "82\n",
      "83\n",
      "84\n",
      "85\n",
      "86\n",
      "87\n",
      "88\n",
      "89\n",
      "90\n",
      "91\n",
      "92\n",
      "93\n",
      "94\n",
      "95\n"
     ]
    }
   ],
   "source": [
    "# for each folder, open it, and read the ampFreq.txt file\n",
    "folders = fldrs\n",
    "for ii in range(len(folders)):\n",
    "\n",
    "    # read contents of each folder\n",
    "    fcontents = [f for f in os.listdir(folders[ii]) if not f.startswith('.')]\n",
    "\n",
    "    # get ampFreq file(s). there should be one per folder\n",
    "    ampFreqFile = [x for x in fcontents if 'ampFreq.txt' in x]\n",
    "\n",
    "    if len(ampFreqFile) > 1: \n",
    "        print(\"PROBLEM \" + str(ii))\n",
    "\n",
    "\n",
    "    # read ampFreq file\n",
    "    tmpDF = pd.read_table(os.path.join(folders[ii], ampFreqFile[0]), header = None, sep = ',')\n",
    "\n",
    "    # add folder name to data frame\n",
    "    tmpDF[7] = folders[ii]\n",
    "\n",
    "    # add frequency information\n",
    "    folderInFolder = [x for x in fcontents if not 'ampFreq.txt' in x]\n",
    "\n",
    "    if len(folderInFolder) > 1: \n",
    "        print(\"PROBLEM\")\n",
    "\n",
    "    # list files in inner folder\n",
    "    accRecFiles = [x for x in os.listdir(os.path.join(folders[ii], folderInFolder[0])) if not x.startswith('.') and x.endswith(\".txt\") and not \")\" in x]\n",
    "    accRecFiles.sort()\n",
    "    \n",
    "    tmpDF[8] = accRecFiles\n",
    "\n",
    "    # remove wingbeats\n",
    "    tmpDF2 = tmpDF.ix[(tmpDF[0] > 220) & (tmpDF[0] < 450)]\n",
    "\n",
    "    # renumber index\n",
    "    tmpDF2.index = (np.arange(1, tmpDF2.shape[0] + 1))\n",
    "\n",
    "    # write to .csv\n",
    "    tmpDF2.to_csv('C:\\Users\\Combes4\\Desktop\\hive78csvs' + \"\\\\\" + folders[ii] + '.csv', \n",
    "                 header = False, index = True)\n",
    "    \n",
    "    print ii"
   ]
  },
  {
   "cell_type": "code",
   "execution_count": 63,
   "metadata": {
    "collapsed": true
   },
   "outputs": [],
   "source": [
    "## combine csv's all into a single file\n",
    "csvDir = 'C:\\Users\\Combes4\\Desktop\\hive78csvs'\n",
    "\n",
    "csvFiles = [f for f in os.listdir(csvDir) if f.endswith('.csv')]"
   ]
  },
  {
   "cell_type": "code",
   "execution_count": 64,
   "metadata": {
    "collapsed": true
   },
   "outputs": [],
   "source": [
    "np_array_list = []\n",
    "for file_ in csvFiles:\n",
    "    df = pd.read_csv(os.path.join(csvDir, file_),index_col=None, header=None)\n",
    "    np_array_list.append(df.as_matrix())\n",
    "\n",
    "comb_np_array = np.vstack(np_array_list)\n",
    "big_frame = pd.DataFrame(comb_np_array)"
   ]
  },
  {
   "cell_type": "code",
   "execution_count": 67,
   "metadata": {
    "collapsed": false,
    "scrolled": true
   },
   "outputs": [
    {
     "data": {
      "text/html": [
       "<div>\n",
       "<table border=\"1\" class=\"dataframe\">\n",
       "  <thead>\n",
       "    <tr style=\"text-align: right;\">\n",
       "      <th></th>\n",
       "      <th>index</th>\n",
       "      <th>freq</th>\n",
       "      <th>amp</th>\n",
       "      <th>datetime</th>\n",
       "      <th>rewNum</th>\n",
       "      <th>rewTF</th>\n",
       "      <th>lowRewAmp</th>\n",
       "      <th>highrewAmp</th>\n",
       "      <th>BeeNumCol</th>\n",
       "      <th>accFile</th>\n",
       "    </tr>\n",
       "  </thead>\n",
       "  <tbody>\n",
       "    <tr>\n",
       "      <th>0</th>\n",
       "      <td>1</td>\n",
       "      <td>370</td>\n",
       "      <td>0.79858</td>\n",
       "      <td>2017_05_30__09_52_48_207</td>\n",
       "      <td>1</td>\n",
       "      <td>F</td>\n",
       "      <td>0</td>\n",
       "      <td>5</td>\n",
       "      <td>B_207_2017_05_30_H_7_RewSec</td>\n",
       "      <td>2017_05_30__09_52_48_207_220_450_0_5.txt</td>\n",
       "    </tr>\n",
       "    <tr>\n",
       "      <th>1</th>\n",
       "      <td>2</td>\n",
       "      <td>340</td>\n",
       "      <td>0.68663</td>\n",
       "      <td>2017_05_30__09_52_50_473</td>\n",
       "      <td>2</td>\n",
       "      <td>F</td>\n",
       "      <td>0</td>\n",
       "      <td>5</td>\n",
       "      <td>B_207_2017_05_30_H_7_RewSec</td>\n",
       "      <td>2017_05_30__09_52_50_473_220_450_0_5.txt</td>\n",
       "    </tr>\n",
       "    <tr>\n",
       "      <th>2</th>\n",
       "      <td>3</td>\n",
       "      <td>330</td>\n",
       "      <td>0.34916</td>\n",
       "      <td>2017_05_30__09_52_52_817</td>\n",
       "      <td>3</td>\n",
       "      <td>F</td>\n",
       "      <td>0</td>\n",
       "      <td>5</td>\n",
       "      <td>B_207_2017_05_30_H_7_RewSec</td>\n",
       "      <td>2017_05_30__09_52_52_817_220_450_0_5.txt</td>\n",
       "    </tr>\n",
       "    <tr>\n",
       "      <th>3</th>\n",
       "      <td>4</td>\n",
       "      <td>320</td>\n",
       "      <td>0.66814</td>\n",
       "      <td>2017_05_30__09_52_56_614</td>\n",
       "      <td>4</td>\n",
       "      <td>F</td>\n",
       "      <td>0</td>\n",
       "      <td>5</td>\n",
       "      <td>B_207_2017_05_30_H_7_RewSec</td>\n",
       "      <td>2017_05_30__09_52_56_614_220_450_0_5.txt</td>\n",
       "    </tr>\n",
       "    <tr>\n",
       "      <th>4</th>\n",
       "      <td>5</td>\n",
       "      <td>310</td>\n",
       "      <td>0.90015</td>\n",
       "      <td>2017_05_30__09_52_58_795</td>\n",
       "      <td>5</td>\n",
       "      <td>F</td>\n",
       "      <td>0</td>\n",
       "      <td>5</td>\n",
       "      <td>B_207_2017_05_30_H_7_RewSec</td>\n",
       "      <td>2017_05_30__09_52_58_795_220_450_0_5.txt</td>\n",
       "    </tr>\n",
       "  </tbody>\n",
       "</table>\n",
       "</div>"
      ],
      "text/plain": [
       "  index freq      amp                   datetime rewNum rewTF lowRewAmp  \\\n",
       "0     1  370  0.79858   2017_05_30__09_52_48_207      1     F         0   \n",
       "1     2  340  0.68663   2017_05_30__09_52_50_473      2     F         0   \n",
       "2     3  330  0.34916   2017_05_30__09_52_52_817      3     F         0   \n",
       "3     4  320  0.66814   2017_05_30__09_52_56_614      4     F         0   \n",
       "4     5  310  0.90015   2017_05_30__09_52_58_795      5     F         0   \n",
       "\n",
       "  highrewAmp                    BeeNumCol  \\\n",
       "0          5  B_207_2017_05_30_H_7_RewSec   \n",
       "1          5  B_207_2017_05_30_H_7_RewSec   \n",
       "2          5  B_207_2017_05_30_H_7_RewSec   \n",
       "3          5  B_207_2017_05_30_H_7_RewSec   \n",
       "4          5  B_207_2017_05_30_H_7_RewSec   \n",
       "\n",
       "                                    accFile  \n",
       "0  2017_05_30__09_52_48_207_220_450_0_5.txt  \n",
       "1  2017_05_30__09_52_50_473_220_450_0_5.txt  \n",
       "2  2017_05_30__09_52_52_817_220_450_0_5.txt  \n",
       "3  2017_05_30__09_52_56_614_220_450_0_5.txt  \n",
       "4  2017_05_30__09_52_58_795_220_450_0_5.txt  "
      ]
     },
     "execution_count": 67,
     "metadata": {},
     "output_type": "execute_result"
    }
   ],
   "source": [
    "big_frame.columns = ['index', 'freq', 'amp', 'datetime', 'rewNum', 'rewTF', 'lowRewAmp', 'highrewAmp', 'BeeNumCol', 'accFile']\n",
    "big_frame.head()"
   ]
  },
  {
   "cell_type": "code",
   "execution_count": 70,
   "metadata": {
    "collapsed": false
   },
   "outputs": [],
   "source": [
    "# save long dataset\n",
    "#big_frame.to_csv('D:\\\\Dropbox\\\\ExperSummer2016\\\\BeeSonicationLearningWithAvery\\\\freqLearn_Hive78_long.csv', header = True, index = False)"
   ]
  },
  {
   "cell_type": "code",
   "execution_count": 71,
   "metadata": {
    "collapsed": true
   },
   "outputs": [],
   "source": [
    "# check to see if datetime and accFile agree\n",
    "\n",
    "eqs = [big_frame['datetime'][ii][1:25] == big_frame['accFile'][ii][0:24] for ii in range(len(big_frame['datetime']))]"
   ]
  },
  {
   "cell_type": "code",
   "execution_count": 72,
   "metadata": {
    "collapsed": false
   },
   "outputs": [
    {
     "data": {
      "text/plain": [
       "0"
      ]
     },
     "execution_count": 72,
     "metadata": {},
     "output_type": "execute_result"
    }
   ],
   "source": [
    "np.sum(np.invert(eqs)) # should be zero if all of them match"
   ]
  },
  {
   "cell_type": "code",
   "execution_count": null,
   "metadata": {
    "collapsed": true
   },
   "outputs": [],
   "source": []
  },
  {
   "cell_type": "code",
   "execution_count": null,
   "metadata": {
    "collapsed": true
   },
   "outputs": [],
   "source": []
  },
  {
   "cell_type": "code",
   "execution_count": null,
   "metadata": {
    "collapsed": true
   },
   "outputs": [],
   "source": []
  },
  {
   "cell_type": "code",
   "execution_count": null,
   "metadata": {
    "collapsed": true
   },
   "outputs": [],
   "source": []
  },
  {
   "cell_type": "code",
   "execution_count": null,
   "metadata": {
    "collapsed": true
   },
   "outputs": [],
   "source": []
  },
  {
   "cell_type": "code",
   "execution_count": null,
   "metadata": {
    "collapsed": true
   },
   "outputs": [],
   "source": []
  },
  {
   "cell_type": "code",
   "execution_count": null,
   "metadata": {
    "collapsed": true
   },
   "outputs": [],
   "source": []
  },
  {
   "cell_type": "code",
   "execution_count": null,
   "metadata": {
    "collapsed": false
   },
   "outputs": [],
   "source": [
    "file_choose()"
   ]
  },
  {
   "cell_type": "code",
   "execution_count": null,
   "metadata": {
    "collapsed": true
   },
   "outputs": [],
   "source": [
    "# copy files and exclude movies\n",
    "import shutil"
   ]
  },
  {
   "cell_type": "code",
   "execution_count": null,
   "metadata": {
    "collapsed": false
   },
   "outputs": [],
   "source": [
    "os.chdir('/Volumes/GMD/19 Dec Bee Sonication Backup/BeeSonicationLearningWithAvery/BeeFrequencyLearning/')"
   ]
  },
  {
   "cell_type": "code",
   "execution_count": null,
   "metadata": {
    "collapsed": true
   },
   "outputs": [],
   "source": [
    "sourceDir = os.getcwd()\n",
    "targDir = '/Users/callinswitzer/Desktop/SonicationLearningWAvery_NoImages'\n",
    "IGNORE_PATTERNS = ('*.pgm')\n"
   ]
  },
  {
   "cell_type": "code",
   "execution_count": null,
   "metadata": {
    "collapsed": true
   },
   "outputs": [],
   "source": [
    "shutil.copytree(sourceDir, targDir, ignore= shutil.ignore_patterns(IGNORE_PATTERNS))"
   ]
  },
  {
   "cell_type": "code",
   "execution_count": null,
   "metadata": {
    "collapsed": true
   },
   "outputs": [],
   "source": []
  },
  {
   "cell_type": "code",
   "execution_count": null,
   "metadata": {
    "collapsed": false
   },
   "outputs": [],
   "source": [
    "sourceDir = '/Volumes/GMD/BeeSonicationLearningWithAvery/HeavyLightFlowers/'\n",
    "targDir = '/Users/callinswitzer/Desktop/SonicationLearningWAvery_HeavyLight'\n",
    "IGNORE_PATTERNS = ('*.pgm')\n"
   ]
  },
  {
   "cell_type": "code",
   "execution_count": null,
   "metadata": {
    "collapsed": true
   },
   "outputs": [],
   "source": [
    "shutil.copytree(sourceDir, targDir, ignore= shutil.ignore_patterns(IGNORE_PATTERNS))"
   ]
  },
  {
   "cell_type": "code",
   "execution_count": null,
   "metadata": {
    "collapsed": true
   },
   "outputs": [],
   "source": []
  },
  {
   "cell_type": "code",
   "execution_count": null,
   "metadata": {
    "collapsed": true
   },
   "outputs": [],
   "source": []
  },
  {
   "cell_type": "code",
   "execution_count": null,
   "metadata": {
    "collapsed": true
   },
   "outputs": [],
   "source": [
    "# pick up here"
   ]
  },
  {
   "cell_type": "code",
   "execution_count": null,
   "metadata": {
    "collapsed": true
   },
   "outputs": [],
   "source": [
    "sourceDir = '/Volumes/GMD/BeeSonicationLearningWithAvery/TestAndTrainFakeAndRealFlowers/'\n",
    "targDir = '/Users/callinswitzer/Desktop/SonicationLearningWAvery_TestTrainDataset_noVid'\n",
    "IGNORE_PATTERNS = ('*.pgm', '*.mp4')"
   ]
  },
  {
   "cell_type": "code",
   "execution_count": null,
   "metadata": {
    "collapsed": false
   },
   "outputs": [],
   "source": [
    "shutil.copytree(sourceDir, targDir, ignore= shutil.ignore_patterns(IGNORE_PATTERNS))"
   ]
  },
  {
   "cell_type": "code",
   "execution_count": null,
   "metadata": {
    "collapsed": true
   },
   "outputs": [],
   "source": [
    "# done"
   ]
  },
  {
   "cell_type": "code",
   "execution_count": null,
   "metadata": {
    "collapsed": false
   },
   "outputs": [],
   "source": [
    "os.chdir('/Users/callinswitzer/Desktop/SonicationLearningWAvery_NoImages/')"
   ]
  },
  {
   "cell_type": "code",
   "execution_count": null,
   "metadata": {
    "collapsed": true
   },
   "outputs": [],
   "source": [
    "mypath = os.getcwd()"
   ]
  },
  {
   "cell_type": "code",
   "execution_count": null,
   "metadata": {
    "collapsed": true
   },
   "outputs": [],
   "source": [
    "# get folder list\n",
    "folders = [f for f in os.listdir(mypath) if \".\" not in f]"
   ]
  },
  {
   "cell_type": "code",
   "execution_count": null,
   "metadata": {
    "collapsed": true
   },
   "outputs": [],
   "source": []
  },
  {
   "cell_type": "code",
   "execution_count": null,
   "metadata": {
    "collapsed": true
   },
   "outputs": [],
   "source": []
  },
  {
   "cell_type": "code",
   "execution_count": null,
   "metadata": {
    "collapsed": true
   },
   "outputs": [],
   "source": []
  },
  {
   "cell_type": "code",
   "execution_count": null,
   "metadata": {
    "collapsed": true
   },
   "outputs": [],
   "source": [
    "big_frame.columns = ['index', 'freq', 'amp', 'datetime', 'rewNum', 'rewTF', 'lowRewAmp', 'highrewAmp', 'BeeNumCol', 'accFile']"
   ]
  },
  {
   "cell_type": "code",
   "execution_count": null,
   "metadata": {
    "collapsed": false
   },
   "outputs": [],
   "source": [
    "big_frame.head()"
   ]
  },
  {
   "cell_type": "code",
   "execution_count": null,
   "metadata": {
    "collapsed": true
   },
   "outputs": [],
   "source": [
    "# save big data frame\n",
    "#big_frame.to_csv('/Users/callinswitzer/Desktop/freqLearn.csv', header = True, index = False)"
   ]
  },
  {
   "cell_type": "code",
   "execution_count": null,
   "metadata": {
    "collapsed": false
   },
   "outputs": [],
   "source": [
    "big_frame = pd.read_csv('/Users/callinswitzer/Desktop/freqLearn.csv', index_col=None)"
   ]
  },
  {
   "cell_type": "code",
   "execution_count": null,
   "metadata": {
    "collapsed": false
   },
   "outputs": [],
   "source": [
    "big_frame.head()"
   ]
  },
  {
   "cell_type": "code",
   "execution_count": null,
   "metadata": {
    "collapsed": false
   },
   "outputs": [],
   "source": [
    "# check to see if datetime and accFile agree\n",
    "\n",
    "eqs = [big_frame['datetime'][ii][1:25] == big_frame['accFile'][ii][0:24] for ii in range(len(big_frame['datetime']))]"
   ]
  },
  {
   "cell_type": "code",
   "execution_count": null,
   "metadata": {
    "collapsed": false
   },
   "outputs": [],
   "source": [
    "np.sum(np.invert(eqs)) # should be zero if all of them match"
   ]
  },
  {
   "cell_type": "code",
   "execution_count": null,
   "metadata": {
    "collapsed": false
   },
   "outputs": [],
   "source": [
    "# find the one that doesn't match\n",
    "big_frame.ix[np.invert(eqs)] # now they all match"
   ]
  },
  {
   "cell_type": "code",
   "execution_count": null,
   "metadata": {
    "collapsed": false
   },
   "outputs": [],
   "source": [
    "# make a new column for bee color, hive, reward frequency, date, and treatment (initial, high, low)\n",
    "\n",
    "str1 = big_frame['BeeNumCol'][1]"
   ]
  },
  {
   "cell_type": "code",
   "execution_count": null,
   "metadata": {
    "collapsed": false
   },
   "outputs": [],
   "source": [
    "str1"
   ]
  },
  {
   "cell_type": "code",
   "execution_count": null,
   "metadata": {
    "collapsed": false
   },
   "outputs": [],
   "source": [
    "str2 = [big_frame['BeeNumCol'][ii].split(\"Bee\")[1] for ii in range(len(big_frame['BeeNumCol']))]"
   ]
  },
  {
   "cell_type": "code",
   "execution_count": null,
   "metadata": {
    "collapsed": true
   },
   "outputs": [],
   "source": [
    "% qtconsole"
   ]
  },
  {
   "cell_type": "code",
   "execution_count": null,
   "metadata": {
    "collapsed": false
   },
   "outputs": [],
   "source": [
    "beeColNum = [str2[ii].split(r'_')[0] for ii in range(len(str2))]"
   ]
  },
  {
   "cell_type": "code",
   "execution_count": null,
   "metadata": {
    "collapsed": false
   },
   "outputs": [],
   "source": [
    "# definition for extracting trial number\n",
    "def extractNum(string):\n",
    "    try: \n",
    "      aa =  str(int(filter(str.isdigit, string)))\n",
    "    except:\n",
    "        aa = \"1\"\n",
    "    return(aa)\n",
    "    "
   ]
  },
  {
   "cell_type": "code",
   "execution_count": null,
   "metadata": {
    "collapsed": false
   },
   "outputs": [],
   "source": [
    "# get trial number\n",
    "trialNum = [extractNum(strg) for strg in beeColNum]"
   ]
  },
  {
   "cell_type": "code",
   "execution_count": null,
   "metadata": {
    "collapsed": true
   },
   "outputs": [],
   "source": [
    "# function to get only characters\n",
    "def extractChar(string):\n",
    "    return(\" \".join(re.findall(\"[a-zA-Z]+\", string)))"
   ]
  },
  {
   "cell_type": "code",
   "execution_count": null,
   "metadata": {
    "collapsed": true
   },
   "outputs": [],
   "source": [
    "# get just bee color\n",
    "beeCol = [extractChar(strg) for strg in beeColNum]"
   ]
  },
  {
   "cell_type": "code",
   "execution_count": null,
   "metadata": {
    "collapsed": true
   },
   "outputs": [],
   "source": [
    "# get datetime\n",
    "dateTime = [datetime.strptime(dt1, ' %Y_%m_%d__%H_%M_%S_%f') for dt1 in big_frame['datetime']]"
   ]
  },
  {
   "cell_type": "code",
   "execution_count": null,
   "metadata": {
    "collapsed": true
   },
   "outputs": [],
   "source": [
    "# string format time\n",
    "dateTime_format = [datetime.strftime(datetime_object, \"%Y-%m-%d %H:%M:%S.%f\") for datetime_object in dateTime]"
   ]
  },
  {
   "cell_type": "code",
   "execution_count": null,
   "metadata": {
    "collapsed": true
   },
   "outputs": [],
   "source": [
    "# get reward frequencies\n",
    "s1 = big_frame['accFile'][0]"
   ]
  },
  {
   "cell_type": "code",
   "execution_count": null,
   "metadata": {
    "collapsed": false
   },
   "outputs": [],
   "source": [
    "rewFrqs = [s1.split(\"_\")[8:10] for s1 in big_frame['accFile']]"
   ]
  },
  {
   "cell_type": "code",
   "execution_count": null,
   "metadata": {
    "collapsed": false
   },
   "outputs": [],
   "source": [
    "rewDF = pd.DataFrame(rewFrqs, columns = ['lowFrq', 'highFrq'])"
   ]
  },
  {
   "cell_type": "code",
   "execution_count": null,
   "metadata": {
    "collapsed": false
   },
   "outputs": [],
   "source": [
    "rewDF.head()"
   ]
  },
  {
   "cell_type": "code",
   "execution_count": null,
   "metadata": {
    "collapsed": true
   },
   "outputs": [],
   "source": []
  },
  {
   "cell_type": "code",
   "execution_count": null,
   "metadata": {
    "collapsed": false
   },
   "outputs": [],
   "source": [
    "# add to big data frame\n",
    "big_frame['trialNum'] = trialNum\n",
    "big_frame['beeCol'] = beeCol\n",
    "big_frame['datetime_str'] = dateTime_format"
   ]
  },
  {
   "cell_type": "code",
   "execution_count": null,
   "metadata": {
    "collapsed": false
   },
   "outputs": [],
   "source": [
    "big_frame2 = pd.concat([big_frame, rewDF], axis  = 1)\n",
    "big_frame2.head()"
   ]
  },
  {
   "cell_type": "code",
   "execution_count": null,
   "metadata": {
    "collapsed": true
   },
   "outputs": [],
   "source": [
    "#big_frame2.to_csv('/Users/callinswitzer/Desktop/freqLearn2.csv', header = True, index = False)"
   ]
  },
  {
   "cell_type": "code",
   "execution_count": null,
   "metadata": {
    "collapsed": true
   },
   "outputs": [],
   "source": []
  }
 ],
 "metadata": {
  "anaconda-cloud": {},
  "kernelspec": {
   "display_name": "Python 2",
   "language": "python",
   "name": "python2"
  },
  "language_info": {
   "codemirror_mode": {
    "name": "ipython",
    "version": 2
   },
   "file_extension": ".py",
   "mimetype": "text/x-python",
   "name": "python",
   "nbconvert_exporter": "python",
   "pygments_lexer": "ipython2",
   "version": "2.7.13"
  }
 },
 "nbformat": 4,
 "nbformat_minor": 1
}
