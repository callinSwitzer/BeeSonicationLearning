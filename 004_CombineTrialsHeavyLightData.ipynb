{
 "cells": [
  {
   "cell_type": "markdown",
   "metadata": {},
   "source": [
    "\n",
    "# Callin Switzer\n",
    "Read in all csv files from individual trials for heavy/light flower experiment, and \n",
    "combine into a single long dataset, combined with metadata \n"
   ]
  },
  {
   "cell_type": "code",
   "execution_count": 1,
   "metadata": {},
   "outputs": [
    {
     "name": "stdout",
     "output_type": "stream",
     "text": [
      "3.6.1 |Anaconda custom (64-bit)| (default, May 11 2017, 13:04:09) \n",
      "[GCC 4.2.1 Compatible Apple LLVM 6.0 (clang-600.0.57)] \n",
      "\n",
      "last run on 2017-12-07 17:20:05.377936\n"
     ]
    }
   ],
   "source": [
    "import numpy as np\n",
    "from matplotlib import pyplot as plt\n",
    "%matplotlib inline\n",
    "\n",
    "import os\n",
    "import pandas as pd\n",
    "import time\n",
    "import re\n",
    "from datetime import datetime\n",
    "import sys\n",
    "import csv\n",
    "import seaborn as sns\n",
    "from collections import Counter\n",
    "\n",
    "print(sys.version, \"\\n\")\n",
    "\n",
    "now = datetime.now()\n",
    "print(\"last run on \" + str(now))"
   ]
  },
  {
   "cell_type": "code",
   "execution_count": 4,
   "metadata": {
    "collapsed": true
   },
   "outputs": [],
   "source": [
    "# define directories\n",
    "baseDir = os.getcwd()\n",
    "dataDir = '/Users/cswitzer/Dropbox/SonicationBehavior/SonBehData/SonicationBehavior_HeavyLight/'\n",
    "metadataDir1 = '/Users/cswitzer/Dropbox/SonicationBehavior/SonBehData/BeeMetaData/'"
   ]
  },
  {
   "cell_type": "code",
   "execution_count": 5,
   "metadata": {},
   "outputs": [
    {
     "data": {
      "text/plain": [
       "'/Users/cswitzer/Documents/GitRepos/BeeSonicationLearning'"
      ]
     },
     "execution_count": 5,
     "metadata": {},
     "output_type": "execute_result"
    }
   ],
   "source": [
    "baseDir"
   ]
  },
  {
   "cell_type": "markdown",
   "metadata": {},
   "source": [
    "### Read in bee metadata"
   ]
  },
  {
   "cell_type": "code",
   "execution_count": 8,
   "metadata": {
    "collapsed": true
   },
   "outputs": [],
   "source": [
    "metadataFile = metadataDir1 + \"HeavyLight_BeeMetaData_cleaned.csv\"\n",
    "\n",
    "# read in data\n",
    "mdta = pd.read_csv(metadataFile, header = 0, index_col = None)"
   ]
  },
  {
   "cell_type": "code",
   "execution_count": 9,
   "metadata": {},
   "outputs": [
    {
     "data": {
      "text/html": [
       "<div>\n",
       "<style>\n",
       "    .dataframe thead tr:only-child th {\n",
       "        text-align: right;\n",
       "    }\n",
       "\n",
       "    .dataframe thead th {\n",
       "        text-align: left;\n",
       "    }\n",
       "\n",
       "    .dataframe tbody tr th {\n",
       "        vertical-align: top;\n",
       "    }\n",
       "</style>\n",
       "<table border=\"1\" class=\"dataframe\">\n",
       "  <thead>\n",
       "    <tr style=\"text-align: right;\">\n",
       "      <th></th>\n",
       "      <th>BeeColorNum</th>\n",
       "      <th>IT</th>\n",
       "      <th>Hive</th>\n",
       "      <th>FlowerType1</th>\n",
       "      <th>FlowerType2</th>\n",
       "      <th>trainingFile_</th>\n",
       "      <th>dateFrozenOrMarked</th>\n",
       "    </tr>\n",
       "  </thead>\n",
       "  <tbody>\n",
       "    <tr>\n",
       "      <th>0</th>\n",
       "      <td>gold</td>\n",
       "      <td>4.13</td>\n",
       "      <td>3</td>\n",
       "      <td>weighted</td>\n",
       "      <td>sham</td>\n",
       "      <td>gold_26Sept_Weghted_Unweighted/2016_09_26__17_...</td>\n",
       "      <td>26-Sep-16</td>\n",
       "    </tr>\n",
       "    <tr>\n",
       "      <th>1</th>\n",
       "      <td>1</td>\n",
       "      <td>4.07</td>\n",
       "      <td>4</td>\n",
       "      <td>weighted</td>\n",
       "      <td>sham</td>\n",
       "      <td>Bee1_27Sept_Hive4_W_S/2016_09_27__10_52_05_amp...</td>\n",
       "      <td>27-Sep-16</td>\n",
       "    </tr>\n",
       "    <tr>\n",
       "      <th>2</th>\n",
       "      <td>2</td>\n",
       "      <td>4.42</td>\n",
       "      <td>4</td>\n",
       "      <td>sham</td>\n",
       "      <td>weighted</td>\n",
       "      <td>Bee2_27Sept_Hive4_S_W/2016_09_27__11_54_44_amp...</td>\n",
       "      <td>27-Sep-16</td>\n",
       "    </tr>\n",
       "    <tr>\n",
       "      <th>3</th>\n",
       "      <td>3</td>\n",
       "      <td>4.27</td>\n",
       "      <td>3</td>\n",
       "      <td>sham</td>\n",
       "      <td>weighted</td>\n",
       "      <td>Bee3_28Sept_hive3_S_W/2016_09_28__08_33_35_amp...</td>\n",
       "      <td>28-Sep-16</td>\n",
       "    </tr>\n",
       "    <tr>\n",
       "      <th>4</th>\n",
       "      <td>4</td>\n",
       "      <td>4.27</td>\n",
       "      <td>3</td>\n",
       "      <td>weighted</td>\n",
       "      <td>sham</td>\n",
       "      <td>Bee4_28Sept2016_Hive3_W_S/2016_09_28__08_45_02...</td>\n",
       "      <td>28-Sep-16</td>\n",
       "    </tr>\n",
       "  </tbody>\n",
       "</table>\n",
       "</div>"
      ],
      "text/plain": [
       "  BeeColorNum    IT  Hive FlowerType1 FlowerType2  \\\n",
       "0        gold  4.13     3    weighted        sham   \n",
       "1           1  4.07     4    weighted        sham   \n",
       "2           2  4.42     4        sham    weighted   \n",
       "3           3  4.27     3        sham    weighted   \n",
       "4           4  4.27     3    weighted        sham   \n",
       "\n",
       "                                       trainingFile_ dateFrozenOrMarked  \n",
       "0  gold_26Sept_Weghted_Unweighted/2016_09_26__17_...          26-Sep-16  \n",
       "1  Bee1_27Sept_Hive4_W_S/2016_09_27__10_52_05_amp...          27-Sep-16  \n",
       "2  Bee2_27Sept_Hive4_S_W/2016_09_27__11_54_44_amp...          27-Sep-16  \n",
       "3  Bee3_28Sept_hive3_S_W/2016_09_28__08_33_35_amp...          28-Sep-16  \n",
       "4  Bee4_28Sept2016_Hive3_W_S/2016_09_28__08_45_02...          28-Sep-16  "
      ]
     },
     "execution_count": 9,
     "metadata": {},
     "output_type": "execute_result"
    }
   ],
   "source": [
    "mdta.head()"
   ]
  },
  {
   "cell_type": "code",
   "execution_count": 35,
   "metadata": {},
   "outputs": [
    {
     "name": "stdout",
     "output_type": "stream",
     "text": [
      "0\n",
      "1\n",
      "2\n",
      "3\n",
      "4\n",
      "5\n",
      "6\n",
      "7\n",
      "8\n",
      "9\n",
      "10\n",
      "11\n",
      "12\n",
      "13\n",
      "14\n",
      "15\n",
      "16\n",
      "17\n",
      "18\n",
      "19\n",
      "20\n",
      "21\n",
      "22\n",
      "23\n",
      "24\n",
      "25\n",
      "26\n",
      "27\n",
      "28\n",
      "29\n",
      "30\n",
      "31\n",
      "32\n",
      "33\n",
      "34\n",
      "35\n"
     ]
    }
   ],
   "source": [
    "\n",
    "NoFlightFolder = \"/Users/cswitzer/Dropbox/SonicationBehavior/SonBehData/SonicationBehavior_HeavyLight_NoFlights/\"\n",
    "\n",
    "folders = mdta.trainingFile_\n",
    "\n",
    "# define subfolders\n",
    "fldrs2 = [folders[ii].split(\"/\")[0] for ii in range(len(folders))]\n",
    "\n",
    "for ii in range(len(folders)):\n",
    "    tmpDF = pd.read_table(os.path.join(dataDir, folders[ii]), header = None, sep = ',')\n",
    "\n",
    "    # add folder name to data frame\n",
    "    tmpDF[7] = folders[ii]\n",
    "    fcontents = [f for f in os.listdir(os.path.join(dataDir,fldrs2[ii])) if not f.startswith('.')]\n",
    "    folderInFolder = [x for x in fcontents if not 'ampFreq.txt' in x]\n",
    "\n",
    "    # list files in inner folder\n",
    "    accRecFiles = [x for x in os.listdir(os.path.join(dataDir, fldrs2[ii], folderInFolder[0])) if not x.startswith('.')]\n",
    "    accRecFiles.sort()\n",
    "    tmpDF[8] = accRecFiles\n",
    "\n",
    "    # remove wingbeats\n",
    "    tmpDF2 = tmpDF.loc[(tmpDF[0] > 220) & (tmpDF[0] < 450)]\n",
    "\n",
    "    # renumber index\n",
    "    tmpDF2.index = (np.arange(1, tmpDF2.shape[0] + 1))\n",
    "\n",
    "    # write to .csv\n",
    "    tmpDF2.to_csv(NoFlightFolder + fldrs2[ii] + '.csv', \n",
    "                 header = False, index = True)\n",
    "    print(ii)\n",
    "\n",
    "\n"
   ]
  },
  {
   "cell_type": "code",
   "execution_count": 37,
   "metadata": {},
   "outputs": [
    {
     "name": "stdout",
     "output_type": "stream",
     "text": [
      "(2360, 10)\n"
     ]
    },
    {
     "data": {
      "text/html": [
       "<div>\n",
       "<style>\n",
       "    .dataframe thead tr:only-child th {\n",
       "        text-align: right;\n",
       "    }\n",
       "\n",
       "    .dataframe thead th {\n",
       "        text-align: left;\n",
       "    }\n",
       "\n",
       "    .dataframe tbody tr th {\n",
       "        vertical-align: top;\n",
       "    }\n",
       "</style>\n",
       "<table border=\"1\" class=\"dataframe\">\n",
       "  <thead>\n",
       "    <tr style=\"text-align: right;\">\n",
       "      <th></th>\n",
       "      <th>index</th>\n",
       "      <th>freq</th>\n",
       "      <th>amp</th>\n",
       "      <th>datetime</th>\n",
       "      <th>rewNum</th>\n",
       "      <th>rewTF</th>\n",
       "      <th>lowRewAmp</th>\n",
       "      <th>highrewAmp</th>\n",
       "      <th>BeeNumCol</th>\n",
       "      <th>accFile</th>\n",
       "    </tr>\n",
       "  </thead>\n",
       "  <tbody>\n",
       "    <tr>\n",
       "      <th>0</th>\n",
       "      <td>1</td>\n",
       "      <td>250</td>\n",
       "      <td>0.17945</td>\n",
       "      <td>2016_09_28__09_59_13_112</td>\n",
       "      <td>1</td>\n",
       "      <td>T</td>\n",
       "      <td>0</td>\n",
       "      <td>5</td>\n",
       "      <td>Bee7_28Sept2016_Hive3_S_W/2016_09_28__09_58_58...</td>\n",
       "      <td>2016_09_28__09_59_13_112_220_450_test.txt</td>\n",
       "    </tr>\n",
       "    <tr>\n",
       "      <th>1</th>\n",
       "      <td>2</td>\n",
       "      <td>300</td>\n",
       "      <td>0.56657</td>\n",
       "      <td>2016_09_28__09_59_14_520</td>\n",
       "      <td>2</td>\n",
       "      <td>T</td>\n",
       "      <td>0</td>\n",
       "      <td>5</td>\n",
       "      <td>Bee7_28Sept2016_Hive3_S_W/2016_09_28__09_58_58...</td>\n",
       "      <td>2016_09_28__09_59_14_520_220_450_test.txt</td>\n",
       "    </tr>\n",
       "    <tr>\n",
       "      <th>2</th>\n",
       "      <td>3</td>\n",
       "      <td>400</td>\n",
       "      <td>0.68371</td>\n",
       "      <td>2016_09_28__09_59_15_030</td>\n",
       "      <td>3</td>\n",
       "      <td>T</td>\n",
       "      <td>0</td>\n",
       "      <td>5</td>\n",
       "      <td>Bee7_28Sept2016_Hive3_S_W/2016_09_28__09_58_58...</td>\n",
       "      <td>2016_09_28__09_59_15_030_220_450_test.txt</td>\n",
       "    </tr>\n",
       "    <tr>\n",
       "      <th>3</th>\n",
       "      <td>4</td>\n",
       "      <td>410</td>\n",
       "      <td>0.80118</td>\n",
       "      <td>2016_09_28__09_59_15_707</td>\n",
       "      <td>4</td>\n",
       "      <td>T</td>\n",
       "      <td>0</td>\n",
       "      <td>5</td>\n",
       "      <td>Bee7_28Sept2016_Hive3_S_W/2016_09_28__09_58_58...</td>\n",
       "      <td>2016_09_28__09_59_15_707_220_450_test.txt</td>\n",
       "    </tr>\n",
       "    <tr>\n",
       "      <th>4</th>\n",
       "      <td>5</td>\n",
       "      <td>370</td>\n",
       "      <td>0.52666</td>\n",
       "      <td>2016_09_28__09_59_16_277</td>\n",
       "      <td>5</td>\n",
       "      <td>T</td>\n",
       "      <td>0</td>\n",
       "      <td>5</td>\n",
       "      <td>Bee7_28Sept2016_Hive3_S_W/2016_09_28__09_58_58...</td>\n",
       "      <td>2016_09_28__09_59_16_277_220_450_test.txt</td>\n",
       "    </tr>\n",
       "  </tbody>\n",
       "</table>\n",
       "</div>"
      ],
      "text/plain": [
       "  index freq      amp                   datetime rewNum rewTF lowRewAmp  \\\n",
       "0     1  250  0.17945   2016_09_28__09_59_13_112      1     T         0   \n",
       "1     2  300  0.56657   2016_09_28__09_59_14_520      2     T         0   \n",
       "2     3  400  0.68371   2016_09_28__09_59_15_030      3     T         0   \n",
       "3     4  410  0.80118   2016_09_28__09_59_15_707      4     T         0   \n",
       "4     5  370  0.52666   2016_09_28__09_59_16_277      5     T         0   \n",
       "\n",
       "  highrewAmp                                          BeeNumCol  \\\n",
       "0          5  Bee7_28Sept2016_Hive3_S_W/2016_09_28__09_58_58...   \n",
       "1          5  Bee7_28Sept2016_Hive3_S_W/2016_09_28__09_58_58...   \n",
       "2          5  Bee7_28Sept2016_Hive3_S_W/2016_09_28__09_58_58...   \n",
       "3          5  Bee7_28Sept2016_Hive3_S_W/2016_09_28__09_58_58...   \n",
       "4          5  Bee7_28Sept2016_Hive3_S_W/2016_09_28__09_58_58...   \n",
       "\n",
       "                                     accFile  \n",
       "0  2016_09_28__09_59_13_112_220_450_test.txt  \n",
       "1  2016_09_28__09_59_14_520_220_450_test.txt  \n",
       "2  2016_09_28__09_59_15_030_220_450_test.txt  \n",
       "3  2016_09_28__09_59_15_707_220_450_test.txt  \n",
       "4  2016_09_28__09_59_16_277_220_450_test.txt  "
      ]
     },
     "execution_count": 37,
     "metadata": {},
     "output_type": "execute_result"
    }
   ],
   "source": [
    "## combine csv's all into a single file\n",
    "csvDir = NoFlightFolder\n",
    "\n",
    "csvFiles = [f for f in os.listdir(csvDir) if f.endswith('.csv')]\n",
    "\n",
    "np_array_list = []\n",
    "for file_ in csvFiles:\n",
    "    df = pd.read_csv(os.path.join(csvDir, file_),index_col=None, header=None)\n",
    "    np_array_list.append(df.as_matrix())\n",
    "\n",
    "comb_np_array = np.vstack(np_array_list)\n",
    "big_frame = pd.DataFrame(comb_np_array)\n",
    "\n",
    "big_frame.columns = ['index', 'freq', 'amp', 'datetime', 'rewNum', 'rewTF', 'lowRewAmp', 'highrewAmp', 'BeeNumCol', 'accFile']\n",
    "\n",
    "print(big_frame.shape)\n",
    "big_frame.head()"
   ]
  },
  {
   "cell_type": "code",
   "execution_count": null,
   "metadata": {
    "collapsed": true
   },
   "outputs": [],
   "source": [
    "# here"
   ]
  },
  {
   "cell_type": "code",
   "execution_count": null,
   "metadata": {
    "collapsed": true
   },
   "outputs": [],
   "source": [
    "# plot histogram of frequencies\n",
    "vls = [int(big_frame[\"freq\"][ii]) for ii in range(len(big_frame))]\n",
    "plt.hist(vls, bins = 50)\n",
    "plt.show()"
   ]
  },
  {
   "cell_type": "code",
   "execution_count": null,
   "metadata": {
    "collapsed": true
   },
   "outputs": [],
   "source": [
    "# check to see if datetime and accFile agree\n",
    "eqs = [big_frame['datetime'][ii][1:25] == big_frame['accFile'][ii][0:24] for ii in range(len(big_frame['datetime']))]"
   ]
  },
  {
   "cell_type": "code",
   "execution_count": null,
   "metadata": {
    "collapsed": true
   },
   "outputs": [],
   "source": [
    "np.sum(np.invert(eqs)) # should be zero if all of them match"
   ]
  },
  {
   "cell_type": "code",
   "execution_count": null,
   "metadata": {
    "collapsed": true
   },
   "outputs": [],
   "source": [
    "# find the one that doesn't match\n",
    "big_frame.loc[np.invert(eqs)] # now they all match"
   ]
  },
  {
   "cell_type": "code",
   "execution_count": null,
   "metadata": {
    "collapsed": true
   },
   "outputs": [],
   "source": []
  },
  {
   "cell_type": "code",
   "execution_count": null,
   "metadata": {
    "collapsed": true
   },
   "outputs": [],
   "source": [
    "str2 = [big_frame['BeeNumCol'][ii].split(\"Bee\")[1] for ii in range(len(big_frame['BeeNumCol']))]"
   ]
  },
  {
   "cell_type": "code",
   "execution_count": null,
   "metadata": {
    "collapsed": true
   },
   "outputs": [],
   "source": [
    "beeColNum = [str2[ii].split(r'_')[0] for ii in range(len(str2))]"
   ]
  },
  {
   "cell_type": "code",
   "execution_count": null,
   "metadata": {
    "collapsed": true
   },
   "outputs": [],
   "source": [
    "hiveNum = [str2[ii].split(r'_')[2] for ii in range(len(str2))]"
   ]
  },
  {
   "cell_type": "code",
   "execution_count": null,
   "metadata": {
    "collapsed": true
   },
   "outputs": [],
   "source": [
    "hive = [int(re.findall(r'\\d+', ii)[0]) for ii in hiveNum]"
   ]
  },
  {
   "cell_type": "code",
   "execution_count": null,
   "metadata": {
    "collapsed": true
   },
   "outputs": [],
   "source": [
    "# function to get only characters\n",
    "def extractChar(string):\n",
    "    return(\" \".join(re.findall(\"[a-zA-Z]+\", string)))"
   ]
  },
  {
   "cell_type": "code",
   "execution_count": null,
   "metadata": {
    "collapsed": true
   },
   "outputs": [],
   "source": [
    "# get just bee color\n",
    "beeCol = [extractChar(strg) for strg in beeColNum]"
   ]
  },
  {
   "cell_type": "code",
   "execution_count": null,
   "metadata": {
    "collapsed": true
   },
   "outputs": [],
   "source": [
    "# get datetime\n",
    "dateTime = [datetime.strptime(dt1, ' %Y_%m_%d__%H_%M_%S_%f') for dt1 in big_frame['datetime']]"
   ]
  },
  {
   "cell_type": "code",
   "execution_count": null,
   "metadata": {
    "collapsed": true
   },
   "outputs": [],
   "source": [
    "# string format time\n",
    "dateTime_format = [datetime.strftime(datetime_object, \"%Y-%m-%d %H:%M:%S.%f\") for datetime_object in dateTime]"
   ]
  },
  {
   "cell_type": "code",
   "execution_count": null,
   "metadata": {
    "collapsed": true
   },
   "outputs": [],
   "source": [
    "# get reward frequencies\n",
    "s1 = big_frame['accFile'][0]"
   ]
  },
  {
   "cell_type": "code",
   "execution_count": null,
   "metadata": {
    "collapsed": true
   },
   "outputs": [],
   "source": [
    "rewFrqs = [s1.split(\"_\")[8:10] for s1 in big_frame['accFile']]"
   ]
  },
  {
   "cell_type": "code",
   "execution_count": null,
   "metadata": {
    "collapsed": true
   },
   "outputs": [],
   "source": []
  },
  {
   "cell_type": "code",
   "execution_count": null,
   "metadata": {
    "collapsed": true
   },
   "outputs": [],
   "source": []
  },
  {
   "cell_type": "code",
   "execution_count": null,
   "metadata": {
    "collapsed": true
   },
   "outputs": [],
   "source": [
    "# print system info\n",
    "import IPython\n",
    "print(IPython.sys_info())"
   ]
  },
  {
   "cell_type": "code",
   "execution_count": null,
   "metadata": {
    "collapsed": true
   },
   "outputs": [],
   "source": [
    "# show installed packages and versions\n",
    "!pip freeze "
   ]
  },
  {
   "cell_type": "code",
   "execution_count": null,
   "metadata": {
    "collapsed": true
   },
   "outputs": [],
   "source": [
    "# convert to html, so ppl don't have to run python to see code\n",
    "os.chdir(baseDir)\n",
    "!jupyter nbconvert --to html 004_CombineTrialsHeavyLightData"
   ]
  }
 ],
 "metadata": {
  "kernelspec": {
   "display_name": "Python 3",
   "language": "python",
   "name": "python3"
  },
  "language_info": {
   "codemirror_mode": {
    "name": "ipython",
    "version": 3
   },
   "file_extension": ".py",
   "mimetype": "text/x-python",
   "name": "python",
   "nbconvert_exporter": "python",
   "pygments_lexer": "ipython3",
   "version": "3.6.1"
  }
 },
 "nbformat": 4,
 "nbformat_minor": 2
}
