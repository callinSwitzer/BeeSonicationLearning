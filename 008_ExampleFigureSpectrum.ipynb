{
 "cells": [
  {
   "cell_type": "code",
   "execution_count": 33,
   "metadata": {
    "collapsed": true
   },
   "outputs": [],
   "source": [
    "import pandas as pd\n",
    "import numpy as np\n",
    "%matplotlib inline\n",
    "import matplotlib.pyplot as plt\n",
    "import seaborn as sns"
   ]
  },
  {
   "cell_type": "code",
   "execution_count": 51,
   "metadata": {
    "collapsed": true
   },
   "outputs": [],
   "source": [
    "\n",
    "fle = \"/Users/cswitzer/Dropbox/SonicationBehavior/SonBehData/SonicationBehavior_HeavyLight/Bee31_19Oct2016_Hive3_W_S/2016_10_19__11_23_02/2016_10_19__11_23_51_424_220_450_test.txt\"\n",
    "\n",
    "# \"/Users/cswitzer/Dropbox/SonicationBehavior/SonBehData/ExampleAccTrace.txt\"\n",
    "exx = np.transpose(pd.read_csv(fle, sep = \" \", header = None))"
   ]
  },
  {
   "cell_type": "code",
   "execution_count": 52,
   "metadata": {},
   "outputs": [
    {
     "data": {
      "text/html": [
       "<div>\n",
       "<style>\n",
       "    .dataframe thead tr:only-child th {\n",
       "        text-align: right;\n",
       "    }\n",
       "\n",
       "    .dataframe thead th {\n",
       "        text-align: left;\n",
       "    }\n",
       "\n",
       "    .dataframe tbody tr th {\n",
       "        vertical-align: top;\n",
       "    }\n",
       "</style>\n",
       "<table border=\"1\" class=\"dataframe\">\n",
       "  <thead>\n",
       "    <tr style=\"text-align: right;\">\n",
       "      <th></th>\n",
       "      <th>0</th>\n",
       "      <th>1</th>\n",
       "    </tr>\n",
       "  </thead>\n",
       "  <tbody>\n",
       "    <tr>\n",
       "      <th>0</th>\n",
       "      <td>0.000000</td>\n",
       "      <td>-0.014654</td>\n",
       "    </tr>\n",
       "    <tr>\n",
       "      <th>1</th>\n",
       "      <td>0.000005</td>\n",
       "      <td>-0.015952</td>\n",
       "    </tr>\n",
       "    <tr>\n",
       "      <th>2</th>\n",
       "      <td>0.000010</td>\n",
       "      <td>-0.015628</td>\n",
       "    </tr>\n",
       "    <tr>\n",
       "      <th>3</th>\n",
       "      <td>0.000015</td>\n",
       "      <td>-0.014654</td>\n",
       "    </tr>\n",
       "    <tr>\n",
       "      <th>4</th>\n",
       "      <td>0.000020</td>\n",
       "      <td>-0.015303</td>\n",
       "    </tr>\n",
       "  </tbody>\n",
       "</table>\n",
       "</div>"
      ],
      "text/plain": [
       "          0         1\n",
       "0  0.000000 -0.014654\n",
       "1  0.000005 -0.015952\n",
       "2  0.000010 -0.015628\n",
       "3  0.000015 -0.014654\n",
       "4  0.000020 -0.015303"
      ]
     },
     "execution_count": 52,
     "metadata": {},
     "output_type": "execute_result"
    }
   ],
   "source": [
    "exx.head()"
   ]
  },
  {
   "cell_type": "code",
   "execution_count": 53,
   "metadata": {},
   "outputs": [
    {
     "data": {
      "text/plain": [
       "20000"
      ]
     },
     "execution_count": 53,
     "metadata": {},
     "output_type": "execute_result"
    }
   ],
   "source": [
    "len(exx)"
   ]
  },
  {
   "cell_type": "code",
   "execution_count": 54,
   "metadata": {},
   "outputs": [
    {
     "data": {
      "text/plain": [
       "10000"
      ]
     },
     "execution_count": 54,
     "metadata": {},
     "output_type": "execute_result"
    }
   ],
   "source": [
    "int(n/2)"
   ]
  },
  {
   "cell_type": "code",
   "execution_count": 55,
   "metadata": {},
   "outputs": [],
   "source": [
    "\n",
    "data = np.array(exx.loc[:,1])\n",
    "\n",
    "log_rate = 200000.0\n",
    "\n",
    "n =len(data) # length of the signal\n",
    "k = np.arange(n, step = 1)\n",
    "T = n/log_rate\n",
    "frq = k/T # two sides frequency range\n",
    "frq = frq[range(int(n/2))] # one side frequency range\n",
    "\n",
    "Y = np.fft.fft(data)/n # fft computing and normalization\n",
    "Y = Y[range(int(n/2))]\n",
    "\n",
    "# calculate top frequency\n",
    "ind = np.argpartition(abs(Y), -4)[-4:]\n",
    "# Find highest point on the spectrum\n",
    "peakFrq = frq[ind[::-1]]\n",
    "pwr = (abs(Y)[ind[::-1]])\n",
    "domPK = [x for (y,x) in sorted(zip(pwr,peakFrq), reverse = True)][0]\n",
    "\n",
    "beeFrqPwr = pwr[peakFrq == domPK]"
   ]
  },
  {
   "cell_type": "code",
   "execution_count": 198,
   "metadata": {},
   "outputs": [
    {
     "data": {
      "image/png": "[encoded data removed]",
      "text/plain": [
       "<matplotlib.figure.Figure at 0x11fba04a8>"
      ]
     },
     "metadata": {},
     "output_type": "display_data"
    }
   ],
   "source": [
    "plt.figure(figsize=(7,4))\n",
    "\n",
    "# create subplot 1\n",
    "ax1 = plt.subplot(121)\n",
    "ax1.plot(np.array(range(len(exx)))/ float(log_rate), data,color = 'black', linewidth=0.5 )\n",
    "ax1.set_ylabel(\"Accelerometer reading (V)\")\n",
    "ax1.set_xlabel(\"Time (s)\")\n",
    "ax1.set_frame_on(False)\n",
    "ax1.axhline(y=np.max(data), color='grey', linestyle='--', linewidth = 0.5)\n",
    "ax1.axhline(y=np.min(data), color='grey', linestyle='--', linewidth = 0.5)\n",
    "ax1.set_xlim(-0.0005, 0.17)\n",
    "ax1.set_ylim(-0.17, 0.17)\n",
    "\n",
    "ax1.annotate(' ', xy=(0.14, np.min(data)), xytext=(0.14, 0),\n",
    "            arrowprops=dict(facecolor='black', width = 1, headwidth = 4)\n",
    "            )\n",
    "ax1.annotate(' ', xy=(0.14, np.max(data)), xytext=(0.14, 0),\n",
    "            arrowprops=dict(facecolor='black', width = 1, headwidth = 4)\n",
    "            )\n",
    "\n",
    "ax1.annotate('Amplitude', xy=(0.11, np.min(data)), xytext=(0.11, 0)\n",
    "            )\n",
    "# add \"L\" shaped borders\n",
    "ax1.axvline(x = ax1.get_xlim()[0], linewidth = 1, color = 'black')\n",
    "ax1.axhline(y = ax1.get_ylim()[0], linewidth = 1, color = 'black')\n",
    "\n",
    "def get_axis_limits(ax, scale=.98):\n",
    "    return ax.get_xlim()[0] + np.diff(ax.get_xlim())*0.05, ax.get_ylim()[1]*scale     \n",
    "\n",
    "# create subplot 2\n",
    "ax2 = plt.subplot(122)\n",
    "ax2.plot(frq,abs(Y), color = \"black\", linewidth=0.5)\n",
    "ax2.plot(domPK, beeFrqPwr,'o', color = 'black', markersize = 5)\n",
    "ax2.annotate('350 Hz', xy=(domPK, beeFrqPwr), xytext=(domPK + 30, beeFrqPwr- 0.0001)\n",
    "            )\n",
    "ax2.set_xlim(20, 1000)\n",
    "ax2.set_ylabel('Relative Power')\n",
    "ax2.set_xlabel('Frequency (Hz)')\n",
    "plt.tight_layout()\n",
    "ax2.set_frame_on(False)\n",
    "ax2.axes.yaxis.set_ticklabels([])\n",
    "ax2.axes.yaxis.set_ticks([])\n",
    "\n",
    "# add \"L\" shaped borders\n",
    "ax2.axvline(x = ax2.get_xlim()[0], linewidth = 1, color = 'black')\n",
    "ax2.axhline(y = ax2.get_ylim()[0], linewidth = 1, color = 'black')\n",
    "\n",
    "plt.savefig(\"/Users/cswitzer/Dropbox/SonicationBehavior/SonBehFigs/ExampleSpectrum_noAnnot.pdf\", width = 7, height = 1.5)\n",
    "ax1.annotate('A', xy=get_axis_limits(ax1), size = 15)\n",
    "ax2.annotate('B', xy=get_axis_limits(ax2), size = 15)\n",
    "\n",
    "plt.savefig(\"/Users/cswitzer/Dropbox/SonicationBehavior/SonBehFigs/ExampleSpectrum.pdf\", width = 7, height = 1.5)\n",
    "plt.show()"
   ]
  },
  {
   "cell_type": "code",
   "execution_count": null,
   "metadata": {
    "collapsed": true
   },
   "outputs": [],
   "source": []
  }
 ],
 "metadata": {
  "kernelspec": {
   "display_name": "Python 3",
   "language": "python",
   "name": "python3"
  },
  "language_info": {
   "codemirror_mode": {
    "name": "ipython",
    "version": 3
   },
   "file_extension": ".py",
   "mimetype": "text/x-python",
   "name": "python",
   "nbconvert_exporter": "python",
   "pygments_lexer": "ipython3",
   "version": "3.6.1"
  }
 },
 "nbformat": 4,
 "nbformat_minor": 2
}
